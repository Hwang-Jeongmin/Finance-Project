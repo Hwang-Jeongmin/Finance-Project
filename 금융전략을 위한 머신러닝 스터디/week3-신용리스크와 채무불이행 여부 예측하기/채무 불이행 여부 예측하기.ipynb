{
  "cells": [
    {
      "cell_type": "markdown",
      "metadata": {
        "id": "QEb0E9e-nqD_"
      },
      "source": [
        "### Imports"
      ]
    },
    {
      "cell_type": "code",
      "execution_count": null,
      "metadata": {
        "_cell_guid": "5d8fee34-f454-2642-8b06-ed719f0317e1",
        "id": "t7bCJiNnnqEA"
      },
      "outputs": [],
      "source": [
        "# Load libraries\n",
        "import numpy as np\n",
        "import pandas as pd\n",
        "import matplotlib.pyplot as plt\n",
        "from pandas import read_csv, set_option\n",
        "from pandas.plotting import scatter_matrix\n",
        "import seaborn as sns\n",
        "from sklearn.preprocessing import MinMaxScaler, StandardScaler\n",
        "from sklearn.model_selection import train_test_split, KFold, cross_val_score, StratifiedKFold, GridSearchCV\n",
        "from sklearn.linear_model import LogisticRegression\n",
        "from sklearn.tree import DecisionTreeClassifier\n",
        "from sklearn.neighbors import KNeighborsClassifier\n",
        "from sklearn.discriminant_analysis import LinearDiscriminantAnalysis\n",
        "from sklearn.naive_bayes import GaussianNB\n",
        "from sklearn.svm import SVC\n",
        "from sklearn.neural_network import MLPClassifier\n",
        "from sklearn.pipeline import Pipeline\n",
        "from sklearn.ensemble import AdaBoostClassifier, GradientBoostingClassifier, RandomForestClassifier, ExtraTreesClassifier\n",
        "from sklearn.metrics import classification_report, confusion_matrix, accuracy_score, recall_score, precision_score\n",
        "\n",
        "\n",
        "#Libraries for Deep Learning Models\n",
        "import tensorflow as tf\n",
        "from keras.models import Sequential\n",
        "from keras.layers import Dense\n",
        "from keras.wrappers.scikit_learn import KerasClassifier\n",
        "from tensorflow.keras.optimizers import SGD\n",
        "\n",
        "#Libraries for Saving the Model\n",
        "from pickle import dump\n",
        "from pickle import load"
      ]
    },
    {
      "cell_type": "code",
      "source": [
        "import warnings\n",
        "warnings.filterwarnings('ignore')"
      ],
      "metadata": {
        "id": "FkW6qDF1n_yh"
      },
      "execution_count": null,
      "outputs": []
    },
    {
      "cell_type": "code",
      "source": [
        "np.random.seed(42)\n",
        "tf.random.set_seed(42)"
      ],
      "metadata": {
        "id": "sggZy_-8oCxr"
      },
      "execution_count": null,
      "outputs": []
    },
    {
      "cell_type": "markdown",
      "metadata": {
        "id": "ZrxcXH1enqED"
      },
      "source": [
        "<a id='1.2'></a>\n",
        "## 2.2. Loading the Data"
      ]
    },
    {
      "cell_type": "code",
      "execution_count": null,
      "metadata": {
        "_cell_guid": "787e35f7-bf9e-0969-8d13-a54fa87f3519",
        "scrolled": true,
        "id": "AV2QAesjnqEF"
      },
      "outputs": [],
      "source": [
        "# load dataset\n",
        "dataset = pd.read_csv('LoansData_sample.csv', index_col=0)"
      ]
    },
    {
      "cell_type": "code",
      "execution_count": null,
      "metadata": {
        "colab": {
          "base_uri": "https://localhost:8080/"
        },
        "id": "x_SGFYxOnqEG",
        "outputId": "a91d3c2f-d140-4fb0-8da2-f36a77e51728"
      },
      "outputs": [
        {
          "output_type": "stream",
          "name": "stdout",
          "text": [
            "shape of dataset:(100000, 150)\n",
            "<class 'pandas.core.frame.DataFrame'>\n",
            "Int64Index: 100000 entries, 0 to 99999\n",
            "Columns: 150 entries, id to settlement_term\n",
            "dtypes: float64(115), int64(1), object(34)\n",
            "memory usage: 115.2+ MB\n"
          ]
        }
      ],
      "source": [
        "print(f\"shape of dataset:{dataset.shape}\")\n",
        "dataset.info()"
      ]
    },
    {
      "cell_type": "code",
      "source": [
        "dataset.head()"
      ],
      "metadata": {
        "colab": {
          "base_uri": "https://localhost:8080/",
          "height": 386
        },
        "id": "4FnVytSLqfEt",
        "outputId": "a8e85bf0-aeb7-4cd5-dd6b-1f448398f5b9"
      },
      "execution_count": null,
      "outputs": [
        {
          "output_type": "execute_result",
          "data": {
            "text/plain": [
              "         id  member_id  loan_amnt  funded_amnt  funded_amnt_inv        term  \\\n",
              "0  38098114        NaN    15000.0      15000.0          15000.0   60 months   \n",
              "1  36805548        NaN    10400.0      10400.0          10400.0   36 months   \n",
              "2  37842129        NaN    21425.0      21425.0          21425.0   60 months   \n",
              "3  37612354        NaN    12800.0      12800.0          12800.0   60 months   \n",
              "4  37662224        NaN     7650.0       7650.0           7650.0   36 months   \n",
              "\n",
              "   int_rate  installment grade sub_grade  ... hardship_payoff_balance_amount  \\\n",
              "0     12.39       336.64     C        C1  ...                            NaN   \n",
              "1      6.99       321.08     A        A3  ...                            NaN   \n",
              "2     15.59       516.36     D        D1  ...                            NaN   \n",
              "3     17.14       319.08     D        D4  ...                            NaN   \n",
              "4     13.66       260.20     C        C3  ...                            NaN   \n",
              "\n",
              "  hardship_last_payment_amount disbursement_method  debt_settlement_flag  \\\n",
              "0                          NaN                Cash                     N   \n",
              "1                          NaN                Cash                     N   \n",
              "2                          NaN                Cash                     N   \n",
              "3                          NaN                Cash                     N   \n",
              "4                          NaN                Cash                     N   \n",
              "\n",
              "  debt_settlement_flag_date settlement_status settlement_date  \\\n",
              "0                       NaN               NaN             NaN   \n",
              "1                       NaN               NaN             NaN   \n",
              "2                       NaN               NaN             NaN   \n",
              "3                       NaN               NaN             NaN   \n",
              "4                       NaN               NaN             NaN   \n",
              "\n",
              "  settlement_amount settlement_percentage settlement_term  \n",
              "0               NaN                   NaN             NaN  \n",
              "1               NaN                   NaN             NaN  \n",
              "2               NaN                   NaN             NaN  \n",
              "3               NaN                   NaN             NaN  \n",
              "4               NaN                   NaN             NaN  \n",
              "\n",
              "[5 rows x 150 columns]"
            ],
            "text/html": [
              "\n",
              "  <div id=\"df-1afb10aa-88fe-4f1a-a3ff-baca8d1bdc1b\">\n",
              "    <div class=\"colab-df-container\">\n",
              "      <div>\n",
              "<style scoped>\n",
              "    .dataframe tbody tr th:only-of-type {\n",
              "        vertical-align: middle;\n",
              "    }\n",
              "\n",
              "    .dataframe tbody tr th {\n",
              "        vertical-align: top;\n",
              "    }\n",
              "\n",
              "    .dataframe thead th {\n",
              "        text-align: right;\n",
              "    }\n",
              "</style>\n",
              "<table border=\"1\" class=\"dataframe\">\n",
              "  <thead>\n",
              "    <tr style=\"text-align: right;\">\n",
              "      <th></th>\n",
              "      <th>id</th>\n",
              "      <th>member_id</th>\n",
              "      <th>loan_amnt</th>\n",
              "      <th>funded_amnt</th>\n",
              "      <th>funded_amnt_inv</th>\n",
              "      <th>term</th>\n",
              "      <th>int_rate</th>\n",
              "      <th>installment</th>\n",
              "      <th>grade</th>\n",
              "      <th>sub_grade</th>\n",
              "      <th>...</th>\n",
              "      <th>hardship_payoff_balance_amount</th>\n",
              "      <th>hardship_last_payment_amount</th>\n",
              "      <th>disbursement_method</th>\n",
              "      <th>debt_settlement_flag</th>\n",
              "      <th>debt_settlement_flag_date</th>\n",
              "      <th>settlement_status</th>\n",
              "      <th>settlement_date</th>\n",
              "      <th>settlement_amount</th>\n",
              "      <th>settlement_percentage</th>\n",
              "      <th>settlement_term</th>\n",
              "    </tr>\n",
              "  </thead>\n",
              "  <tbody>\n",
              "    <tr>\n",
              "      <th>0</th>\n",
              "      <td>38098114</td>\n",
              "      <td>NaN</td>\n",
              "      <td>15000.0</td>\n",
              "      <td>15000.0</td>\n",
              "      <td>15000.0</td>\n",
              "      <td>60 months</td>\n",
              "      <td>12.39</td>\n",
              "      <td>336.64</td>\n",
              "      <td>C</td>\n",
              "      <td>C1</td>\n",
              "      <td>...</td>\n",
              "      <td>NaN</td>\n",
              "      <td>NaN</td>\n",
              "      <td>Cash</td>\n",
              "      <td>N</td>\n",
              "      <td>NaN</td>\n",
              "      <td>NaN</td>\n",
              "      <td>NaN</td>\n",
              "      <td>NaN</td>\n",
              "      <td>NaN</td>\n",
              "      <td>NaN</td>\n",
              "    </tr>\n",
              "    <tr>\n",
              "      <th>1</th>\n",
              "      <td>36805548</td>\n",
              "      <td>NaN</td>\n",
              "      <td>10400.0</td>\n",
              "      <td>10400.0</td>\n",
              "      <td>10400.0</td>\n",
              "      <td>36 months</td>\n",
              "      <td>6.99</td>\n",
              "      <td>321.08</td>\n",
              "      <td>A</td>\n",
              "      <td>A3</td>\n",
              "      <td>...</td>\n",
              "      <td>NaN</td>\n",
              "      <td>NaN</td>\n",
              "      <td>Cash</td>\n",
              "      <td>N</td>\n",
              "      <td>NaN</td>\n",
              "      <td>NaN</td>\n",
              "      <td>NaN</td>\n",
              "      <td>NaN</td>\n",
              "      <td>NaN</td>\n",
              "      <td>NaN</td>\n",
              "    </tr>\n",
              "    <tr>\n",
              "      <th>2</th>\n",
              "      <td>37842129</td>\n",
              "      <td>NaN</td>\n",
              "      <td>21425.0</td>\n",
              "      <td>21425.0</td>\n",
              "      <td>21425.0</td>\n",
              "      <td>60 months</td>\n",
              "      <td>15.59</td>\n",
              "      <td>516.36</td>\n",
              "      <td>D</td>\n",
              "      <td>D1</td>\n",
              "      <td>...</td>\n",
              "      <td>NaN</td>\n",
              "      <td>NaN</td>\n",
              "      <td>Cash</td>\n",
              "      <td>N</td>\n",
              "      <td>NaN</td>\n",
              "      <td>NaN</td>\n",
              "      <td>NaN</td>\n",
              "      <td>NaN</td>\n",
              "      <td>NaN</td>\n",
              "      <td>NaN</td>\n",
              "    </tr>\n",
              "    <tr>\n",
              "      <th>3</th>\n",
              "      <td>37612354</td>\n",
              "      <td>NaN</td>\n",
              "      <td>12800.0</td>\n",
              "      <td>12800.0</td>\n",
              "      <td>12800.0</td>\n",
              "      <td>60 months</td>\n",
              "      <td>17.14</td>\n",
              "      <td>319.08</td>\n",
              "      <td>D</td>\n",
              "      <td>D4</td>\n",
              "      <td>...</td>\n",
              "      <td>NaN</td>\n",
              "      <td>NaN</td>\n",
              "      <td>Cash</td>\n",
              "      <td>N</td>\n",
              "      <td>NaN</td>\n",
              "      <td>NaN</td>\n",
              "      <td>NaN</td>\n",
              "      <td>NaN</td>\n",
              "      <td>NaN</td>\n",
              "      <td>NaN</td>\n",
              "    </tr>\n",
              "    <tr>\n",
              "      <th>4</th>\n",
              "      <td>37662224</td>\n",
              "      <td>NaN</td>\n",
              "      <td>7650.0</td>\n",
              "      <td>7650.0</td>\n",
              "      <td>7650.0</td>\n",
              "      <td>36 months</td>\n",
              "      <td>13.66</td>\n",
              "      <td>260.20</td>\n",
              "      <td>C</td>\n",
              "      <td>C3</td>\n",
              "      <td>...</td>\n",
              "      <td>NaN</td>\n",
              "      <td>NaN</td>\n",
              "      <td>Cash</td>\n",
              "      <td>N</td>\n",
              "      <td>NaN</td>\n",
              "      <td>NaN</td>\n",
              "      <td>NaN</td>\n",
              "      <td>NaN</td>\n",
              "      <td>NaN</td>\n",
              "      <td>NaN</td>\n",
              "    </tr>\n",
              "  </tbody>\n",
              "</table>\n",
              "<p>5 rows × 150 columns</p>\n",
              "</div>\n",
              "      <button class=\"colab-df-convert\" onclick=\"convertToInteractive('df-1afb10aa-88fe-4f1a-a3ff-baca8d1bdc1b')\"\n",
              "              title=\"Convert this dataframe to an interactive table.\"\n",
              "              style=\"display:none;\">\n",
              "        \n",
              "  <svg xmlns=\"http://www.w3.org/2000/svg\" height=\"24px\"viewBox=\"0 0 24 24\"\n",
              "       width=\"24px\">\n",
              "    <path d=\"M0 0h24v24H0V0z\" fill=\"none\"/>\n",
              "    <path d=\"M18.56 5.44l.94 2.06.94-2.06 2.06-.94-2.06-.94-.94-2.06-.94 2.06-2.06.94zm-11 1L8.5 8.5l.94-2.06 2.06-.94-2.06-.94L8.5 2.5l-.94 2.06-2.06.94zm10 10l.94 2.06.94-2.06 2.06-.94-2.06-.94-.94-2.06-.94 2.06-2.06.94z\"/><path d=\"M17.41 7.96l-1.37-1.37c-.4-.4-.92-.59-1.43-.59-.52 0-1.04.2-1.43.59L10.3 9.45l-7.72 7.72c-.78.78-.78 2.05 0 2.83L4 21.41c.39.39.9.59 1.41.59.51 0 1.02-.2 1.41-.59l7.78-7.78 2.81-2.81c.8-.78.8-2.07 0-2.86zM5.41 20L4 18.59l7.72-7.72 1.47 1.35L5.41 20z\"/>\n",
              "  </svg>\n",
              "      </button>\n",
              "      \n",
              "  <style>\n",
              "    .colab-df-container {\n",
              "      display:flex;\n",
              "      flex-wrap:wrap;\n",
              "      gap: 12px;\n",
              "    }\n",
              "\n",
              "    .colab-df-convert {\n",
              "      background-color: #E8F0FE;\n",
              "      border: none;\n",
              "      border-radius: 50%;\n",
              "      cursor: pointer;\n",
              "      display: none;\n",
              "      fill: #1967D2;\n",
              "      height: 32px;\n",
              "      padding: 0 0 0 0;\n",
              "      width: 32px;\n",
              "    }\n",
              "\n",
              "    .colab-df-convert:hover {\n",
              "      background-color: #E2EBFA;\n",
              "      box-shadow: 0px 1px 2px rgba(60, 64, 67, 0.3), 0px 1px 3px 1px rgba(60, 64, 67, 0.15);\n",
              "      fill: #174EA6;\n",
              "    }\n",
              "\n",
              "    [theme=dark] .colab-df-convert {\n",
              "      background-color: #3B4455;\n",
              "      fill: #D2E3FC;\n",
              "    }\n",
              "\n",
              "    [theme=dark] .colab-df-convert:hover {\n",
              "      background-color: #434B5C;\n",
              "      box-shadow: 0px 1px 3px 1px rgba(0, 0, 0, 0.15);\n",
              "      filter: drop-shadow(0px 1px 2px rgba(0, 0, 0, 0.3));\n",
              "      fill: #FFFFFF;\n",
              "    }\n",
              "  </style>\n",
              "\n",
              "      <script>\n",
              "        const buttonEl =\n",
              "          document.querySelector('#df-1afb10aa-88fe-4f1a-a3ff-baca8d1bdc1b button.colab-df-convert');\n",
              "        buttonEl.style.display =\n",
              "          google.colab.kernel.accessAllowed ? 'block' : 'none';\n",
              "\n",
              "        async function convertToInteractive(key) {\n",
              "          const element = document.querySelector('#df-1afb10aa-88fe-4f1a-a3ff-baca8d1bdc1b');\n",
              "          const dataTable =\n",
              "            await google.colab.kernel.invokeFunction('convertToInteractive',\n",
              "                                                     [key], {});\n",
              "          if (!dataTable) return;\n",
              "\n",
              "          const docLinkHtml = 'Like what you see? Visit the ' +\n",
              "            '<a target=\"_blank\" href=https://colab.research.google.com/notebooks/data_table.ipynb>data table notebook</a>'\n",
              "            + ' to learn more about interactive tables.';\n",
              "          element.innerHTML = '';\n",
              "          dataTable['output_type'] = 'display_data';\n",
              "          await google.colab.output.renderOutput(dataTable, element);\n",
              "          const docLink = document.createElement('div');\n",
              "          docLink.innerHTML = docLinkHtml;\n",
              "          element.appendChild(docLink);\n",
              "        }\n",
              "      </script>\n",
              "    </div>\n",
              "  </div>\n",
              "  "
            ]
          },
          "metadata": {},
          "execution_count": 6
        }
      ]
    },
    {
      "cell_type": "code",
      "source": [
        "# 아래의 column들은 사용하지 않을 것이기 때문에 제거해주기로 한다.\n",
        "dataset.drop(['id','member_id','emp_title','title','zip_code'], axis=1, inplace=True)"
      ],
      "metadata": {
        "id": "wHGXsSjxqis1"
      },
      "execution_count": null,
      "outputs": []
    },
    {
      "cell_type": "code",
      "source": [
        "# 일부 열 들은 결측치가 매우 많음을 확인할 수 있다.\n",
        "# 추후에 이 열들을 제거하거나 결측치들을 따로 처리해 줄 필요가 있을 것 같다.\n",
        "dataset.isnull().sum().sort_values(ascending=False).head(20)"
      ],
      "metadata": {
        "colab": {
          "base_uri": "https://localhost:8080/"
        },
        "id": "Q4uDp0kps1aE",
        "outputId": "9c8825d1-e76c-4973-cf77-50cb52d55df3"
      },
      "execution_count": null,
      "outputs": [
        {
          "output_type": "execute_result",
          "data": {
            "text/plain": [
              "sec_app_open_act_il                   100000\n",
              "sec_app_collections_12_mths_ex_med    100000\n",
              "sec_app_num_rev_accts                 100000\n",
              "all_util                              100000\n",
              "sec_app_revol_util                    100000\n",
              "sec_app_open_acc                      100000\n",
              "sec_app_mort_acc                      100000\n",
              "sec_app_inq_last_6mths                100000\n",
              "sec_app_earliest_cr_line              100000\n",
              "sec_app_fico_range_high               100000\n",
              "sec_app_fico_range_low                100000\n",
              "revol_bal_joint                       100000\n",
              "inq_last_12m                          100000\n",
              "annual_inc_joint                      100000\n",
              "dti_joint                             100000\n",
              "verification_status_joint             100000\n",
              "total_cu_tl                           100000\n",
              "inq_fi                                100000\n",
              "open_acc_6m                           100000\n",
              "open_act_il                           100000\n",
              "dtype: int64"
            ]
          },
          "metadata": {},
          "execution_count": 8
        }
      ]
    },
    {
      "cell_type": "markdown",
      "metadata": {
        "id": "QEZpCzPynqEH"
      },
      "source": [
        "### EDA + feature_selection"
      ]
    },
    {
      "cell_type": "markdown",
      "metadata": {
        "id": "Q7ZzdfBAnqEI"
      },
      "source": [
        "### 3.1. Preparing the predicted variable\n"
      ]
    },
    {
      "cell_type": "code",
      "execution_count": null,
      "metadata": {
        "scrolled": true,
        "colab": {
          "base_uri": "https://localhost:8080/"
        },
        "id": "-2pe8IK6nqEI",
        "outputId": "e2dcb5ae-b88f-4e4d-f5cf-c532863df272"
      },
      "outputs": [
        {
          "output_type": "execute_result",
          "data": {
            "text/plain": [
              "Fully Paid            69982\n",
              "Charged Off           16156\n",
              "Current               12726\n",
              "Late (31-120 days)      730\n",
              "In Grace Period         264\n",
              "Late (16-30 days)       139\n",
              "Default                   3\n",
              "Name: loan_status, dtype: int64"
            ]
          },
          "metadata": {},
          "execution_count": 9
        }
      ],
      "source": [
        "# loan_status를 예측변수로 사용할 것이다.\n",
        "dataset['loan_status'].value_counts(dropna=False)"
      ]
    },
    {
      "cell_type": "code",
      "execution_count": null,
      "metadata": {
        "colab": {
          "base_uri": "https://localhost:8080/"
        },
        "id": "Hfbidr53nqEJ",
        "outputId": "f7b77bd6-1436-4483-bb68-0d40716a803a"
      },
      "outputs": [
        {
          "output_type": "execute_result",
          "data": {
            "text/plain": [
              "Fully Paid     0.812441\n",
              "Charged Off    0.187559\n",
              "Name: loan_status, dtype: float64"
            ]
          },
          "metadata": {},
          "execution_count": 10
        }
      ],
      "source": [
        "# 모든 상태를 다 사용하지 않고, Fully paid와 Charged off 두 가지 상태만을 사용하기로 함\n",
        "# 상당히 불균형 한 데이터라는 것을 알 수 있다\n",
        "dataset = dataset.loc[dataset['loan_status'].isin(['Fully Paid', 'Charged Off'])]\n",
        "dataset['loan_status'].value_counts(normalize=True, dropna=False)"
      ]
    },
    {
      "cell_type": "code",
      "source": [
        "plt.figure(figsize=(5,5))\n",
        "sns.countplot(dataset['loan_status'])\n",
        "plt.title(\"Distribution of loan_status\")\n",
        "plt.show()"
      ],
      "metadata": {
        "colab": {
          "base_uri": "https://localhost:8080/",
          "height": 351
        },
        "id": "4cNnYOf_r0xg",
        "outputId": "4d1c6bdf-fd12-40c2-9e22-6372b0557c84"
      },
      "execution_count": null,
      "outputs": [
        {
          "output_type": "display_data",
          "data": {
            "text/plain": [
              "<Figure size 360x360 with 1 Axes>"
            ],
            "image/png": "[encoded data removed]"
          },
          "metadata": {
            "needs_background": "light"
          }
        }
      ]
    },
    {
      "cell_type": "code",
      "execution_count": null,
      "metadata": {
        "id": "eAvusSAmnqEK"
      },
      "outputs": [],
      "source": [
        "dataset['loan_status'] = dataset['loan_status'].apply(lambda x: 1 if x == 'Fully Paid' else 0)"
      ]
    },
    {
      "cell_type": "markdown",
      "metadata": {
        "id": "4hxTys7tnqEK"
      },
      "source": [
        "<a id='2.2'></a>\n",
        "## 3.2. Feature Selection-Limit the Feature Space "
      ]
    },
    {
      "cell_type": "markdown",
      "metadata": {
        "id": "Tz-yNJWlnqEK"
      },
      "source": [
        "The full dataset has 150 features for each\n",
        "loan. We’ll eliminate\n",
        "features in following steps using three different approaches:\n",
        "* Eliminate feature that have more than 20% missing values.\n",
        "* Eliminate features that are unintuitive based on subjective judgement.\n",
        "* Eliminate features with low correlation with the predicted variable.\n",
        "\n",
        "* Following steps above we'll choose 35 features."
      ]
    },
    {
      "cell_type": "markdown",
      "metadata": {
        "id": "EdnrEw9dnqEL"
      },
      "source": [
        "### 3.2.1.  Features elimination by significant missing values"
      ]
    },
    {
      "cell_type": "markdown",
      "metadata": {
        "id": "KTBQWO7ynqEL"
      },
      "source": [
        "First calculating the percentage of missing data for each feature:"
      ]
    },
    {
      "cell_type": "code",
      "execution_count": null,
      "metadata": {
        "colab": {
          "base_uri": "https://localhost:8080/"
        },
        "id": "Apz4J3E_nqEL",
        "outputId": "c86e3a27-f8b4-4ae0-84d5-0fc9dc2860ff"
      },
      "outputs": [
        {
          "output_type": "execute_result",
          "data": {
            "text/plain": [
              "sec_app_open_act_il         1.0\n",
              "annual_inc_joint            1.0\n",
              "sec_app_num_rev_accts       1.0\n",
              "all_util                    1.0\n",
              "sec_app_revol_util          1.0\n",
              "sec_app_open_acc            1.0\n",
              "sec_app_mort_acc            1.0\n",
              "sec_app_inq_last_6mths      1.0\n",
              "sec_app_earliest_cr_line    1.0\n",
              "sec_app_fico_range_high     1.0\n",
              "dtype: float64"
            ]
          },
          "metadata": {},
          "execution_count": 13
        }
      ],
      "source": [
        "# 결측치의 비중이 0.2을 넘는 특징들은 제외하기로 한다.\n",
        "missing_fractions = dataset.isnull().mean().sort_values(ascending=False)\n",
        "missing_fractions.head(10)"
      ]
    },
    {
      "cell_type": "code",
      "execution_count": null,
      "metadata": {
        "colab": {
          "base_uri": "https://localhost:8080/"
        },
        "id": "m3qVUof6nqEM",
        "outputId": "83f5ecf6-9024-4b5b-91d6-6a20ef267212"
      },
      "outputs": [
        {
          "output_type": "stream",
          "name": "stdout",
          "text": [
            "['all_util', 'annual_inc_joint', 'debt_settlement_flag_date', 'deferral_term', 'desc', 'dti_joint', 'hardship_amount', 'hardship_dpd', 'hardship_end_date', 'hardship_last_payment_amount', 'hardship_length', 'hardship_loan_status', 'hardship_payoff_balance_amount', 'hardship_reason', 'hardship_start_date', 'hardship_status', 'hardship_type', 'il_util', 'inq_fi', 'inq_last_12m', 'max_bal_bc', 'mths_since_last_delinq', 'mths_since_last_major_derog', 'mths_since_last_record', 'mths_since_rcnt_il', 'mths_since_recent_bc_dlq', 'mths_since_recent_revol_delinq', 'next_pymnt_d', 'open_acc_6m', 'open_act_il', 'open_il_12m', 'open_il_24m', 'open_rv_12m', 'open_rv_24m', 'orig_projected_additional_accrued_interest', 'payment_plan_start_date', 'revol_bal_joint', 'sec_app_chargeoff_within_12_mths', 'sec_app_collections_12_mths_ex_med', 'sec_app_earliest_cr_line', 'sec_app_fico_range_high', 'sec_app_fico_range_low', 'sec_app_inq_last_6mths', 'sec_app_mort_acc', 'sec_app_mths_since_last_major_derog', 'sec_app_num_rev_accts', 'sec_app_open_acc', 'sec_app_open_act_il', 'sec_app_revol_util', 'settlement_amount', 'settlement_date', 'settlement_percentage', 'settlement_status', 'settlement_term', 'total_bal_il', 'total_cu_tl', 'verification_status_joint']\n"
          ]
        }
      ],
      "source": [
        "drop_list = sorted(list(missing_fractions[missing_fractions > 0.2].index))\n",
        "print(drop_list)"
      ]
    },
    {
      "cell_type": "code",
      "execution_count": null,
      "metadata": {
        "colab": {
          "base_uri": "https://localhost:8080/"
        },
        "id": "KBH-DSSvnqEM",
        "outputId": "bc0655b2-5a07-442f-857d-8b265b0feebe"
      },
      "outputs": [
        {
          "output_type": "execute_result",
          "data": {
            "text/plain": [
              "57"
            ]
          },
          "metadata": {},
          "execution_count": 15
        }
      ],
      "source": [
        "len(drop_list)"
      ]
    },
    {
      "cell_type": "code",
      "execution_count": null,
      "metadata": {
        "colab": {
          "base_uri": "https://localhost:8080/"
        },
        "id": "JN_Z3f6inqEM",
        "outputId": "194c320e-8ff6-4710-f3ec-5f8c77fce99d"
      },
      "outputs": [
        {
          "output_type": "execute_result",
          "data": {
            "text/plain": [
              "(86138, 88)"
            ]
          },
          "metadata": {},
          "execution_count": 16
        }
      ],
      "source": [
        "dataset.drop(labels=drop_list, axis=1, inplace=True)\n",
        "dataset.shape"
      ]
    },
    {
      "cell_type": "markdown",
      "metadata": {
        "id": "tNI0gx8tnqEN"
      },
      "source": [
        "### 3.2.2.  Features elimination based on the intutiveness"
      ]
    },
    {
      "cell_type": "markdown",
      "metadata": {
        "id": "Nm1I2u5cyVkO"
      },
      "source": [
        "In order to filter the features further we check the description in the data dictionary and keep the features that are\n",
        "intuitive on the basis of subjective judgement. \n",
        "\n",
        "We examine the LendingClub website and Data Dictionary to determine which features would have been available to potential investors. Here's the list of features we currently have, in alphabetical order:"
      ]
    },
    {
      "cell_type": "code",
      "execution_count": null,
      "metadata": {
        "id": "pL7s9M2eyVkP",
        "outputId": "edc192d4-3d42-4451-e88c-27257f48c3a5",
        "colab": {
          "base_uri": "https://localhost:8080/"
        }
      },
      "outputs": [
        {
          "output_type": "stream",
          "name": "stdout",
          "text": [
            "['acc_now_delinq', 'acc_open_past_24mths', 'addr_state', 'annual_inc', 'application_type', 'avg_cur_bal', 'bc_open_to_buy', 'bc_util', 'chargeoff_within_12_mths', 'collection_recovery_fee', 'collections_12_mths_ex_med', 'debt_settlement_flag', 'delinq_2yrs', 'delinq_amnt', 'disbursement_method', 'dti', 'earliest_cr_line', 'emp_length', 'fico_range_high', 'fico_range_low', 'funded_amnt', 'funded_amnt_inv', 'grade', 'hardship_flag', 'home_ownership', 'initial_list_status', 'inq_last_6mths', 'installment', 'int_rate', 'issue_d', 'last_credit_pull_d', 'last_fico_range_high', 'last_fico_range_low', 'last_pymnt_amnt', 'last_pymnt_d', 'loan_amnt', 'loan_status', 'mo_sin_old_il_acct', 'mo_sin_old_rev_tl_op', 'mo_sin_rcnt_rev_tl_op', 'mo_sin_rcnt_tl', 'mort_acc', 'mths_since_recent_bc', 'mths_since_recent_inq', 'num_accts_ever_120_pd', 'num_actv_bc_tl', 'num_actv_rev_tl', 'num_bc_sats', 'num_bc_tl', 'num_il_tl', 'num_op_rev_tl', 'num_rev_accts', 'num_rev_tl_bal_gt_0', 'num_sats', 'num_tl_120dpd_2m', 'num_tl_30dpd', 'num_tl_90g_dpd_24m', 'num_tl_op_past_12m', 'open_acc', 'out_prncp', 'out_prncp_inv', 'pct_tl_nvr_dlq', 'percent_bc_gt_75', 'policy_code', 'pub_rec', 'pub_rec_bankruptcies', 'purpose', 'pymnt_plan', 'recoveries', 'revol_bal', 'revol_util', 'sub_grade', 'tax_liens', 'term', 'tot_coll_amt', 'tot_cur_bal', 'tot_hi_cred_lim', 'total_acc', 'total_bal_ex_mort', 'total_bc_limit', 'total_il_high_credit_limit', 'total_pymnt', 'total_pymnt_inv', 'total_rec_int', 'total_rec_late_fee', 'total_rec_prncp', 'total_rev_hi_lim', 'verification_status']\n"
          ]
        }
      ],
      "source": [
        "print(sorted(dataset.columns))"
      ]
    },
    {
      "cell_type": "markdown",
      "metadata": {
        "id": "xic7HYEvyVkP"
      },
      "source": [
        "The list that is kept is as follows: "
      ]
    },
    {
      "cell_type": "code",
      "execution_count": null,
      "metadata": {
        "id": "ZAMEU2ypyVkP",
        "outputId": "835716be-5063-4764-dfb7-31c6166a554b",
        "colab": {
          "base_uri": "https://localhost:8080/"
        }
      },
      "outputs": [
        {
          "output_type": "execute_result",
          "data": {
            "text/plain": [
              "40"
            ]
          },
          "metadata": {},
          "execution_count": 18
        }
      ],
      "source": [
        "keep_list = ['charged_off','funded_amnt','addr_state', 'annual_inc', 'application_type', 'dti', 'earliest_cr_line', 'emp_length', 'emp_title', 'fico_range_high', 'fico_range_low', 'grade', 'home_ownership', 'id', 'initial_list_status', 'installment', 'int_rate', 'loan_amnt', 'loan_status', 'mort_acc', 'open_acc', 'pub_rec', 'pub_rec_bankruptcies', 'purpose', 'revol_bal', 'revol_util', 'sub_grade', 'term', 'title', 'total_acc', 'verification_status', 'zip_code','last_pymnt_amnt','num_actv_rev_tl', 'mo_sin_rcnt_rev_tl_op','mo_sin_old_rev_tl_op',\"bc_util\",\"bc_open_to_buy\",\"avg_cur_bal\",\"acc_open_past_24mths\" ]\n",
        "\n",
        "len(keep_list)"
      ]
    },
    {
      "cell_type": "code",
      "execution_count": null,
      "metadata": {
        "id": "fj3MkC4pyVkP",
        "outputId": "82724131-ee5d-4b1b-c287-c64f89efbcfb",
        "colab": {
          "base_uri": "https://localhost:8080/"
        }
      },
      "outputs": [
        {
          "output_type": "execute_result",
          "data": {
            "text/plain": [
              "(86138, 35)"
            ]
          },
          "metadata": {},
          "execution_count": 19
        }
      ],
      "source": [
        "drop_list = [col for col in dataset.columns if col not in keep_list]\n",
        "\n",
        "dataset.drop(labels=drop_list, axis=1, inplace=True)\n",
        "\n",
        "dataset.shape"
      ]
    },
    {
      "cell_type": "markdown",
      "metadata": {
        "id": "SeLg9ynSnqEP"
      },
      "source": [
        "<a id='2.2.3'></a>\n",
        "### 3.2.3.  Features elimination based on the correlation"
      ]
    },
    {
      "cell_type": "code",
      "execution_count": null,
      "metadata": {
        "id": "5XRxg7vSnqEP"
      },
      "outputs": [],
      "source": [
        "correlation = dataset.corr()\n",
        "correlation_loan_status = abs(correlation['loan_status'])"
      ]
    },
    {
      "cell_type": "code",
      "execution_count": null,
      "metadata": {
        "colab": {
          "base_uri": "https://localhost:8080/"
        },
        "id": "7dAPaanMnqEP",
        "outputId": "41778738-9362-4f14-9bbf-99e32cdda5ea"
      },
      "outputs": [
        {
          "output_type": "execute_result",
          "data": {
            "text/plain": [
              "loan_status              1.000000\n",
              "last_pymnt_amnt          0.319081\n",
              "int_rate                 0.282825\n",
              "dti                      0.123108\n",
              "fico_range_low           0.121892\n",
              "fico_range_high          0.121891\n",
              "acc_open_past_24mths     0.105989\n",
              "bc_open_to_buy           0.080077\n",
              "bc_util                  0.077744\n",
              "avg_cur_bal              0.071977\n",
              "num_actv_rev_tl          0.071185\n",
              "revol_util               0.066188\n",
              "loan_amnt                0.060818\n",
              "funded_amnt              0.060818\n",
              "mort_acc                 0.057858\n",
              "annual_inc               0.050349\n",
              "mo_sin_old_rev_tl_op     0.049426\n",
              "mo_sin_rcnt_rev_tl_op    0.048839\n",
              "open_acc                 0.039430\n",
              "installment              0.032847\n",
              "revol_bal                0.021714\n",
              "pub_rec                  0.016023\n",
              "pub_rec_bankruptcies     0.015815\n",
              "total_acc                0.005804\n",
              "Name: loan_status, dtype: float64"
            ]
          },
          "metadata": {},
          "execution_count": 21
        }
      ],
      "source": [
        "correlation_loan_status.sort_values(ascending=False)"
      ]
    },
    {
      "cell_type": "code",
      "execution_count": null,
      "metadata": {
        "colab": {
          "base_uri": "https://localhost:8080/"
        },
        "id": "s6qsbNZ5nqEP",
        "outputId": "4452cb25-c972-427f-814a-8b696c59b6d6"
      },
      "outputs": [
        {
          "output_type": "stream",
          "name": "stdout",
          "text": [
            "['pub_rec', 'pub_rec_bankruptcies', 'revol_bal', 'total_acc']\n"
          ]
        }
      ],
      "source": [
        "drop_list_corr = sorted(list(correlation_loan_status[correlation_loan_status < 0.03].index))\n",
        "print(drop_list_corr)"
      ]
    },
    {
      "cell_type": "code",
      "execution_count": null,
      "metadata": {
        "colab": {
          "base_uri": "https://localhost:8080/"
        },
        "id": "Z0jlCAPMnqEQ",
        "outputId": "35b7f133-ac6e-4ef7-ba94-121ff7bc6e6a"
      },
      "outputs": [
        {
          "output_type": "execute_result",
          "data": {
            "text/plain": [
              "(86138, 31)"
            ]
          },
          "metadata": {},
          "execution_count": 23
        }
      ],
      "source": [
        "dataset.drop(labels=drop_list_corr, axis=1, inplace=True)\n",
        "dataset.shape"
      ]
    },
    {
      "cell_type": "markdown",
      "metadata": {
        "id": "yFbk0ZREnqEQ"
      },
      "source": [
        "<a id='3'></a>\n",
        "# 4. Feature Engineering and Exploratory Analysis"
      ]
    },
    {
      "cell_type": "code",
      "execution_count": null,
      "metadata": {
        "colab": {
          "base_uri": "https://localhost:8080/",
          "height": 364
        },
        "id": "Ut0jPXrTnqEQ",
        "outputId": "60022daa-ae0d-4463-e4b2-02f24c6f950d"
      },
      "outputs": [
        {
          "output_type": "execute_result",
          "data": {
            "text/plain": [
              "          loan_amnt   funded_amnt      int_rate   installment    annual_inc  \\\n",
              "count  86138.000000  86138.000000  86138.000000  86138.000000  8.613800e+04   \n",
              "mean   14106.526446  14106.526446     13.002360    430.737187  7.384311e+04   \n",
              "std     8391.139221   8391.139221      4.397419    251.653139  5.929352e+04   \n",
              "min     1000.000000   1000.000000      6.000000     30.420000  4.000000e+03   \n",
              "25%     7800.000000   7800.000000      9.490000    248.480000  4.500000e+04   \n",
              "50%    12000.000000  12000.000000     12.990000    370.480000  6.247372e+04   \n",
              "75%    20000.000000  20000.000000     15.610000    568.005000  9.000000e+04   \n",
              "max    35000.000000  35000.000000     26.060000   1408.130000  7.500000e+06   \n",
              "\n",
              "        loan_status           dti  fico_range_low  fico_range_high  \\\n",
              "count  86138.000000  86138.000000    86138.000000     86138.000000   \n",
              "mean       0.812441     18.532747      692.462966       696.463024   \n",
              "std        0.390362      8.538247       29.731549        29.731848   \n",
              "min        0.000000      0.000000      660.000000       664.000000   \n",
              "25%        1.000000     12.070000      670.000000       674.000000   \n",
              "50%        1.000000     17.950000      685.000000       689.000000   \n",
              "75%        1.000000     24.500000      705.000000       709.000000   \n",
              "max        1.000000     39.990000      845.000000       850.000000   \n",
              "\n",
              "           open_acc    revol_util  last_pymnt_amnt  acc_open_past_24mths  \\\n",
              "count  86138.000000  86094.000000     86138.000000          86138.000000   \n",
              "mean      11.746453     54.582777      4757.453184              4.594732   \n",
              "std        5.433122     23.515901      6466.767327              3.070996   \n",
              "min        1.000000      0.000000         0.000000              0.000000   \n",
              "25%        8.000000     37.200000       358.522500              2.000000   \n",
              "50%       11.000000     54.900000      1241.230000              4.000000   \n",
              "75%       14.000000     72.500000      7303.205000              6.000000   \n",
              "max       84.000000    180.300000     36234.440000             53.000000   \n",
              "\n",
              "         avg_cur_bal  bc_open_to_buy       bc_util  mo_sin_old_rev_tl_op  \\\n",
              "count   86138.000000    85142.000000  85089.000000          86138.000000   \n",
              "mean    13066.638371     8942.506507     63.808959            183.524333   \n",
              "std     16232.739293    14100.186250     27.051347             93.266430   \n",
              "min         0.000000        0.000000      0.000000              3.000000   \n",
              "25%      3010.000000     1087.000000     44.100000            118.000000   \n",
              "50%      6994.500000     3823.000000     67.700000            167.000000   \n",
              "75%     17905.000000    10588.000000     87.500000            232.000000   \n",
              "max    447433.000000   249625.000000    255.200000            718.000000   \n",
              "\n",
              "       mo_sin_rcnt_rev_tl_op      mort_acc  num_actv_rev_tl  \n",
              "count           86138.000000  86138.000000     86138.000000  \n",
              "mean               12.796896      1.748880         5.762358  \n",
              "std                16.224586      2.091488         3.224598  \n",
              "min                 0.000000      0.000000         0.000000  \n",
              "25%                 3.000000      0.000000         3.000000  \n",
              "50%                 8.000000      1.000000         5.000000  \n",
              "75%                15.000000      3.000000         7.000000  \n",
              "max               372.000000     34.000000        38.000000  "
            ],
            "text/html": [
              "\n",
              "  <div id=\"df-1f0d7aa2-3a28-4389-92b5-b35d581f9b51\">\n",
              "    <div class=\"colab-df-container\">\n",
              "      <div>\n",
              "<style scoped>\n",
              "    .dataframe tbody tr th:only-of-type {\n",
              "        vertical-align: middle;\n",
              "    }\n",
              "\n",
              "    .dataframe tbody tr th {\n",
              "        vertical-align: top;\n",
              "    }\n",
              "\n",
              "    .dataframe thead th {\n",
              "        text-align: right;\n",
              "    }\n",
              "</style>\n",
              "<table border=\"1\" class=\"dataframe\">\n",
              "  <thead>\n",
              "    <tr style=\"text-align: right;\">\n",
              "      <th></th>\n",
              "      <th>loan_amnt</th>\n",
              "      <th>funded_amnt</th>\n",
              "      <th>int_rate</th>\n",
              "      <th>installment</th>\n",
              "      <th>annual_inc</th>\n",
              "      <th>loan_status</th>\n",
              "      <th>dti</th>\n",
              "      <th>fico_range_low</th>\n",
              "      <th>fico_range_high</th>\n",
              "      <th>open_acc</th>\n",
              "      <th>revol_util</th>\n",
              "      <th>last_pymnt_amnt</th>\n",
              "      <th>acc_open_past_24mths</th>\n",
              "      <th>avg_cur_bal</th>\n",
              "      <th>bc_open_to_buy</th>\n",
              "      <th>bc_util</th>\n",
              "      <th>mo_sin_old_rev_tl_op</th>\n",
              "      <th>mo_sin_rcnt_rev_tl_op</th>\n",
              "      <th>mort_acc</th>\n",
              "      <th>num_actv_rev_tl</th>\n",
              "    </tr>\n",
              "  </thead>\n",
              "  <tbody>\n",
              "    <tr>\n",
              "      <th>count</th>\n",
              "      <td>86138.000000</td>\n",
              "      <td>86138.000000</td>\n",
              "      <td>86138.000000</td>\n",
              "      <td>86138.000000</td>\n",
              "      <td>8.613800e+04</td>\n",
              "      <td>86138.000000</td>\n",
              "      <td>86138.000000</td>\n",
              "      <td>86138.000000</td>\n",
              "      <td>86138.000000</td>\n",
              "      <td>86138.000000</td>\n",
              "      <td>86094.000000</td>\n",
              "      <td>86138.000000</td>\n",
              "      <td>86138.000000</td>\n",
              "      <td>86138.000000</td>\n",
              "      <td>85142.000000</td>\n",
              "      <td>85089.000000</td>\n",
              "      <td>86138.000000</td>\n",
              "      <td>86138.000000</td>\n",
              "      <td>86138.000000</td>\n",
              "      <td>86138.000000</td>\n",
              "    </tr>\n",
              "    <tr>\n",
              "      <th>mean</th>\n",
              "      <td>14106.526446</td>\n",
              "      <td>14106.526446</td>\n",
              "      <td>13.002360</td>\n",
              "      <td>430.737187</td>\n",
              "      <td>7.384311e+04</td>\n",
              "      <td>0.812441</td>\n",
              "      <td>18.532747</td>\n",
              "      <td>692.462966</td>\n",
              "      <td>696.463024</td>\n",
              "      <td>11.746453</td>\n",
              "      <td>54.582777</td>\n",
              "      <td>4757.453184</td>\n",
              "      <td>4.594732</td>\n",
              "      <td>13066.638371</td>\n",
              "      <td>8942.506507</td>\n",
              "      <td>63.808959</td>\n",
              "      <td>183.524333</td>\n",
              "      <td>12.796896</td>\n",
              "      <td>1.748880</td>\n",
              "      <td>5.762358</td>\n",
              "    </tr>\n",
              "    <tr>\n",
              "      <th>std</th>\n",
              "      <td>8391.139221</td>\n",
              "      <td>8391.139221</td>\n",
              "      <td>4.397419</td>\n",
              "      <td>251.653139</td>\n",
              "      <td>5.929352e+04</td>\n",
              "      <td>0.390362</td>\n",
              "      <td>8.538247</td>\n",
              "      <td>29.731549</td>\n",
              "      <td>29.731848</td>\n",
              "      <td>5.433122</td>\n",
              "      <td>23.515901</td>\n",
              "      <td>6466.767327</td>\n",
              "      <td>3.070996</td>\n",
              "      <td>16232.739293</td>\n",
              "      <td>14100.186250</td>\n",
              "      <td>27.051347</td>\n",
              "      <td>93.266430</td>\n",
              "      <td>16.224586</td>\n",
              "      <td>2.091488</td>\n",
              "      <td>3.224598</td>\n",
              "    </tr>\n",
              "    <tr>\n",
              "      <th>min</th>\n",
              "      <td>1000.000000</td>\n",
              "      <td>1000.000000</td>\n",
              "      <td>6.000000</td>\n",
              "      <td>30.420000</td>\n",
              "      <td>4.000000e+03</td>\n",
              "      <td>0.000000</td>\n",
              "      <td>0.000000</td>\n",
              "      <td>660.000000</td>\n",
              "      <td>664.000000</td>\n",
              "      <td>1.000000</td>\n",
              "      <td>0.000000</td>\n",
              "      <td>0.000000</td>\n",
              "      <td>0.000000</td>\n",
              "      <td>0.000000</td>\n",
              "      <td>0.000000</td>\n",
              "      <td>0.000000</td>\n",
              "      <td>3.000000</td>\n",
              "      <td>0.000000</td>\n",
              "      <td>0.000000</td>\n",
              "      <td>0.000000</td>\n",
              "    </tr>\n",
              "    <tr>\n",
              "      <th>25%</th>\n",
              "      <td>7800.000000</td>\n",
              "      <td>7800.000000</td>\n",
              "      <td>9.490000</td>\n",
              "      <td>248.480000</td>\n",
              "      <td>4.500000e+04</td>\n",
              "      <td>1.000000</td>\n",
              "      <td>12.070000</td>\n",
              "      <td>670.000000</td>\n",
              "      <td>674.000000</td>\n",
              "      <td>8.000000</td>\n",
              "      <td>37.200000</td>\n",
              "      <td>358.522500</td>\n",
              "      <td>2.000000</td>\n",
              "      <td>3010.000000</td>\n",
              "      <td>1087.000000</td>\n",
              "      <td>44.100000</td>\n",
              "      <td>118.000000</td>\n",
              "      <td>3.000000</td>\n",
              "      <td>0.000000</td>\n",
              "      <td>3.000000</td>\n",
              "    </tr>\n",
              "    <tr>\n",
              "      <th>50%</th>\n",
              "      <td>12000.000000</td>\n",
              "      <td>12000.000000</td>\n",
              "      <td>12.990000</td>\n",
              "      <td>370.480000</td>\n",
              "      <td>6.247372e+04</td>\n",
              "      <td>1.000000</td>\n",
              "      <td>17.950000</td>\n",
              "      <td>685.000000</td>\n",
              "      <td>689.000000</td>\n",
              "      <td>11.000000</td>\n",
              "      <td>54.900000</td>\n",
              "      <td>1241.230000</td>\n",
              "      <td>4.000000</td>\n",
              "      <td>6994.500000</td>\n",
              "      <td>3823.000000</td>\n",
              "      <td>67.700000</td>\n",
              "      <td>167.000000</td>\n",
              "      <td>8.000000</td>\n",
              "      <td>1.000000</td>\n",
              "      <td>5.000000</td>\n",
              "    </tr>\n",
              "    <tr>\n",
              "      <th>75%</th>\n",
              "      <td>20000.000000</td>\n",
              "      <td>20000.000000</td>\n",
              "      <td>15.610000</td>\n",
              "      <td>568.005000</td>\n",
              "      <td>9.000000e+04</td>\n",
              "      <td>1.000000</td>\n",
              "      <td>24.500000</td>\n",
              "      <td>705.000000</td>\n",
              "      <td>709.000000</td>\n",
              "      <td>14.000000</td>\n",
              "      <td>72.500000</td>\n",
              "      <td>7303.205000</td>\n",
              "      <td>6.000000</td>\n",
              "      <td>17905.000000</td>\n",
              "      <td>10588.000000</td>\n",
              "      <td>87.500000</td>\n",
              "      <td>232.000000</td>\n",
              "      <td>15.000000</td>\n",
              "      <td>3.000000</td>\n",
              "      <td>7.000000</td>\n",
              "    </tr>\n",
              "    <tr>\n",
              "      <th>max</th>\n",
              "      <td>35000.000000</td>\n",
              "      <td>35000.000000</td>\n",
              "      <td>26.060000</td>\n",
              "      <td>1408.130000</td>\n",
              "      <td>7.500000e+06</td>\n",
              "      <td>1.000000</td>\n",
              "      <td>39.990000</td>\n",
              "      <td>845.000000</td>\n",
              "      <td>850.000000</td>\n",
              "      <td>84.000000</td>\n",
              "      <td>180.300000</td>\n",
              "      <td>36234.440000</td>\n",
              "      <td>53.000000</td>\n",
              "      <td>447433.000000</td>\n",
              "      <td>249625.000000</td>\n",
              "      <td>255.200000</td>\n",
              "      <td>718.000000</td>\n",
              "      <td>372.000000</td>\n",
              "      <td>34.000000</td>\n",
              "      <td>38.000000</td>\n",
              "    </tr>\n",
              "  </tbody>\n",
              "</table>\n",
              "</div>\n",
              "      <button class=\"colab-df-convert\" onclick=\"convertToInteractive('df-1f0d7aa2-3a28-4389-92b5-b35d581f9b51')\"\n",
              "              title=\"Convert this dataframe to an interactive table.\"\n",
              "              style=\"display:none;\">\n",
              "        \n",
              "  <svg xmlns=\"http://www.w3.org/2000/svg\" height=\"24px\"viewBox=\"0 0 24 24\"\n",
              "       width=\"24px\">\n",
              "    <path d=\"M0 0h24v24H0V0z\" fill=\"none\"/>\n",
              "    <path d=\"M18.56 5.44l.94 2.06.94-2.06 2.06-.94-2.06-.94-.94-2.06-.94 2.06-2.06.94zm-11 1L8.5 8.5l.94-2.06 2.06-.94-2.06-.94L8.5 2.5l-.94 2.06-2.06.94zm10 10l.94 2.06.94-2.06 2.06-.94-2.06-.94-.94-2.06-.94 2.06-2.06.94z\"/><path d=\"M17.41 7.96l-1.37-1.37c-.4-.4-.92-.59-1.43-.59-.52 0-1.04.2-1.43.59L10.3 9.45l-7.72 7.72c-.78.78-.78 2.05 0 2.83L4 21.41c.39.39.9.59 1.41.59.51 0 1.02-.2 1.41-.59l7.78-7.78 2.81-2.81c.8-.78.8-2.07 0-2.86zM5.41 20L4 18.59l7.72-7.72 1.47 1.35L5.41 20z\"/>\n",
              "  </svg>\n",
              "      </button>\n",
              "      \n",
              "  <style>\n",
              "    .colab-df-container {\n",
              "      display:flex;\n",
              "      flex-wrap:wrap;\n",
              "      gap: 12px;\n",
              "    }\n",
              "\n",
              "    .colab-df-convert {\n",
              "      background-color: #E8F0FE;\n",
              "      border: none;\n",
              "      border-radius: 50%;\n",
              "      cursor: pointer;\n",
              "      display: none;\n",
              "      fill: #1967D2;\n",
              "      height: 32px;\n",
              "      padding: 0 0 0 0;\n",
              "      width: 32px;\n",
              "    }\n",
              "\n",
              "    .colab-df-convert:hover {\n",
              "      background-color: #E2EBFA;\n",
              "      box-shadow: 0px 1px 2px rgba(60, 64, 67, 0.3), 0px 1px 3px 1px rgba(60, 64, 67, 0.15);\n",
              "      fill: #174EA6;\n",
              "    }\n",
              "\n",
              "    [theme=dark] .colab-df-convert {\n",
              "      background-color: #3B4455;\n",
              "      fill: #D2E3FC;\n",
              "    }\n",
              "\n",
              "    [theme=dark] .colab-df-convert:hover {\n",
              "      background-color: #434B5C;\n",
              "      box-shadow: 0px 1px 3px 1px rgba(0, 0, 0, 0.15);\n",
              "      filter: drop-shadow(0px 1px 2px rgba(0, 0, 0, 0.3));\n",
              "      fill: #FFFFFF;\n",
              "    }\n",
              "  </style>\n",
              "\n",
              "      <script>\n",
              "        const buttonEl =\n",
              "          document.querySelector('#df-1f0d7aa2-3a28-4389-92b5-b35d581f9b51 button.colab-df-convert');\n",
              "        buttonEl.style.display =\n",
              "          google.colab.kernel.accessAllowed ? 'block' : 'none';\n",
              "\n",
              "        async function convertToInteractive(key) {\n",
              "          const element = document.querySelector('#df-1f0d7aa2-3a28-4389-92b5-b35d581f9b51');\n",
              "          const dataTable =\n",
              "            await google.colab.kernel.invokeFunction('convertToInteractive',\n",
              "                                                     [key], {});\n",
              "          if (!dataTable) return;\n",
              "\n",
              "          const docLinkHtml = 'Like what you see? Visit the ' +\n",
              "            '<a target=\"_blank\" href=https://colab.research.google.com/notebooks/data_table.ipynb>data table notebook</a>'\n",
              "            + ' to learn more about interactive tables.';\n",
              "          element.innerHTML = '';\n",
              "          dataTable['output_type'] = 'display_data';\n",
              "          await google.colab.output.renderOutput(dataTable, element);\n",
              "          const docLink = document.createElement('div');\n",
              "          docLink.innerHTML = docLinkHtml;\n",
              "          element.appendChild(docLink);\n",
              "        }\n",
              "      </script>\n",
              "    </div>\n",
              "  </div>\n",
              "  "
            ]
          },
          "metadata": {},
          "execution_count": 24
        }
      ],
      "source": [
        "dataset.describe()"
      ]
    },
    {
      "cell_type": "markdown",
      "metadata": {
        "id": "111uNOR9nqEQ"
      },
      "source": [
        "<a id='3.1'></a>\n",
        "## 4.1 Feature Analysis and Exploration"
      ]
    },
    {
      "cell_type": "markdown",
      "metadata": {
        "id": "2fTp7Z8onqER"
      },
      "source": [
        "<a id='3.1.1'></a>\n",
        "### 4.1.1. Analysing the categorical features "
      ]
    },
    {
      "cell_type": "markdown",
      "metadata": {
        "id": "RRDei4w8nqER"
      },
      "source": [
        "#### Feature- Term"
      ]
    },
    {
      "cell_type": "code",
      "execution_count": null,
      "metadata": {
        "id": "YnSY-et8nqES"
      },
      "outputs": [],
      "source": [
        "#Data Dictionary: \"The number of payments on the loan. Values are in months and can be either 36 or 60.\". \n",
        "#The 60 Months loans are more likelely to charge off\n",
        "#Convert term to integers\n",
        "dataset['term'] = dataset['term'].apply(lambda s: np.int8(s.split()[0]))"
      ]
    },
    {
      "cell_type": "code",
      "execution_count": null,
      "metadata": {
        "colab": {
          "base_uri": "https://localhost:8080/"
        },
        "id": "UYBbzVRfnqES",
        "outputId": "2919c2c6-d578-49f2-b1cb-e0072e00ae06"
      },
      "outputs": [
        {
          "output_type": "execute_result",
          "data": {
            "text/plain": [
              "term\n",
              "36    0.858474\n",
              "60    0.645644\n",
              "Name: loan_status, dtype: float64"
            ]
          },
          "metadata": {},
          "execution_count": 26
        }
      ],
      "source": [
        "# term이 36인 경우, 갚을 확률이 86%, term이 60인 경우, 갚을 확률이 64.5%\n",
        "dataset.groupby('term')['loan_status'].value_counts(normalize=True).loc[:,1]"
      ]
    },
    {
      "cell_type": "markdown",
      "metadata": {
        "id": "2Yvjm7OznqES"
      },
      "source": [
        "Loans with five-year periods are more than twice as likely to charge-off as loans with three-year periods."
      ]
    },
    {
      "cell_type": "markdown",
      "metadata": {
        "id": "E1G126JgnqES"
      },
      "source": [
        "#### Feature- Employement Length"
      ]
    },
    {
      "cell_type": "code",
      "execution_count": null,
      "metadata": {
        "id": "UlAG5TlenqES"
      },
      "outputs": [],
      "source": [
        "dataset['emp_length'].replace(to_replace='10+ years', value='10 years', inplace=True)\n",
        "\n",
        "dataset['emp_length'].replace('< 1 year', '0 years', inplace=True)\n",
        "\n",
        "def emp_length_to_int(s):\n",
        "    if pd.isnull(s):\n",
        "        return s\n",
        "    else:\n",
        "        return np.int8(s.split()[0])\n",
        "    \n",
        "dataset['emp_length'] = dataset['emp_length'].apply(emp_length_to_int)\n"
      ]
    },
    {
      "cell_type": "code",
      "execution_count": null,
      "metadata": {
        "colab": {
          "base_uri": "https://localhost:8080/"
        },
        "id": "gNDfR8kOnqET",
        "outputId": "b78aa104-e244-42af-d43f-22a829e2ad93"
      },
      "outputs": [
        {
          "output_type": "execute_result",
          "data": {
            "text/plain": [
              "<matplotlib.axes._subplots.AxesSubplot at 0x7ff09aa77f10>"
            ]
          },
          "metadata": {},
          "execution_count": 28
        },
        {
          "output_type": "display_data",
          "data": {
            "text/plain": [
              "<Figure size 432x288 with 1 Axes>"
            ],
            "image/png": "[encoded data removed]"
          },
          "metadata": {
            "needs_background": "light"
          }
        }
      ],
      "source": [
        "loan_status = dataset.groupby('emp_length')['loan_status'].value_counts(normalize=True).loc[:,1]\n",
        "sns.barplot(x=loan_status.index, y=loan_status.values, color='#5975A4', saturation=1)"
      ]
    },
    {
      "cell_type": "markdown",
      "metadata": {
        "id": "cZ1s_6uCnqET"
      },
      "source": [
        " Loan status does not appear to vary much with employment length on average, hence it is dropped"
      ]
    },
    {
      "cell_type": "code",
      "execution_count": null,
      "metadata": {
        "id": "MKPnw1RWnqET"
      },
      "outputs": [],
      "source": [
        "dataset.drop(['emp_length'], axis=1, inplace=True)"
      ]
    },
    {
      "cell_type": "markdown",
      "metadata": {
        "id": "GSXO0q8inqET"
      },
      "source": [
        "#### Feature : Subgrade"
      ]
    },
    {
      "cell_type": "code",
      "execution_count": null,
      "metadata": {
        "colab": {
          "base_uri": "https://localhost:8080/"
        },
        "id": "r0ZIklyWnqEU",
        "outputId": "1ea3d5c5-fcef-43a2-d9f4-219cf9f8f4e8"
      },
      "outputs": [
        {
          "output_type": "execute_result",
          "data": {
            "text/plain": [
              "<matplotlib.axes._subplots.AxesSubplot at 0x7ff09aadf610>"
            ]
          },
          "metadata": {},
          "execution_count": 30
        },
        {
          "output_type": "display_data",
          "data": {
            "text/plain": [
              "<Figure size 864x360 with 1 Axes>"
            ],
            "image/png": "[encoded data removed]"
          },
          "metadata": {}
        }
      ],
      "source": [
        "charge_off_rates = dataset.groupby('sub_grade')['loan_status'].value_counts(normalize=True).loc[:,1]\n",
        "sns.set(rc={'figure.figsize':(12,5)})\n",
        "sns.barplot(x=charge_off_rates.index, y=charge_off_rates.values, color='#5975A4', saturation=1)"
      ]
    },
    {
      "cell_type": "markdown",
      "metadata": {
        "id": "ZfecFvKtnqEU"
      },
      "source": [
        "There's a clear trend of higher probability of charge-off as the subgrade worsens."
      ]
    },
    {
      "cell_type": "code",
      "execution_count": null,
      "metadata": {
        "id": "ajn1zQTdnqEU"
      },
      "outputs": [],
      "source": [
        "dataset['earliest_cr_line'] = dataset['earliest_cr_line'].apply(lambda s: int(s[-4:]))"
      ]
    },
    {
      "cell_type": "markdown",
      "metadata": {
        "id": "7EBXbpmxnqEU"
      },
      "source": [
        "<a id='3.1.2'></a>\n",
        "### 4.1.2. Analysing the continuous features "
      ]
    },
    {
      "cell_type": "markdown",
      "metadata": {
        "id": "iO1Y31oRnqEV"
      },
      "source": [
        "#### Feature : Annual Income"
      ]
    },
    {
      "cell_type": "code",
      "execution_count": null,
      "metadata": {
        "colab": {
          "base_uri": "https://localhost:8080/",
          "height": 300
        },
        "id": "vKzdTzPvnqEV",
        "outputId": "06d47d97-d521-4f69-9600-dce857e911bf"
      },
      "outputs": [
        {
          "output_type": "execute_result",
          "data": {
            "text/plain": [
              "         annual_inc\n",
              "count  8.613800e+04\n",
              "mean   7.384311e+04\n",
              "std    5.929352e+04\n",
              "min    4.000000e+03\n",
              "25%    4.500000e+04\n",
              "50%    6.247372e+04\n",
              "75%    9.000000e+04\n",
              "max    7.500000e+06"
            ],
            "text/html": [
              "\n",
              "  <div id=\"df-0b69eb82-ed4a-4580-a010-fce9de0ca759\">\n",
              "    <div class=\"colab-df-container\">\n",
              "      <div>\n",
              "<style scoped>\n",
              "    .dataframe tbody tr th:only-of-type {\n",
              "        vertical-align: middle;\n",
              "    }\n",
              "\n",
              "    .dataframe tbody tr th {\n",
              "        vertical-align: top;\n",
              "    }\n",
              "\n",
              "    .dataframe thead th {\n",
              "        text-align: right;\n",
              "    }\n",
              "</style>\n",
              "<table border=\"1\" class=\"dataframe\">\n",
              "  <thead>\n",
              "    <tr style=\"text-align: right;\">\n",
              "      <th></th>\n",
              "      <th>annual_inc</th>\n",
              "    </tr>\n",
              "  </thead>\n",
              "  <tbody>\n",
              "    <tr>\n",
              "      <th>count</th>\n",
              "      <td>8.613800e+04</td>\n",
              "    </tr>\n",
              "    <tr>\n",
              "      <th>mean</th>\n",
              "      <td>7.384311e+04</td>\n",
              "    </tr>\n",
              "    <tr>\n",
              "      <th>std</th>\n",
              "      <td>5.929352e+04</td>\n",
              "    </tr>\n",
              "    <tr>\n",
              "      <th>min</th>\n",
              "      <td>4.000000e+03</td>\n",
              "    </tr>\n",
              "    <tr>\n",
              "      <th>25%</th>\n",
              "      <td>4.500000e+04</td>\n",
              "    </tr>\n",
              "    <tr>\n",
              "      <th>50%</th>\n",
              "      <td>6.247372e+04</td>\n",
              "    </tr>\n",
              "    <tr>\n",
              "      <th>75%</th>\n",
              "      <td>9.000000e+04</td>\n",
              "    </tr>\n",
              "    <tr>\n",
              "      <th>max</th>\n",
              "      <td>7.500000e+06</td>\n",
              "    </tr>\n",
              "  </tbody>\n",
              "</table>\n",
              "</div>\n",
              "      <button class=\"colab-df-convert\" onclick=\"convertToInteractive('df-0b69eb82-ed4a-4580-a010-fce9de0ca759')\"\n",
              "              title=\"Convert this dataframe to an interactive table.\"\n",
              "              style=\"display:none;\">\n",
              "        \n",
              "  <svg xmlns=\"http://www.w3.org/2000/svg\" height=\"24px\"viewBox=\"0 0 24 24\"\n",
              "       width=\"24px\">\n",
              "    <path d=\"M0 0h24v24H0V0z\" fill=\"none\"/>\n",
              "    <path d=\"M18.56 5.44l.94 2.06.94-2.06 2.06-.94-2.06-.94-.94-2.06-.94 2.06-2.06.94zm-11 1L8.5 8.5l.94-2.06 2.06-.94-2.06-.94L8.5 2.5l-.94 2.06-2.06.94zm10 10l.94 2.06.94-2.06 2.06-.94-2.06-.94-.94-2.06-.94 2.06-2.06.94z\"/><path d=\"M17.41 7.96l-1.37-1.37c-.4-.4-.92-.59-1.43-.59-.52 0-1.04.2-1.43.59L10.3 9.45l-7.72 7.72c-.78.78-.78 2.05 0 2.83L4 21.41c.39.39.9.59 1.41.59.51 0 1.02-.2 1.41-.59l7.78-7.78 2.81-2.81c.8-.78.8-2.07 0-2.86zM5.41 20L4 18.59l7.72-7.72 1.47 1.35L5.41 20z\"/>\n",
              "  </svg>\n",
              "      </button>\n",
              "      \n",
              "  <style>\n",
              "    .colab-df-container {\n",
              "      display:flex;\n",
              "      flex-wrap:wrap;\n",
              "      gap: 12px;\n",
              "    }\n",
              "\n",
              "    .colab-df-convert {\n",
              "      background-color: #E8F0FE;\n",
              "      border: none;\n",
              "      border-radius: 50%;\n",
              "      cursor: pointer;\n",
              "      display: none;\n",
              "      fill: #1967D2;\n",
              "      height: 32px;\n",
              "      padding: 0 0 0 0;\n",
              "      width: 32px;\n",
              "    }\n",
              "\n",
              "    .colab-df-convert:hover {\n",
              "      background-color: #E2EBFA;\n",
              "      box-shadow: 0px 1px 2px rgba(60, 64, 67, 0.3), 0px 1px 3px 1px rgba(60, 64, 67, 0.15);\n",
              "      fill: #174EA6;\n",
              "    }\n",
              "\n",
              "    [theme=dark] .colab-df-convert {\n",
              "      background-color: #3B4455;\n",
              "      fill: #D2E3FC;\n",
              "    }\n",
              "\n",
              "    [theme=dark] .colab-df-convert:hover {\n",
              "      background-color: #434B5C;\n",
              "      box-shadow: 0px 1px 3px 1px rgba(0, 0, 0, 0.15);\n",
              "      filter: drop-shadow(0px 1px 2px rgba(0, 0, 0, 0.3));\n",
              "      fill: #FFFFFF;\n",
              "    }\n",
              "  </style>\n",
              "\n",
              "      <script>\n",
              "        const buttonEl =\n",
              "          document.querySelector('#df-0b69eb82-ed4a-4580-a010-fce9de0ca759 button.colab-df-convert');\n",
              "        buttonEl.style.display =\n",
              "          google.colab.kernel.accessAllowed ? 'block' : 'none';\n",
              "\n",
              "        async function convertToInteractive(key) {\n",
              "          const element = document.querySelector('#df-0b69eb82-ed4a-4580-a010-fce9de0ca759');\n",
              "          const dataTable =\n",
              "            await google.colab.kernel.invokeFunction('convertToInteractive',\n",
              "                                                     [key], {});\n",
              "          if (!dataTable) return;\n",
              "\n",
              "          const docLinkHtml = 'Like what you see? Visit the ' +\n",
              "            '<a target=\"_blank\" href=https://colab.research.google.com/notebooks/data_table.ipynb>data table notebook</a>'\n",
              "            + ' to learn more about interactive tables.';\n",
              "          element.innerHTML = '';\n",
              "          dataTable['output_type'] = 'display_data';\n",
              "          await google.colab.output.renderOutput(dataTable, element);\n",
              "          const docLink = document.createElement('div');\n",
              "          docLink.innerHTML = docLinkHtml;\n",
              "          element.appendChild(docLink);\n",
              "        }\n",
              "      </script>\n",
              "    </div>\n",
              "  </div>\n",
              "  "
            ]
          },
          "metadata": {},
          "execution_count": 32
        }
      ],
      "source": [
        "dataset[['annual_inc']].describe()"
      ]
    },
    {
      "cell_type": "markdown",
      "metadata": {
        "id": "E8gFZRyDnqEV"
      },
      "source": [
        "Annual income ranges from 0  to  9,550,000, with a median of $65,000. \n",
        "Because of the large range of incomes, we should take a log transform of the annual income variable."
      ]
    },
    {
      "cell_type": "code",
      "execution_count": null,
      "metadata": {
        "id": "jOt6kKeAnqEV"
      },
      "outputs": [],
      "source": [
        "dataset['log_annual_inc'] = dataset['annual_inc'].apply(lambda x: np.log10(x+1))\n",
        "dataset.drop('annual_inc', axis=1, inplace=True)"
      ]
    },
    {
      "cell_type": "markdown",
      "metadata": {
        "id": "JtOhOnhTnqEV"
      },
      "source": [
        "#### FICO Scores"
      ]
    },
    {
      "cell_type": "code",
      "execution_count": null,
      "metadata": {
        "colab": {
          "base_uri": "https://localhost:8080/",
          "height": 112
        },
        "id": "q_Lz-H46nqEW",
        "outputId": "3209a675-4786-4241-b9e7-7f372d065926"
      },
      "outputs": [
        {
          "output_type": "execute_result",
          "data": {
            "text/plain": [
              "                 fico_range_low  fico_range_high\n",
              "fico_range_low              1.0              1.0\n",
              "fico_range_high             1.0              1.0"
            ],
            "text/html": [
              "\n",
              "  <div id=\"df-1d24fb58-9d63-405c-8577-faab757e3d31\">\n",
              "    <div class=\"colab-df-container\">\n",
              "      <div>\n",
              "<style scoped>\n",
              "    .dataframe tbody tr th:only-of-type {\n",
              "        vertical-align: middle;\n",
              "    }\n",
              "\n",
              "    .dataframe tbody tr th {\n",
              "        vertical-align: top;\n",
              "    }\n",
              "\n",
              "    .dataframe thead th {\n",
              "        text-align: right;\n",
              "    }\n",
              "</style>\n",
              "<table border=\"1\" class=\"dataframe\">\n",
              "  <thead>\n",
              "    <tr style=\"text-align: right;\">\n",
              "      <th></th>\n",
              "      <th>fico_range_low</th>\n",
              "      <th>fico_range_high</th>\n",
              "    </tr>\n",
              "  </thead>\n",
              "  <tbody>\n",
              "    <tr>\n",
              "      <th>fico_range_low</th>\n",
              "      <td>1.0</td>\n",
              "      <td>1.0</td>\n",
              "    </tr>\n",
              "    <tr>\n",
              "      <th>fico_range_high</th>\n",
              "      <td>1.0</td>\n",
              "      <td>1.0</td>\n",
              "    </tr>\n",
              "  </tbody>\n",
              "</table>\n",
              "</div>\n",
              "      <button class=\"colab-df-convert\" onclick=\"convertToInteractive('df-1d24fb58-9d63-405c-8577-faab757e3d31')\"\n",
              "              title=\"Convert this dataframe to an interactive table.\"\n",
              "              style=\"display:none;\">\n",
              "        \n",
              "  <svg xmlns=\"http://www.w3.org/2000/svg\" height=\"24px\"viewBox=\"0 0 24 24\"\n",
              "       width=\"24px\">\n",
              "    <path d=\"M0 0h24v24H0V0z\" fill=\"none\"/>\n",
              "    <path d=\"M18.56 5.44l.94 2.06.94-2.06 2.06-.94-2.06-.94-.94-2.06-.94 2.06-2.06.94zm-11 1L8.5 8.5l.94-2.06 2.06-.94-2.06-.94L8.5 2.5l-.94 2.06-2.06.94zm10 10l.94 2.06.94-2.06 2.06-.94-2.06-.94-.94-2.06-.94 2.06-2.06.94z\"/><path d=\"M17.41 7.96l-1.37-1.37c-.4-.4-.92-.59-1.43-.59-.52 0-1.04.2-1.43.59L10.3 9.45l-7.72 7.72c-.78.78-.78 2.05 0 2.83L4 21.41c.39.39.9.59 1.41.59.51 0 1.02-.2 1.41-.59l7.78-7.78 2.81-2.81c.8-.78.8-2.07 0-2.86zM5.41 20L4 18.59l7.72-7.72 1.47 1.35L5.41 20z\"/>\n",
              "  </svg>\n",
              "      </button>\n",
              "      \n",
              "  <style>\n",
              "    .colab-df-container {\n",
              "      display:flex;\n",
              "      flex-wrap:wrap;\n",
              "      gap: 12px;\n",
              "    }\n",
              "\n",
              "    .colab-df-convert {\n",
              "      background-color: #E8F0FE;\n",
              "      border: none;\n",
              "      border-radius: 50%;\n",
              "      cursor: pointer;\n",
              "      display: none;\n",
              "      fill: #1967D2;\n",
              "      height: 32px;\n",
              "      padding: 0 0 0 0;\n",
              "      width: 32px;\n",
              "    }\n",
              "\n",
              "    .colab-df-convert:hover {\n",
              "      background-color: #E2EBFA;\n",
              "      box-shadow: 0px 1px 2px rgba(60, 64, 67, 0.3), 0px 1px 3px 1px rgba(60, 64, 67, 0.15);\n",
              "      fill: #174EA6;\n",
              "    }\n",
              "\n",
              "    [theme=dark] .colab-df-convert {\n",
              "      background-color: #3B4455;\n",
              "      fill: #D2E3FC;\n",
              "    }\n",
              "\n",
              "    [theme=dark] .colab-df-convert:hover {\n",
              "      background-color: #434B5C;\n",
              "      box-shadow: 0px 1px 3px 1px rgba(0, 0, 0, 0.15);\n",
              "      filter: drop-shadow(0px 1px 2px rgba(0, 0, 0, 0.3));\n",
              "      fill: #FFFFFF;\n",
              "    }\n",
              "  </style>\n",
              "\n",
              "      <script>\n",
              "        const buttonEl =\n",
              "          document.querySelector('#df-1d24fb58-9d63-405c-8577-faab757e3d31 button.colab-df-convert');\n",
              "        buttonEl.style.display =\n",
              "          google.colab.kernel.accessAllowed ? 'block' : 'none';\n",
              "\n",
              "        async function convertToInteractive(key) {\n",
              "          const element = document.querySelector('#df-1d24fb58-9d63-405c-8577-faab757e3d31');\n",
              "          const dataTable =\n",
              "            await google.colab.kernel.invokeFunction('convertToInteractive',\n",
              "                                                     [key], {});\n",
              "          if (!dataTable) return;\n",
              "\n",
              "          const docLinkHtml = 'Like what you see? Visit the ' +\n",
              "            '<a target=\"_blank\" href=https://colab.research.google.com/notebooks/data_table.ipynb>data table notebook</a>'\n",
              "            + ' to learn more about interactive tables.';\n",
              "          element.innerHTML = '';\n",
              "          dataTable['output_type'] = 'display_data';\n",
              "          await google.colab.output.renderOutput(dataTable, element);\n",
              "          const docLink = document.createElement('div');\n",
              "          docLink.innerHTML = docLinkHtml;\n",
              "          element.appendChild(docLink);\n",
              "        }\n",
              "      </script>\n",
              "    </div>\n",
              "  </div>\n",
              "  "
            ]
          },
          "metadata": {},
          "execution_count": 34
        }
      ],
      "source": [
        "dataset[['fico_range_low','fico_range_high']].corr()"
      ]
    },
    {
      "cell_type": "markdown",
      "metadata": {
        "id": "DdqTqAopnqEW"
      },
      "source": [
        "Given that the correlation between fico low and high is 1 it is preferred to keep only one feature which is average of FICO Scores"
      ]
    },
    {
      "cell_type": "code",
      "execution_count": null,
      "metadata": {
        "id": "mq_keIPmnqEW"
      },
      "outputs": [],
      "source": [
        "dataset['fico_score'] = 0.5*dataset['fico_range_low'] + 0.5*dataset['fico_range_high']\n",
        "\n",
        "dataset.drop(['fico_range_high', 'fico_range_low'], axis=1, inplace=True)"
      ]
    },
    {
      "cell_type": "markdown",
      "metadata": {
        "id": "jkn804rXnqEW"
      },
      "source": [
        "<a id='3.2'></a>\n",
        "## 4.2. Encoding Categorical Data"
      ]
    },
    {
      "cell_type": "code",
      "execution_count": null,
      "metadata": {
        "id": "P5Q1x5cOnqEX"
      },
      "outputs": [],
      "source": [
        "# Categorical boolean mask\n",
        "categorical_feature_mask = dataset.dtypes==object\n",
        "# filter categorical columns using mask and turn it into a list\n",
        "categorical_cols = dataset.columns[categorical_feature_mask].tolist()"
      ]
    },
    {
      "cell_type": "code",
      "source": [
        "# 돈을 갚을 확률이 가장 낮은 분류부터 순서대로 0부터 encoding하기로 함\n",
        "# purpose에서 돈을 갚을 확률이 가장 낮은 분류가 0, 그 다음으로 낮은 분류가 1, ...\n",
        "def encoding_by_loan_status(data, column):\n",
        "  index_list = data.groupby(column)['loan_status'].mean().sort_values(ascending=True).index\n",
        "  map_dict = {}\n",
        "  for i, index in enumerate(index_list):\n",
        "    map_dict[index] = i\n",
        "  data[[column]] = data[[column]].applymap(map_dict.get)"
      ],
      "metadata": {
        "id": "ibVwdYyJ4e3b"
      },
      "execution_count": null,
      "outputs": []
    },
    {
      "cell_type": "code",
      "execution_count": null,
      "metadata": {
        "id": "pItHmyjrnqEX"
      },
      "outputs": [],
      "source": [
        "for col in categorical_cols:\n",
        "  encoding_by_loan_status(dataset, col)"
      ]
    },
    {
      "cell_type": "code",
      "execution_count": null,
      "metadata": {
        "colab": {
          "base_uri": "https://localhost:8080/"
        },
        "id": "GzDlTVN9nqEY",
        "outputId": "481e89a2-a06b-4b85-b903-592587315b4f"
      },
      "outputs": [
        {
          "output_type": "stream",
          "name": "stdout",
          "text": [
            "shape of dataset: (86138, 29)\n"
          ]
        },
        {
          "output_type": "execute_result",
          "data": {
            "text/plain": [
              "   loan_amnt  funded_amnt  term  int_rate  installment  grade  sub_grade  \\\n",
              "0    15000.0      15000.0    60     12.39       336.64      4         24   \n",
              "1    10400.0      10400.0    36      6.99       321.08      6         33   \n",
              "2    21425.0      21425.0    60     15.59       516.36      3         19   \n",
              "4     7650.0       7650.0    36     13.66       260.20      4         22   \n",
              "5     9600.0       9600.0    36     13.66       326.53      4         22   \n",
              "\n",
              "   home_ownership  verification_status  loan_status  ...  \\\n",
              "0               0                    1            1  ...   \n",
              "1               2                    2            0  ...   \n",
              "2               0                    1            1  ...   \n",
              "4               0                    1            0  ...   \n",
              "5               0                    1            1  ...   \n",
              "\n",
              "   acc_open_past_24mths  avg_cur_bal  bc_open_to_buy  bc_util  \\\n",
              "0                   5.0      29828.0          9525.0      4.7   \n",
              "1                   7.0       9536.0          7599.0     41.5   \n",
              "2                   4.0       4232.0           324.0     97.8   \n",
              "4                   6.0       5857.0           332.0     93.2   \n",
              "5                   8.0       3214.0          6494.0     69.2   \n",
              "\n",
              "   mo_sin_old_rev_tl_op  mo_sin_rcnt_rev_tl_op  mort_acc  num_actv_rev_tl  \\\n",
              "0                 244.0                    1.0       0.0              4.0   \n",
              "1                 290.0                    1.0       1.0              9.0   \n",
              "2                 136.0                    7.0       0.0              4.0   \n",
              "4                 148.0                    8.0       0.0              4.0   \n",
              "5                 265.0                   23.0       0.0              7.0   \n",
              "\n",
              "   log_annual_inc  fico_score  \n",
              "0        4.892100       752.0  \n",
              "1        4.763435       712.0  \n",
              "2        4.804827       687.0  \n",
              "4        4.698979       687.0  \n",
              "5        4.838855       682.0  \n",
              "\n",
              "[5 rows x 29 columns]"
            ],
            "text/html": [
              "\n",
              "  <div id=\"df-a57d2cd1-617e-4b9a-a54e-fab4252682b5\">\n",
              "    <div class=\"colab-df-container\">\n",
              "      <div>\n",
              "<style scoped>\n",
              "    .dataframe tbody tr th:only-of-type {\n",
              "        vertical-align: middle;\n",
              "    }\n",
              "\n",
              "    .dataframe tbody tr th {\n",
              "        vertical-align: top;\n",
              "    }\n",
              "\n",
              "    .dataframe thead th {\n",
              "        text-align: right;\n",
              "    }\n",
              "</style>\n",
              "<table border=\"1\" class=\"dataframe\">\n",
              "  <thead>\n",
              "    <tr style=\"text-align: right;\">\n",
              "      <th></th>\n",
              "      <th>loan_amnt</th>\n",
              "      <th>funded_amnt</th>\n",
              "      <th>term</th>\n",
              "      <th>int_rate</th>\n",
              "      <th>installment</th>\n",
              "      <th>grade</th>\n",
              "      <th>sub_grade</th>\n",
              "      <th>home_ownership</th>\n",
              "      <th>verification_status</th>\n",
              "      <th>loan_status</th>\n",
              "      <th>...</th>\n",
              "      <th>acc_open_past_24mths</th>\n",
              "      <th>avg_cur_bal</th>\n",
              "      <th>bc_open_to_buy</th>\n",
              "      <th>bc_util</th>\n",
              "      <th>mo_sin_old_rev_tl_op</th>\n",
              "      <th>mo_sin_rcnt_rev_tl_op</th>\n",
              "      <th>mort_acc</th>\n",
              "      <th>num_actv_rev_tl</th>\n",
              "      <th>log_annual_inc</th>\n",
              "      <th>fico_score</th>\n",
              "    </tr>\n",
              "  </thead>\n",
              "  <tbody>\n",
              "    <tr>\n",
              "      <th>0</th>\n",
              "      <td>15000.0</td>\n",
              "      <td>15000.0</td>\n",
              "      <td>60</td>\n",
              "      <td>12.39</td>\n",
              "      <td>336.64</td>\n",
              "      <td>4</td>\n",
              "      <td>24</td>\n",
              "      <td>0</td>\n",
              "      <td>1</td>\n",
              "      <td>1</td>\n",
              "      <td>...</td>\n",
              "      <td>5.0</td>\n",
              "      <td>29828.0</td>\n",
              "      <td>9525.0</td>\n",
              "      <td>4.7</td>\n",
              "      <td>244.0</td>\n",
              "      <td>1.0</td>\n",
              "      <td>0.0</td>\n",
              "      <td>4.0</td>\n",
              "      <td>4.892100</td>\n",
              "      <td>752.0</td>\n",
              "    </tr>\n",
              "    <tr>\n",
              "      <th>1</th>\n",
              "      <td>10400.0</td>\n",
              "      <td>10400.0</td>\n",
              "      <td>36</td>\n",
              "      <td>6.99</td>\n",
              "      <td>321.08</td>\n",
              "      <td>6</td>\n",
              "      <td>33</td>\n",
              "      <td>2</td>\n",
              "      <td>2</td>\n",
              "      <td>0</td>\n",
              "      <td>...</td>\n",
              "      <td>7.0</td>\n",
              "      <td>9536.0</td>\n",
              "      <td>7599.0</td>\n",
              "      <td>41.5</td>\n",
              "      <td>290.0</td>\n",
              "      <td>1.0</td>\n",
              "      <td>1.0</td>\n",
              "      <td>9.0</td>\n",
              "      <td>4.763435</td>\n",
              "      <td>712.0</td>\n",
              "    </tr>\n",
              "    <tr>\n",
              "      <th>2</th>\n",
              "      <td>21425.0</td>\n",
              "      <td>21425.0</td>\n",
              "      <td>60</td>\n",
              "      <td>15.59</td>\n",
              "      <td>516.36</td>\n",
              "      <td>3</td>\n",
              "      <td>19</td>\n",
              "      <td>0</td>\n",
              "      <td>1</td>\n",
              "      <td>1</td>\n",
              "      <td>...</td>\n",
              "      <td>4.0</td>\n",
              "      <td>4232.0</td>\n",
              "      <td>324.0</td>\n",
              "      <td>97.8</td>\n",
              "      <td>136.0</td>\n",
              "      <td>7.0</td>\n",
              "      <td>0.0</td>\n",
              "      <td>4.0</td>\n",
              "      <td>4.804827</td>\n",
              "      <td>687.0</td>\n",
              "    </tr>\n",
              "    <tr>\n",
              "      <th>4</th>\n",
              "      <td>7650.0</td>\n",
              "      <td>7650.0</td>\n",
              "      <td>36</td>\n",
              "      <td>13.66</td>\n",
              "      <td>260.20</td>\n",
              "      <td>4</td>\n",
              "      <td>22</td>\n",
              "      <td>0</td>\n",
              "      <td>1</td>\n",
              "      <td>0</td>\n",
              "      <td>...</td>\n",
              "      <td>6.0</td>\n",
              "      <td>5857.0</td>\n",
              "      <td>332.0</td>\n",
              "      <td>93.2</td>\n",
              "      <td>148.0</td>\n",
              "      <td>8.0</td>\n",
              "      <td>0.0</td>\n",
              "      <td>4.0</td>\n",
              "      <td>4.698979</td>\n",
              "      <td>687.0</td>\n",
              "    </tr>\n",
              "    <tr>\n",
              "      <th>5</th>\n",
              "      <td>9600.0</td>\n",
              "      <td>9600.0</td>\n",
              "      <td>36</td>\n",
              "      <td>13.66</td>\n",
              "      <td>326.53</td>\n",
              "      <td>4</td>\n",
              "      <td>22</td>\n",
              "      <td>0</td>\n",
              "      <td>1</td>\n",
              "      <td>1</td>\n",
              "      <td>...</td>\n",
              "      <td>8.0</td>\n",
              "      <td>3214.0</td>\n",
              "      <td>6494.0</td>\n",
              "      <td>69.2</td>\n",
              "      <td>265.0</td>\n",
              "      <td>23.0</td>\n",
              "      <td>0.0</td>\n",
              "      <td>7.0</td>\n",
              "      <td>4.838855</td>\n",
              "      <td>682.0</td>\n",
              "    </tr>\n",
              "  </tbody>\n",
              "</table>\n",
              "<p>5 rows × 29 columns</p>\n",
              "</div>\n",
              "      <button class=\"colab-df-convert\" onclick=\"convertToInteractive('df-a57d2cd1-617e-4b9a-a54e-fab4252682b5')\"\n",
              "              title=\"Convert this dataframe to an interactive table.\"\n",
              "              style=\"display:none;\">\n",
              "        \n",
              "  <svg xmlns=\"http://www.w3.org/2000/svg\" height=\"24px\"viewBox=\"0 0 24 24\"\n",
              "       width=\"24px\">\n",
              "    <path d=\"M0 0h24v24H0V0z\" fill=\"none\"/>\n",
              "    <path d=\"M18.56 5.44l.94 2.06.94-2.06 2.06-.94-2.06-.94-.94-2.06-.94 2.06-2.06.94zm-11 1L8.5 8.5l.94-2.06 2.06-.94-2.06-.94L8.5 2.5l-.94 2.06-2.06.94zm10 10l.94 2.06.94-2.06 2.06-.94-2.06-.94-.94-2.06-.94 2.06-2.06.94z\"/><path d=\"M17.41 7.96l-1.37-1.37c-.4-.4-.92-.59-1.43-.59-.52 0-1.04.2-1.43.59L10.3 9.45l-7.72 7.72c-.78.78-.78 2.05 0 2.83L4 21.41c.39.39.9.59 1.41.59.51 0 1.02-.2 1.41-.59l7.78-7.78 2.81-2.81c.8-.78.8-2.07 0-2.86zM5.41 20L4 18.59l7.72-7.72 1.47 1.35L5.41 20z\"/>\n",
              "  </svg>\n",
              "      </button>\n",
              "      \n",
              "  <style>\n",
              "    .colab-df-container {\n",
              "      display:flex;\n",
              "      flex-wrap:wrap;\n",
              "      gap: 12px;\n",
              "    }\n",
              "\n",
              "    .colab-df-convert {\n",
              "      background-color: #E8F0FE;\n",
              "      border: none;\n",
              "      border-radius: 50%;\n",
              "      cursor: pointer;\n",
              "      display: none;\n",
              "      fill: #1967D2;\n",
              "      height: 32px;\n",
              "      padding: 0 0 0 0;\n",
              "      width: 32px;\n",
              "    }\n",
              "\n",
              "    .colab-df-convert:hover {\n",
              "      background-color: #E2EBFA;\n",
              "      box-shadow: 0px 1px 2px rgba(60, 64, 67, 0.3), 0px 1px 3px 1px rgba(60, 64, 67, 0.15);\n",
              "      fill: #174EA6;\n",
              "    }\n",
              "\n",
              "    [theme=dark] .colab-df-convert {\n",
              "      background-color: #3B4455;\n",
              "      fill: #D2E3FC;\n",
              "    }\n",
              "\n",
              "    [theme=dark] .colab-df-convert:hover {\n",
              "      background-color: #434B5C;\n",
              "      box-shadow: 0px 1px 3px 1px rgba(0, 0, 0, 0.15);\n",
              "      filter: drop-shadow(0px 1px 2px rgba(0, 0, 0, 0.3));\n",
              "      fill: #FFFFFF;\n",
              "    }\n",
              "  </style>\n",
              "\n",
              "      <script>\n",
              "        const buttonEl =\n",
              "          document.querySelector('#df-a57d2cd1-617e-4b9a-a54e-fab4252682b5 button.colab-df-convert');\n",
              "        buttonEl.style.display =\n",
              "          google.colab.kernel.accessAllowed ? 'block' : 'none';\n",
              "\n",
              "        async function convertToInteractive(key) {\n",
              "          const element = document.querySelector('#df-a57d2cd1-617e-4b9a-a54e-fab4252682b5');\n",
              "          const dataTable =\n",
              "            await google.colab.kernel.invokeFunction('convertToInteractive',\n",
              "                                                     [key], {});\n",
              "          if (!dataTable) return;\n",
              "\n",
              "          const docLinkHtml = 'Like what you see? Visit the ' +\n",
              "            '<a target=\"_blank\" href=https://colab.research.google.com/notebooks/data_table.ipynb>data table notebook</a>'\n",
              "            + ' to learn more about interactive tables.';\n",
              "          element.innerHTML = '';\n",
              "          dataTable['output_type'] = 'display_data';\n",
              "          await google.colab.output.renderOutput(dataTable, element);\n",
              "          const docLink = document.createElement('div');\n",
              "          docLink.innerHTML = docLinkHtml;\n",
              "          element.appendChild(docLink);\n",
              "        }\n",
              "      </script>\n",
              "    </div>\n",
              "  </div>\n",
              "  "
            ]
          },
          "metadata": {},
          "execution_count": 39
        }
      ],
      "source": [
        "print(f\"shape of dataset: {dataset.shape}\")\n",
        "dataset.head()"
      ]
    },
    {
      "cell_type": "markdown",
      "metadata": {
        "id": "PsOyWFEanqEY"
      },
      "source": [
        "## 4.3. Sampling Data, Scaling, and spliting the dataset"
      ]
    },
    {
      "cell_type": "code",
      "source": [
        "#Filling the NAs with the mean of the column.\n",
        "dataset.fillna(dataset.median(),inplace = True)"
      ],
      "metadata": {
        "id": "gvCFhT2tC3MD"
      },
      "execution_count": null,
      "outputs": []
    },
    {
      "cell_type": "code",
      "execution_count": null,
      "metadata": {
        "id": "E6cM8QN3nqEY"
      },
      "outputs": [],
      "source": [
        "from imblearn.under_sampling import *\n",
        "from imblearn.over_sampling import *\n",
        "from imblearn.combine import *\n",
        "\n",
        "X = dataset.drop('loan_status', axis=1)\n",
        "y = dataset[['loan_status']]"
      ]
    },
    {
      "cell_type": "code",
      "source": [
        "X_train, X_test, y_train, y_test = train_test_split(X, y, test_size=0.2, random_state=42, shuffle=True, stratify=y )"
      ],
      "metadata": {
        "id": "hJGbD3JDDGT3"
      },
      "execution_count": null,
      "outputs": []
    },
    {
      "cell_type": "code",
      "source": [
        "# scaling\n",
        "scaler = StandardScaler()\n",
        "X_train = scaler.fit_transform(X_train)\n",
        "X_test = scaler.transform(X_test)"
      ],
      "metadata": {
        "id": "top--4AyG-e-"
      },
      "execution_count": null,
      "outputs": []
    },
    {
      "cell_type": "markdown",
      "metadata": {
        "id": "L392kHx8nqEZ"
      },
      "source": [
        "<a id='4'></a>\n",
        "# 5. Evaluate Algorithms and Models"
      ]
    },
    {
      "cell_type": "markdown",
      "metadata": {
        "id": "aiFzQWJNnqEa"
      },
      "source": [
        "\n",
        "## 5.1. Test Options and Evaluation Metrics\n"
      ]
    },
    {
      "cell_type": "code",
      "execution_count": null,
      "metadata": {
        "_cell_guid": "5702bc31-06bf-8b6a-42de-366a6b3311a8",
        "id": "_Ja2E4pdnqEa"
      },
      "outputs": [],
      "source": [
        "# test options for classification\n",
        "num_folds = 10\n",
        "seed = 42\n",
        "#scoring = 'accuracy'\n",
        "scoring ='precision'\n",
        "#scoring ='recall'\n",
        "#scoring = 'roc_auc'"
      ]
    },
    {
      "cell_type": "markdown",
      "metadata": {
        "id": "XzjKFUSQnqEa"
      },
      "source": [
        "<a id='4.3'></a>\n",
        "## 5.3. Compare Models and Algorithms"
      ]
    },
    {
      "cell_type": "markdown",
      "metadata": {
        "id": "_mFVyMV8nqEa"
      },
      "source": [
        "### Classification Models"
      ]
    },
    {
      "cell_type": "code",
      "execution_count": null,
      "metadata": {
        "_cell_guid": "772802f7-f4e4-84ee-6377-6464ab2e5da4",
        "id": "tKszDH7NnqEb"
      },
      "outputs": [],
      "source": [
        "# spot check the algorithms\n",
        "models = []\n",
        "models.append(('LR', LogisticRegression()))\n",
        "models.append(('LDA', LinearDiscriminantAnalysis()))\n",
        "models.append(('KNN', KNeighborsClassifier()))\n",
        "models.append(('CART', DecisionTreeClassifier()))\n",
        "models.append(('NB', GaussianNB()))\n",
        "#Neural Network\n",
        "models.append(('NN', MLPClassifier()))\n",
        "#Ensable Models \n",
        "# Boosting methods\n",
        "models.append(('AB', AdaBoostClassifier()))\n",
        "models.append(('GBM', GradientBoostingClassifier()))\n",
        "# Bagging methods\n",
        "models.append(('RF', RandomForestClassifier()))\n",
        "models.append(('ET', ExtraTreesClassifier()))"
      ]
    },
    {
      "cell_type": "markdown",
      "metadata": {
        "id": "crXWrnDWnqEb"
      },
      "source": [
        "### K-folds cross validation"
      ]
    },
    {
      "cell_type": "code",
      "execution_count": null,
      "metadata": {
        "_cell_guid": "a784ab4a-eb59-98cc-76cf-b55f382d057a",
        "colab": {
          "base_uri": "https://localhost:8080/"
        },
        "id": "WIj_gAaVnqEb",
        "outputId": "9b1ebd06-ad92-4262-f8f3-59b94402e096"
      },
      "outputs": [
        {
          "output_type": "stream",
          "name": "stdout",
          "text": [
            "LR: 0.889705 (0.002150)\n",
            "LDA: 0.884574 (0.002273)\n",
            "KNN: 0.880406 (0.002157)\n",
            "CART: 0.913820 (0.002464)\n",
            "NB: 0.946021 (0.002842)\n",
            "NN: 0.902750 (0.008195)\n",
            "AB: 0.901591 (0.002631)\n",
            "GBM: 0.901655 (0.002972)\n",
            "RF: 0.899002 (0.002623)\n",
            "ET: 0.887658 (0.002020)\n"
          ]
        }
      ],
      "source": [
        "results = []\n",
        "names = []\n",
        "for name, model in models:\n",
        "    kfold = StratifiedKFold(n_splits=num_folds, shuffle=True, random_state=seed)\n",
        "    cv_results = cross_val_score(model, X_train, y_train, cv=kfold, scoring=scoring)\n",
        "    results.append(cv_results)\n",
        "    names.append(name)\n",
        "    msg = \"%s: %f (%f)\" % (name, cv_results.mean(), cv_results.std())\n",
        "    print(msg)"
      ]
    },
    {
      "cell_type": "markdown",
      "metadata": {
        "id": "afeZPYW3nqEb"
      },
      "source": [
        "### Algorithm comparison"
      ]
    },
    {
      "cell_type": "code",
      "execution_count": null,
      "metadata": {
        "id": "lBPRRJm-nqEb",
        "colab": {
          "base_uri": "https://localhost:8080/",
          "height": 543
        },
        "outputId": "97ea3d47-02c6-4a98-c927-8d3543249a34"
      },
      "outputs": [
        {
          "output_type": "display_data",
          "data": {
            "text/plain": [
              "<Figure size 1080x576 with 1 Axes>"
            ],
            "image/png": "[encoded data removed]"
          },
          "metadata": {}
        }
      ],
      "source": [
        "# compare algorithms\n",
        "fig = plt.figure()\n",
        "fig.suptitle('Algorithm Comparison')\n",
        "ax = fig.add_subplot(111)\n",
        "plt.boxplot(results)\n",
        "ax.set_xticklabels(names)\n",
        "fig.set_size_inches(15,8)\n",
        "plt.show()"
      ]
    },
    {
      "cell_type": "markdown",
      "metadata": {
        "id": "z7qAawcLnqEc"
      },
      "source": [
        "<a id='5'></a>\n",
        "# 6. Model Tuning and Grid Search"
      ]
    },
    {
      "cell_type": "markdown",
      "metadata": {
        "_cell_guid": "848ca488-b0fd-8e93-2e68-23d32c71d89c",
        "id": "1QombizmnqEc"
      },
      "source": [
        "Given that the ETC is the best model, Grid Search is performed on ETC in this step."
      ]
    },
    {
      "cell_type": "code",
      "execution_count": null,
      "metadata": {
        "id": "gCrTpf_EnqEc"
      },
      "outputs": [],
      "source": [
        "#  Grid Search: ExtraTreesClassifier Tuning\n",
        "# '''\n",
        "# n_estimators : int (default=100)\n",
        "#     The number of boosting stages to perform. \n",
        "# max_depth : integer, optional (default=3)\n",
        "#     maximum depth of the individual regression estimators. \n",
        "#     The maximum depth limits the number of nodes in the tree. \n",
        "#     Tune this parameter for best performance; the best value depends on the interaction of the input variables.\n",
        "\n",
        "# ''' \n",
        "# n_estimators = [50,500]\n",
        "# max_depth= [3,5]\n",
        "# param_grid = dict(n_estimators=n_estimators, max_depth=max_depth)\n",
        "# model = ExtraTreesClassifier()\n",
        "# kfold = StratifiedKFold(n_splits=num_folds, shuffle=True, random_state=seed)\n",
        "# grid = GridSearchCV(estimator=model, param_grid=param_grid, scoring=scoring, cv=kfold)\n",
        "# grid_result = grid.fit(X_train, y_train)\n",
        "\n",
        "# Print Results\n",
        "# print(\"Best: %f using %s\" % (grid_result.best_score_, grid_result.best_params_))\n",
        "# means = grid_result.cv_results_['mean_test_score']\n",
        "# stds = grid_result.cv_results_['std_test_score']\n",
        "# params = grid_result.cv_results_['params']\n",
        "# ranks = grid_result.cv_results_['rank_test_score']\n",
        "# for mean, stdev, param, rank in zip(means, stds, params, ranks):\n",
        "#     print(\"#%d %f (%f) with: %r\" % (rank, mean, stdev, param))"
      ]
    },
    {
      "cell_type": "markdown",
      "metadata": {
        "id": "bBWlniSAnqEc"
      },
      "source": [
        "<a id='6'></a>\n",
        "# 7. Finalise the Model"
      ]
    },
    {
      "cell_type": "markdown",
      "metadata": {
        "id": "_ez3wiFXnqEd"
      },
      "source": [
        "Looking at the details above GBM might be worthy of further study, but for now SVM shows a lot of promise as a low complexity and stable model for this problem.\n",
        "\n",
        "Finalize Model with best parameters found during tuning step."
      ]
    },
    {
      "cell_type": "markdown",
      "metadata": {
        "id": "BuvjwjmqnqEd"
      },
      "source": [
        "<a id='6.1'></a>\n",
        "## 7.1. Results on the Test Dataset"
      ]
    },
    {
      "cell_type": "code",
      "execution_count": null,
      "metadata": {
        "id": "r7dtZuEmnqEd",
        "colab": {
          "base_uri": "https://localhost:8080/"
        },
        "outputId": "4c32abf6-a66b-4ffa-fa0a-5ae9a43ada7f"
      },
      "outputs": [
        {
          "output_type": "execute_result",
          "data": {
            "text/plain": [
              "DecisionTreeClassifier()"
            ]
          },
          "metadata": {},
          "execution_count": 49
        }
      ],
      "source": [
        "# prepare model\n",
        "model = DecisionTreeClassifier()\n",
        "model.fit(X_train, y_train)"
      ]
    },
    {
      "cell_type": "code",
      "execution_count": null,
      "metadata": {
        "_cell_guid": "f9725666-3c21-69d1-ddf6-45e47d982444",
        "id": "_jwoxK6rnqEd",
        "colab": {
          "base_uri": "https://localhost:8080/"
        },
        "outputId": "23d1bdaf-15a9-4592-ba16-9493d4c34dc1"
      },
      "outputs": [
        {
          "output_type": "stream",
          "name": "stdout",
          "text": [
            "0.8545971674019038\n",
            "0.9118405963302753\n",
            "[[ 2001  1230]\n",
            " [ 1275 12722]]\n",
            "              precision    recall  f1-score   support\n",
            "\n",
            "           0       0.61      0.62      0.62      3231\n",
            "           1       0.91      0.91      0.91     13997\n",
            "\n",
            "    accuracy                           0.85     17228\n",
            "   macro avg       0.76      0.76      0.76     17228\n",
            "weighted avg       0.86      0.85      0.85     17228\n",
            "\n"
          ]
        }
      ],
      "source": [
        "# estimate accuracy on validation set\n",
        "predictions = model.predict(X_test)\n",
        "print(accuracy_score(y_test, predictions))\n",
        "print(precision_score(y_test, predictions))\n",
        "print(confusion_matrix(y_test, predictions))\n",
        "print(classification_report(y_test, predictions))"
      ]
    },
    {
      "cell_type": "code",
      "execution_count": null,
      "metadata": {
        "id": "MDDe7aJKnqEe",
        "colab": {
          "base_uri": "https://localhost:8080/",
          "height": 357
        },
        "outputId": "189aef5d-00c9-49b2-966e-9c98706640f1"
      },
      "outputs": [
        {
          "output_type": "execute_result",
          "data": {
            "text/plain": [
              "<matplotlib.axes._subplots.AxesSubplot at 0x7ff099961f90>"
            ]
          },
          "metadata": {},
          "execution_count": 51
        },
        {
          "output_type": "display_data",
          "data": {
            "text/plain": [
              "<Figure size 864x360 with 2 Axes>"
            ],
            "image/png": "[encoded data removed]"
          },
          "metadata": {}
        }
      ],
      "source": [
        "df_cm = pd.DataFrame(confusion_matrix(y_test, predictions), columns=np.unique(y_test), index = np.unique(y_test))\n",
        "df_cm.index.name = 'Actual'\n",
        "df_cm.columns.name = 'Predicted'\n",
        "sns.heatmap(df_cm, cmap=\"Blues\", annot=True,annot_kws={\"size\": 16})# font sizes"
      ]
    },
    {
      "cell_type": "markdown",
      "metadata": {
        "id": "KQPiopw8nqEe"
      },
      "source": [
        "<a id='6.2'></a>\n",
        "## 7.2. Variable Intuition/Feature Importance\n",
        "Looking at the details above GBM might be worthy of further study.\n",
        "Let us look into the Feature Importance of the GBM model"
      ]
    },
    {
      "cell_type": "code",
      "execution_count": null,
      "metadata": {
        "id": "N590WnhznqEe",
        "colab": {
          "base_uri": "https://localhost:8080/",
          "height": 414
        },
        "outputId": "0f2d9b37-810a-43d5-a291-1ac9da01878b"
      },
      "outputs": [
        {
          "output_type": "stream",
          "name": "stdout",
          "text": [
            "[0.01225137 0.00681656 0.18701611 0.01980946 0.03530615 0.02936872\n",
            " 0.01019277 0.0063967  0.00523119 0.00806863 0.02323559 0.03989993\n",
            " 0.01641212 0.02081187 0.02971467 0.00389756 0.31262212 0.\n",
            " 0.01814613 0.03505505 0.03111462 0.02606778 0.03065962 0.01901902\n",
            " 0.009485   0.01612189 0.02862123 0.01865813]\n"
          ]
        },
        {
          "output_type": "display_data",
          "data": {
            "text/plain": [
              "<Figure size 864x360 with 1 Axes>"
            ],
            "image/png": "[encoded data removed]"
          },
          "metadata": {}
        }
      ],
      "source": [
        "print(model.feature_importances_) #use inbuilt class feature_importances of tree based classifiers\n",
        "#plot graph of feature importances for better visualization\n",
        "feat_importances = pd.Series(model.feature_importances_, index=X.columns)\n",
        "feat_importances.nlargest(10).plot(kind='barh')\n",
        "plt.show()"
      ]
    },
    {
      "cell_type": "markdown",
      "metadata": {
        "id": "x4WyZxN5nqEe"
      },
      "source": [
        "__Conclusion__:\n",
        "\n",
        "We showed that data preparation is one of the most important steps. We addressed\n",
        "that by performing feature elimination by using different techniques such as subjec‐\n",
        "tive judgement, correlation, visualization and the data quality of the feature.\n",
        "We illustrated that there can be different ways of handling and analyzing the categorical data and converting categorical data into model usable format.\n",
        "\n",
        "Finally, we analyzed the feature importance and found that results of the case study\n",
        "are quite intuitive.\n",
        "\n"
      ]
    }
  ],
  "metadata": {
    "_change_revision": 206,
    "_is_fork": false,
    "kernelspec": {
      "display_name": "Python 3",
      "language": "python",
      "name": "python3"
    },
    "language_info": {
      "codemirror_mode": {
        "name": "ipython",
        "version": 3
      },
      "file_extension": ".py",
      "mimetype": "text/x-python",
      "name": "python",
      "nbconvert_exporter": "python",
      "pygments_lexer": "ipython3",
      "version": "3.7.3"
    },
    "colab": {
      "provenance": [],
      "collapsed_sections": [
        "EdnrEw9dnqEL",
        "tNI0gx8tnqEN",
        "RRDei4w8nqER",
        "E1G126JgnqES",
        "GSXO0q8inqET",
        "7EBXbpmxnqEU",
        "JtOhOnhTnqEV",
        "jkn804rXnqEW",
        "PsOyWFEanqEY"
      ]
    }
  },
  "nbformat": 4,
  "nbformat_minor": 0
}