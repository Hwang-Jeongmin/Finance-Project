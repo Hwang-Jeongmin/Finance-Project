{
  "nbformat": 4,
  "nbformat_minor": 0,
  "metadata": {
    "colab": {
      "name": "final_project.ipynb",
      "provenance": [],
      "collapsed_sections": []
    },
    "kernelspec": {
      "name": "python3",
      "display_name": "Python 3"
    },
    "language_info": {
      "name": "python"
    }
  },
  "cells": [
    {
      "cell_type": "markdown",
      "source": [
        "## imports"
      ],
      "metadata": {
        "id": "7Sx55-bIJhrk"
      }
    },
    {
      "cell_type": "code",
      "source": [
        "!pip install finance-datareader -q"
      ],
      "metadata": {
        "id": "gQQVdWoWJ21v",
        "colab": {
          "base_uri": "https://localhost:8080/"
        },
        "outputId": "1c5cdfac-a788-4d26-ba92-786c32132cea"
      },
      "execution_count": 1,
      "outputs": [
        {
          "output_type": "stream",
          "name": "stdout",
          "text": [
            "\u001b[?25l\r\u001b[K     |██████▊                         | 10 kB 11.7 MB/s eta 0:00:01\r\u001b[K     |█████████████▍                  | 20 kB 11.1 MB/s eta 0:00:01\r\u001b[K     |████████████████████▏           | 30 kB 9.6 MB/s eta 0:00:01\r\u001b[K     |██████████████████████████▉     | 40 kB 8.4 MB/s eta 0:00:01\r\u001b[K     |████████████████████████████████| 48 kB 1.8 MB/s \n",
            "\u001b[?25h"
          ]
        }
      ]
    },
    {
      "cell_type": "code",
      "execution_count": 2,
      "metadata": {
        "id": "r5Iaq27IJbOi"
      },
      "outputs": [],
      "source": [
        "import pandas as pd\n",
        "import numpy as np\n",
        "import matplotlib.pyplot as plt\n",
        "import seaborn as sns\n",
        "\n",
        "import FinanceDataReader as fdr\n",
        "\n",
        "from sklearn.preprocessing import MinMaxScaler\n",
        "from sklearn.metrics import mean_squared_error\n",
        "\n",
        "%matplotlib inline\n",
        "\n",
        "import warnings\n",
        "warnings.filterwarnings('ignore')"
      ]
    },
    {
      "cell_type": "code",
      "source": [
        "USD_KRX = fdr.DataReader('USD/KRW', start='2016', end='2022-06-08')\n",
        "USD_KRX.head()"
      ],
      "metadata": {
        "colab": {
          "base_uri": "https://localhost:8080/",
          "height": 238
        },
        "id": "fBcN_hmLJ11G",
        "outputId": "c7e77daf-46b8-4f2b-f536-762f424e543d"
      },
      "execution_count": 3,
      "outputs": [
        {
          "output_type": "execute_result",
          "data": {
            "text/plain": [
              "              Close     Open     High      Low  Change\n",
              "Date                                                  \n",
              "2016-01-01  1175.45  1175.94  1176.50  1175.19 -0.0004\n",
              "2016-01-04  1190.35  1175.66  1193.23  1175.65  0.0127\n",
              "2016-01-05  1190.81  1190.35  1192.80  1184.40  0.0004\n",
              "2016-01-06  1200.52  1190.81  1203.80  1187.59  0.0082\n",
              "2016-01-07  1197.29  1200.52  1204.70  1193.16 -0.0027"
            ],
            "text/html": [
              "\n",
              "  <div id=\"df-c69a4cd3-fc1c-4876-8173-d419243db67d\">\n",
              "    <div class=\"colab-df-container\">\n",
              "      <div>\n",
              "<style scoped>\n",
              "    .dataframe tbody tr th:only-of-type {\n",
              "        vertical-align: middle;\n",
              "    }\n",
              "\n",
              "    .dataframe tbody tr th {\n",
              "        vertical-align: top;\n",
              "    }\n",
              "\n",
              "    .dataframe thead th {\n",
              "        text-align: right;\n",
              "    }\n",
              "</style>\n",
              "<table border=\"1\" class=\"dataframe\">\n",
              "  <thead>\n",
              "    <tr style=\"text-align: right;\">\n",
              "      <th></th>\n",
              "      <th>Close</th>\n",
              "      <th>Open</th>\n",
              "      <th>High</th>\n",
              "      <th>Low</th>\n",
              "      <th>Change</th>\n",
              "    </tr>\n",
              "    <tr>\n",
              "      <th>Date</th>\n",
              "      <th></th>\n",
              "      <th></th>\n",
              "      <th></th>\n",
              "      <th></th>\n",
              "      <th></th>\n",
              "    </tr>\n",
              "  </thead>\n",
              "  <tbody>\n",
              "    <tr>\n",
              "      <th>2016-01-01</th>\n",
              "      <td>1175.45</td>\n",
              "      <td>1175.94</td>\n",
              "      <td>1176.50</td>\n",
              "      <td>1175.19</td>\n",
              "      <td>-0.0004</td>\n",
              "    </tr>\n",
              "    <tr>\n",
              "      <th>2016-01-04</th>\n",
              "      <td>1190.35</td>\n",
              "      <td>1175.66</td>\n",
              "      <td>1193.23</td>\n",
              "      <td>1175.65</td>\n",
              "      <td>0.0127</td>\n",
              "    </tr>\n",
              "    <tr>\n",
              "      <th>2016-01-05</th>\n",
              "      <td>1190.81</td>\n",
              "      <td>1190.35</td>\n",
              "      <td>1192.80</td>\n",
              "      <td>1184.40</td>\n",
              "      <td>0.0004</td>\n",
              "    </tr>\n",
              "    <tr>\n",
              "      <th>2016-01-06</th>\n",
              "      <td>1200.52</td>\n",
              "      <td>1190.81</td>\n",
              "      <td>1203.80</td>\n",
              "      <td>1187.59</td>\n",
              "      <td>0.0082</td>\n",
              "    </tr>\n",
              "    <tr>\n",
              "      <th>2016-01-07</th>\n",
              "      <td>1197.29</td>\n",
              "      <td>1200.52</td>\n",
              "      <td>1204.70</td>\n",
              "      <td>1193.16</td>\n",
              "      <td>-0.0027</td>\n",
              "    </tr>\n",
              "  </tbody>\n",
              "</table>\n",
              "</div>\n",
              "      <button class=\"colab-df-convert\" onclick=\"convertToInteractive('df-c69a4cd3-fc1c-4876-8173-d419243db67d')\"\n",
              "              title=\"Convert this dataframe to an interactive table.\"\n",
              "              style=\"display:none;\">\n",
              "        \n",
              "  <svg xmlns=\"http://www.w3.org/2000/svg\" height=\"24px\"viewBox=\"0 0 24 24\"\n",
              "       width=\"24px\">\n",
              "    <path d=\"M0 0h24v24H0V0z\" fill=\"none\"/>\n",
              "    <path d=\"M18.56 5.44l.94 2.06.94-2.06 2.06-.94-2.06-.94-.94-2.06-.94 2.06-2.06.94zm-11 1L8.5 8.5l.94-2.06 2.06-.94-2.06-.94L8.5 2.5l-.94 2.06-2.06.94zm10 10l.94 2.06.94-2.06 2.06-.94-2.06-.94-.94-2.06-.94 2.06-2.06.94z\"/><path d=\"M17.41 7.96l-1.37-1.37c-.4-.4-.92-.59-1.43-.59-.52 0-1.04.2-1.43.59L10.3 9.45l-7.72 7.72c-.78.78-.78 2.05 0 2.83L4 21.41c.39.39.9.59 1.41.59.51 0 1.02-.2 1.41-.59l7.78-7.78 2.81-2.81c.8-.78.8-2.07 0-2.86zM5.41 20L4 18.59l7.72-7.72 1.47 1.35L5.41 20z\"/>\n",
              "  </svg>\n",
              "      </button>\n",
              "      \n",
              "  <style>\n",
              "    .colab-df-container {\n",
              "      display:flex;\n",
              "      flex-wrap:wrap;\n",
              "      gap: 12px;\n",
              "    }\n",
              "\n",
              "    .colab-df-convert {\n",
              "      background-color: #E8F0FE;\n",
              "      border: none;\n",
              "      border-radius: 50%;\n",
              "      cursor: pointer;\n",
              "      display: none;\n",
              "      fill: #1967D2;\n",
              "      height: 32px;\n",
              "      padding: 0 0 0 0;\n",
              "      width: 32px;\n",
              "    }\n",
              "\n",
              "    .colab-df-convert:hover {\n",
              "      background-color: #E2EBFA;\n",
              "      box-shadow: 0px 1px 2px rgba(60, 64, 67, 0.3), 0px 1px 3px 1px rgba(60, 64, 67, 0.15);\n",
              "      fill: #174EA6;\n",
              "    }\n",
              "\n",
              "    [theme=dark] .colab-df-convert {\n",
              "      background-color: #3B4455;\n",
              "      fill: #D2E3FC;\n",
              "    }\n",
              "\n",
              "    [theme=dark] .colab-df-convert:hover {\n",
              "      background-color: #434B5C;\n",
              "      box-shadow: 0px 1px 3px 1px rgba(0, 0, 0, 0.15);\n",
              "      filter: drop-shadow(0px 1px 2px rgba(0, 0, 0, 0.3));\n",
              "      fill: #FFFFFF;\n",
              "    }\n",
              "  </style>\n",
              "\n",
              "      <script>\n",
              "        const buttonEl =\n",
              "          document.querySelector('#df-c69a4cd3-fc1c-4876-8173-d419243db67d button.colab-df-convert');\n",
              "        buttonEl.style.display =\n",
              "          google.colab.kernel.accessAllowed ? 'block' : 'none';\n",
              "\n",
              "        async function convertToInteractive(key) {\n",
              "          const element = document.querySelector('#df-c69a4cd3-fc1c-4876-8173-d419243db67d');\n",
              "          const dataTable =\n",
              "            await google.colab.kernel.invokeFunction('convertToInteractive',\n",
              "                                                     [key], {});\n",
              "          if (!dataTable) return;\n",
              "\n",
              "          const docLinkHtml = 'Like what you see? Visit the ' +\n",
              "            '<a target=\"_blank\" href=https://colab.research.google.com/notebooks/data_table.ipynb>data table notebook</a>'\n",
              "            + ' to learn more about interactive tables.';\n",
              "          element.innerHTML = '';\n",
              "          dataTable['output_type'] = 'display_data';\n",
              "          await google.colab.output.renderOutput(dataTable, element);\n",
              "          const docLink = document.createElement('div');\n",
              "          docLink.innerHTML = docLinkHtml;\n",
              "          element.appendChild(docLink);\n",
              "        }\n",
              "      </script>\n",
              "    </div>\n",
              "  </div>\n",
              "  "
            ]
          },
          "metadata": {},
          "execution_count": 3
        }
      ]
    },
    {
      "cell_type": "code",
      "source": [
        "# Change는 사용하지 않을 것이므로 해당 열을 삭제해주도록 한다\n",
        "USD_KRX.drop('Change', axis=1, inplace=True)"
      ],
      "metadata": {
        "id": "3fU4wcwMKasY"
      },
      "execution_count": 4,
      "outputs": []
    },
    {
      "cell_type": "code",
      "source": [
        "USD_KRX.head()"
      ],
      "metadata": {
        "colab": {
          "base_uri": "https://localhost:8080/",
          "height": 238
        },
        "id": "XINM2qybKpSs",
        "outputId": "b0bd3fde-a695-4dce-e012-14f7bf21b86b"
      },
      "execution_count": 5,
      "outputs": [
        {
          "output_type": "execute_result",
          "data": {
            "text/plain": [
              "              Close     Open     High      Low\n",
              "Date                                          \n",
              "2016-01-01  1175.45  1175.94  1176.50  1175.19\n",
              "2016-01-04  1190.35  1175.66  1193.23  1175.65\n",
              "2016-01-05  1190.81  1190.35  1192.80  1184.40\n",
              "2016-01-06  1200.52  1190.81  1203.80  1187.59\n",
              "2016-01-07  1197.29  1200.52  1204.70  1193.16"
            ],
            "text/html": [
              "\n",
              "  <div id=\"df-da7760b3-3c3f-4ccd-8ebd-930c8641ef5b\">\n",
              "    <div class=\"colab-df-container\">\n",
              "      <div>\n",
              "<style scoped>\n",
              "    .dataframe tbody tr th:only-of-type {\n",
              "        vertical-align: middle;\n",
              "    }\n",
              "\n",
              "    .dataframe tbody tr th {\n",
              "        vertical-align: top;\n",
              "    }\n",
              "\n",
              "    .dataframe thead th {\n",
              "        text-align: right;\n",
              "    }\n",
              "</style>\n",
              "<table border=\"1\" class=\"dataframe\">\n",
              "  <thead>\n",
              "    <tr style=\"text-align: right;\">\n",
              "      <th></th>\n",
              "      <th>Close</th>\n",
              "      <th>Open</th>\n",
              "      <th>High</th>\n",
              "      <th>Low</th>\n",
              "    </tr>\n",
              "    <tr>\n",
              "      <th>Date</th>\n",
              "      <th></th>\n",
              "      <th></th>\n",
              "      <th></th>\n",
              "      <th></th>\n",
              "    </tr>\n",
              "  </thead>\n",
              "  <tbody>\n",
              "    <tr>\n",
              "      <th>2016-01-01</th>\n",
              "      <td>1175.45</td>\n",
              "      <td>1175.94</td>\n",
              "      <td>1176.50</td>\n",
              "      <td>1175.19</td>\n",
              "    </tr>\n",
              "    <tr>\n",
              "      <th>2016-01-04</th>\n",
              "      <td>1190.35</td>\n",
              "      <td>1175.66</td>\n",
              "      <td>1193.23</td>\n",
              "      <td>1175.65</td>\n",
              "    </tr>\n",
              "    <tr>\n",
              "      <th>2016-01-05</th>\n",
              "      <td>1190.81</td>\n",
              "      <td>1190.35</td>\n",
              "      <td>1192.80</td>\n",
              "      <td>1184.40</td>\n",
              "    </tr>\n",
              "    <tr>\n",
              "      <th>2016-01-06</th>\n",
              "      <td>1200.52</td>\n",
              "      <td>1190.81</td>\n",
              "      <td>1203.80</td>\n",
              "      <td>1187.59</td>\n",
              "    </tr>\n",
              "    <tr>\n",
              "      <th>2016-01-07</th>\n",
              "      <td>1197.29</td>\n",
              "      <td>1200.52</td>\n",
              "      <td>1204.70</td>\n",
              "      <td>1193.16</td>\n",
              "    </tr>\n",
              "  </tbody>\n",
              "</table>\n",
              "</div>\n",
              "      <button class=\"colab-df-convert\" onclick=\"convertToInteractive('df-da7760b3-3c3f-4ccd-8ebd-930c8641ef5b')\"\n",
              "              title=\"Convert this dataframe to an interactive table.\"\n",
              "              style=\"display:none;\">\n",
              "        \n",
              "  <svg xmlns=\"http://www.w3.org/2000/svg\" height=\"24px\"viewBox=\"0 0 24 24\"\n",
              "       width=\"24px\">\n",
              "    <path d=\"M0 0h24v24H0V0z\" fill=\"none\"/>\n",
              "    <path d=\"M18.56 5.44l.94 2.06.94-2.06 2.06-.94-2.06-.94-.94-2.06-.94 2.06-2.06.94zm-11 1L8.5 8.5l.94-2.06 2.06-.94-2.06-.94L8.5 2.5l-.94 2.06-2.06.94zm10 10l.94 2.06.94-2.06 2.06-.94-2.06-.94-.94-2.06-.94 2.06-2.06.94z\"/><path d=\"M17.41 7.96l-1.37-1.37c-.4-.4-.92-.59-1.43-.59-.52 0-1.04.2-1.43.59L10.3 9.45l-7.72 7.72c-.78.78-.78 2.05 0 2.83L4 21.41c.39.39.9.59 1.41.59.51 0 1.02-.2 1.41-.59l7.78-7.78 2.81-2.81c.8-.78.8-2.07 0-2.86zM5.41 20L4 18.59l7.72-7.72 1.47 1.35L5.41 20z\"/>\n",
              "  </svg>\n",
              "      </button>\n",
              "      \n",
              "  <style>\n",
              "    .colab-df-container {\n",
              "      display:flex;\n",
              "      flex-wrap:wrap;\n",
              "      gap: 12px;\n",
              "    }\n",
              "\n",
              "    .colab-df-convert {\n",
              "      background-color: #E8F0FE;\n",
              "      border: none;\n",
              "      border-radius: 50%;\n",
              "      cursor: pointer;\n",
              "      display: none;\n",
              "      fill: #1967D2;\n",
              "      height: 32px;\n",
              "      padding: 0 0 0 0;\n",
              "      width: 32px;\n",
              "    }\n",
              "\n",
              "    .colab-df-convert:hover {\n",
              "      background-color: #E2EBFA;\n",
              "      box-shadow: 0px 1px 2px rgba(60, 64, 67, 0.3), 0px 1px 3px 1px rgba(60, 64, 67, 0.15);\n",
              "      fill: #174EA6;\n",
              "    }\n",
              "\n",
              "    [theme=dark] .colab-df-convert {\n",
              "      background-color: #3B4455;\n",
              "      fill: #D2E3FC;\n",
              "    }\n",
              "\n",
              "    [theme=dark] .colab-df-convert:hover {\n",
              "      background-color: #434B5C;\n",
              "      box-shadow: 0px 1px 3px 1px rgba(0, 0, 0, 0.15);\n",
              "      filter: drop-shadow(0px 1px 2px rgba(0, 0, 0, 0.3));\n",
              "      fill: #FFFFFF;\n",
              "    }\n",
              "  </style>\n",
              "\n",
              "      <script>\n",
              "        const buttonEl =\n",
              "          document.querySelector('#df-da7760b3-3c3f-4ccd-8ebd-930c8641ef5b button.colab-df-convert');\n",
              "        buttonEl.style.display =\n",
              "          google.colab.kernel.accessAllowed ? 'block' : 'none';\n",
              "\n",
              "        async function convertToInteractive(key) {\n",
              "          const element = document.querySelector('#df-da7760b3-3c3f-4ccd-8ebd-930c8641ef5b');\n",
              "          const dataTable =\n",
              "            await google.colab.kernel.invokeFunction('convertToInteractive',\n",
              "                                                     [key], {});\n",
              "          if (!dataTable) return;\n",
              "\n",
              "          const docLinkHtml = 'Like what you see? Visit the ' +\n",
              "            '<a target=\"_blank\" href=https://colab.research.google.com/notebooks/data_table.ipynb>data table notebook</a>'\n",
              "            + ' to learn more about interactive tables.';\n",
              "          element.innerHTML = '';\n",
              "          dataTable['output_type'] = 'display_data';\n",
              "          await google.colab.output.renderOutput(dataTable, element);\n",
              "          const docLink = document.createElement('div');\n",
              "          docLink.innerHTML = docLinkHtml;\n",
              "          element.appendChild(docLink);\n",
              "        }\n",
              "      </script>\n",
              "    </div>\n",
              "  </div>\n",
              "  "
            ]
          },
          "metadata": {},
          "execution_count": 5
        }
      ]
    },
    {
      "cell_type": "markdown",
      "source": [
        "## Simple EDA and preprocessing"
      ],
      "metadata": {
        "id": "r4s-MnKYMx8w"
      }
    },
    {
      "cell_type": "code",
      "source": [
        "print(f\"Shape of the data:{USD_KRX.shape}\")"
      ],
      "metadata": {
        "colab": {
          "base_uri": "https://localhost:8080/"
        },
        "id": "T4FKrBcdMT8f",
        "outputId": "8a313ba6-b057-47c3-e582-dc3780fea447"
      },
      "execution_count": 6,
      "outputs": [
        {
          "output_type": "stream",
          "name": "stdout",
          "text": [
            "Shape of the data:(1679, 4)\n"
          ]
        }
      ]
    },
    {
      "cell_type": "code",
      "source": [
        "USD_KRX.info()"
      ],
      "metadata": {
        "colab": {
          "base_uri": "https://localhost:8080/"
        },
        "id": "PjbQeg9GMW7r",
        "outputId": "887fc85b-f12a-41e6-8f31-e2dc7a9b6fa6"
      },
      "execution_count": 7,
      "outputs": [
        {
          "output_type": "stream",
          "name": "stdout",
          "text": [
            "<class 'pandas.core.frame.DataFrame'>\n",
            "DatetimeIndex: 1679 entries, 2016-01-01 to 2022-06-08\n",
            "Data columns (total 4 columns):\n",
            " #   Column  Non-Null Count  Dtype  \n",
            "---  ------  --------------  -----  \n",
            " 0   Close   1679 non-null   float64\n",
            " 1   Open    1679 non-null   float64\n",
            " 2   High    1679 non-null   float64\n",
            " 3   Low     1679 non-null   float64\n",
            "dtypes: float64(4)\n",
            "memory usage: 65.6 KB\n"
          ]
        }
      ]
    },
    {
      "cell_type": "code",
      "source": [
        "USD_KRX.describe()"
      ],
      "metadata": {
        "colab": {
          "base_uri": "https://localhost:8080/",
          "height": 300
        },
        "id": "2nCCgh81P4nw",
        "outputId": "582f9eda-074f-43d0-c6e8-d2e48d605db5"
      },
      "execution_count": 8,
      "outputs": [
        {
          "output_type": "execute_result",
          "data": {
            "text/plain": [
              "             Close         Open         High          Low\n",
              "count  1679.000000  1679.000000  1679.000000  1679.000000\n",
              "mean   1151.968350  1152.187493  1157.100721  1147.784008\n",
              "std      44.894887    44.953062    45.449847    44.618971\n",
              "min    1054.940000  1054.940000  1060.100000  1053.000000\n",
              "25%    1120.120000  1120.120000  1125.405000  1116.590000\n",
              "50%    1144.970000  1145.230000  1150.000000  1141.090000\n",
              "75%    1186.080000  1186.640000  1190.775000  1182.785000\n",
              "max    1290.720000  1290.870000  1293.140000  1278.470000"
            ],
            "text/html": [
              "\n",
              "  <div id=\"df-15e23485-fdff-4497-b5ed-334b356532df\">\n",
              "    <div class=\"colab-df-container\">\n",
              "      <div>\n",
              "<style scoped>\n",
              "    .dataframe tbody tr th:only-of-type {\n",
              "        vertical-align: middle;\n",
              "    }\n",
              "\n",
              "    .dataframe tbody tr th {\n",
              "        vertical-align: top;\n",
              "    }\n",
              "\n",
              "    .dataframe thead th {\n",
              "        text-align: right;\n",
              "    }\n",
              "</style>\n",
              "<table border=\"1\" class=\"dataframe\">\n",
              "  <thead>\n",
              "    <tr style=\"text-align: right;\">\n",
              "      <th></th>\n",
              "      <th>Close</th>\n",
              "      <th>Open</th>\n",
              "      <th>High</th>\n",
              "      <th>Low</th>\n",
              "    </tr>\n",
              "  </thead>\n",
              "  <tbody>\n",
              "    <tr>\n",
              "      <th>count</th>\n",
              "      <td>1679.000000</td>\n",
              "      <td>1679.000000</td>\n",
              "      <td>1679.000000</td>\n",
              "      <td>1679.000000</td>\n",
              "    </tr>\n",
              "    <tr>\n",
              "      <th>mean</th>\n",
              "      <td>1151.968350</td>\n",
              "      <td>1152.187493</td>\n",
              "      <td>1157.100721</td>\n",
              "      <td>1147.784008</td>\n",
              "    </tr>\n",
              "    <tr>\n",
              "      <th>std</th>\n",
              "      <td>44.894887</td>\n",
              "      <td>44.953062</td>\n",
              "      <td>45.449847</td>\n",
              "      <td>44.618971</td>\n",
              "    </tr>\n",
              "    <tr>\n",
              "      <th>min</th>\n",
              "      <td>1054.940000</td>\n",
              "      <td>1054.940000</td>\n",
              "      <td>1060.100000</td>\n",
              "      <td>1053.000000</td>\n",
              "    </tr>\n",
              "    <tr>\n",
              "      <th>25%</th>\n",
              "      <td>1120.120000</td>\n",
              "      <td>1120.120000</td>\n",
              "      <td>1125.405000</td>\n",
              "      <td>1116.590000</td>\n",
              "    </tr>\n",
              "    <tr>\n",
              "      <th>50%</th>\n",
              "      <td>1144.970000</td>\n",
              "      <td>1145.230000</td>\n",
              "      <td>1150.000000</td>\n",
              "      <td>1141.090000</td>\n",
              "    </tr>\n",
              "    <tr>\n",
              "      <th>75%</th>\n",
              "      <td>1186.080000</td>\n",
              "      <td>1186.640000</td>\n",
              "      <td>1190.775000</td>\n",
              "      <td>1182.785000</td>\n",
              "    </tr>\n",
              "    <tr>\n",
              "      <th>max</th>\n",
              "      <td>1290.720000</td>\n",
              "      <td>1290.870000</td>\n",
              "      <td>1293.140000</td>\n",
              "      <td>1278.470000</td>\n",
              "    </tr>\n",
              "  </tbody>\n",
              "</table>\n",
              "</div>\n",
              "      <button class=\"colab-df-convert\" onclick=\"convertToInteractive('df-15e23485-fdff-4497-b5ed-334b356532df')\"\n",
              "              title=\"Convert this dataframe to an interactive table.\"\n",
              "              style=\"display:none;\">\n",
              "        \n",
              "  <svg xmlns=\"http://www.w3.org/2000/svg\" height=\"24px\"viewBox=\"0 0 24 24\"\n",
              "       width=\"24px\">\n",
              "    <path d=\"M0 0h24v24H0V0z\" fill=\"none\"/>\n",
              "    <path d=\"M18.56 5.44l.94 2.06.94-2.06 2.06-.94-2.06-.94-.94-2.06-.94 2.06-2.06.94zm-11 1L8.5 8.5l.94-2.06 2.06-.94-2.06-.94L8.5 2.5l-.94 2.06-2.06.94zm10 10l.94 2.06.94-2.06 2.06-.94-2.06-.94-.94-2.06-.94 2.06-2.06.94z\"/><path d=\"M17.41 7.96l-1.37-1.37c-.4-.4-.92-.59-1.43-.59-.52 0-1.04.2-1.43.59L10.3 9.45l-7.72 7.72c-.78.78-.78 2.05 0 2.83L4 21.41c.39.39.9.59 1.41.59.51 0 1.02-.2 1.41-.59l7.78-7.78 2.81-2.81c.8-.78.8-2.07 0-2.86zM5.41 20L4 18.59l7.72-7.72 1.47 1.35L5.41 20z\"/>\n",
              "  </svg>\n",
              "      </button>\n",
              "      \n",
              "  <style>\n",
              "    .colab-df-container {\n",
              "      display:flex;\n",
              "      flex-wrap:wrap;\n",
              "      gap: 12px;\n",
              "    }\n",
              "\n",
              "    .colab-df-convert {\n",
              "      background-color: #E8F0FE;\n",
              "      border: none;\n",
              "      border-radius: 50%;\n",
              "      cursor: pointer;\n",
              "      display: none;\n",
              "      fill: #1967D2;\n",
              "      height: 32px;\n",
              "      padding: 0 0 0 0;\n",
              "      width: 32px;\n",
              "    }\n",
              "\n",
              "    .colab-df-convert:hover {\n",
              "      background-color: #E2EBFA;\n",
              "      box-shadow: 0px 1px 2px rgba(60, 64, 67, 0.3), 0px 1px 3px 1px rgba(60, 64, 67, 0.15);\n",
              "      fill: #174EA6;\n",
              "    }\n",
              "\n",
              "    [theme=dark] .colab-df-convert {\n",
              "      background-color: #3B4455;\n",
              "      fill: #D2E3FC;\n",
              "    }\n",
              "\n",
              "    [theme=dark] .colab-df-convert:hover {\n",
              "      background-color: #434B5C;\n",
              "      box-shadow: 0px 1px 3px 1px rgba(0, 0, 0, 0.15);\n",
              "      filter: drop-shadow(0px 1px 2px rgba(0, 0, 0, 0.3));\n",
              "      fill: #FFFFFF;\n",
              "    }\n",
              "  </style>\n",
              "\n",
              "      <script>\n",
              "        const buttonEl =\n",
              "          document.querySelector('#df-15e23485-fdff-4497-b5ed-334b356532df button.colab-df-convert');\n",
              "        buttonEl.style.display =\n",
              "          google.colab.kernel.accessAllowed ? 'block' : 'none';\n",
              "\n",
              "        async function convertToInteractive(key) {\n",
              "          const element = document.querySelector('#df-15e23485-fdff-4497-b5ed-334b356532df');\n",
              "          const dataTable =\n",
              "            await google.colab.kernel.invokeFunction('convertToInteractive',\n",
              "                                                     [key], {});\n",
              "          if (!dataTable) return;\n",
              "\n",
              "          const docLinkHtml = 'Like what you see? Visit the ' +\n",
              "            '<a target=\"_blank\" href=https://colab.research.google.com/notebooks/data_table.ipynb>data table notebook</a>'\n",
              "            + ' to learn more about interactive tables.';\n",
              "          element.innerHTML = '';\n",
              "          dataTable['output_type'] = 'display_data';\n",
              "          await google.colab.output.renderOutput(dataTable, element);\n",
              "          const docLink = document.createElement('div');\n",
              "          docLink.innerHTML = docLinkHtml;\n",
              "          element.appendChild(docLink);\n",
              "        }\n",
              "      </script>\n",
              "    </div>\n",
              "  </div>\n",
              "  "
            ]
          },
          "metadata": {},
          "execution_count": 8
        }
      ]
    },
    {
      "cell_type": "code",
      "source": [
        "plt.plot(USD_KRX.Close, color='blue')\n",
        "plt.title('Change of USD_KRX(2016~)')\n",
        "plt.xlabel('Time')\n",
        "plt.ylabel(\"KRX/USD\")\n",
        "plt.show()"
      ],
      "metadata": {
        "colab": {
          "base_uri": "https://localhost:8080/",
          "height": 295
        },
        "id": "ybFjUN2AKsmq",
        "outputId": "dbeecb97-e867-4981-b536-2f483ff0107a"
      },
      "execution_count": 9,
      "outputs": [
        {
          "output_type": "display_data",
          "data": {
            "text/plain": [
              "<Figure size 432x288 with 1 Axes>"
            ],
            "image/png": "[encoded data removed]"
          },
          "metadata": {
            "needs_background": "light"
          }
        }
      ]
    },
    {
      "cell_type": "code",
      "source": [
        "# divide the dataset into training and test sets\n",
        "train = USD_KRX[USD_KRX.index < '2021-06-01']\n",
        "test = USD_KRX[USD_KRX.index >= '2021-06-01']\n",
        "print(f'shape of train: {train.shape}')\n",
        "print(f'shape of test: {test.shape}')"
      ],
      "metadata": {
        "colab": {
          "base_uri": "https://localhost:8080/"
        },
        "id": "fddXYFvnLSgb",
        "outputId": "ce3188c7-1021-4797-a11e-81a92b3b7a4e"
      },
      "execution_count": null,
      "outputs": [
        {
          "output_type": "stream",
          "name": "stdout",
          "text": [
            "shape of train: (1412, 4)\n",
            "shape of test: (267, 4)\n"
          ]
        }
      ]
    },
    {
      "cell_type": "code",
      "source": [
        "scaler_1 = MinMaxScaler()\n",
        "scaler_target = MinMaxScaler()\n",
        "\n",
        "train[['Open', 'High', 'Low']] = scaler_1.fit_transform(train[['Open', 'High', 'Low']])\n",
        "test[['Open', 'High', 'Low']] = scaler_1.transform(test[['Open', 'High', 'Low']])\n",
        "\n",
        "train[['Close']] = scaler_target.fit_transform(train[['Close']])\n",
        "test[['Close']] = scaler_target.fit_transform(test[['Close']])"
      ],
      "metadata": {
        "id": "oRyrKynFMJ-h"
      },
      "execution_count": null,
      "outputs": []
    },
    {
      "cell_type": "markdown",
      "source": [
        "## Building LSTM model 1"
      ],
      "metadata": {
        "id": "qtLa_VZcUycb"
      }
    },
    {
      "cell_type": "markdown",
      "source": [
        "### preprocessing the data"
      ],
      "metadata": {
        "id": "nRfvCesjW1Ge"
      }
    },
    {
      "cell_type": "code",
      "source": [
        "# Creating a data structure with 15 timesteps and 1 output\n",
        "X_train = []\n",
        "y_train = []\n",
        "for i in range(15, len(train)):\n",
        "  X_train.append(train.iloc[i-15:i,0])\n",
        "  y_train.append(train.iloc[i,0])\n",
        "X_train, y_train = np.array(X_train), np.array(y_train)"
      ],
      "metadata": {
        "id": "Ug0kDWAyU-5r"
      },
      "execution_count": null,
      "outputs": []
    },
    {
      "cell_type": "code",
      "source": [
        "# Reshaping\n",
        "X_train = np.reshape(X_train, (X_train.shape[0], X_train.shape[1], 1))\n",
        "X_train.shape"
      ],
      "metadata": {
        "colab": {
          "base_uri": "https://localhost:8080/"
        },
        "outputId": "ef5831ae-bfef-43f1-88da-6246c403fa51",
        "id": "zlh4-Y8HU-5r"
      },
      "execution_count": null,
      "outputs": [
        {
          "output_type": "execute_result",
          "data": {
            "text/plain": [
              "(1397, 15, 1)"
            ]
          },
          "metadata": {},
          "execution_count": 47
        }
      ]
    },
    {
      "cell_type": "markdown",
      "source": [
        "### Building model"
      ],
      "metadata": {
        "id": "6yWG8jj1U-5r"
      }
    },
    {
      "cell_type": "code",
      "source": [
        "# Importing the Keras libraries and packages\n",
        "from keras.models import Sequential\n",
        "from keras.layers import Dense, LSTM, Dropout, BatchNormalization"
      ],
      "metadata": {
        "id": "T0wtBqqLU-5r"
      },
      "execution_count": null,
      "outputs": []
    },
    {
      "cell_type": "code",
      "source": [
        "# Initialising the RNN\n",
        "regressor = Sequential()\n",
        "\n",
        "# Initialising the RNN\n",
        "regressor = Sequential()\n",
        "# Adding the first LSTM layer and some Dropout regularization\n",
        "regressor.add(LSTM(units = 10, activation='relu', return_sequences = True, input_shape = (X_train.shape[1], 1)))\n",
        "regressor.add(Dropout(0.2))\n",
        "# Adding a second LSTM layer and some Dropout regularization\n",
        "regressor.add(LSTM(units = 10, activation='relu', return_sequences = True))\n",
        "regressor.add(Dropout(0.2))\n",
        "# Adding a third LSTM layer and some Dropout regularization\n",
        "regressor.add(LSTM(units = 10, activation='relu', return_sequences=True))\n",
        "regressor.add(Dropout(0.2))\n",
        "# Adding a fourth LSTM layer and some Dropout regularization\n",
        "regressor.add(LSTM(units = 10, activation='relu'))\n",
        "regressor.add(Dropout(0.2))\n",
        "# Adding the output layer\n",
        "regressor.add(Dense(units = 1))"
      ],
      "metadata": {
        "id": "FX-p3RhKU-5r"
      },
      "execution_count": null,
      "outputs": []
    },
    {
      "cell_type": "code",
      "source": [
        "# Compiling the RNN\n",
        "regressor.compile(optimizer = 'adam', loss = 'mean_squared_error')\n",
        "\n",
        "# Fitting the RNN to the Training set\n",
        "regressor.fit(X_train, y_train, epochs = 50, batch_size = 32)"
      ],
      "metadata": {
        "colab": {
          "base_uri": "https://localhost:8080/"
        },
        "outputId": "af9c15c1-bcd7-4f99-a1bf-2f1a592d4f6e",
        "id": "hfB-fA95U-5s"
      },
      "execution_count": null,
      "outputs": [
        {
          "output_type": "stream",
          "name": "stdout",
          "text": [
            "Epoch 1/50\n",
            "44/44 [==============================] - 9s 44ms/step - loss: 0.1379\n",
            "Epoch 2/50\n",
            "44/44 [==============================] - 2s 49ms/step - loss: 0.0404\n",
            "Epoch 3/50\n",
            "44/44 [==============================] - 2s 45ms/step - loss: 0.0260\n",
            "Epoch 4/50\n",
            "44/44 [==============================] - 2s 43ms/step - loss: 0.0217\n",
            "Epoch 5/50\n",
            "44/44 [==============================] - 2s 51ms/step - loss: 0.0184\n",
            "Epoch 6/50\n",
            "44/44 [==============================] - 2s 55ms/step - loss: 0.0170\n",
            "Epoch 7/50\n",
            "44/44 [==============================] - 2s 55ms/step - loss: 0.0184\n",
            "Epoch 8/50\n",
            "44/44 [==============================] - 2s 46ms/step - loss: 0.0156\n",
            "Epoch 9/50\n",
            "44/44 [==============================] - 2s 53ms/step - loss: 0.0145\n",
            "Epoch 10/50\n",
            "44/44 [==============================] - 2s 49ms/step - loss: 0.0143\n",
            "Epoch 11/50\n",
            "44/44 [==============================] - 2s 44ms/step - loss: 0.0134\n",
            "Epoch 12/50\n",
            "44/44 [==============================] - 2s 40ms/step - loss: 0.0133\n",
            "Epoch 13/50\n",
            "44/44 [==============================] - 2s 40ms/step - loss: 0.0133\n",
            "Epoch 14/50\n",
            "44/44 [==============================] - 2s 43ms/step - loss: 0.0133\n",
            "Epoch 15/50\n",
            "44/44 [==============================] - 2s 42ms/step - loss: 0.0125\n",
            "Epoch 16/50\n",
            "44/44 [==============================] - 2s 37ms/step - loss: 0.0123\n",
            "Epoch 17/50\n",
            "44/44 [==============================] - 1s 28ms/step - loss: 0.0111\n",
            "Epoch 18/50\n",
            "44/44 [==============================] - 1s 26ms/step - loss: 0.0119\n",
            "Epoch 19/50\n",
            "44/44 [==============================] - 1s 26ms/step - loss: 0.0121\n",
            "Epoch 20/50\n",
            "44/44 [==============================] - 1s 27ms/step - loss: 0.0113\n",
            "Epoch 21/50\n",
            "44/44 [==============================] - 1s 26ms/step - loss: 0.0122\n",
            "Epoch 22/50\n",
            "44/44 [==============================] - 1s 26ms/step - loss: 0.0105\n",
            "Epoch 23/50\n",
            "44/44 [==============================] - 1s 26ms/step - loss: 0.0112\n",
            "Epoch 24/50\n",
            "44/44 [==============================] - 1s 26ms/step - loss: 0.0111\n",
            "Epoch 25/50\n",
            "44/44 [==============================] - 1s 26ms/step - loss: 0.0103\n",
            "Epoch 26/50\n",
            "44/44 [==============================] - 1s 27ms/step - loss: 0.0116\n",
            "Epoch 27/50\n",
            "44/44 [==============================] - 1s 26ms/step - loss: 0.0109\n",
            "Epoch 28/50\n",
            "44/44 [==============================] - 1s 27ms/step - loss: 0.0100\n",
            "Epoch 29/50\n",
            "44/44 [==============================] - 1s 27ms/step - loss: 0.0099\n",
            "Epoch 30/50\n",
            "44/44 [==============================] - 1s 27ms/step - loss: 0.0097\n",
            "Epoch 31/50\n",
            "44/44 [==============================] - 1s 27ms/step - loss: 0.0088\n",
            "Epoch 32/50\n",
            "44/44 [==============================] - 1s 27ms/step - loss: 0.0098\n",
            "Epoch 33/50\n",
            "44/44 [==============================] - 1s 27ms/step - loss: 0.0099\n",
            "Epoch 34/50\n",
            "44/44 [==============================] - 1s 33ms/step - loss: 0.0099\n",
            "Epoch 35/50\n",
            "44/44 [==============================] - 2s 37ms/step - loss: 0.0090\n",
            "Epoch 36/50\n",
            "44/44 [==============================] - 1s 27ms/step - loss: 0.0092\n",
            "Epoch 37/50\n",
            "44/44 [==============================] - 1s 27ms/step - loss: 0.0097\n",
            "Epoch 38/50\n",
            "44/44 [==============================] - 1s 27ms/step - loss: 0.0086\n",
            "Epoch 39/50\n",
            "44/44 [==============================] - 1s 27ms/step - loss: 0.0087\n",
            "Epoch 40/50\n",
            "44/44 [==============================] - 1s 27ms/step - loss: 0.0090\n",
            "Epoch 41/50\n",
            "44/44 [==============================] - 1s 26ms/step - loss: 0.0083\n",
            "Epoch 42/50\n",
            "44/44 [==============================] - 1s 26ms/step - loss: 0.0087\n",
            "Epoch 43/50\n",
            "44/44 [==============================] - 1s 27ms/step - loss: 0.0086\n",
            "Epoch 44/50\n",
            "44/44 [==============================] - 1s 27ms/step - loss: 0.0086\n",
            "Epoch 45/50\n",
            "44/44 [==============================] - 1s 26ms/step - loss: 0.0087\n",
            "Epoch 46/50\n",
            "44/44 [==============================] - 1s 27ms/step - loss: 0.0083\n",
            "Epoch 47/50\n",
            "44/44 [==============================] - 1s 26ms/step - loss: 0.0082\n",
            "Epoch 48/50\n",
            "44/44 [==============================] - 1s 26ms/step - loss: 0.0089\n",
            "Epoch 49/50\n",
            "44/44 [==============================] - 1s 27ms/step - loss: 0.0087\n",
            "Epoch 50/50\n",
            "44/44 [==============================] - 1s 27ms/step - loss: 0.0085\n"
          ]
        },
        {
          "output_type": "execute_result",
          "data": {
            "text/plain": [
              "<keras.callbacks.History at 0x7fb9f6ae7050>"
            ]
          },
          "metadata": {},
          "execution_count": 50
        }
      ]
    },
    {
      "cell_type": "code",
      "source": [
        "# preprocessing the test dataset\n",
        "# Creating a data structure with 15 timesteps\n",
        "total_data = np.concatenate([train, test], axis=0)\n",
        "\n",
        "X_test = []\n",
        "for i in range(len(total_data)-len(test), len(total_data)):\n",
        "  X_test.append(total_data[i-15:i,0])\n",
        "X_test = np.array(X_test)\n",
        "\n",
        "# Reshaping\n",
        "X_test = np.reshape(X_test, (X_test.shape[0], X_test.shape[1], 1))\n",
        "X_test.shape"
      ],
      "metadata": {
        "colab": {
          "base_uri": "https://localhost:8080/"
        },
        "id": "yh4CD87TU-5s",
        "outputId": "2de2e2ec-407d-42b1-a195-563382ca269c"
      },
      "execution_count": null,
      "outputs": [
        {
          "output_type": "execute_result",
          "data": {
            "text/plain": [
              "(267, 15, 1)"
            ]
          },
          "metadata": {},
          "execution_count": 51
        }
      ]
    },
    {
      "cell_type": "code",
      "source": [
        "# 이전에 지정해주었던 test를 y_test로 사용하기로 한다.(Scaling은 되어 있음)\n",
        "y_test = np.reshape(np.array(test.iloc[:,0]), (-1,1))\n",
        "print(f\"shape of X_test: {X_test.shape}\")\n",
        "print(f\"shpa of y_test: {y_test.shape}\")"
      ],
      "metadata": {
        "colab": {
          "base_uri": "https://localhost:8080/"
        },
        "id": "pxBSlG13U-5s",
        "outputId": "13a64979-f8a8-4dde-c7f4-d1816d84e538"
      },
      "execution_count": null,
      "outputs": [
        {
          "output_type": "stream",
          "name": "stdout",
          "text": [
            "shape of X_test: (267, 15, 1)\n",
            "shpa of y_test: (267, 1)\n"
          ]
        }
      ]
    },
    {
      "cell_type": "code",
      "source": [
        "real_currency_rate = y_test\n",
        "predicted_currency_rate_15 = regressor.predict(X_test)\n",
        "\n",
        "print(mean_squared_error(real_currency_rate, predicted_currency_rate_15))"
      ],
      "metadata": {
        "colab": {
          "base_uri": "https://localhost:8080/"
        },
        "id": "qkmFYR7rU-5s",
        "outputId": "9ddd9d26-ed3e-402c-8b0f-7085469f6d41"
      },
      "execution_count": null,
      "outputs": [
        {
          "output_type": "stream",
          "name": "stdout",
          "text": [
            "0.02283830428849713\n"
          ]
        }
      ]
    },
    {
      "cell_type": "code",
      "source": [
        "real_currency_rate = scaler_target.inverse_transform(real_currency_rate)\n",
        "predicted_currency_rate_15 = scaler_target.inverse_transform(predicted_currency_rate_15)"
      ],
      "metadata": {
        "id": "PKbIxNt1U-5s"
      },
      "execution_count": null,
      "outputs": []
    },
    {
      "cell_type": "code",
      "source": [
        "# Visualising the results\n",
        "plt.plot(real_currency_rate, color = 'red', label = 'Real Currency Rate')\n",
        "plt.plot(predicted_currency_rate_15, color = 'blue', label = 'predicted_currency_rate(15)')\n",
        "plt.title('Currency Rate')\n",
        "plt.xlabel('Time')\n",
        "plt.ylabel(\"KRW/USD\")\n",
        "plt.legend(loc='best')\n",
        "plt.show()"
      ],
      "metadata": {
        "colab": {
          "base_uri": "https://localhost:8080/",
          "height": 295
        },
        "id": "6AMc1yM4U-5s",
        "outputId": "64595786-351b-4c4f-cda7-f3b7ca674b82"
      },
      "execution_count": null,
      "outputs": [
        {
          "output_type": "display_data",
          "data": {
            "text/plain": [
              "<Figure size 432x288 with 1 Axes>"
            ],
            "image/png": "[encoded data removed]"
          },
          "metadata": {
            "needs_background": "light"
          }
        }
      ]
    },
    {
      "cell_type": "markdown",
      "source": [
        "## Building LSTM model 2"
      ],
      "metadata": {
        "id": "z8X7MZFvN0hm"
      }
    },
    {
      "cell_type": "code",
      "source": [
        "# Creating a data structure with 15 timesteps and 1 output\n",
        "X_train = []\n",
        "y_train = []\n",
        "for i in range(15, len(train)):\n",
        "  X_train.append(train.iloc[i-15:i,:])\n",
        "  y_train.append(train.iloc[i,0])\n",
        "X_train, y_train = np.array(X_train), np.array(y_train)"
      ],
      "metadata": {
        "id": "QOAU5WwBM8r-"
      },
      "execution_count": null,
      "outputs": []
    },
    {
      "cell_type": "code",
      "source": [
        "# Reshaping\n",
        "X_train = np.reshape(X_train, (X_train.shape[0], X_train.shape[1], 4))\n",
        "X_train.shape"
      ],
      "metadata": {
        "colab": {
          "base_uri": "https://localhost:8080/"
        },
        "id": "Zx-vIJ2ZXSS6",
        "outputId": "5b8b8f08-88c3-4f6c-aa10-83dac171a177"
      },
      "execution_count": null,
      "outputs": [
        {
          "output_type": "execute_result",
          "data": {
            "text/plain": [
              "(1397, 15, 4)"
            ]
          },
          "metadata": {},
          "execution_count": 57
        }
      ]
    },
    {
      "cell_type": "code",
      "source": [
        "# Initialising the RNN\n",
        "regressor = Sequential()\n",
        "\n",
        "# Initialising the RNN\n",
        "regressor = Sequential()\n",
        "# Adding the first LSTM layer and some Dropout regularization\n",
        "regressor.add(LSTM(units = 10, activation='relu', return_sequences = True, input_shape = (X_train.shape[1], 4)))\n",
        "regressor.add(Dropout(0.2))\n",
        "# Adding a second LSTM layer and some Dropout regularization\n",
        "regressor.add(LSTM(units = 10, activation='relu', return_sequences = True))\n",
        "regressor.add(Dropout(0.2))\n",
        "# Adding a third LSTM layer and some Dropout regularization\n",
        "regressor.add(LSTM(units = 10, activation='relu', return_sequences=True))\n",
        "regressor.add(Dropout(0.2))\n",
        "# Adding a fourth LSTM layer and some Dropout regularization\n",
        "regressor.add(LSTM(units = 10, activation='relu'))\n",
        "regressor.add(Dropout(0.2))\n",
        "# Adding the output layer\n",
        "regressor.add(Dense(units = 1))"
      ],
      "metadata": {
        "id": "i7kCAuTGN4bL"
      },
      "execution_count": null,
      "outputs": []
    },
    {
      "cell_type": "code",
      "source": [
        "# Compiling the RNN\n",
        "regressor.compile(optimizer = 'adam', loss = 'mean_squared_error')\n",
        "\n",
        "# Fitting the RNN to the Training set\n",
        "regressor.fit(X_train, y_train, epochs = 100, batch_size = 32)"
      ],
      "metadata": {
        "colab": {
          "base_uri": "https://localhost:8080/"
        },
        "id": "zgwoAu4eN9Ud",
        "outputId": "434fecde-5ecc-4ce1-eea5-0952f2f302a8"
      },
      "execution_count": null,
      "outputs": [
        {
          "output_type": "stream",
          "name": "stdout",
          "text": [
            "Epoch 1/100\n",
            "44/44 [==============================] - 6s 26ms/step - loss: 0.1158\n",
            "Epoch 2/100\n",
            "44/44 [==============================] - 1s 26ms/step - loss: 0.0322\n",
            "Epoch 3/100\n",
            "44/44 [==============================] - 1s 27ms/step - loss: 0.0245\n",
            "Epoch 4/100\n",
            "44/44 [==============================] - 1s 27ms/step - loss: 0.0209\n",
            "Epoch 5/100\n",
            "44/44 [==============================] - 1s 26ms/step - loss: 0.0196\n",
            "Epoch 6/100\n",
            "44/44 [==============================] - 1s 26ms/step - loss: 0.0159\n",
            "Epoch 7/100\n",
            "44/44 [==============================] - 1s 27ms/step - loss: 0.0169\n",
            "Epoch 8/100\n",
            "44/44 [==============================] - 1s 27ms/step - loss: 0.0148\n",
            "Epoch 9/100\n",
            "44/44 [==============================] - 1s 27ms/step - loss: 0.0135\n",
            "Epoch 10/100\n",
            "44/44 [==============================] - 1s 27ms/step - loss: 0.0132\n",
            "Epoch 11/100\n",
            "44/44 [==============================] - 1s 26ms/step - loss: 0.0128\n",
            "Epoch 12/100\n",
            "44/44 [==============================] - 1s 27ms/step - loss: 0.0105\n",
            "Epoch 13/100\n",
            "44/44 [==============================] - 1s 26ms/step - loss: 0.0105\n",
            "Epoch 14/100\n",
            "44/44 [==============================] - 1s 26ms/step - loss: 0.0101\n",
            "Epoch 15/100\n",
            "44/44 [==============================] - 1s 27ms/step - loss: 0.0091\n",
            "Epoch 16/100\n",
            "44/44 [==============================] - 1s 26ms/step - loss: 0.0096\n",
            "Epoch 17/100\n",
            "44/44 [==============================] - 1s 26ms/step - loss: 0.0093\n",
            "Epoch 18/100\n",
            "44/44 [==============================] - 1s 26ms/step - loss: 0.0087\n",
            "Epoch 19/100\n",
            "44/44 [==============================] - 1s 26ms/step - loss: 0.0088\n",
            "Epoch 20/100\n",
            "44/44 [==============================] - 1s 27ms/step - loss: 0.0094\n",
            "Epoch 21/100\n",
            "44/44 [==============================] - 1s 27ms/step - loss: 0.0092\n",
            "Epoch 22/100\n",
            "44/44 [==============================] - 1s 27ms/step - loss: 0.0079\n",
            "Epoch 23/100\n",
            "44/44 [==============================] - 1s 27ms/step - loss: 0.0080\n",
            "Epoch 24/100\n",
            "44/44 [==============================] - 1s 27ms/step - loss: 0.0078\n",
            "Epoch 25/100\n",
            "44/44 [==============================] - 1s 27ms/step - loss: 0.0074\n",
            "Epoch 26/100\n",
            "44/44 [==============================] - 1s 27ms/step - loss: 0.0074\n",
            "Epoch 27/100\n",
            "44/44 [==============================] - 1s 27ms/step - loss: 0.0073\n",
            "Epoch 28/100\n",
            "44/44 [==============================] - 1s 27ms/step - loss: 0.0074\n",
            "Epoch 29/100\n",
            "44/44 [==============================] - 1s 27ms/step - loss: 0.0075\n",
            "Epoch 30/100\n",
            "44/44 [==============================] - 1s 28ms/step - loss: 0.0070\n",
            "Epoch 31/100\n",
            "44/44 [==============================] - 1s 28ms/step - loss: 0.0065\n",
            "Epoch 32/100\n",
            "44/44 [==============================] - 1s 27ms/step - loss: 0.0069\n",
            "Epoch 33/100\n",
            "44/44 [==============================] - 1s 27ms/step - loss: 0.0065\n",
            "Epoch 34/100\n",
            "44/44 [==============================] - 1s 27ms/step - loss: 0.0073\n",
            "Epoch 35/100\n",
            "44/44 [==============================] - 1s 33ms/step - loss: 0.0066\n",
            "Epoch 36/100\n",
            "44/44 [==============================] - 2s 35ms/step - loss: 0.0064\n",
            "Epoch 37/100\n",
            "44/44 [==============================] - 1s 26ms/step - loss: 0.0072\n",
            "Epoch 38/100\n",
            "44/44 [==============================] - 1s 26ms/step - loss: 0.0065\n",
            "Epoch 39/100\n",
            "44/44 [==============================] - 1s 26ms/step - loss: 0.0062\n",
            "Epoch 40/100\n",
            "44/44 [==============================] - 1s 27ms/step - loss: 0.0061\n",
            "Epoch 41/100\n",
            "44/44 [==============================] - 1s 27ms/step - loss: 0.0064\n",
            "Epoch 42/100\n",
            "44/44 [==============================] - 1s 27ms/step - loss: 0.0063\n",
            "Epoch 43/100\n",
            "44/44 [==============================] - 1s 26ms/step - loss: 0.0061\n",
            "Epoch 44/100\n",
            "44/44 [==============================] - 1s 28ms/step - loss: 0.0064\n",
            "Epoch 45/100\n",
            "44/44 [==============================] - 1s 27ms/step - loss: 0.0058\n",
            "Epoch 46/100\n",
            "44/44 [==============================] - 1s 26ms/step - loss: 0.0058\n",
            "Epoch 47/100\n",
            "44/44 [==============================] - 1s 28ms/step - loss: 0.0056\n",
            "Epoch 48/100\n",
            "44/44 [==============================] - 1s 28ms/step - loss: 0.0058\n",
            "Epoch 49/100\n",
            "44/44 [==============================] - 1s 28ms/step - loss: 0.0059\n",
            "Epoch 50/100\n",
            "44/44 [==============================] - 1s 28ms/step - loss: 0.0052\n",
            "Epoch 51/100\n",
            "44/44 [==============================] - 1s 27ms/step - loss: 0.0057\n",
            "Epoch 52/100\n",
            "44/44 [==============================] - 1s 27ms/step - loss: 0.0056\n",
            "Epoch 53/100\n",
            "44/44 [==============================] - 1s 28ms/step - loss: 0.0056\n",
            "Epoch 54/100\n",
            "44/44 [==============================] - 1s 27ms/step - loss: 0.0060\n",
            "Epoch 55/100\n",
            "44/44 [==============================] - 1s 27ms/step - loss: 0.0053\n",
            "Epoch 56/100\n",
            "44/44 [==============================] - 1s 27ms/step - loss: 0.0058\n",
            "Epoch 57/100\n",
            "44/44 [==============================] - 1s 27ms/step - loss: 0.0057\n",
            "Epoch 58/100\n",
            "44/44 [==============================] - 1s 27ms/step - loss: 0.0057\n",
            "Epoch 59/100\n",
            "44/44 [==============================] - 1s 28ms/step - loss: 0.0055\n",
            "Epoch 60/100\n",
            "44/44 [==============================] - 1s 28ms/step - loss: 0.0056\n",
            "Epoch 61/100\n",
            "44/44 [==============================] - 1s 27ms/step - loss: 0.0055\n",
            "Epoch 62/100\n",
            "44/44 [==============================] - 1s 27ms/step - loss: 0.0057\n",
            "Epoch 63/100\n",
            "44/44 [==============================] - 1s 26ms/step - loss: 0.0054\n",
            "Epoch 64/100\n",
            "44/44 [==============================] - 1s 27ms/step - loss: 0.0057\n",
            "Epoch 65/100\n",
            "44/44 [==============================] - 1s 27ms/step - loss: 0.0053\n",
            "Epoch 66/100\n",
            "44/44 [==============================] - 1s 27ms/step - loss: 0.0053\n",
            "Epoch 67/100\n",
            "44/44 [==============================] - 1s 27ms/step - loss: 0.0052\n",
            "Epoch 68/100\n",
            "44/44 [==============================] - 1s 27ms/step - loss: 0.0050\n",
            "Epoch 69/100\n",
            "44/44 [==============================] - 1s 27ms/step - loss: 0.0052\n",
            "Epoch 70/100\n",
            "44/44 [==============================] - 1s 27ms/step - loss: 0.0048\n",
            "Epoch 71/100\n",
            "44/44 [==============================] - 1s 28ms/step - loss: 0.0052\n",
            "Epoch 72/100\n",
            "44/44 [==============================] - 1s 27ms/step - loss: 0.0051\n",
            "Epoch 73/100\n",
            "44/44 [==============================] - 1s 26ms/step - loss: 0.0053\n",
            "Epoch 74/100\n",
            "44/44 [==============================] - 1s 27ms/step - loss: 0.0049\n",
            "Epoch 75/100\n",
            "44/44 [==============================] - 1s 27ms/step - loss: 0.0051\n",
            "Epoch 76/100\n",
            "44/44 [==============================] - 1s 26ms/step - loss: 0.0053\n",
            "Epoch 77/100\n",
            "44/44 [==============================] - 1s 26ms/step - loss: 0.0053\n",
            "Epoch 78/100\n",
            "44/44 [==============================] - 1s 27ms/step - loss: 0.0050\n",
            "Epoch 79/100\n",
            "44/44 [==============================] - 1s 28ms/step - loss: 0.0048\n",
            "Epoch 80/100\n",
            "44/44 [==============================] - 1s 28ms/step - loss: 0.0050\n",
            "Epoch 81/100\n",
            "44/44 [==============================] - 1s 27ms/step - loss: 0.0047\n",
            "Epoch 82/100\n",
            "44/44 [==============================] - 1s 27ms/step - loss: 0.0047\n",
            "Epoch 83/100\n",
            "44/44 [==============================] - 1s 26ms/step - loss: 0.0044\n",
            "Epoch 84/100\n",
            "44/44 [==============================] - 1s 27ms/step - loss: 0.0048\n",
            "Epoch 85/100\n",
            "44/44 [==============================] - 1s 27ms/step - loss: 0.0045\n",
            "Epoch 86/100\n",
            "44/44 [==============================] - 1s 28ms/step - loss: 0.0049\n",
            "Epoch 87/100\n",
            "44/44 [==============================] - 1s 27ms/step - loss: 0.0048\n",
            "Epoch 88/100\n",
            "44/44 [==============================] - 1s 27ms/step - loss: 0.0046\n",
            "Epoch 89/100\n",
            "44/44 [==============================] - 1s 27ms/step - loss: 0.0051\n",
            "Epoch 90/100\n",
            "44/44 [==============================] - 1s 27ms/step - loss: 0.0052\n",
            "Epoch 91/100\n",
            "44/44 [==============================] - 1s 27ms/step - loss: 0.0047\n",
            "Epoch 92/100\n",
            "44/44 [==============================] - 1s 27ms/step - loss: 0.0045\n",
            "Epoch 93/100\n",
            "44/44 [==============================] - 1s 26ms/step - loss: 0.0042\n",
            "Epoch 94/100\n",
            "44/44 [==============================] - 1s 27ms/step - loss: 0.0043\n",
            "Epoch 95/100\n",
            "44/44 [==============================] - 1s 27ms/step - loss: 0.0049\n",
            "Epoch 96/100\n",
            "44/44 [==============================] - 1s 28ms/step - loss: 0.0043\n",
            "Epoch 97/100\n",
            "44/44 [==============================] - 1s 27ms/step - loss: 0.0045\n",
            "Epoch 98/100\n",
            "44/44 [==============================] - 1s 27ms/step - loss: 0.0043\n",
            "Epoch 99/100\n",
            "44/44 [==============================] - 1s 27ms/step - loss: 0.0048\n",
            "Epoch 100/100\n",
            "44/44 [==============================] - 1s 26ms/step - loss: 0.0045\n"
          ]
        },
        {
          "output_type": "execute_result",
          "data": {
            "text/plain": [
              "<keras.callbacks.History at 0x7fba76a7af10>"
            ]
          },
          "metadata": {},
          "execution_count": 59
        }
      ]
    },
    {
      "cell_type": "code",
      "source": [
        "# preprocessing the test dataset\n",
        "# Creating a data structure with 15 timesteps\n",
        "total_data = np.concatenate([train, test], axis=0)\n",
        "\n",
        "X_test = []\n",
        "for i in range(len(total_data)-len(test), len(total_data)):\n",
        "  X_test.append(total_data[i-15:i,:])\n",
        "X_test = np.array(X_test)\n",
        "\n",
        "# Reshaping\n",
        "X_test = np.reshape(X_test, (X_test.shape[0], X_test.shape[1], 4))\n",
        "X_test.shape"
      ],
      "metadata": {
        "colab": {
          "base_uri": "https://localhost:8080/"
        },
        "id": "cBuyJuqIODS_",
        "outputId": "5e65a560-cbcb-42d9-8f1a-b4e9f3df3c4e"
      },
      "execution_count": null,
      "outputs": [
        {
          "output_type": "execute_result",
          "data": {
            "text/plain": [
              "(267, 15, 4)"
            ]
          },
          "metadata": {},
          "execution_count": 60
        }
      ]
    },
    {
      "cell_type": "code",
      "source": [
        "# 이전에 지정해주었던 test를 y_test로 사용하기로 한다.(Scaling은 되어 있음)\n",
        "y_test = np.reshape(np.array(test.iloc[:,0]), (-1,1))\n",
        "print(f\"shape of X_test: {X_test.shape}\")\n",
        "print(f\"shpa of y_test: {y_test.shape}\")"
      ],
      "metadata": {
        "colab": {
          "base_uri": "https://localhost:8080/"
        },
        "id": "slbuDRcOOb_x",
        "outputId": "e710b1bf-fcc5-4b4a-a9f3-a44537ad0629"
      },
      "execution_count": null,
      "outputs": [
        {
          "output_type": "stream",
          "name": "stdout",
          "text": [
            "shape of X_test: (267, 15, 4)\n",
            "shpa of y_test: (267, 1)\n"
          ]
        }
      ]
    },
    {
      "cell_type": "code",
      "source": [
        "real_currency_rate = y_test\n",
        "predicted_currency_rate_15 = regressor.predict(X_test)\n",
        "\n",
        "print(mean_squared_error(real_currency_rate, predicted_currency_rate_15))"
      ],
      "metadata": {
        "colab": {
          "base_uri": "https://localhost:8080/"
        },
        "id": "6gpX13q0OgD9",
        "outputId": "34f6d08f-7b59-4ac0-9235-c1e31b26b960"
      },
      "execution_count": null,
      "outputs": [
        {
          "output_type": "stream",
          "name": "stdout",
          "text": [
            "0.00936039085797847\n"
          ]
        }
      ]
    },
    {
      "cell_type": "code",
      "source": [
        "real_currency_rate = scaler_target.inverse_transform(real_currency_rate)\n",
        "predicted_currency_rate_15 = scaler_target.inverse_transform(predicted_currency_rate_15)"
      ],
      "metadata": {
        "id": "0n43xucRQU77"
      },
      "execution_count": null,
      "outputs": []
    },
    {
      "cell_type": "code",
      "source": [
        "# Visualising the results\n",
        "plt.plot(real_currency_rate, color = 'red', label = 'Real Currency Rate')\n",
        "plt.plot(predicted_currency_rate_15, color = 'blue', label = 'predicted_currency_rate(15)')\n",
        "plt.title('Currency Rate')\n",
        "plt.xlabel('Time')\n",
        "plt.ylabel(\"KRW/USD\")\n",
        "plt.legend(loc='best')\n",
        "plt.show()"
      ],
      "metadata": {
        "colab": {
          "base_uri": "https://localhost:8080/",
          "height": 295
        },
        "id": "ecz3Kl31O7YX",
        "outputId": "87d04055-dded-4bcc-a82c-3f400ae53b8f"
      },
      "execution_count": null,
      "outputs": [
        {
          "output_type": "display_data",
          "data": {
            "text/plain": [
              "<Figure size 432x288 with 1 Axes>"
            ],
            "image/png": "[encoded data removed]"
          },
          "metadata": {
            "needs_background": "light"
          }
        }
      ]
    },
    {
      "cell_type": "markdown",
      "source": [
        "## Building LSTM model 3"
      ],
      "metadata": {
        "id": "xg87lS1YPobO"
      }
    },
    {
      "cell_type": "markdown",
      "source": [
        "### preprocessing the data"
      ],
      "metadata": {
        "id": "HztmMbyMQICw"
      }
    },
    {
      "cell_type": "code",
      "source": [
        "# Creating a data structure with 30 timesteps and 1 output\n",
        "X_train = []\n",
        "y_train = []\n",
        "for i in range(30, len(train)):\n",
        "  X_train.append(train.iloc[i-30:i,:])\n",
        "  y_train.append(train.iloc[i,0])\n",
        "X_train, y_train = np.array(X_train), np.array(y_train)"
      ],
      "metadata": {
        "id": "F61A0VGvTnmj"
      },
      "execution_count": null,
      "outputs": []
    },
    {
      "cell_type": "code",
      "source": [
        "# Reshaping\n",
        "X_train = np.reshape(X_train, (X_train.shape[0], X_train.shape[1], 4))\n",
        "X_train.shape"
      ],
      "metadata": {
        "colab": {
          "base_uri": "https://localhost:8080/"
        },
        "outputId": "82b1c39e-cd0c-4c88-c40c-a4779dddecc8",
        "id": "9eKgvLUBTnmj"
      },
      "execution_count": null,
      "outputs": [
        {
          "output_type": "execute_result",
          "data": {
            "text/plain": [
              "(1382, 30, 4)"
            ]
          },
          "metadata": {},
          "execution_count": 66
        }
      ]
    },
    {
      "cell_type": "markdown",
      "source": [
        "### Building model"
      ],
      "metadata": {
        "id": "1r0rkpDdTnmj"
      }
    },
    {
      "cell_type": "code",
      "source": [
        "# Initialising the RNN\n",
        "regressor = Sequential()\n",
        "\n",
        "# Initialising the RNN\n",
        "regressor = Sequential()\n",
        "# Adding the first LSTM layer and some Dropout regularization\n",
        "regressor.add(LSTM(units = 20, activation='relu', return_sequences = True, input_shape = (X_train.shape[1], 4)))\n",
        "regressor.add(Dropout(0.2))\n",
        "# Adding a second LSTM layer and some Dropout regularization\n",
        "regressor.add(LSTM(units = 20, activation='relu', return_sequences = True))\n",
        "regressor.add(Dropout(0.2))\n",
        "# Adding a third LSTM layer and some Dropout regularization\n",
        "regressor.add(LSTM(units = 20, activation='relu', return_sequences=True))\n",
        "regressor.add(Dropout(0.2))\n",
        "# Adding a fourth LSTM layer and some Dropout regularization\n",
        "regressor.add(LSTM(units = 20, activation='relu'))\n",
        "regressor.add(Dropout(0.2))\n",
        "# Adding the output layer\n",
        "regressor.add(Dense(units = 1))"
      ],
      "metadata": {
        "id": "ZjRAUhtmTnmk"
      },
      "execution_count": null,
      "outputs": []
    },
    {
      "cell_type": "code",
      "source": [
        "# Compiling the RNN\n",
        "regressor.compile(optimizer = 'adam', loss = 'mean_squared_error')\n",
        "\n",
        "# Fitting the RNN to the Training set\n",
        "regressor.fit(X_train, y_train, epochs = 100, batch_size = 32)"
      ],
      "metadata": {
        "colab": {
          "base_uri": "https://localhost:8080/"
        },
        "outputId": "0cad5c7e-c54d-4ed1-914c-b008e46cd046",
        "id": "egneAqjLTnmk"
      },
      "execution_count": null,
      "outputs": [
        {
          "output_type": "stream",
          "name": "stdout",
          "text": [
            "Epoch 1/100\n",
            "44/44 [==============================] - 7s 50ms/step - loss: 0.0936\n",
            "Epoch 2/100\n",
            "44/44 [==============================] - 2s 51ms/step - loss: 0.0191\n",
            "Epoch 3/100\n",
            "44/44 [==============================] - 2s 50ms/step - loss: 0.0151\n",
            "Epoch 4/100\n",
            "44/44 [==============================] - 2s 50ms/step - loss: 0.0153\n",
            "Epoch 5/100\n",
            "44/44 [==============================] - 2s 50ms/step - loss: 0.0139\n",
            "Epoch 6/100\n",
            "44/44 [==============================] - 2s 51ms/step - loss: 0.0131\n",
            "Epoch 7/100\n",
            "44/44 [==============================] - 2s 50ms/step - loss: 0.0128\n",
            "Epoch 8/100\n",
            "44/44 [==============================] - 2s 51ms/step - loss: 0.0117\n",
            "Epoch 9/100\n",
            "44/44 [==============================] - 2s 52ms/step - loss: 0.0114\n",
            "Epoch 10/100\n",
            "44/44 [==============================] - 3s 62ms/step - loss: 0.0104\n",
            "Epoch 11/100\n",
            "44/44 [==============================] - 3s 55ms/step - loss: 0.0104\n",
            "Epoch 12/100\n",
            "44/44 [==============================] - 2s 50ms/step - loss: 0.0100\n",
            "Epoch 13/100\n",
            "44/44 [==============================] - 2s 51ms/step - loss: 0.0099\n",
            "Epoch 14/100\n",
            "44/44 [==============================] - 2s 51ms/step - loss: 0.0088\n",
            "Epoch 15/100\n",
            "44/44 [==============================] - 2s 50ms/step - loss: 0.0090\n",
            "Epoch 16/100\n",
            "44/44 [==============================] - 2s 50ms/step - loss: 0.0086\n",
            "Epoch 17/100\n",
            "44/44 [==============================] - 2s 51ms/step - loss: 0.0080\n",
            "Epoch 18/100\n",
            "44/44 [==============================] - 2s 51ms/step - loss: 0.0081\n",
            "Epoch 19/100\n",
            "44/44 [==============================] - 2s 51ms/step - loss: 0.0076\n",
            "Epoch 20/100\n",
            "44/44 [==============================] - 2s 49ms/step - loss: 0.0077\n",
            "Epoch 21/100\n",
            "44/44 [==============================] - 2s 50ms/step - loss: 0.0077\n",
            "Epoch 22/100\n",
            "44/44 [==============================] - 2s 50ms/step - loss: 0.0074\n",
            "Epoch 23/100\n",
            "44/44 [==============================] - 2s 52ms/step - loss: 0.0074\n",
            "Epoch 24/100\n",
            "44/44 [==============================] - 2s 51ms/step - loss: 0.0074\n",
            "Epoch 25/100\n",
            "44/44 [==============================] - 2s 51ms/step - loss: 0.0074\n",
            "Epoch 26/100\n",
            "44/44 [==============================] - 2s 53ms/step - loss: 0.0067\n",
            "Epoch 27/100\n",
            "44/44 [==============================] - 2s 50ms/step - loss: 0.0069\n",
            "Epoch 28/100\n",
            "44/44 [==============================] - 2s 50ms/step - loss: 0.0063\n",
            "Epoch 29/100\n",
            "44/44 [==============================] - 2s 50ms/step - loss: 0.0059\n",
            "Epoch 30/100\n",
            "44/44 [==============================] - 2s 50ms/step - loss: 0.0065\n",
            "Epoch 31/100\n",
            "44/44 [==============================] - 2s 51ms/step - loss: 0.0058\n",
            "Epoch 32/100\n",
            "44/44 [==============================] - 2s 50ms/step - loss: 0.0064\n",
            "Epoch 33/100\n",
            "44/44 [==============================] - 2s 52ms/step - loss: 0.0060\n",
            "Epoch 34/100\n",
            "44/44 [==============================] - 2s 49ms/step - loss: 0.0062\n",
            "Epoch 35/100\n",
            "44/44 [==============================] - 2s 50ms/step - loss: 0.0055\n",
            "Epoch 36/100\n",
            "44/44 [==============================] - 2s 50ms/step - loss: 0.0057\n",
            "Epoch 37/100\n",
            "44/44 [==============================] - 2s 51ms/step - loss: 0.0055\n",
            "Epoch 38/100\n",
            "44/44 [==============================] - 2s 52ms/step - loss: 0.0054\n",
            "Epoch 39/100\n",
            "44/44 [==============================] - 2s 50ms/step - loss: 0.0057\n",
            "Epoch 40/100\n",
            "44/44 [==============================] - 2s 50ms/step - loss: 0.0056\n",
            "Epoch 41/100\n",
            "44/44 [==============================] - 2s 51ms/step - loss: 0.0050\n",
            "Epoch 42/100\n",
            "44/44 [==============================] - 2s 50ms/step - loss: 0.0054\n",
            "Epoch 43/100\n",
            "44/44 [==============================] - 2s 50ms/step - loss: 0.0050\n",
            "Epoch 44/100\n",
            "44/44 [==============================] - 2s 50ms/step - loss: 0.0049\n",
            "Epoch 45/100\n",
            "44/44 [==============================] - 2s 52ms/step - loss: 0.0049\n",
            "Epoch 46/100\n",
            "44/44 [==============================] - 2s 51ms/step - loss: 0.0046\n",
            "Epoch 47/100\n",
            "44/44 [==============================] - 2s 53ms/step - loss: 0.0047\n",
            "Epoch 48/100\n",
            "44/44 [==============================] - 2s 52ms/step - loss: 0.0045\n",
            "Epoch 49/100\n",
            "44/44 [==============================] - 2s 53ms/step - loss: 0.0045\n",
            "Epoch 50/100\n",
            "44/44 [==============================] - 2s 55ms/step - loss: 0.0042\n",
            "Epoch 51/100\n",
            "44/44 [==============================] - 2s 56ms/step - loss: 0.0048\n",
            "Epoch 52/100\n",
            "44/44 [==============================] - 2s 56ms/step - loss: 0.0045\n",
            "Epoch 53/100\n",
            "44/44 [==============================] - 2s 54ms/step - loss: 0.0046\n",
            "Epoch 54/100\n",
            "44/44 [==============================] - 2s 54ms/step - loss: 0.0047\n",
            "Epoch 55/100\n",
            "44/44 [==============================] - 2s 54ms/step - loss: 0.0042\n",
            "Epoch 56/100\n",
            "44/44 [==============================] - 2s 54ms/step - loss: 0.0041\n",
            "Epoch 57/100\n",
            "44/44 [==============================] - 3s 68ms/step - loss: 0.0039\n",
            "Epoch 58/100\n",
            "44/44 [==============================] - 2s 52ms/step - loss: 0.0044\n",
            "Epoch 59/100\n",
            "44/44 [==============================] - 2s 54ms/step - loss: 0.0042\n",
            "Epoch 60/100\n",
            "44/44 [==============================] - 2s 56ms/step - loss: 0.0039\n",
            "Epoch 61/100\n",
            "44/44 [==============================] - 2s 55ms/step - loss: 0.0038\n",
            "Epoch 62/100\n",
            "44/44 [==============================] - 2s 53ms/step - loss: 0.0039\n",
            "Epoch 63/100\n",
            "44/44 [==============================] - 2s 54ms/step - loss: 0.0040\n",
            "Epoch 64/100\n",
            "44/44 [==============================] - 2s 54ms/step - loss: 0.0038\n",
            "Epoch 65/100\n",
            "44/44 [==============================] - 2s 55ms/step - loss: 0.0041\n",
            "Epoch 66/100\n",
            "44/44 [==============================] - 2s 54ms/step - loss: 0.0037\n",
            "Epoch 67/100\n",
            "44/44 [==============================] - 2s 54ms/step - loss: 0.0037\n",
            "Epoch 68/100\n",
            "44/44 [==============================] - 2s 52ms/step - loss: 0.0036\n",
            "Epoch 69/100\n",
            "44/44 [==============================] - 2s 52ms/step - loss: 0.0036\n",
            "Epoch 70/100\n",
            "44/44 [==============================] - 2s 53ms/step - loss: 0.0040\n",
            "Epoch 71/100\n",
            "44/44 [==============================] - 2s 50ms/step - loss: 0.0038\n",
            "Epoch 72/100\n",
            "44/44 [==============================] - 2s 53ms/step - loss: 0.0036\n",
            "Epoch 73/100\n",
            "44/44 [==============================] - 2s 53ms/step - loss: 0.0038\n",
            "Epoch 74/100\n",
            "44/44 [==============================] - 2s 53ms/step - loss: 0.0037\n",
            "Epoch 75/100\n",
            "44/44 [==============================] - 2s 55ms/step - loss: 0.0037\n",
            "Epoch 76/100\n",
            "44/44 [==============================] - 2s 56ms/step - loss: 0.0034\n",
            "Epoch 77/100\n",
            "44/44 [==============================] - 3s 70ms/step - loss: 0.0036\n",
            "Epoch 78/100\n",
            "44/44 [==============================] - 2s 54ms/step - loss: 0.0036\n",
            "Epoch 79/100\n",
            "44/44 [==============================] - 2s 55ms/step - loss: 0.0037\n",
            "Epoch 80/100\n",
            "44/44 [==============================] - 2s 55ms/step - loss: 0.0035\n",
            "Epoch 81/100\n",
            "44/44 [==============================] - 2s 53ms/step - loss: 0.0034\n",
            "Epoch 82/100\n",
            "44/44 [==============================] - 2s 55ms/step - loss: 0.0035\n",
            "Epoch 83/100\n",
            "44/44 [==============================] - 2s 54ms/step - loss: 0.0033\n",
            "Epoch 84/100\n",
            "44/44 [==============================] - 2s 54ms/step - loss: 0.0035\n",
            "Epoch 85/100\n",
            "44/44 [==============================] - 2s 54ms/step - loss: 0.0035\n",
            "Epoch 86/100\n",
            "44/44 [==============================] - 2s 53ms/step - loss: 0.0033\n",
            "Epoch 87/100\n",
            "44/44 [==============================] - 2s 54ms/step - loss: 0.0033\n",
            "Epoch 88/100\n",
            "44/44 [==============================] - 2s 56ms/step - loss: 0.0033\n",
            "Epoch 89/100\n",
            "44/44 [==============================] - 2s 53ms/step - loss: 0.0032\n",
            "Epoch 90/100\n",
            "44/44 [==============================] - 2s 55ms/step - loss: 0.0034\n",
            "Epoch 91/100\n",
            "44/44 [==============================] - 2s 54ms/step - loss: 0.0034\n",
            "Epoch 92/100\n",
            "44/44 [==============================] - 2s 50ms/step - loss: 0.0034\n",
            "Epoch 93/100\n",
            "44/44 [==============================] - 2s 52ms/step - loss: 0.0034\n",
            "Epoch 94/100\n",
            "44/44 [==============================] - 2s 52ms/step - loss: 0.0031\n",
            "Epoch 95/100\n",
            "44/44 [==============================] - 2s 51ms/step - loss: 0.0035\n",
            "Epoch 96/100\n",
            "44/44 [==============================] - 2s 53ms/step - loss: 0.0033\n",
            "Epoch 97/100\n",
            "44/44 [==============================] - 2s 52ms/step - loss: 0.0032\n",
            "Epoch 98/100\n",
            "44/44 [==============================] - 2s 51ms/step - loss: 0.0031\n",
            "Epoch 99/100\n",
            "44/44 [==============================] - 2s 54ms/step - loss: 0.0031\n",
            "Epoch 100/100\n",
            "44/44 [==============================] - 2s 53ms/step - loss: 0.0034\n"
          ]
        },
        {
          "output_type": "execute_result",
          "data": {
            "text/plain": [
              "<keras.callbacks.History at 0x7fb9f3e65490>"
            ]
          },
          "metadata": {},
          "execution_count": 68
        }
      ]
    },
    {
      "cell_type": "code",
      "source": [
        "# preprocessing the test dataset\n",
        "# Creating a data structure with 30 timesteps\n",
        "total_data = np.concatenate([train, test], axis=0)\n",
        "\n",
        "X_test = []\n",
        "for i in range(len(total_data)-len(test), len(total_data)):\n",
        "  X_test.append(total_data[i-30:i,:])\n",
        "X_test = np.array(X_test)\n",
        "\n",
        "# Reshaping\n",
        "X_test = np.reshape(X_test, (X_test.shape[0], X_test.shape[1], 4))\n",
        "X_test.shape"
      ],
      "metadata": {
        "colab": {
          "base_uri": "https://localhost:8080/"
        },
        "outputId": "75646cde-5e7c-4921-849d-b240f9592a8d",
        "id": "-ICexPURTnmk"
      },
      "execution_count": null,
      "outputs": [
        {
          "output_type": "execute_result",
          "data": {
            "text/plain": [
              "(267, 30, 4)"
            ]
          },
          "metadata": {},
          "execution_count": 69
        }
      ]
    },
    {
      "cell_type": "code",
      "source": [
        "# 이전에 지정해주었던 test를 y_test로 사용하기로 한다.(Scaling은 되어 있음)\n",
        "y_test = np.reshape(np.array(test.iloc[:,0]), (-1,1))\n",
        "print(f\"shape of X_test: {X_test.shape}\")\n",
        "print(f\"shpa of y_test: {y_test.shape}\")"
      ],
      "metadata": {
        "colab": {
          "base_uri": "https://localhost:8080/"
        },
        "outputId": "b54043a9-a187-45a7-a025-663ad4902f9c",
        "id": "AfB5JvQfTnmk"
      },
      "execution_count": null,
      "outputs": [
        {
          "output_type": "stream",
          "name": "stdout",
          "text": [
            "shape of X_test: (267, 30, 4)\n",
            "shpa of y_test: (267, 1)\n"
          ]
        }
      ]
    },
    {
      "cell_type": "code",
      "source": [
        "real_currency_rate = y_test\n",
        "predicted_currency_rate_30 = regressor.predict(X_test)\n",
        "\n",
        "print(mean_squared_error(real_currency_rate, predicted_currency_rate_30))"
      ],
      "metadata": {
        "colab": {
          "base_uri": "https://localhost:8080/"
        },
        "outputId": "fbec93ff-97fd-4529-a9a0-190586150814",
        "id": "ju0Cyz-KTnml"
      },
      "execution_count": null,
      "outputs": [
        {
          "output_type": "stream",
          "name": "stdout",
          "text": [
            "0.008898842241881602\n"
          ]
        }
      ]
    },
    {
      "cell_type": "code",
      "source": [
        "real_currency_rate = scaler_target.inverse_transform(real_currency_rate)\n",
        "predicted_currency_rate_30 = scaler_target.inverse_transform(predicted_currency_rate_30)"
      ],
      "metadata": {
        "id": "kfKtgRLsTnml"
      },
      "execution_count": null,
      "outputs": []
    },
    {
      "cell_type": "code",
      "source": [
        "# Visualising the results\n",
        "plt.plot(real_currency_rate, color = 'red', label = 'Real Currency Rate')\n",
        "plt.plot(predicted_currency_rate_30, color = 'blue', label = 'predicted_currency_rate(30)')\n",
        "plt.title('Currency Rate')\n",
        "plt.xlabel('Time')\n",
        "plt.ylabel(\"KRW/USD\")\n",
        "plt.legend(loc='best')\n",
        "plt.show()"
      ],
      "metadata": {
        "colab": {
          "base_uri": "https://localhost:8080/",
          "height": 295
        },
        "outputId": "dde69ec2-e45c-4cb4-c43b-febb88ef98f9",
        "id": "1zpVgQo-Tnml"
      },
      "execution_count": null,
      "outputs": [
        {
          "output_type": "display_data",
          "data": {
            "text/plain": [
              "<Figure size 432x288 with 1 Axes>"
            ],
            "image/png": "[encoded data removed]"
          },
          "metadata": {
            "needs_background": "light"
          }
        }
      ]
    },
    {
      "cell_type": "markdown",
      "source": [
        "## Building LSTM model 4"
      ],
      "metadata": {
        "id": "BKBU8UnlXjja"
      }
    },
    {
      "cell_type": "markdown",
      "source": [
        "### preprocessing the data"
      ],
      "metadata": {
        "id": "gqo6dzMzXjja"
      }
    },
    {
      "cell_type": "code",
      "source": [
        "# Creating a data structure with 50 timesteps and 1 output\n",
        "X_train = []\n",
        "y_train = []\n",
        "for i in range(50, len(train)):\n",
        "  X_train.append(train.iloc[i-50:i,:])\n",
        "  y_train.append(train.iloc[i,0])\n",
        "X_train, y_train = np.array(X_train), np.array(y_train)"
      ],
      "metadata": {
        "id": "nYdoNIB6Xjja"
      },
      "execution_count": null,
      "outputs": []
    },
    {
      "cell_type": "code",
      "source": [
        "# Reshaping\n",
        "X_train = np.reshape(X_train, (X_train.shape[0], X_train.shape[1], 4))\n",
        "X_train.shape"
      ],
      "metadata": {
        "colab": {
          "base_uri": "https://localhost:8080/"
        },
        "outputId": "dc7c0f0c-9f3f-440e-a34b-7e0bca3365ca",
        "id": "pqhnK8GXXjja"
      },
      "execution_count": null,
      "outputs": [
        {
          "output_type": "execute_result",
          "data": {
            "text/plain": [
              "(1362, 50, 4)"
            ]
          },
          "metadata": {},
          "execution_count": 75
        }
      ]
    },
    {
      "cell_type": "markdown",
      "source": [
        "### Building model"
      ],
      "metadata": {
        "id": "5h2EltVrXjjb"
      }
    },
    {
      "cell_type": "code",
      "source": [
        "# Initialising the RNN\n",
        "regressor = Sequential()\n",
        "\n",
        "# Initialising the RNN\n",
        "regressor = Sequential()\n",
        "# Adding the first LSTM layer and some Dropout regularization\n",
        "regressor.add(LSTM(units = 40, activation='relu', return_sequences = True, input_shape = (X_train.shape[1], 4)))\n",
        "regressor.add(Dropout(0.2))\n",
        "# Adding a second LSTM layer and some Dropout regularization\n",
        "regressor.add(LSTM(units = 40, activation='relu', return_sequences = True))\n",
        "regressor.add(Dropout(0.2))\n",
        "# Adding a third LSTM layer and some Dropout regularization\n",
        "regressor.add(LSTM(units = 40, activation='relu', return_sequences=True))\n",
        "regressor.add(Dropout(0.2))\n",
        "# Adding a fourth LSTM layer and some Dropout regularization\n",
        "regressor.add(LSTM(units = 40, activation='relu'))\n",
        "regressor.add(Dropout(0.2))\n",
        "# Adding the output layer\n",
        "regressor.add(Dense(units = 1))"
      ],
      "metadata": {
        "id": "A2VHMr4eXjjb"
      },
      "execution_count": null,
      "outputs": []
    },
    {
      "cell_type": "code",
      "source": [
        "# Compiling the RNN\n",
        "regressor.compile(optimizer = 'adam', loss = 'mean_squared_error')\n",
        "\n",
        "# Fitting the RNN to the Training set\n",
        "regressor.fit(X_train, y_train, epochs = 100, batch_size = 32)"
      ],
      "metadata": {
        "colab": {
          "base_uri": "https://localhost:8080/"
        },
        "outputId": "9c7d9ccd-b905-4bed-bc73-4029f1e081d2",
        "id": "0Nr0og1RXjjb"
      },
      "execution_count": null,
      "outputs": [
        {
          "output_type": "stream",
          "name": "stdout",
          "text": [
            "Epoch 1/100\n",
            "43/43 [==============================] - 9s 95ms/step - loss: 0.0471\n",
            "Epoch 2/100\n",
            "43/43 [==============================] - 4s 96ms/step - loss: 0.0141\n",
            "Epoch 3/100\n",
            "43/43 [==============================] - 4s 95ms/step - loss: 0.0102\n",
            "Epoch 4/100\n",
            "43/43 [==============================] - 4s 91ms/step - loss: 0.0096\n",
            "Epoch 5/100\n",
            "43/43 [==============================] - 4s 96ms/step - loss: 0.0094\n",
            "Epoch 6/100\n",
            "43/43 [==============================] - 4s 94ms/step - loss: 0.0087\n",
            "Epoch 7/100\n",
            "43/43 [==============================] - 4s 94ms/step - loss: 0.0082\n",
            "Epoch 8/100\n",
            "43/43 [==============================] - 4s 96ms/step - loss: 0.0078\n",
            "Epoch 9/100\n",
            "43/43 [==============================] - 4s 93ms/step - loss: 0.0074\n",
            "Epoch 10/100\n",
            "43/43 [==============================] - 4s 96ms/step - loss: 0.0073\n",
            "Epoch 11/100\n",
            "43/43 [==============================] - 4s 92ms/step - loss: 0.0069\n",
            "Epoch 12/100\n",
            "43/43 [==============================] - 4s 91ms/step - loss: 0.0068\n",
            "Epoch 13/100\n",
            "43/43 [==============================] - 4s 94ms/step - loss: 0.0068\n",
            "Epoch 14/100\n",
            "43/43 [==============================] - 4s 93ms/step - loss: 0.0064\n",
            "Epoch 15/100\n",
            "43/43 [==============================] - 4s 92ms/step - loss: 0.0062\n",
            "Epoch 16/100\n",
            "43/43 [==============================] - 4s 92ms/step - loss: 0.0060\n",
            "Epoch 17/100\n",
            "43/43 [==============================] - 4s 91ms/step - loss: 0.0061\n",
            "Epoch 18/100\n",
            "43/43 [==============================] - 4s 92ms/step - loss: 0.0058\n",
            "Epoch 19/100\n",
            "43/43 [==============================] - 4s 90ms/step - loss: 0.0057\n",
            "Epoch 20/100\n",
            "43/43 [==============================] - 4s 90ms/step - loss: 0.0061\n",
            "Epoch 21/100\n",
            "43/43 [==============================] - 4s 92ms/step - loss: 0.0058\n",
            "Epoch 22/100\n",
            "43/43 [==============================] - 4s 92ms/step - loss: 0.0051\n",
            "Epoch 23/100\n",
            "43/43 [==============================] - 4s 93ms/step - loss: 0.0054\n",
            "Epoch 24/100\n",
            "43/43 [==============================] - 4s 90ms/step - loss: 0.0055\n",
            "Epoch 25/100\n",
            "43/43 [==============================] - 4s 90ms/step - loss: 0.0049\n",
            "Epoch 26/100\n",
            "43/43 [==============================] - 4s 90ms/step - loss: 0.0048\n",
            "Epoch 27/100\n",
            "43/43 [==============================] - 4s 91ms/step - loss: 0.0048\n",
            "Epoch 28/100\n",
            "43/43 [==============================] - 4s 92ms/step - loss: 0.0046\n",
            "Epoch 29/100\n",
            "43/43 [==============================] - 4s 94ms/step - loss: 0.0046\n",
            "Epoch 30/100\n",
            "43/43 [==============================] - 4s 92ms/step - loss: 0.0045\n",
            "Epoch 31/100\n",
            "43/43 [==============================] - 4s 92ms/step - loss: 0.0042\n",
            "Epoch 32/100\n",
            "43/43 [==============================] - 4s 91ms/step - loss: 0.0045\n",
            "Epoch 33/100\n",
            "43/43 [==============================] - 4s 92ms/step - loss: 0.0037\n",
            "Epoch 34/100\n",
            "43/43 [==============================] - 4s 91ms/step - loss: 0.0040\n",
            "Epoch 35/100\n",
            "43/43 [==============================] - 4s 90ms/step - loss: 0.0040\n",
            "Epoch 36/100\n",
            "43/43 [==============================] - 4s 91ms/step - loss: 0.0041\n",
            "Epoch 37/100\n",
            "43/43 [==============================] - 4s 93ms/step - loss: 0.0039\n",
            "Epoch 38/100\n",
            "43/43 [==============================] - 4s 91ms/step - loss: 0.0038\n",
            "Epoch 39/100\n",
            "43/43 [==============================] - 4s 91ms/step - loss: 0.0039\n",
            "Epoch 40/100\n",
            "43/43 [==============================] - 4s 91ms/step - loss: 0.0038\n",
            "Epoch 41/100\n",
            "43/43 [==============================] - 4s 90ms/step - loss: 0.0036\n",
            "Epoch 42/100\n",
            "43/43 [==============================] - 4s 91ms/step - loss: 0.0040\n",
            "Epoch 43/100\n",
            "43/43 [==============================] - 4s 90ms/step - loss: 0.0038\n",
            "Epoch 44/100\n",
            "43/43 [==============================] - 4s 92ms/step - loss: 0.0038\n",
            "Epoch 45/100\n",
            "43/43 [==============================] - 4s 92ms/step - loss: 0.0035\n",
            "Epoch 46/100\n",
            "43/43 [==============================] - 4s 91ms/step - loss: 0.0033\n",
            "Epoch 47/100\n",
            "43/43 [==============================] - 4s 92ms/step - loss: 0.0037\n",
            "Epoch 48/100\n",
            "43/43 [==============================] - 4s 91ms/step - loss: 0.0033\n",
            "Epoch 49/100\n",
            "43/43 [==============================] - 4s 91ms/step - loss: 0.0033\n",
            "Epoch 50/100\n",
            "43/43 [==============================] - 4s 91ms/step - loss: 0.0033\n",
            "Epoch 51/100\n",
            "43/43 [==============================] - 4s 91ms/step - loss: 0.0033\n",
            "Epoch 52/100\n",
            "43/43 [==============================] - 4s 92ms/step - loss: 0.0033\n",
            "Epoch 53/100\n",
            "43/43 [==============================] - 4s 93ms/step - loss: 0.0030\n",
            "Epoch 54/100\n",
            "43/43 [==============================] - 4s 92ms/step - loss: 0.0033\n",
            "Epoch 55/100\n",
            "43/43 [==============================] - 4s 93ms/step - loss: 0.0029\n",
            "Epoch 56/100\n",
            "43/43 [==============================] - 4s 90ms/step - loss: 0.0032\n",
            "Epoch 57/100\n",
            "43/43 [==============================] - 4s 90ms/step - loss: 0.0030\n",
            "Epoch 58/100\n",
            "43/43 [==============================] - 4s 92ms/step - loss: 0.0034\n",
            "Epoch 59/100\n",
            "43/43 [==============================] - 4s 96ms/step - loss: 0.0030\n",
            "Epoch 60/100\n",
            "43/43 [==============================] - 4s 97ms/step - loss: 0.0032\n",
            "Epoch 61/100\n",
            "43/43 [==============================] - 4s 94ms/step - loss: 0.0029\n",
            "Epoch 62/100\n",
            "43/43 [==============================] - 4s 93ms/step - loss: 0.0029\n",
            "Epoch 63/100\n",
            "43/43 [==============================] - 4s 93ms/step - loss: 0.0028\n",
            "Epoch 64/100\n",
            "43/43 [==============================] - 7s 156ms/step - loss: 0.0028\n",
            "Epoch 65/100\n",
            "43/43 [==============================] - 9s 206ms/step - loss: 0.0029\n",
            "Epoch 66/100\n",
            "43/43 [==============================] - 7s 167ms/step - loss: 0.0027\n",
            "Epoch 67/100\n",
            "43/43 [==============================] - 7s 163ms/step - loss: 0.0029\n",
            "Epoch 68/100\n",
            "43/43 [==============================] - 4s 91ms/step - loss: 0.0028\n",
            "Epoch 69/100\n",
            "43/43 [==============================] - 4s 92ms/step - loss: 0.0027\n",
            "Epoch 70/100\n",
            "43/43 [==============================] - 4s 93ms/step - loss: 0.0028\n",
            "Epoch 71/100\n",
            "43/43 [==============================] - 4s 95ms/step - loss: 0.0026\n",
            "Epoch 72/100\n",
            "43/43 [==============================] - 4s 95ms/step - loss: 0.0027\n",
            "Epoch 73/100\n",
            "43/43 [==============================] - 4s 94ms/step - loss: 0.0026\n",
            "Epoch 74/100\n",
            "43/43 [==============================] - 4s 94ms/step - loss: 0.0026\n",
            "Epoch 75/100\n",
            "43/43 [==============================] - 4s 95ms/step - loss: 0.0025\n",
            "Epoch 76/100\n",
            "43/43 [==============================] - 4s 91ms/step - loss: 0.0025\n",
            "Epoch 77/100\n",
            "43/43 [==============================] - 4s 91ms/step - loss: 0.0024\n",
            "Epoch 78/100\n",
            "43/43 [==============================] - 4s 94ms/step - loss: 0.0026\n",
            "Epoch 79/100\n",
            "43/43 [==============================] - 4s 94ms/step - loss: 0.0024\n",
            "Epoch 80/100\n",
            "43/43 [==============================] - 4s 94ms/step - loss: 0.0026\n",
            "Epoch 81/100\n",
            "43/43 [==============================] - 4s 92ms/step - loss: 0.0027\n",
            "Epoch 82/100\n",
            "43/43 [==============================] - 4s 94ms/step - loss: 0.0026\n",
            "Epoch 83/100\n",
            "43/43 [==============================] - 4s 94ms/step - loss: 0.0024\n",
            "Epoch 84/100\n",
            "43/43 [==============================] - 4s 93ms/step - loss: 0.0025\n",
            "Epoch 85/100\n",
            "43/43 [==============================] - 4s 95ms/step - loss: 0.0025\n",
            "Epoch 86/100\n",
            "43/43 [==============================] - 4s 100ms/step - loss: 0.0024\n",
            "Epoch 87/100\n",
            "43/43 [==============================] - 5s 126ms/step - loss: 0.0024\n",
            "Epoch 88/100\n",
            "43/43 [==============================] - 5s 107ms/step - loss: 0.0025\n",
            "Epoch 89/100\n",
            "43/43 [==============================] - 4s 94ms/step - loss: 0.0024\n",
            "Epoch 90/100\n",
            "43/43 [==============================] - 4s 93ms/step - loss: 0.0023\n",
            "Epoch 91/100\n",
            "43/43 [==============================] - 4s 93ms/step - loss: 0.0023\n",
            "Epoch 92/100\n",
            "43/43 [==============================] - 4s 92ms/step - loss: 0.0023\n",
            "Epoch 93/100\n",
            "43/43 [==============================] - 4s 95ms/step - loss: 0.0025\n",
            "Epoch 94/100\n",
            "43/43 [==============================] - 4s 95ms/step - loss: 0.0022\n",
            "Epoch 95/100\n",
            "43/43 [==============================] - 4s 94ms/step - loss: 0.0024\n",
            "Epoch 96/100\n",
            "43/43 [==============================] - 4s 92ms/step - loss: 0.0023\n",
            "Epoch 97/100\n",
            "43/43 [==============================] - 4s 96ms/step - loss: 0.0023\n",
            "Epoch 98/100\n",
            "43/43 [==============================] - 4s 92ms/step - loss: 0.0022\n",
            "Epoch 99/100\n",
            "43/43 [==============================] - 4s 91ms/step - loss: 0.0021\n",
            "Epoch 100/100\n",
            "43/43 [==============================] - 4s 94ms/step - loss: 0.0024\n"
          ]
        },
        {
          "output_type": "execute_result",
          "data": {
            "text/plain": [
              "<keras.callbacks.History at 0x7fb9f3f7ba50>"
            ]
          },
          "metadata": {},
          "execution_count": 77
        }
      ]
    },
    {
      "cell_type": "code",
      "source": [
        "# preprocessing the test dataset\n",
        "# Creating a data structure with 50 timesteps\n",
        "total_data = np.concatenate([train, test], axis=0)\n",
        "\n",
        "X_test = []\n",
        "for i in range(len(total_data)-len(test), len(total_data)):\n",
        "  X_test.append(total_data[i-50:i,:])\n",
        "X_test = np.array(X_test)\n",
        "\n",
        "# Reshaping\n",
        "X_test = np.reshape(X_test, (X_test.shape[0], X_test.shape[1], 4))\n",
        "X_test.shape"
      ],
      "metadata": {
        "colab": {
          "base_uri": "https://localhost:8080/"
        },
        "outputId": "6a73dc5c-2526-42a9-bc1b-6dbe708de20e",
        "id": "_RLd2UMdXjjb"
      },
      "execution_count": null,
      "outputs": [
        {
          "output_type": "execute_result",
          "data": {
            "text/plain": [
              "(267, 50, 4)"
            ]
          },
          "metadata": {},
          "execution_count": 78
        }
      ]
    },
    {
      "cell_type": "code",
      "source": [
        "# 이전에 지정해주었던 test를 y_test로 사용하기로 한다.(Scaling은 되어 있음)\n",
        "y_test = np.reshape(np.array(test.iloc[:,0]), (-1,1))\n",
        "print(f\"shape of X_test: {X_test.shape}\")\n",
        "print(f\"shpa of y_test: {y_test.shape}\")"
      ],
      "metadata": {
        "colab": {
          "base_uri": "https://localhost:8080/"
        },
        "outputId": "4cf8a998-2e08-464b-b356-1978dc4341a2",
        "id": "HKtShzc5Xjjb"
      },
      "execution_count": null,
      "outputs": [
        {
          "output_type": "stream",
          "name": "stdout",
          "text": [
            "shape of X_test: (267, 50, 4)\n",
            "shpa of y_test: (267, 1)\n"
          ]
        }
      ]
    },
    {
      "cell_type": "code",
      "source": [
        "real_currency_rate = y_test\n",
        "predicted_currency_rate_50 = regressor.predict(X_test)\n",
        "\n",
        "print(mean_squared_error(real_currency_rate, predicted_currency_rate_50))"
      ],
      "metadata": {
        "colab": {
          "base_uri": "https://localhost:8080/"
        },
        "outputId": "e6cd2882-c100-45e8-a4af-35e76aae02ea",
        "id": "UOX6LmxuXjjc"
      },
      "execution_count": null,
      "outputs": [
        {
          "output_type": "stream",
          "name": "stdout",
          "text": [
            "0.005314384008744188\n"
          ]
        }
      ]
    },
    {
      "cell_type": "code",
      "source": [
        "real_currency_rate = scaler_target.inverse_transform(real_currency_rate)\n",
        "predicted_currency_rate_50 = scaler_target.inverse_transform(predicted_currency_rate_50)"
      ],
      "metadata": {
        "id": "aZZfufHKXjjc"
      },
      "execution_count": null,
      "outputs": []
    },
    {
      "cell_type": "code",
      "source": [
        "# Visualising the results\n",
        "plt.plot(real_currency_rate, color = 'red', label = 'Real Currency Rate')\n",
        "plt.plot(predicted_currency_rate_50, color = 'blue', label = 'predicted_currency_rate(50)')\n",
        "plt.title('Currency Rate')\n",
        "plt.xlabel('Time')\n",
        "plt.ylabel(\"KRW/USD\")\n",
        "plt.legend(loc='best')\n",
        "plt.show()"
      ],
      "metadata": {
        "colab": {
          "base_uri": "https://localhost:8080/",
          "height": 295
        },
        "outputId": "565011b4-4c2b-4fb2-9fbf-8fd783fc64a9",
        "id": "ysz9XFBFXjjc"
      },
      "execution_count": null,
      "outputs": [
        {
          "output_type": "display_data",
          "data": {
            "text/plain": [
              "<Figure size 432x288 with 1 Axes>"
            ],
            "image/png": "[encoded data removed]"
          },
          "metadata": {
            "needs_background": "light"
          }
        }
      ]
    }
  ]
}