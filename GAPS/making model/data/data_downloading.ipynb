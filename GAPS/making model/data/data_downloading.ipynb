{
 "cells": [
  {
   "cell_type": "code",
   "execution_count": 22,
   "metadata": {},
   "outputs": [],
   "source": [
    "import pandas as pd\n",
    "import datetime\n",
    "import pandas_datareader.naver as web_naver"
   ]
  },
  {
   "cell_type": "code",
   "execution_count": 29,
   "metadata": {},
   "outputs": [],
   "source": [
    "start=datetime.datetime(2000,1,1)\n",
    "end=datetime.datetime(2022,5,16)\n",
    "\n",
    "tickers = ['069500','232080','143850','195930','238720',\n",
    "           '192090','148070','136340','182490','132030',\n",
    "           '130680','114800','138230','139660','130730']\n",
    "ticker_names=['KODEX200','TIGER코스닥150','TIGER미국SP500선물(H)','TIGER유로스탁스50(H)','KINDEX일본Nikkey225(H)',\n",
    "              'TIGER차이나CSI300','KOSEF국고채10년','KBSTAR중기우량회사채','TIGER단기선진하이일드(H)','KODEX골드선물(H)',\n",
    "              'TIGER원유선물(H)','KODEX인버스','KOSEF미국달러선물','KOSEF미국달러선물인버스','KOSEF단기자금']\n",
    "\n",
    "DATA_PATH = \"C:/Users/heunjin516/Desktop/박현진/서울대학교/FIND-A/DB GAPS/데이터/\""
   ]
  },
  {
   "cell_type": "code",
   "execution_count": 32,
   "metadata": {},
   "outputs": [],
   "source": [
    "for ticker in tickers:\n",
    "    ticker_name = ticker_names[tickers.index(ticker)]\n",
    "    df = web_naver.NaverDailyReader(symbols=ticker,start=start,end=end,adjust_price=True).read()\n",
    "    df.index = pd.to_datetime(df.index)\n",
    "    df.to_csv(DATA_PATH+ticker_name+\".csv\")\n"
   ]
  },
  {
   "cell_type": "code",
   "execution_count": null,
   "metadata": {},
   "outputs": [],
   "source": []
  }
 ],
 "metadata": {
  "interpreter": {
   "hash": "acc64d1af6ba8d3bf00aa02a07ae1853666ab08a3f29a5861adb69235ae8f52d"
  },
  "kernelspec": {
   "display_name": "Python 3.9.7 ('ml4t')",
   "language": "python",
   "name": "python3"
  },
  "language_info": {
   "codemirror_mode": {
    "name": "ipython",
    "version": 3
   },
   "file_extension": ".py",
   "mimetype": "text/x-python",
   "name": "python",
   "nbconvert_exporter": "python",
   "pygments_lexer": "ipython3",
   "version": "3.9.7"
  },
  "orig_nbformat": 4
 },
 "nbformat": 4,
 "nbformat_minor": 2
}
