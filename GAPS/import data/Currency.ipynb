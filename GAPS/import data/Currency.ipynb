{
 "cells": [
  {
   "cell_type": "markdown",
   "id": "320bb950",
   "metadata": {},
   "source": [
    "### imports"
   ]
  },
  {
   "cell_type": "code",
   "execution_count": 11,
   "id": "f2277b15",
   "metadata": {},
   "outputs": [],
   "source": [
    "import pandas as pd\n",
    "import numpy as np\n",
    "import matplotlib.pyplot as plt\n",
    "import seaborn as sns\n",
    "\n",
    "import FinanceDataReader as fdr\n",
    "import pandas_datareader.data as web\n",
    "\n",
    "%matplotlib inline"
   ]
  },
  {
   "cell_type": "code",
   "execution_count": 12,
   "id": "bf0322b7",
   "metadata": {},
   "outputs": [],
   "source": [
    "import warnings\n",
    "warnings.filterwarnings('ignore')"
   ]
  },
  {
   "cell_type": "markdown",
   "id": "e7c37d65",
   "metadata": {},
   "source": [
    "### Currency"
   ]
  },
  {
   "cell_type": "markdown",
   "id": "98397f5c",
   "metadata": {},
   "source": [
    "#### 각각의 환율 데이터 가져오기"
   ]
  },
  {
   "cell_type": "code",
   "execution_count": 13,
   "id": "22710e27",
   "metadata": {},
   "outputs": [],
   "source": [
    "USD_KRX = fdr.DataReader('USD/KRW', start='2010', end='2022-06-19') # 달러/원화\n",
    "JPY_KRX = fdr.DataReader(\"JPY/KRW\", start='2010', end='2022-06-19') # 엔/원화\n",
    "CNY_KRX = fdr.DataReader('CNY/KRW', start='2010', end='2022-06-19') # 위안/원화\n",
    "EUR_KRX = fdr.DataReader(\"EUR/KRW\", start='2010', end='2022-06-19') # 유로/원화"
   ]
  },
  {
   "cell_type": "code",
   "execution_count": 14,
   "id": "780f0dd5",
   "metadata": {},
   "outputs": [
    {
     "data": {
      "text/html": [
       "<div>\n",
       "<style scoped>\n",
       "    .dataframe tbody tr th:only-of-type {\n",
       "        vertical-align: middle;\n",
       "    }\n",
       "\n",
       "    .dataframe tbody tr th {\n",
       "        vertical-align: top;\n",
       "    }\n",
       "\n",
       "    .dataframe thead th {\n",
       "        text-align: right;\n",
       "    }\n",
       "</style>\n",
       "<table border=\"1\" class=\"dataframe\">\n",
       "  <thead>\n",
       "    <tr style=\"text-align: right;\">\n",
       "      <th></th>\n",
       "      <th>Close</th>\n",
       "      <th>Open</th>\n",
       "      <th>High</th>\n",
       "      <th>Low</th>\n",
       "      <th>Change</th>\n",
       "    </tr>\n",
       "    <tr>\n",
       "      <th>Date</th>\n",
       "      <th></th>\n",
       "      <th></th>\n",
       "      <th></th>\n",
       "      <th></th>\n",
       "      <th></th>\n",
       "    </tr>\n",
       "  </thead>\n",
       "  <tbody>\n",
       "    <tr>\n",
       "      <th>2010-01-01</th>\n",
       "      <td>1166.08</td>\n",
       "      <td>1166.08</td>\n",
       "      <td>1166.08</td>\n",
       "      <td>1166.08</td>\n",
       "      <td>0.0000</td>\n",
       "    </tr>\n",
       "    <tr>\n",
       "      <th>2010-01-04</th>\n",
       "      <td>1150.00</td>\n",
       "      <td>1164.07</td>\n",
       "      <td>1164.07</td>\n",
       "      <td>1149.35</td>\n",
       "      <td>-0.0138</td>\n",
       "    </tr>\n",
       "    <tr>\n",
       "      <th>2010-01-05</th>\n",
       "      <td>1140.20</td>\n",
       "      <td>1151.00</td>\n",
       "      <td>1151.00</td>\n",
       "      <td>1136.30</td>\n",
       "      <td>-0.0085</td>\n",
       "    </tr>\n",
       "    <tr>\n",
       "      <th>2010-01-06</th>\n",
       "      <td>1129.20</td>\n",
       "      <td>1140.20</td>\n",
       "      <td>1144.70</td>\n",
       "      <td>1129.20</td>\n",
       "      <td>-0.0096</td>\n",
       "    </tr>\n",
       "    <tr>\n",
       "      <th>2010-01-07</th>\n",
       "      <td>1138.20</td>\n",
       "      <td>1129.20</td>\n",
       "      <td>1138.20</td>\n",
       "      <td>1127.80</td>\n",
       "      <td>0.0080</td>\n",
       "    </tr>\n",
       "  </tbody>\n",
       "</table>\n",
       "</div>"
      ],
      "text/plain": [
       "              Close     Open     High      Low  Change\n",
       "Date                                                  \n",
       "2010-01-01  1166.08  1166.08  1166.08  1166.08  0.0000\n",
       "2010-01-04  1150.00  1164.07  1164.07  1149.35 -0.0138\n",
       "2010-01-05  1140.20  1151.00  1151.00  1136.30 -0.0085\n",
       "2010-01-06  1129.20  1140.20  1144.70  1129.20 -0.0096\n",
       "2010-01-07  1138.20  1129.20  1138.20  1127.80  0.0080"
      ]
     },
     "execution_count": 14,
     "metadata": {},
     "output_type": "execute_result"
    }
   ],
   "source": [
    "USD_KRX.head()"
   ]
  },
  {
   "cell_type": "code",
   "execution_count": 15,
   "id": "b1f73683",
   "metadata": {},
   "outputs": [],
   "source": [
    "USD_KRX.to_csv('USD_KRX.csv')\n",
    "JPY_KRX.to_csv('JPY_KRX.csv')\n",
    "CNY_KRX.to_csv('CNY_KRX.csv')\n",
    "EUR_KRX.to_csv('EUR_KRX.csv')"
   ]
  },
  {
   "cell_type": "markdown",
   "id": "c1704a19",
   "metadata": {},
   "source": [
    "#### 통합된 환율 데이터 가져오기"
   ]
  },
  {
   "cell_type": "code",
   "execution_count": 16,
   "id": "3f79d357",
   "metadata": {},
   "outputs": [
    {
     "data": {
      "text/html": [
       "<div>\n",
       "<style scoped>\n",
       "    .dataframe tbody tr th:only-of-type {\n",
       "        vertical-align: middle;\n",
       "    }\n",
       "\n",
       "    .dataframe tbody tr th {\n",
       "        vertical-align: top;\n",
       "    }\n",
       "\n",
       "    .dataframe thead th {\n",
       "        text-align: right;\n",
       "    }\n",
       "</style>\n",
       "<table border=\"1\" class=\"dataframe\">\n",
       "  <thead>\n",
       "    <tr style=\"text-align: right;\">\n",
       "      <th></th>\n",
       "      <th>USD</th>\n",
       "      <th>JPY</th>\n",
       "      <th>CNY</th>\n",
       "      <th>EUR</th>\n",
       "    </tr>\n",
       "    <tr>\n",
       "      <th>Date</th>\n",
       "      <th></th>\n",
       "      <th></th>\n",
       "      <th></th>\n",
       "      <th></th>\n",
       "    </tr>\n",
       "  </thead>\n",
       "  <tbody>\n",
       "    <tr>\n",
       "      <th>2010-01-01</th>\n",
       "      <td>1166.08</td>\n",
       "      <td>12.5351</td>\n",
       "      <td>170.81</td>\n",
       "      <td>1670.52</td>\n",
       "    </tr>\n",
       "    <tr>\n",
       "      <th>2010-01-04</th>\n",
       "      <td>1150.00</td>\n",
       "      <td>12.4230</td>\n",
       "      <td>168.42</td>\n",
       "      <td>1657.55</td>\n",
       "    </tr>\n",
       "    <tr>\n",
       "      <th>2010-01-05</th>\n",
       "      <td>1140.20</td>\n",
       "      <td>12.4313</td>\n",
       "      <td>166.87</td>\n",
       "      <td>1638.30</td>\n",
       "    </tr>\n",
       "    <tr>\n",
       "      <th>2010-01-06</th>\n",
       "      <td>1129.20</td>\n",
       "      <td>12.2274</td>\n",
       "      <td>165.38</td>\n",
       "      <td>1627.74</td>\n",
       "    </tr>\n",
       "    <tr>\n",
       "      <th>2010-01-07</th>\n",
       "      <td>1138.20</td>\n",
       "      <td>12.1974</td>\n",
       "      <td>166.69</td>\n",
       "      <td>1629.74</td>\n",
       "    </tr>\n",
       "  </tbody>\n",
       "</table>\n",
       "</div>"
      ],
      "text/plain": [
       "                USD      JPY     CNY      EUR\n",
       "Date                                         \n",
       "2010-01-01  1166.08  12.5351  170.81  1670.52\n",
       "2010-01-04  1150.00  12.4230  168.42  1657.55\n",
       "2010-01-05  1140.20  12.4313  166.87  1638.30\n",
       "2010-01-06  1129.20  12.2274  165.38  1627.74\n",
       "2010-01-07  1138.20  12.1974  166.69  1629.74"
      ]
     },
     "execution_count": 16,
     "metadata": {},
     "output_type": "execute_result"
    }
   ],
   "source": [
    "total_currency = pd.DataFrame({'USD':USD_KRX.Close,\n",
    "                               'JPY':JPY_KRX.Close,\n",
    "                               'CNY':CNY_KRX.Close,\n",
    "                               'EUR':EUR_KRX.Close})\n",
    "total_currency.head()"
   ]
  },
  {
   "cell_type": "code",
   "execution_count": 17,
   "id": "290caa1c",
   "metadata": {},
   "outputs": [],
   "source": [
    "total_currency.to_csv('currency.csv')"
   ]
  },
  {
   "cell_type": "markdown",
   "id": "7ba4872c",
   "metadata": {},
   "source": [
    "#### 변화율 통합데이터 가져오기"
   ]
  },
  {
   "cell_type": "code",
   "execution_count": 18,
   "id": "b26d99df",
   "metadata": {},
   "outputs": [
    {
     "data": {
      "text/html": [
       "<div>\n",
       "<style scoped>\n",
       "    .dataframe tbody tr th:only-of-type {\n",
       "        vertical-align: middle;\n",
       "    }\n",
       "\n",
       "    .dataframe tbody tr th {\n",
       "        vertical-align: top;\n",
       "    }\n",
       "\n",
       "    .dataframe thead th {\n",
       "        text-align: right;\n",
       "    }\n",
       "</style>\n",
       "<table border=\"1\" class=\"dataframe\">\n",
       "  <thead>\n",
       "    <tr style=\"text-align: right;\">\n",
       "      <th></th>\n",
       "      <th>USD</th>\n",
       "      <th>JPY</th>\n",
       "      <th>CNY</th>\n",
       "      <th>EUR</th>\n",
       "    </tr>\n",
       "    <tr>\n",
       "      <th>Date</th>\n",
       "      <th></th>\n",
       "      <th></th>\n",
       "      <th></th>\n",
       "      <th></th>\n",
       "    </tr>\n",
       "  </thead>\n",
       "  <tbody>\n",
       "    <tr>\n",
       "      <th>2010-01-01</th>\n",
       "      <td>1166.08</td>\n",
       "      <td>12.5351</td>\n",
       "      <td>170.81</td>\n",
       "      <td>1670.52</td>\n",
       "    </tr>\n",
       "    <tr>\n",
       "      <th>2010-02-01</th>\n",
       "      <td>1166.25</td>\n",
       "      <td>12.8662</td>\n",
       "      <td>170.83</td>\n",
       "      <td>1624.70</td>\n",
       "    </tr>\n",
       "    <tr>\n",
       "      <th>2010-03-01</th>\n",
       "      <td>1154.00</td>\n",
       "      <td>12.9518</td>\n",
       "      <td>169.05</td>\n",
       "      <td>1564.76</td>\n",
       "    </tr>\n",
       "    <tr>\n",
       "      <th>2010-04-01</th>\n",
       "      <td>1126.35</td>\n",
       "      <td>11.9996</td>\n",
       "      <td>165.00</td>\n",
       "      <td>1529.53</td>\n",
       "    </tr>\n",
       "    <tr>\n",
       "      <th>2010-06-01</th>\n",
       "      <td>1216.50</td>\n",
       "      <td>13.3666</td>\n",
       "      <td>178.14</td>\n",
       "      <td>1487.41</td>\n",
       "    </tr>\n",
       "  </tbody>\n",
       "</table>\n",
       "</div>"
      ],
      "text/plain": [
       "                USD      JPY     CNY      EUR\n",
       "Date                                         \n",
       "2010-01-01  1166.08  12.5351  170.81  1670.52\n",
       "2010-02-01  1166.25  12.8662  170.83  1624.70\n",
       "2010-03-01  1154.00  12.9518  169.05  1564.76\n",
       "2010-04-01  1126.35  11.9996  165.00  1529.53\n",
       "2010-06-01  1216.50  13.3666  178.14  1487.41"
      ]
     },
     "execution_count": 18,
     "metadata": {},
     "output_type": "execute_result"
    }
   ],
   "source": [
    "# 한달 동안의 환율 변화율을 모은 데이터\n",
    "target_day = 1\n",
    "currency_month = total_currency.query('Date.dt.day == @target_day')\n",
    "currency_month.head()"
   ]
  },
  {
   "cell_type": "code",
   "execution_count": 19,
   "id": "8014b5af",
   "metadata": {},
   "outputs": [
    {
     "data": {
      "text/html": [
       "<div>\n",
       "<style scoped>\n",
       "    .dataframe tbody tr th:only-of-type {\n",
       "        vertical-align: middle;\n",
       "    }\n",
       "\n",
       "    .dataframe tbody tr th {\n",
       "        vertical-align: top;\n",
       "    }\n",
       "\n",
       "    .dataframe thead th {\n",
       "        text-align: right;\n",
       "    }\n",
       "</style>\n",
       "<table border=\"1\" class=\"dataframe\">\n",
       "  <thead>\n",
       "    <tr style=\"text-align: right;\">\n",
       "      <th></th>\n",
       "      <th>USD</th>\n",
       "      <th>JPY</th>\n",
       "      <th>CNY</th>\n",
       "      <th>EUR</th>\n",
       "    </tr>\n",
       "    <tr>\n",
       "      <th>Date</th>\n",
       "      <th></th>\n",
       "      <th></th>\n",
       "      <th></th>\n",
       "      <th></th>\n",
       "    </tr>\n",
       "  </thead>\n",
       "  <tbody>\n",
       "    <tr>\n",
       "      <th>2010-01-01</th>\n",
       "      <td>0.000000</td>\n",
       "      <td>0.000000</td>\n",
       "      <td>0.000000</td>\n",
       "      <td>0.000000</td>\n",
       "    </tr>\n",
       "    <tr>\n",
       "      <th>2010-02-01</th>\n",
       "      <td>0.000146</td>\n",
       "      <td>0.026414</td>\n",
       "      <td>0.000117</td>\n",
       "      <td>-0.027429</td>\n",
       "    </tr>\n",
       "    <tr>\n",
       "      <th>2010-03-01</th>\n",
       "      <td>-0.010504</td>\n",
       "      <td>0.006653</td>\n",
       "      <td>-0.010420</td>\n",
       "      <td>-0.036893</td>\n",
       "    </tr>\n",
       "    <tr>\n",
       "      <th>2010-04-01</th>\n",
       "      <td>-0.023960</td>\n",
       "      <td>-0.073519</td>\n",
       "      <td>-0.023957</td>\n",
       "      <td>-0.022515</td>\n",
       "    </tr>\n",
       "    <tr>\n",
       "      <th>2010-06-01</th>\n",
       "      <td>0.080037</td>\n",
       "      <td>0.113920</td>\n",
       "      <td>0.079636</td>\n",
       "      <td>-0.027538</td>\n",
       "    </tr>\n",
       "  </tbody>\n",
       "</table>\n",
       "</div>"
      ],
      "text/plain": [
       "                 USD       JPY       CNY       EUR\n",
       "Date                                              \n",
       "2010-01-01  0.000000  0.000000  0.000000  0.000000\n",
       "2010-02-01  0.000146  0.026414  0.000117 -0.027429\n",
       "2010-03-01 -0.010504  0.006653 -0.010420 -0.036893\n",
       "2010-04-01 -0.023960 -0.073519 -0.023957 -0.022515\n",
       "2010-06-01  0.080037  0.113920  0.079636 -0.027538"
      ]
     },
     "execution_count": 19,
     "metadata": {},
     "output_type": "execute_result"
    }
   ],
   "source": [
    "currency_month_change = currency_month.pct_change()\n",
    "currency_month_change.fillna(0, inplace=True)\n",
    "currency_month_change.head()"
   ]
  },
  {
   "cell_type": "code",
   "execution_count": 20,
   "id": "287ee3c9",
   "metadata": {},
   "outputs": [],
   "source": [
    "currency_month_change.to_csv('currnecy_change.csv')"
   ]
  }
 ],
 "metadata": {
  "kernelspec": {
   "display_name": "ml4at",
   "language": "python",
   "name": "ml4at"
  },
  "language_info": {
   "codemirror_mode": {
    "name": "ipython",
    "version": 3
   },
   "file_extension": ".py",
   "mimetype": "text/x-python",
   "name": "python",
   "nbconvert_exporter": "python",
   "pygments_lexer": "ipython3",
   "version": "3.8.13"
  }
 },
 "nbformat": 4,
 "nbformat_minor": 5
}
