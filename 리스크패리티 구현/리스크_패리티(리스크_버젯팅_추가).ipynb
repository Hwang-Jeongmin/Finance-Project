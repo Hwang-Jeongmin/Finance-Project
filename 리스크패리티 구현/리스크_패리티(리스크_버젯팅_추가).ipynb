{
  "cells": [
    {
      "cell_type": "markdown",
      "metadata": {
        "id": "AmrKmOZRJfzP"
      },
      "source": [
        "## 패키지 불러오기 및 주요 변수 설정하기"
      ]
    },
    {
      "cell_type": "code",
      "execution_count": null,
      "metadata": {
        "colab": {
          "base_uri": "https://localhost:8080/"
        },
        "id": "aALwtGUbh8Ar",
        "outputId": "71bf4513-42da-475c-f65e-3cdc8e06b17a"
      },
      "outputs": [
        {
          "output_type": "stream",
          "name": "stdout",
          "text": [
            "Reading package lists... Done\n",
            "Building dependency tree       \n",
            "Reading state information... Done\n",
            "The following package was automatically installed and is no longer required:\n",
            "  libnvidia-common-510\n",
            "Use 'sudo apt autoremove' to remove it.\n",
            "The following NEW packages will be installed:\n",
            "  fonts-nanum\n",
            "0 upgraded, 1 newly installed, 0 to remove and 27 not upgraded.\n",
            "Need to get 9,599 kB of archives.\n",
            "After this operation, 29.6 MB of additional disk space will be used.\n",
            "Get:1 http://archive.ubuntu.com/ubuntu focal/universe amd64 fonts-nanum all 20180306-3 [9,599 kB]\n",
            "Fetched 9,599 kB in 1s (7,741 kB/s)\n",
            "debconf: unable to initialize frontend: Dialog\n",
            "debconf: (No usable dialog-like program is installed, so the dialog based frontend cannot be used. at /usr/share/perl5/Debconf/FrontEnd/Dialog.pm line 76, <> line 1.)\n",
            "debconf: falling back to frontend: Readline\n",
            "debconf: unable to initialize frontend: Readline\n",
            "debconf: (This frontend requires a controlling tty.)\n",
            "debconf: falling back to frontend: Teletype\n",
            "dpkg-preconfigure: unable to re-open stdin: \n",
            "Selecting previously unselected package fonts-nanum.\n",
            "(Reading database ... 129496 files and directories currently installed.)\n",
            "Preparing to unpack .../fonts-nanum_20180306-3_all.deb ...\n",
            "Unpacking fonts-nanum (20180306-3) ...\n",
            "Setting up fonts-nanum (20180306-3) ...\n",
            "Processing triggers for fontconfig (2.13.1-2ubuntu3) ...\n",
            "/usr/share/fonts: caching, new cache contents: 0 fonts, 1 dirs\n",
            "/usr/share/fonts/truetype: caching, new cache contents: 0 fonts, 3 dirs\n",
            "/usr/share/fonts/truetype/humor-sans: caching, new cache contents: 1 fonts, 0 dirs\n",
            "/usr/share/fonts/truetype/liberation: caching, new cache contents: 16 fonts, 0 dirs\n",
            "/usr/share/fonts/truetype/nanum: caching, new cache contents: 10 fonts, 0 dirs\n",
            "/usr/local/share/fonts: caching, new cache contents: 0 fonts, 0 dirs\n",
            "/root/.local/share/fonts: skipping, no such directory\n",
            "/root/.fonts: skipping, no such directory\n",
            "/usr/share/fonts/truetype: skipping, looped directory detected\n",
            "/usr/share/fonts/truetype/humor-sans: skipping, looped directory detected\n",
            "/usr/share/fonts/truetype/liberation: skipping, looped directory detected\n",
            "/usr/share/fonts/truetype/nanum: skipping, looped directory detected\n",
            "/var/cache/fontconfig: cleaning cache directory\n",
            "/root/.cache/fontconfig: not cleaning non-existent cache directory\n",
            "/root/.fontconfig: not cleaning non-existent cache directory\n",
            "fc-cache: succeeded\n"
          ]
        }
      ],
      "source": [
        "# 한글 폰트(나눔) 설치하기, 런타임 재시작 할 것\n",
        "!sudo apt-get install -y fonts-nanum\n",
        "!sudo fc-cache -fv\n",
        "!rm ~/.cache/matplotlib -rf"
      ]
    },
    {
      "cell_type": "code",
      "execution_count": null,
      "metadata": {
        "id": "8KDHUe4YCZOt"
      },
      "outputs": [],
      "source": [
        "import pandas as pd\n",
        "import numpy as np\n",
        "\n",
        "from math import sqrt\n",
        "from scipy import stats, optimize \n",
        "\n",
        "import matplotlib.pyplot as plt\n",
        "import seaborn as sns\n",
        "from matplotlib.ticker import FuncFormatter\n",
        "\n",
        "import warnings\n",
        "warnings.filterwarnings('ignore')\n",
        "\n",
        "pd.set_option('display.float_format', '{:.4f}'.format)\n",
        "plt.rc('font', family='NanumBarunGothic')"
      ]
    },
    {
      "cell_type": "code",
      "execution_count": null,
      "metadata": {
        "colab": {
          "base_uri": "https://localhost:8080/",
          "height": 238
        },
        "id": "-Lj1ze3_Cq5_",
        "outputId": "6ebbdaf9-0605-4899-f3eb-ab7c2c5dc72f"
      },
      "outputs": [
        {
          "output_type": "execute_result",
          "data": {
            "text/plain": [
              "       국내주식   해외주식    국내채권    해외채권     원자재    부동산\n",
              "국내주식 0.0450 0.0333  0.0024  0.0041  0.0253 0.0333\n",
              "해외주식 0.0333 0.0341  0.0026  0.0046  0.0232 0.0343\n",
              "국내채권 0.0024 0.0026  0.0016  0.0017 -0.0014 0.0034\n",
              "해외채권 0.0041 0.0046  0.0017  0.0023 -0.0015 0.0055\n",
              "원자재  0.0253 0.0232 -0.0014 -0.0015  0.0664 0.0273\n",
              "부동산  0.0333 0.0343  0.0034  0.0055  0.0273 0.0444"
            ],
            "text/html": [
              "\n",
              "  <div id=\"df-ce82f2fd-a6c3-46e8-b492-d25e8723301f\">\n",
              "    <div class=\"colab-df-container\">\n",
              "      <div>\n",
              "<style scoped>\n",
              "    .dataframe tbody tr th:only-of-type {\n",
              "        vertical-align: middle;\n",
              "    }\n",
              "\n",
              "    .dataframe tbody tr th {\n",
              "        vertical-align: top;\n",
              "    }\n",
              "\n",
              "    .dataframe thead th {\n",
              "        text-align: right;\n",
              "    }\n",
              "</style>\n",
              "<table border=\"1\" class=\"dataframe\">\n",
              "  <thead>\n",
              "    <tr style=\"text-align: right;\">\n",
              "      <th></th>\n",
              "      <th>국내주식</th>\n",
              "      <th>해외주식</th>\n",
              "      <th>국내채권</th>\n",
              "      <th>해외채권</th>\n",
              "      <th>원자재</th>\n",
              "      <th>부동산</th>\n",
              "    </tr>\n",
              "  </thead>\n",
              "  <tbody>\n",
              "    <tr>\n",
              "      <th>국내주식</th>\n",
              "      <td>0.0450</td>\n",
              "      <td>0.0333</td>\n",
              "      <td>0.0024</td>\n",
              "      <td>0.0041</td>\n",
              "      <td>0.0253</td>\n",
              "      <td>0.0333</td>\n",
              "    </tr>\n",
              "    <tr>\n",
              "      <th>해외주식</th>\n",
              "      <td>0.0333</td>\n",
              "      <td>0.0341</td>\n",
              "      <td>0.0026</td>\n",
              "      <td>0.0046</td>\n",
              "      <td>0.0232</td>\n",
              "      <td>0.0343</td>\n",
              "    </tr>\n",
              "    <tr>\n",
              "      <th>국내채권</th>\n",
              "      <td>0.0024</td>\n",
              "      <td>0.0026</td>\n",
              "      <td>0.0016</td>\n",
              "      <td>0.0017</td>\n",
              "      <td>-0.0014</td>\n",
              "      <td>0.0034</td>\n",
              "    </tr>\n",
              "    <tr>\n",
              "      <th>해외채권</th>\n",
              "      <td>0.0041</td>\n",
              "      <td>0.0046</td>\n",
              "      <td>0.0017</td>\n",
              "      <td>0.0023</td>\n",
              "      <td>-0.0015</td>\n",
              "      <td>0.0055</td>\n",
              "    </tr>\n",
              "    <tr>\n",
              "      <th>원자재</th>\n",
              "      <td>0.0253</td>\n",
              "      <td>0.0232</td>\n",
              "      <td>-0.0014</td>\n",
              "      <td>-0.0015</td>\n",
              "      <td>0.0664</td>\n",
              "      <td>0.0273</td>\n",
              "    </tr>\n",
              "    <tr>\n",
              "      <th>부동산</th>\n",
              "      <td>0.0333</td>\n",
              "      <td>0.0343</td>\n",
              "      <td>0.0034</td>\n",
              "      <td>0.0055</td>\n",
              "      <td>0.0273</td>\n",
              "      <td>0.0444</td>\n",
              "    </tr>\n",
              "  </tbody>\n",
              "</table>\n",
              "</div>\n",
              "      <button class=\"colab-df-convert\" onclick=\"convertToInteractive('df-ce82f2fd-a6c3-46e8-b492-d25e8723301f')\"\n",
              "              title=\"Convert this dataframe to an interactive table.\"\n",
              "              style=\"display:none;\">\n",
              "        \n",
              "  <svg xmlns=\"http://www.w3.org/2000/svg\" height=\"24px\"viewBox=\"0 0 24 24\"\n",
              "       width=\"24px\">\n",
              "    <path d=\"M0 0h24v24H0V0z\" fill=\"none\"/>\n",
              "    <path d=\"M18.56 5.44l.94 2.06.94-2.06 2.06-.94-2.06-.94-.94-2.06-.94 2.06-2.06.94zm-11 1L8.5 8.5l.94-2.06 2.06-.94-2.06-.94L8.5 2.5l-.94 2.06-2.06.94zm10 10l.94 2.06.94-2.06 2.06-.94-2.06-.94-.94-2.06-.94 2.06-2.06.94z\"/><path d=\"M17.41 7.96l-1.37-1.37c-.4-.4-.92-.59-1.43-.59-.52 0-1.04.2-1.43.59L10.3 9.45l-7.72 7.72c-.78.78-.78 2.05 0 2.83L4 21.41c.39.39.9.59 1.41.59.51 0 1.02-.2 1.41-.59l7.78-7.78 2.81-2.81c.8-.78.8-2.07 0-2.86zM5.41 20L4 18.59l7.72-7.72 1.47 1.35L5.41 20z\"/>\n",
              "  </svg>\n",
              "      </button>\n",
              "      \n",
              "  <style>\n",
              "    .colab-df-container {\n",
              "      display:flex;\n",
              "      flex-wrap:wrap;\n",
              "      gap: 12px;\n",
              "    }\n",
              "\n",
              "    .colab-df-convert {\n",
              "      background-color: #E8F0FE;\n",
              "      border: none;\n",
              "      border-radius: 50%;\n",
              "      cursor: pointer;\n",
              "      display: none;\n",
              "      fill: #1967D2;\n",
              "      height: 32px;\n",
              "      padding: 0 0 0 0;\n",
              "      width: 32px;\n",
              "    }\n",
              "\n",
              "    .colab-df-convert:hover {\n",
              "      background-color: #E2EBFA;\n",
              "      box-shadow: 0px 1px 2px rgba(60, 64, 67, 0.3), 0px 1px 3px 1px rgba(60, 64, 67, 0.15);\n",
              "      fill: #174EA6;\n",
              "    }\n",
              "\n",
              "    [theme=dark] .colab-df-convert {\n",
              "      background-color: #3B4455;\n",
              "      fill: #D2E3FC;\n",
              "    }\n",
              "\n",
              "    [theme=dark] .colab-df-convert:hover {\n",
              "      background-color: #434B5C;\n",
              "      box-shadow: 0px 1px 3px 1px rgba(0, 0, 0, 0.15);\n",
              "      filter: drop-shadow(0px 1px 2px rgba(0, 0, 0, 0.3));\n",
              "      fill: #FFFFFF;\n",
              "    }\n",
              "  </style>\n",
              "\n",
              "      <script>\n",
              "        const buttonEl =\n",
              "          document.querySelector('#df-ce82f2fd-a6c3-46e8-b492-d25e8723301f button.colab-df-convert');\n",
              "        buttonEl.style.display =\n",
              "          google.colab.kernel.accessAllowed ? 'block' : 'none';\n",
              "\n",
              "        async function convertToInteractive(key) {\n",
              "          const element = document.querySelector('#df-ce82f2fd-a6c3-46e8-b492-d25e8723301f');\n",
              "          const dataTable =\n",
              "            await google.colab.kernel.invokeFunction('convertToInteractive',\n",
              "                                                     [key], {});\n",
              "          if (!dataTable) return;\n",
              "\n",
              "          const docLinkHtml = 'Like what you see? Visit the ' +\n",
              "            '<a target=\"_blank\" href=https://colab.research.google.com/notebooks/data_table.ipynb>data table notebook</a>'\n",
              "            + ' to learn more about interactive tables.';\n",
              "          element.innerHTML = '';\n",
              "          dataTable['output_type'] = 'display_data';\n",
              "          await google.colab.output.renderOutput(dataTable, element);\n",
              "          const docLink = document.createElement('div');\n",
              "          docLink.innerHTML = docLinkHtml;\n",
              "          element.appendChild(docLink);\n",
              "        }\n",
              "      </script>\n",
              "    </div>\n",
              "  </div>\n",
              "  "
            ]
          },
          "metadata": {},
          "execution_count": 2
        }
      ],
      "source": [
        "# 공분산 행렬\n",
        "cov_mat = pd.DataFrame([[4.501, 3.335, 0.239, 0.413, 2.531, 3.333],\n",
        "      [3.335, 3.409, 0.262, 0.464, 2.315, 3.429],\n",
        "      [0.239, 0.262, 0.162, 0.166, -0.145, 0.339],\n",
        "      [0.413, 0.464, 0.166, 0.232, -0.147, 0.553],\n",
        "      [2.531, 2.315, -0.145, -0.147, 6.642, 2.732],\n",
        "      [3.333, 3.429, 0.339, 0.553, 2.732, 4.442]],\n",
        "      columns=['국내주식', '해외주식', '국내채권', '해외채권', '원자재', '부동산'],\n",
        "      index=['국내주식', '해외주식', '국내채권', '해외채권', '원자재', '부동산'])/100\n",
        "cov_mat"
      ]
    },
    {
      "cell_type": "code",
      "execution_count": null,
      "metadata": {
        "colab": {
          "base_uri": "https://localhost:8080/",
          "height": 175
        },
        "id": "7zu0sECGKjPt",
        "outputId": "fd273b12-9f70-46d2-93c3-f9b0d66496a2"
      },
      "outputs": [
        {
          "output_type": "execute_result",
          "data": {
            "text/plain": [
              "        국내주식   해외주식   국내채권   해외채권    원자재    부동산\n",
              "기대수익  0.0813 0.0936 0.0433 0.0387 0.0816 0.0901\n",
              "최소비중  0.0500 0.0500 0.0500 0.0500 0.0500 0.0500\n",
              "최대비중  0.5000 0.5000 0.5000 0.5000 0.5000 0.5000\n",
              "초기 비중 0.2000 0.2000 0.2000 0.2000 0.1000 0.1000"
            ],
            "text/html": [
              "\n",
              "  <div id=\"df-049d43a5-0419-47e7-8552-37e19d80b627\">\n",
              "    <div class=\"colab-df-container\">\n",
              "      <div>\n",
              "<style scoped>\n",
              "    .dataframe tbody tr th:only-of-type {\n",
              "        vertical-align: middle;\n",
              "    }\n",
              "\n",
              "    .dataframe tbody tr th {\n",
              "        vertical-align: top;\n",
              "    }\n",
              "\n",
              "    .dataframe thead th {\n",
              "        text-align: right;\n",
              "    }\n",
              "</style>\n",
              "<table border=\"1\" class=\"dataframe\">\n",
              "  <thead>\n",
              "    <tr style=\"text-align: right;\">\n",
              "      <th></th>\n",
              "      <th>국내주식</th>\n",
              "      <th>해외주식</th>\n",
              "      <th>국내채권</th>\n",
              "      <th>해외채권</th>\n",
              "      <th>원자재</th>\n",
              "      <th>부동산</th>\n",
              "    </tr>\n",
              "  </thead>\n",
              "  <tbody>\n",
              "    <tr>\n",
              "      <th>기대수익</th>\n",
              "      <td>0.0813</td>\n",
              "      <td>0.0936</td>\n",
              "      <td>0.0433</td>\n",
              "      <td>0.0387</td>\n",
              "      <td>0.0816</td>\n",
              "      <td>0.0901</td>\n",
              "    </tr>\n",
              "    <tr>\n",
              "      <th>최소비중</th>\n",
              "      <td>0.0500</td>\n",
              "      <td>0.0500</td>\n",
              "      <td>0.0500</td>\n",
              "      <td>0.0500</td>\n",
              "      <td>0.0500</td>\n",
              "      <td>0.0500</td>\n",
              "    </tr>\n",
              "    <tr>\n",
              "      <th>최대비중</th>\n",
              "      <td>0.5000</td>\n",
              "      <td>0.5000</td>\n",
              "      <td>0.5000</td>\n",
              "      <td>0.5000</td>\n",
              "      <td>0.5000</td>\n",
              "      <td>0.5000</td>\n",
              "    </tr>\n",
              "    <tr>\n",
              "      <th>초기 비중</th>\n",
              "      <td>0.2000</td>\n",
              "      <td>0.2000</td>\n",
              "      <td>0.2000</td>\n",
              "      <td>0.2000</td>\n",
              "      <td>0.1000</td>\n",
              "      <td>0.1000</td>\n",
              "    </tr>\n",
              "  </tbody>\n",
              "</table>\n",
              "</div>\n",
              "      <button class=\"colab-df-convert\" onclick=\"convertToInteractive('df-049d43a5-0419-47e7-8552-37e19d80b627')\"\n",
              "              title=\"Convert this dataframe to an interactive table.\"\n",
              "              style=\"display:none;\">\n",
              "        \n",
              "  <svg xmlns=\"http://www.w3.org/2000/svg\" height=\"24px\"viewBox=\"0 0 24 24\"\n",
              "       width=\"24px\">\n",
              "    <path d=\"M0 0h24v24H0V0z\" fill=\"none\"/>\n",
              "    <path d=\"M18.56 5.44l.94 2.06.94-2.06 2.06-.94-2.06-.94-.94-2.06-.94 2.06-2.06.94zm-11 1L8.5 8.5l.94-2.06 2.06-.94-2.06-.94L8.5 2.5l-.94 2.06-2.06.94zm10 10l.94 2.06.94-2.06 2.06-.94-2.06-.94-.94-2.06-.94 2.06-2.06.94z\"/><path d=\"M17.41 7.96l-1.37-1.37c-.4-.4-.92-.59-1.43-.59-.52 0-1.04.2-1.43.59L10.3 9.45l-7.72 7.72c-.78.78-.78 2.05 0 2.83L4 21.41c.39.39.9.59 1.41.59.51 0 1.02-.2 1.41-.59l7.78-7.78 2.81-2.81c.8-.78.8-2.07 0-2.86zM5.41 20L4 18.59l7.72-7.72 1.47 1.35L5.41 20z\"/>\n",
              "  </svg>\n",
              "      </button>\n",
              "      \n",
              "  <style>\n",
              "    .colab-df-container {\n",
              "      display:flex;\n",
              "      flex-wrap:wrap;\n",
              "      gap: 12px;\n",
              "    }\n",
              "\n",
              "    .colab-df-convert {\n",
              "      background-color: #E8F0FE;\n",
              "      border: none;\n",
              "      border-radius: 50%;\n",
              "      cursor: pointer;\n",
              "      display: none;\n",
              "      fill: #1967D2;\n",
              "      height: 32px;\n",
              "      padding: 0 0 0 0;\n",
              "      width: 32px;\n",
              "    }\n",
              "\n",
              "    .colab-df-convert:hover {\n",
              "      background-color: #E2EBFA;\n",
              "      box-shadow: 0px 1px 2px rgba(60, 64, 67, 0.3), 0px 1px 3px 1px rgba(60, 64, 67, 0.15);\n",
              "      fill: #174EA6;\n",
              "    }\n",
              "\n",
              "    [theme=dark] .colab-df-convert {\n",
              "      background-color: #3B4455;\n",
              "      fill: #D2E3FC;\n",
              "    }\n",
              "\n",
              "    [theme=dark] .colab-df-convert:hover {\n",
              "      background-color: #434B5C;\n",
              "      box-shadow: 0px 1px 3px 1px rgba(0, 0, 0, 0.15);\n",
              "      filter: drop-shadow(0px 1px 2px rgba(0, 0, 0, 0.3));\n",
              "      fill: #FFFFFF;\n",
              "    }\n",
              "  </style>\n",
              "\n",
              "      <script>\n",
              "        const buttonEl =\n",
              "          document.querySelector('#df-049d43a5-0419-47e7-8552-37e19d80b627 button.colab-df-convert');\n",
              "        buttonEl.style.display =\n",
              "          google.colab.kernel.accessAllowed ? 'block' : 'none';\n",
              "\n",
              "        async function convertToInteractive(key) {\n",
              "          const element = document.querySelector('#df-049d43a5-0419-47e7-8552-37e19d80b627');\n",
              "          const dataTable =\n",
              "            await google.colab.kernel.invokeFunction('convertToInteractive',\n",
              "                                                     [key], {});\n",
              "          if (!dataTable) return;\n",
              "\n",
              "          const docLinkHtml = 'Like what you see? Visit the ' +\n",
              "            '<a target=\"_blank\" href=https://colab.research.google.com/notebooks/data_table.ipynb>data table notebook</a>'\n",
              "            + ' to learn more about interactive tables.';\n",
              "          element.innerHTML = '';\n",
              "          dataTable['output_type'] = 'display_data';\n",
              "          await google.colab.output.renderOutput(dataTable, element);\n",
              "          const docLink = document.createElement('div');\n",
              "          docLink.innerHTML = docLinkHtml;\n",
              "          element.appendChild(docLink);\n",
              "        }\n",
              "      </script>\n",
              "    </div>\n",
              "  </div>\n",
              "  "
            ]
          },
          "metadata": {},
          "execution_count": 3
        }
      ],
      "source": [
        "# 비중행렬(각 주식의 기대수익, 최소비중, 최대비중, SAA 비중 포함)\n",
        "weight_constraint = pd.DataFrame([[8.13, 9.36, 4.33, 3.87, 8.16, 9.01],\n",
        "                        [5, 5, 5, 5, 5,5],\n",
        "                        [50, 50, 50, 50, 50,50],\n",
        "                       [20, 20, 20, 20, 10, 10]],\n",
        "          columns=['국내주식', '해외주식', '국내채권', '해외채권', '원자재', '부동산'],\n",
        "          index=['기대수익', '최소비중', '최대비중', '초기 비중'])/100\n",
        "weight_constraint"
      ]
    },
    {
      "cell_type": "code",
      "execution_count": null,
      "metadata": {
        "id": "YnHiNrNyJb1-"
      },
      "outputs": [],
      "source": [
        "# 무위험이자율, 기대수익률, 공분산행렬, 목표적자확률, 목표기대수익률을 설정(전역변수로 선언)\n",
        "global risk_free_rate, expected_return, covariance_matrix, target_expected_return\n",
        "risk_free_rate = 0.0348\n",
        "expected_return = weight_constraint.loc['기대수익', :]\n",
        "covariance_matrix = cov_mat.copy()\n",
        "target_expected_return = 6.5/100"
      ]
    },
    {
      "cell_type": "code",
      "execution_count": null,
      "metadata": {
        "id": "elJFPoxEaZ9G"
      },
      "outputs": [],
      "source": [
        "# 다양한 정보들을 확인할 수 있도록 열을 추가해주는 함수를 미리 작성\n",
        "def add_columns(df):\n",
        "  global risk_free_rate, expected_return, covariance_return\n",
        "  return_df, temp = df.copy(), df.copy()\n",
        "  return_df['비중합'] = temp.apply(lambda x: sum(x), axis=1)\n",
        "  return_df['기대수익'] = temp @ expected_return\n",
        "  return_df['실효기대수익'] = return_df['기대수익'] - risk_free_rate\n",
        "  return_df['표준편차'] = temp.apply(lambda x: calculate_portfolio_std(x, covariance_matrix), axis=1)\n",
        "  return_df['샤프비율'] = return_df['실효기대수익'] / return_df['표준편차']\n",
        "  return return_df"
      ]
    },
    {
      "cell_type": "markdown",
      "metadata": {
        "id": "-ksI20WgLCzp"
      },
      "source": [
        "## 임의의 포트폴리오 생성"
      ]
    },
    {
      "cell_type": "code",
      "execution_count": null,
      "metadata": {
        "id": "-_N3Hvz1MHNM"
      },
      "outputs": [],
      "source": [
        "# 포트폴리오의 기대수익률 계산\n",
        "def cacluate_expected_portfolio_return(weight, expected_return):\n",
        "  expected_portfolio_return = sum(np.array(weight) * np.array(expected_return))\n",
        "  return expected_portfolio_return\n",
        "\n",
        "# 포트폴리오의 표준편차 계산\n",
        "def calculate_portfolio_std(weight, cov):\n",
        "  portfolio_std = (np.array(weight)@ np.array(cov)@ np.array(weight)) ** 0.5\n",
        "  return portfolio_std\n",
        "\n",
        "# 샤프비율 계산\n",
        "def calculate_sharpe_ratio(expected_return, risk_free_rate, std):\n",
        "  return (expected_return - risk_free_rate) / std"
      ]
    },
    {
      "cell_type": "code",
      "execution_count": null,
      "metadata": {
        "id": "fPBmfBC3LL1O"
      },
      "outputs": [],
      "source": [
        "# 최소비중, 최대비중과 조건을 만족하는 50000개의 포트폴리오를 생성\n",
        "import random\n",
        "N = 50000\n",
        "weights_ls = []\n",
        "assets = weight_constraint.columns\n",
        "while len(weights_ls) < N:\n",
        "  temp_weight = [0 for _ in range(len(assets))]\n",
        "  for i in range(len(assets)-1):\n",
        "    temp_weight[i] = random.uniform(weight_constraint.loc['최소비중', assets[i]],\n",
        "                                    weight_constraint.loc['최대비중', assets[i]])\n",
        "  temp_weight[-1] = 1- sum(temp_weight)\n",
        "  if weight_constraint.loc['최소비중', assets[-1]]<= temp_weight[-1] <= weight_constraint.loc['최대비중', assets[-1]]:\n",
        "    weights_ls.append(temp_weight)"
      ]
    },
    {
      "cell_type": "code",
      "execution_count": null,
      "metadata": {
        "colab": {
          "base_uri": "https://localhost:8080/",
          "height": 424
        },
        "id": "4Yg2SeEPLL1P",
        "outputId": "0b7bd126-00ad-4092-e6e0-2308efccff64"
      },
      "outputs": [
        {
          "output_type": "execute_result",
          "data": {
            "text/plain": [
              "        국내주식   해외주식   국내채권   해외채권    원자재    부동산    비중합   기대수익  실효기대수익   표준편차  \\\n",
              "0     0.2516 0.3070 0.0750 0.0537 0.1070 0.2058 1.0000 0.0818  0.0470 0.1625   \n",
              "1     0.1089 0.1802 0.3246 0.0508 0.1268 0.2087 1.0000 0.0709  0.0361 0.1205   \n",
              "2     0.0891 0.1554 0.0719 0.0544 0.2053 0.4239 1.0000 0.0820  0.0472 0.1664   \n",
              "3     0.1702 0.1457 0.1356 0.3214 0.1714 0.0557 1.0000 0.0648  0.0300 0.1079   \n",
              "4     0.1868 0.1118 0.1793 0.3077 0.1264 0.0880 1.0000 0.0636  0.0288 0.1037   \n",
              "...      ...    ...    ...    ...    ...    ...    ...    ...     ...    ...   \n",
              "49995 0.1826 0.1135 0.3069 0.1375 0.1387 0.1208 1.0000 0.0663  0.0315 0.1095   \n",
              "49996 0.3531 0.2505 0.1615 0.0958 0.0548 0.0842 1.0000 0.0749  0.0401 0.1439   \n",
              "49997 0.1986 0.0711 0.2224 0.0952 0.1039 0.3087 1.0000 0.0724  0.0376 0.1340   \n",
              "49998 0.0859 0.0637 0.1568 0.0778 0.1790 0.4368 1.0000 0.0767  0.0419 0.1499   \n",
              "49999 0.2803 0.2933 0.0703 0.1557 0.1274 0.0730 1.0000 0.0763  0.0415 0.1460   \n",
              "\n",
              "        샤프비율  \n",
              "0     0.2891  \n",
              "1     0.2995  \n",
              "2     0.2833  \n",
              "3     0.2779  \n",
              "4     0.2773  \n",
              "...      ...  \n",
              "49995 0.2876  \n",
              "49996 0.2788  \n",
              "49997 0.2807  \n",
              "49998 0.2797  \n",
              "49999 0.2842  \n",
              "\n",
              "[50000 rows x 11 columns]"
            ],
            "text/html": [
              "\n",
              "  <div id=\"df-3cb8fd8d-4f53-4350-bedc-fce49d752b8e\">\n",
              "    <div class=\"colab-df-container\">\n",
              "      <div>\n",
              "<style scoped>\n",
              "    .dataframe tbody tr th:only-of-type {\n",
              "        vertical-align: middle;\n",
              "    }\n",
              "\n",
              "    .dataframe tbody tr th {\n",
              "        vertical-align: top;\n",
              "    }\n",
              "\n",
              "    .dataframe thead th {\n",
              "        text-align: right;\n",
              "    }\n",
              "</style>\n",
              "<table border=\"1\" class=\"dataframe\">\n",
              "  <thead>\n",
              "    <tr style=\"text-align: right;\">\n",
              "      <th></th>\n",
              "      <th>국내주식</th>\n",
              "      <th>해외주식</th>\n",
              "      <th>국내채권</th>\n",
              "      <th>해외채권</th>\n",
              "      <th>원자재</th>\n",
              "      <th>부동산</th>\n",
              "      <th>비중합</th>\n",
              "      <th>기대수익</th>\n",
              "      <th>실효기대수익</th>\n",
              "      <th>표준편차</th>\n",
              "      <th>샤프비율</th>\n",
              "    </tr>\n",
              "  </thead>\n",
              "  <tbody>\n",
              "    <tr>\n",
              "      <th>0</th>\n",
              "      <td>0.2516</td>\n",
              "      <td>0.3070</td>\n",
              "      <td>0.0750</td>\n",
              "      <td>0.0537</td>\n",
              "      <td>0.1070</td>\n",
              "      <td>0.2058</td>\n",
              "      <td>1.0000</td>\n",
              "      <td>0.0818</td>\n",
              "      <td>0.0470</td>\n",
              "      <td>0.1625</td>\n",
              "      <td>0.2891</td>\n",
              "    </tr>\n",
              "    <tr>\n",
              "      <th>1</th>\n",
              "      <td>0.1089</td>\n",
              "      <td>0.1802</td>\n",
              "      <td>0.3246</td>\n",
              "      <td>0.0508</td>\n",
              "      <td>0.1268</td>\n",
              "      <td>0.2087</td>\n",
              "      <td>1.0000</td>\n",
              "      <td>0.0709</td>\n",
              "      <td>0.0361</td>\n",
              "      <td>0.1205</td>\n",
              "      <td>0.2995</td>\n",
              "    </tr>\n",
              "    <tr>\n",
              "      <th>2</th>\n",
              "      <td>0.0891</td>\n",
              "      <td>0.1554</td>\n",
              "      <td>0.0719</td>\n",
              "      <td>0.0544</td>\n",
              "      <td>0.2053</td>\n",
              "      <td>0.4239</td>\n",
              "      <td>1.0000</td>\n",
              "      <td>0.0820</td>\n",
              "      <td>0.0472</td>\n",
              "      <td>0.1664</td>\n",
              "      <td>0.2833</td>\n",
              "    </tr>\n",
              "    <tr>\n",
              "      <th>3</th>\n",
              "      <td>0.1702</td>\n",
              "      <td>0.1457</td>\n",
              "      <td>0.1356</td>\n",
              "      <td>0.3214</td>\n",
              "      <td>0.1714</td>\n",
              "      <td>0.0557</td>\n",
              "      <td>1.0000</td>\n",
              "      <td>0.0648</td>\n",
              "      <td>0.0300</td>\n",
              "      <td>0.1079</td>\n",
              "      <td>0.2779</td>\n",
              "    </tr>\n",
              "    <tr>\n",
              "      <th>4</th>\n",
              "      <td>0.1868</td>\n",
              "      <td>0.1118</td>\n",
              "      <td>0.1793</td>\n",
              "      <td>0.3077</td>\n",
              "      <td>0.1264</td>\n",
              "      <td>0.0880</td>\n",
              "      <td>1.0000</td>\n",
              "      <td>0.0636</td>\n",
              "      <td>0.0288</td>\n",
              "      <td>0.1037</td>\n",
              "      <td>0.2773</td>\n",
              "    </tr>\n",
              "    <tr>\n",
              "      <th>...</th>\n",
              "      <td>...</td>\n",
              "      <td>...</td>\n",
              "      <td>...</td>\n",
              "      <td>...</td>\n",
              "      <td>...</td>\n",
              "      <td>...</td>\n",
              "      <td>...</td>\n",
              "      <td>...</td>\n",
              "      <td>...</td>\n",
              "      <td>...</td>\n",
              "      <td>...</td>\n",
              "    </tr>\n",
              "    <tr>\n",
              "      <th>49995</th>\n",
              "      <td>0.1826</td>\n",
              "      <td>0.1135</td>\n",
              "      <td>0.3069</td>\n",
              "      <td>0.1375</td>\n",
              "      <td>0.1387</td>\n",
              "      <td>0.1208</td>\n",
              "      <td>1.0000</td>\n",
              "      <td>0.0663</td>\n",
              "      <td>0.0315</td>\n",
              "      <td>0.1095</td>\n",
              "      <td>0.2876</td>\n",
              "    </tr>\n",
              "    <tr>\n",
              "      <th>49996</th>\n",
              "      <td>0.3531</td>\n",
              "      <td>0.2505</td>\n",
              "      <td>0.1615</td>\n",
              "      <td>0.0958</td>\n",
              "      <td>0.0548</td>\n",
              "      <td>0.0842</td>\n",
              "      <td>1.0000</td>\n",
              "      <td>0.0749</td>\n",
              "      <td>0.0401</td>\n",
              "      <td>0.1439</td>\n",
              "      <td>0.2788</td>\n",
              "    </tr>\n",
              "    <tr>\n",
              "      <th>49997</th>\n",
              "      <td>0.1986</td>\n",
              "      <td>0.0711</td>\n",
              "      <td>0.2224</td>\n",
              "      <td>0.0952</td>\n",
              "      <td>0.1039</td>\n",
              "      <td>0.3087</td>\n",
              "      <td>1.0000</td>\n",
              "      <td>0.0724</td>\n",
              "      <td>0.0376</td>\n",
              "      <td>0.1340</td>\n",
              "      <td>0.2807</td>\n",
              "    </tr>\n",
              "    <tr>\n",
              "      <th>49998</th>\n",
              "      <td>0.0859</td>\n",
              "      <td>0.0637</td>\n",
              "      <td>0.1568</td>\n",
              "      <td>0.0778</td>\n",
              "      <td>0.1790</td>\n",
              "      <td>0.4368</td>\n",
              "      <td>1.0000</td>\n",
              "      <td>0.0767</td>\n",
              "      <td>0.0419</td>\n",
              "      <td>0.1499</td>\n",
              "      <td>0.2797</td>\n",
              "    </tr>\n",
              "    <tr>\n",
              "      <th>49999</th>\n",
              "      <td>0.2803</td>\n",
              "      <td>0.2933</td>\n",
              "      <td>0.0703</td>\n",
              "      <td>0.1557</td>\n",
              "      <td>0.1274</td>\n",
              "      <td>0.0730</td>\n",
              "      <td>1.0000</td>\n",
              "      <td>0.0763</td>\n",
              "      <td>0.0415</td>\n",
              "      <td>0.1460</td>\n",
              "      <td>0.2842</td>\n",
              "    </tr>\n",
              "  </tbody>\n",
              "</table>\n",
              "<p>50000 rows × 11 columns</p>\n",
              "</div>\n",
              "      <button class=\"colab-df-convert\" onclick=\"convertToInteractive('df-3cb8fd8d-4f53-4350-bedc-fce49d752b8e')\"\n",
              "              title=\"Convert this dataframe to an interactive table.\"\n",
              "              style=\"display:none;\">\n",
              "        \n",
              "  <svg xmlns=\"http://www.w3.org/2000/svg\" height=\"24px\"viewBox=\"0 0 24 24\"\n",
              "       width=\"24px\">\n",
              "    <path d=\"M0 0h24v24H0V0z\" fill=\"none\"/>\n",
              "    <path d=\"M18.56 5.44l.94 2.06.94-2.06 2.06-.94-2.06-.94-.94-2.06-.94 2.06-2.06.94zm-11 1L8.5 8.5l.94-2.06 2.06-.94-2.06-.94L8.5 2.5l-.94 2.06-2.06.94zm10 10l.94 2.06.94-2.06 2.06-.94-2.06-.94-.94-2.06-.94 2.06-2.06.94z\"/><path d=\"M17.41 7.96l-1.37-1.37c-.4-.4-.92-.59-1.43-.59-.52 0-1.04.2-1.43.59L10.3 9.45l-7.72 7.72c-.78.78-.78 2.05 0 2.83L4 21.41c.39.39.9.59 1.41.59.51 0 1.02-.2 1.41-.59l7.78-7.78 2.81-2.81c.8-.78.8-2.07 0-2.86zM5.41 20L4 18.59l7.72-7.72 1.47 1.35L5.41 20z\"/>\n",
              "  </svg>\n",
              "      </button>\n",
              "      \n",
              "  <style>\n",
              "    .colab-df-container {\n",
              "      display:flex;\n",
              "      flex-wrap:wrap;\n",
              "      gap: 12px;\n",
              "    }\n",
              "\n",
              "    .colab-df-convert {\n",
              "      background-color: #E8F0FE;\n",
              "      border: none;\n",
              "      border-radius: 50%;\n",
              "      cursor: pointer;\n",
              "      display: none;\n",
              "      fill: #1967D2;\n",
              "      height: 32px;\n",
              "      padding: 0 0 0 0;\n",
              "      width: 32px;\n",
              "    }\n",
              "\n",
              "    .colab-df-convert:hover {\n",
              "      background-color: #E2EBFA;\n",
              "      box-shadow: 0px 1px 2px rgba(60, 64, 67, 0.3), 0px 1px 3px 1px rgba(60, 64, 67, 0.15);\n",
              "      fill: #174EA6;\n",
              "    }\n",
              "\n",
              "    [theme=dark] .colab-df-convert {\n",
              "      background-color: #3B4455;\n",
              "      fill: #D2E3FC;\n",
              "    }\n",
              "\n",
              "    [theme=dark] .colab-df-convert:hover {\n",
              "      background-color: #434B5C;\n",
              "      box-shadow: 0px 1px 3px 1px rgba(0, 0, 0, 0.15);\n",
              "      filter: drop-shadow(0px 1px 2px rgba(0, 0, 0, 0.3));\n",
              "      fill: #FFFFFF;\n",
              "    }\n",
              "  </style>\n",
              "\n",
              "      <script>\n",
              "        const buttonEl =\n",
              "          document.querySelector('#df-3cb8fd8d-4f53-4350-bedc-fce49d752b8e button.colab-df-convert');\n",
              "        buttonEl.style.display =\n",
              "          google.colab.kernel.accessAllowed ? 'block' : 'none';\n",
              "\n",
              "        async function convertToInteractive(key) {\n",
              "          const element = document.querySelector('#df-3cb8fd8d-4f53-4350-bedc-fce49d752b8e');\n",
              "          const dataTable =\n",
              "            await google.colab.kernel.invokeFunction('convertToInteractive',\n",
              "                                                     [key], {});\n",
              "          if (!dataTable) return;\n",
              "\n",
              "          const docLinkHtml = 'Like what you see? Visit the ' +\n",
              "            '<a target=\"_blank\" href=https://colab.research.google.com/notebooks/data_table.ipynb>data table notebook</a>'\n",
              "            + ' to learn more about interactive tables.';\n",
              "          element.innerHTML = '';\n",
              "          dataTable['output_type'] = 'display_data';\n",
              "          await google.colab.output.renderOutput(dataTable, element);\n",
              "          const docLink = document.createElement('div');\n",
              "          docLink.innerHTML = docLinkHtml;\n",
              "          element.appendChild(docLink);\n",
              "        }\n",
              "      </script>\n",
              "    </div>\n",
              "  </div>\n",
              "  "
            ]
          },
          "metadata": {},
          "execution_count": 8
        }
      ],
      "source": [
        "random_weights_df = pd.DataFrame(weights_ls, columns=['국내주식', '해외주식', '국내채권', '해외채권', '원자재', '부동산'])\n",
        "random_weights_df = add_columns(random_weights_df)\n",
        "random_weights_df"
      ]
    },
    {
      "cell_type": "code",
      "execution_count": null,
      "metadata": {
        "colab": {
          "base_uri": "https://localhost:8080/",
          "height": 657
        },
        "id": "cAQRGVT-LL1Q",
        "outputId": "ca3b157f-de7f-400b-a6ac-6ce5ee8a4c5b"
      },
      "outputs": [
        {
          "output_type": "display_data",
          "data": {
            "text/plain": [
              "<Figure size 1008x648 with 2 Axes>"
            ],
            "image/png": "[encoded data removed]"
          },
          "metadata": {
            "needs_background": "light"
          }
        }
      ],
      "source": [
        "fig, ax = plt.subplots()\n",
        "random_weights_df.plot.scatter(x='표준편차', y='기대수익', c=10, ax=ax, cmap='Blues',alpha=0.4, figsize=(14, 9), colorbar=True)\n",
        "ax.set_title('구축 가능한 포트폴리오', fontsize=16)\n",
        "ax.yaxis.set_major_formatter(FuncFormatter(lambda y, _: '{:.0%}'.format(y)))\n",
        "ax.xaxis.set_major_formatter(FuncFormatter(lambda y, _: '{:.0%}'.format(y)))\n",
        "fig.tight_layout()"
      ]
    },
    {
      "cell_type": "markdown",
      "metadata": {
        "id": "djZ8BK08JrOL"
      },
      "source": [
        "## MVO(샤프비율 최대화)"
      ]
    },
    {
      "cell_type": "code",
      "execution_count": null,
      "metadata": {
        "id": "22qP_T-zKAjZ"
      },
      "outputs": [],
      "source": [
        "# 시작점과 비중의 상하한선을 설정\n",
        "Init_Point = tuple(weight_constraint.loc['초기 비중',:])\n",
        "bnds = tuple([(min_weight, max_weight) for (min_weight,max_weight) in zip(weight_constraint.loc['최소비중', :], weight_constraint.loc['최대비중', :])])\n",
        "\n",
        "# 샤프비율 계산하는 함수(최소화를 해야하므로 끝에 음수를 곱해줌)\n",
        "def sharpe_ratio_for_optimization(weight):\n",
        "  global risk_free_rate, expected_return, covariance_matrix\n",
        "  expected_portfolio_return = cacluate_expected_portfolio_return(weight, expected_return)\n",
        "  portfolio_std = calculate_portfolio_std(weight, covariance_matrix)\n",
        "  return -(expected_portfolio_return - risk_free_rate) / portfolio_std\n",
        "\n",
        "# 비중합을 계산해주는 함수(형식을 맞춰주기 위해서 넣음)\n",
        "def weight_sum_optimization(weight):\n",
        "  return sum(weight)-1"
      ]
    },
    {
      "cell_type": "code",
      "execution_count": null,
      "metadata": {
        "id": "LujjKLOtKYbA"
      },
      "outputs": [],
      "source": [
        "# 비중합이 1이라는 제약 조건\n",
        "MVO_constraint = [{'type':'eq', 'fun': weight_sum_optimization}]\n",
        "options = {'ftol': 1e-20, 'maxiter': 5000}"
      ]
    },
    {
      "cell_type": "code",
      "execution_count": null,
      "metadata": {
        "id": "5dJWndJQKu7H"
      },
      "outputs": [],
      "source": [
        "# 샤프비율을 최대화 하는 포트폴리오\n",
        "max_sharpe_portfolio = optimize.minimize(sharpe_ratio_for_optimization, Init_Point, method='SLSQP', bounds=bnds, constraints=MVO_constraint, options=options).x\n",
        "max_sharpe_portfolio_df = pd.DataFrame(max_sharpe_portfolio).T\n",
        "max_sharpe_portfolio_df.columns = ['국내주식', '해외주식', '국내채권', '해외채권', '원자재', '부동산']"
      ]
    },
    {
      "cell_type": "code",
      "execution_count": null,
      "metadata": {
        "colab": {
          "base_uri": "https://localhost:8080/",
          "height": 282
        },
        "id": "OLWW6ZJeRwnz",
        "outputId": "6c7898dc-e231-4635-cd0d-6aa4f1dfb010"
      },
      "outputs": [
        {
          "output_type": "execute_result",
          "data": {
            "text/plain": [
              "<matplotlib.axes._subplots.AxesSubplot at 0x7f1ad2326040>"
            ]
          },
          "metadata": {},
          "execution_count": 13
        },
        {
          "output_type": "display_data",
          "data": {
            "text/plain": [
              "<Figure size 432x288 with 1 Axes>"
            ],
            "image/png": "[encoded data removed]"
          },
          "metadata": {}
        }
      ],
      "source": [
        "max_sharpe_portfolio_df.iloc[0,:6].plot(kind='pie',\n",
        "                                       title='MVO(max_sharpe_portfolio)',\n",
        "                                        autopct='%.2f%%')"
      ]
    },
    {
      "cell_type": "code",
      "execution_count": null,
      "metadata": {
        "colab": {
          "base_uri": "https://localhost:8080/",
          "height": 81
        },
        "id": "gh3Mf5V0beaB",
        "outputId": "96091b4f-7a48-4238-fa54-1fd7a1337568"
      },
      "outputs": [
        {
          "output_type": "execute_result",
          "data": {
            "text/plain": [
              "    국내주식   해외주식   국내채권   해외채권    원자재    부동산    비중합   기대수익  실효기대수익   표준편차  \\\n",
              "0 0.0500 0.2840 0.5000 0.0500 0.0660 0.0500 1.0000 0.0641  0.0293 0.0904   \n",
              "\n",
              "    샤프비율  \n",
              "0 0.3245  "
            ],
            "text/html": [
              "\n",
              "  <div id=\"df-0534e80d-dce0-4590-ae65-099256d1e6c7\">\n",
              "    <div class=\"colab-df-container\">\n",
              "      <div>\n",
              "<style scoped>\n",
              "    .dataframe tbody tr th:only-of-type {\n",
              "        vertical-align: middle;\n",
              "    }\n",
              "\n",
              "    .dataframe tbody tr th {\n",
              "        vertical-align: top;\n",
              "    }\n",
              "\n",
              "    .dataframe thead th {\n",
              "        text-align: right;\n",
              "    }\n",
              "</style>\n",
              "<table border=\"1\" class=\"dataframe\">\n",
              "  <thead>\n",
              "    <tr style=\"text-align: right;\">\n",
              "      <th></th>\n",
              "      <th>국내주식</th>\n",
              "      <th>해외주식</th>\n",
              "      <th>국내채권</th>\n",
              "      <th>해외채권</th>\n",
              "      <th>원자재</th>\n",
              "      <th>부동산</th>\n",
              "      <th>비중합</th>\n",
              "      <th>기대수익</th>\n",
              "      <th>실효기대수익</th>\n",
              "      <th>표준편차</th>\n",
              "      <th>샤프비율</th>\n",
              "    </tr>\n",
              "  </thead>\n",
              "  <tbody>\n",
              "    <tr>\n",
              "      <th>0</th>\n",
              "      <td>0.0500</td>\n",
              "      <td>0.2840</td>\n",
              "      <td>0.5000</td>\n",
              "      <td>0.0500</td>\n",
              "      <td>0.0660</td>\n",
              "      <td>0.0500</td>\n",
              "      <td>1.0000</td>\n",
              "      <td>0.0641</td>\n",
              "      <td>0.0293</td>\n",
              "      <td>0.0904</td>\n",
              "      <td>0.3245</td>\n",
              "    </tr>\n",
              "  </tbody>\n",
              "</table>\n",
              "</div>\n",
              "      <button class=\"colab-df-convert\" onclick=\"convertToInteractive('df-0534e80d-dce0-4590-ae65-099256d1e6c7')\"\n",
              "              title=\"Convert this dataframe to an interactive table.\"\n",
              "              style=\"display:none;\">\n",
              "        \n",
              "  <svg xmlns=\"http://www.w3.org/2000/svg\" height=\"24px\"viewBox=\"0 0 24 24\"\n",
              "       width=\"24px\">\n",
              "    <path d=\"M0 0h24v24H0V0z\" fill=\"none\"/>\n",
              "    <path d=\"M18.56 5.44l.94 2.06.94-2.06 2.06-.94-2.06-.94-.94-2.06-.94 2.06-2.06.94zm-11 1L8.5 8.5l.94-2.06 2.06-.94-2.06-.94L8.5 2.5l-.94 2.06-2.06.94zm10 10l.94 2.06.94-2.06 2.06-.94-2.06-.94-.94-2.06-.94 2.06-2.06.94z\"/><path d=\"M17.41 7.96l-1.37-1.37c-.4-.4-.92-.59-1.43-.59-.52 0-1.04.2-1.43.59L10.3 9.45l-7.72 7.72c-.78.78-.78 2.05 0 2.83L4 21.41c.39.39.9.59 1.41.59.51 0 1.02-.2 1.41-.59l7.78-7.78 2.81-2.81c.8-.78.8-2.07 0-2.86zM5.41 20L4 18.59l7.72-7.72 1.47 1.35L5.41 20z\"/>\n",
              "  </svg>\n",
              "      </button>\n",
              "      \n",
              "  <style>\n",
              "    .colab-df-container {\n",
              "      display:flex;\n",
              "      flex-wrap:wrap;\n",
              "      gap: 12px;\n",
              "    }\n",
              "\n",
              "    .colab-df-convert {\n",
              "      background-color: #E8F0FE;\n",
              "      border: none;\n",
              "      border-radius: 50%;\n",
              "      cursor: pointer;\n",
              "      display: none;\n",
              "      fill: #1967D2;\n",
              "      height: 32px;\n",
              "      padding: 0 0 0 0;\n",
              "      width: 32px;\n",
              "    }\n",
              "\n",
              "    .colab-df-convert:hover {\n",
              "      background-color: #E2EBFA;\n",
              "      box-shadow: 0px 1px 2px rgba(60, 64, 67, 0.3), 0px 1px 3px 1px rgba(60, 64, 67, 0.15);\n",
              "      fill: #174EA6;\n",
              "    }\n",
              "\n",
              "    [theme=dark] .colab-df-convert {\n",
              "      background-color: #3B4455;\n",
              "      fill: #D2E3FC;\n",
              "    }\n",
              "\n",
              "    [theme=dark] .colab-df-convert:hover {\n",
              "      background-color: #434B5C;\n",
              "      box-shadow: 0px 1px 3px 1px rgba(0, 0, 0, 0.15);\n",
              "      filter: drop-shadow(0px 1px 2px rgba(0, 0, 0, 0.3));\n",
              "      fill: #FFFFFF;\n",
              "    }\n",
              "  </style>\n",
              "\n",
              "      <script>\n",
              "        const buttonEl =\n",
              "          document.querySelector('#df-0534e80d-dce0-4590-ae65-099256d1e6c7 button.colab-df-convert');\n",
              "        buttonEl.style.display =\n",
              "          google.colab.kernel.accessAllowed ? 'block' : 'none';\n",
              "\n",
              "        async function convertToInteractive(key) {\n",
              "          const element = document.querySelector('#df-0534e80d-dce0-4590-ae65-099256d1e6c7');\n",
              "          const dataTable =\n",
              "            await google.colab.kernel.invokeFunction('convertToInteractive',\n",
              "                                                     [key], {});\n",
              "          if (!dataTable) return;\n",
              "\n",
              "          const docLinkHtml = 'Like what you see? Visit the ' +\n",
              "            '<a target=\"_blank\" href=https://colab.research.google.com/notebooks/data_table.ipynb>data table notebook</a>'\n",
              "            + ' to learn more about interactive tables.';\n",
              "          element.innerHTML = '';\n",
              "          dataTable['output_type'] = 'display_data';\n",
              "          await google.colab.output.renderOutput(dataTable, element);\n",
              "          const docLink = document.createElement('div');\n",
              "          docLink.innerHTML = docLinkHtml;\n",
              "          element.appendChild(docLink);\n",
              "        }\n",
              "      </script>\n",
              "    </div>\n",
              "  </div>\n",
              "  "
            ]
          },
          "metadata": {},
          "execution_count": 14
        }
      ],
      "source": [
        "# 기대수익은 6.41%, 표준편차는 9.04%, 샤프비율이 32.45%\n",
        "max_sharpe_portfolio_df = add_columns(max_sharpe_portfolio_df)\n",
        "max_sharpe_portfolio_df"
      ]
    },
    {
      "cell_type": "markdown",
      "metadata": {
        "id": "CwTGoUwxJn0r"
      },
      "source": [
        "## 리스크 패리티"
      ]
    },
    {
      "cell_type": "code",
      "execution_count": null,
      "metadata": {
        "id": "Wu4nQ-KXC9jo"
      },
      "outputs": [],
      "source": [
        "# 각 자산의 위험기여도를 출력하는 함수\n",
        "# 각 자산의 비중과 공분산 행렬을 가지고, 각 자산에 대한 위험 기여도 산출 가능\n",
        "def calculate_risk_contribution(weight, cov):\n",
        "  variance = np.array(weight).T @ cov @ np.array(weight)\n",
        "  sigma = sqrt(variance)\n",
        "  mrc = 1/sigma * (cov @ weight)\n",
        "  risk_contribution = weight * mrc\n",
        "  risk_contirbution = risk_contribution/ risk_contribution.sum()\n",
        "  return risk_contirbution"
      ]
    },
    {
      "cell_type": "code",
      "execution_count": null,
      "metadata": {
        "id": "qon4LAPjD8yJ"
      },
      "outputs": [],
      "source": [
        "# 리스크 패리티의 목적함수\n",
        "# 만약 의도한 대로 위험기여도가 모두 같다면 목적함수의 값은 0이 된다.\n",
        "def risk_parity_for_optimization(weight):\n",
        "  global covariance_matrix\n",
        "  risk_contribution = calculate_risk_contribution(weight, covariance_matrix)\n",
        "  sum_risk_diffs_squared = 0\n",
        "  for i in range(len(risk_contribution)):\n",
        "      sum_risk_diffs_squared += np.square(risk_contribution[i] - 1/len(risk_contribution))\n",
        "  return sum_risk_diffs_squared"
      ]
    },
    {
      "cell_type": "code",
      "execution_count": null,
      "metadata": {
        "id": "iHsFSAOjFiDd"
      },
      "outputs": [],
      "source": [
        "# 시작점과 비중의 상하한선을 설정(비중 상하한선에 내에서 나오지 않으면 최적화는 실패)\n",
        "Init_Point = tuple(weight_constraint.loc['초기 비중',:])\n",
        "bnds = tuple([(min_weight, max_weight) for (min_weight,max_weight) in zip(weight_constraint.loc['최소비중', :], weight_constraint.loc['최대비중', :])])\n",
        "\n",
        "# 제약조건은 오직 자산의 비중 합이 1이라는 것 하나 뿐\n",
        "def weight_sum_optimization(weights):\n",
        "  return sum(weights)-1"
      ]
    },
    {
      "cell_type": "code",
      "execution_count": null,
      "metadata": {
        "id": "OnW01l_6J7Eh"
      },
      "outputs": [],
      "source": [
        "# 위와 마찬가지로 비중합이 1\n",
        "RP_constraint = [{'type': 'eq', 'fun': weight_sum_optimization}]\n",
        "options = {'ftol': 1e-20, 'maxiter': 50000}"
      ]
    },
    {
      "cell_type": "code",
      "execution_count": null,
      "metadata": {
        "colab": {
          "base_uri": "https://localhost:8080/",
          "height": 81
        },
        "id": "pQ_4c7-uOgxZ",
        "outputId": "70460ed3-cccc-46ae-af27-3ba89429550c"
      },
      "outputs": [
        {
          "output_type": "execute_result",
          "data": {
            "text/plain": [
              "    국내주식   해외주식   국내채권   해외채권    원자재    부동산\n",
              "0 0.0616 0.0646 0.4261 0.3129 0.0783 0.0565"
            ],
            "text/html": [
              "\n",
              "  <div id=\"df-40081ecf-7ad3-465d-a8d5-702d37fba994\">\n",
              "    <div class=\"colab-df-container\">\n",
              "      <div>\n",
              "<style scoped>\n",
              "    .dataframe tbody tr th:only-of-type {\n",
              "        vertical-align: middle;\n",
              "    }\n",
              "\n",
              "    .dataframe tbody tr th {\n",
              "        vertical-align: top;\n",
              "    }\n",
              "\n",
              "    .dataframe thead th {\n",
              "        text-align: right;\n",
              "    }\n",
              "</style>\n",
              "<table border=\"1\" class=\"dataframe\">\n",
              "  <thead>\n",
              "    <tr style=\"text-align: right;\">\n",
              "      <th></th>\n",
              "      <th>국내주식</th>\n",
              "      <th>해외주식</th>\n",
              "      <th>국내채권</th>\n",
              "      <th>해외채권</th>\n",
              "      <th>원자재</th>\n",
              "      <th>부동산</th>\n",
              "    </tr>\n",
              "  </thead>\n",
              "  <tbody>\n",
              "    <tr>\n",
              "      <th>0</th>\n",
              "      <td>0.0616</td>\n",
              "      <td>0.0646</td>\n",
              "      <td>0.4261</td>\n",
              "      <td>0.3129</td>\n",
              "      <td>0.0783</td>\n",
              "      <td>0.0565</td>\n",
              "    </tr>\n",
              "  </tbody>\n",
              "</table>\n",
              "</div>\n",
              "      <button class=\"colab-df-convert\" onclick=\"convertToInteractive('df-40081ecf-7ad3-465d-a8d5-702d37fba994')\"\n",
              "              title=\"Convert this dataframe to an interactive table.\"\n",
              "              style=\"display:none;\">\n",
              "        \n",
              "  <svg xmlns=\"http://www.w3.org/2000/svg\" height=\"24px\"viewBox=\"0 0 24 24\"\n",
              "       width=\"24px\">\n",
              "    <path d=\"M0 0h24v24H0V0z\" fill=\"none\"/>\n",
              "    <path d=\"M18.56 5.44l.94 2.06.94-2.06 2.06-.94-2.06-.94-.94-2.06-.94 2.06-2.06.94zm-11 1L8.5 8.5l.94-2.06 2.06-.94-2.06-.94L8.5 2.5l-.94 2.06-2.06.94zm10 10l.94 2.06.94-2.06 2.06-.94-2.06-.94-.94-2.06-.94 2.06-2.06.94z\"/><path d=\"M17.41 7.96l-1.37-1.37c-.4-.4-.92-.59-1.43-.59-.52 0-1.04.2-1.43.59L10.3 9.45l-7.72 7.72c-.78.78-.78 2.05 0 2.83L4 21.41c.39.39.9.59 1.41.59.51 0 1.02-.2 1.41-.59l7.78-7.78 2.81-2.81c.8-.78.8-2.07 0-2.86zM5.41 20L4 18.59l7.72-7.72 1.47 1.35L5.41 20z\"/>\n",
              "  </svg>\n",
              "      </button>\n",
              "      \n",
              "  <style>\n",
              "    .colab-df-container {\n",
              "      display:flex;\n",
              "      flex-wrap:wrap;\n",
              "      gap: 12px;\n",
              "    }\n",
              "\n",
              "    .colab-df-convert {\n",
              "      background-color: #E8F0FE;\n",
              "      border: none;\n",
              "      border-radius: 50%;\n",
              "      cursor: pointer;\n",
              "      display: none;\n",
              "      fill: #1967D2;\n",
              "      height: 32px;\n",
              "      padding: 0 0 0 0;\n",
              "      width: 32px;\n",
              "    }\n",
              "\n",
              "    .colab-df-convert:hover {\n",
              "      background-color: #E2EBFA;\n",
              "      box-shadow: 0px 1px 2px rgba(60, 64, 67, 0.3), 0px 1px 3px 1px rgba(60, 64, 67, 0.15);\n",
              "      fill: #174EA6;\n",
              "    }\n",
              "\n",
              "    [theme=dark] .colab-df-convert {\n",
              "      background-color: #3B4455;\n",
              "      fill: #D2E3FC;\n",
              "    }\n",
              "\n",
              "    [theme=dark] .colab-df-convert:hover {\n",
              "      background-color: #434B5C;\n",
              "      box-shadow: 0px 1px 3px 1px rgba(0, 0, 0, 0.15);\n",
              "      filter: drop-shadow(0px 1px 2px rgba(0, 0, 0, 0.3));\n",
              "      fill: #FFFFFF;\n",
              "    }\n",
              "  </style>\n",
              "\n",
              "      <script>\n",
              "        const buttonEl =\n",
              "          document.querySelector('#df-40081ecf-7ad3-465d-a8d5-702d37fba994 button.colab-df-convert');\n",
              "        buttonEl.style.display =\n",
              "          google.colab.kernel.accessAllowed ? 'block' : 'none';\n",
              "\n",
              "        async function convertToInteractive(key) {\n",
              "          const element = document.querySelector('#df-40081ecf-7ad3-465d-a8d5-702d37fba994');\n",
              "          const dataTable =\n",
              "            await google.colab.kernel.invokeFunction('convertToInteractive',\n",
              "                                                     [key], {});\n",
              "          if (!dataTable) return;\n",
              "\n",
              "          const docLinkHtml = 'Like what you see? Visit the ' +\n",
              "            '<a target=\"_blank\" href=https://colab.research.google.com/notebooks/data_table.ipynb>data table notebook</a>'\n",
              "            + ' to learn more about interactive tables.';\n",
              "          element.innerHTML = '';\n",
              "          dataTable['output_type'] = 'display_data';\n",
              "          await google.colab.output.renderOutput(dataTable, element);\n",
              "          const docLink = document.createElement('div');\n",
              "          docLink.innerHTML = docLinkHtml;\n",
              "          element.appendChild(docLink);\n",
              "        }\n",
              "      </script>\n",
              "    </div>\n",
              "  </div>\n",
              "  "
            ]
          },
          "metadata": {},
          "execution_count": 19
        }
      ],
      "source": [
        "risk_parity_portfolio = optimize.minimize(risk_parity_for_optimization, Init_Point, method='SLSQP', bounds=bnds, constraints=RP_constraint, options=options).x\n",
        "risk_parity_portfolio_df = pd.DataFrame(risk_parity_portfolio).T\n",
        "risk_parity_portfolio_df.columns = ['국내주식', '해외주식', '국내채권', '해외채권', '원자재', '부동산']\n",
        "risk_parity_portfolio_df"
      ]
    },
    {
      "cell_type": "code",
      "execution_count": null,
      "metadata": {
        "colab": {
          "base_uri": "https://localhost:8080/",
          "height": 438
        },
        "id": "sG6Cji93QV1u",
        "outputId": "fd861a25-8377-49e9-a341-1636455eb22e"
      },
      "outputs": [
        {
          "output_type": "display_data",
          "data": {
            "text/plain": [
              "국내주식   0.1667\n",
              "해외주식   0.1667\n",
              "국내채권   0.1667\n",
              "해외채권   0.1667\n",
              "원자재    0.1667\n",
              "부동산    0.1667\n",
              "dtype: float64"
            ]
          },
          "metadata": {}
        },
        {
          "output_type": "execute_result",
          "data": {
            "text/plain": [
              "<matplotlib.axes._subplots.AxesSubplot at 0x7f1ad234b100>"
            ]
          },
          "metadata": {},
          "execution_count": 20
        },
        {
          "output_type": "display_data",
          "data": {
            "text/plain": [
              "<Figure size 432x288 with 1 Axes>"
            ],
            "image/png": "[encoded data removed]"
          },
          "metadata": {
            "needs_background": "light"
          }
        }
      ],
      "source": [
        "# 각 자산이 위험 기여도가 1/n으로 동일\n",
        "risk_contribution_check = calculate_risk_contribution(risk_parity_portfolio, cov_mat)\n",
        "display(risk_contribution_check)\n",
        "risk_contribution_check.plot(kind='bar')"
      ]
    },
    {
      "cell_type": "code",
      "execution_count": null,
      "metadata": {
        "colab": {
          "base_uri": "https://localhost:8080/",
          "height": 281
        },
        "id": "wRK5g9z8S1vR",
        "outputId": "c09c14d5-fdb0-4b5f-ceae-ddfedb95793a"
      },
      "outputs": [
        {
          "output_type": "execute_result",
          "data": {
            "text/plain": [
              "<matplotlib.axes._subplots.AxesSubplot at 0x7f1ad22a3670>"
            ]
          },
          "metadata": {},
          "execution_count": 21
        },
        {
          "output_type": "display_data",
          "data": {
            "text/plain": [
              "<Figure size 432x288 with 1 Axes>"
            ],
            "image/png": "[encoded data removed]"
          },
          "metadata": {}
        }
      ],
      "source": [
        "risk_parity_portfolio_df.iloc[0,:6].plot(kind='pie',\n",
        "                                       title='Risk Parity',\n",
        "                                       autopct='%.2f%%')"
      ]
    },
    {
      "cell_type": "code",
      "execution_count": null,
      "metadata": {
        "colab": {
          "base_uri": "https://localhost:8080/",
          "height": 81
        },
        "id": "KqdDkYlKQxuh",
        "outputId": "09a863c1-5651-4df3-efe4-75398ece02b1"
      },
      "outputs": [
        {
          "output_type": "execute_result",
          "data": {
            "text/plain": [
              "    국내주식   해외주식   국내채권   해외채권    원자재    부동산    비중합   기대수익  실효기대수익   표준편차  \\\n",
              "0 0.0616 0.0646 0.4261 0.3129 0.0783 0.0565 1.0000 0.0531  0.0183 0.0640   \n",
              "\n",
              "    샤프비율  \n",
              "0 0.2857  "
            ],
            "text/html": [
              "\n",
              "  <div id=\"df-0232dd7b-54dc-4be8-b784-e4943260f244\">\n",
              "    <div class=\"colab-df-container\">\n",
              "      <div>\n",
              "<style scoped>\n",
              "    .dataframe tbody tr th:only-of-type {\n",
              "        vertical-align: middle;\n",
              "    }\n",
              "\n",
              "    .dataframe tbody tr th {\n",
              "        vertical-align: top;\n",
              "    }\n",
              "\n",
              "    .dataframe thead th {\n",
              "        text-align: right;\n",
              "    }\n",
              "</style>\n",
              "<table border=\"1\" class=\"dataframe\">\n",
              "  <thead>\n",
              "    <tr style=\"text-align: right;\">\n",
              "      <th></th>\n",
              "      <th>국내주식</th>\n",
              "      <th>해외주식</th>\n",
              "      <th>국내채권</th>\n",
              "      <th>해외채권</th>\n",
              "      <th>원자재</th>\n",
              "      <th>부동산</th>\n",
              "      <th>비중합</th>\n",
              "      <th>기대수익</th>\n",
              "      <th>실효기대수익</th>\n",
              "      <th>표준편차</th>\n",
              "      <th>샤프비율</th>\n",
              "    </tr>\n",
              "  </thead>\n",
              "  <tbody>\n",
              "    <tr>\n",
              "      <th>0</th>\n",
              "      <td>0.0616</td>\n",
              "      <td>0.0646</td>\n",
              "      <td>0.4261</td>\n",
              "      <td>0.3129</td>\n",
              "      <td>0.0783</td>\n",
              "      <td>0.0565</td>\n",
              "      <td>1.0000</td>\n",
              "      <td>0.0531</td>\n",
              "      <td>0.0183</td>\n",
              "      <td>0.0640</td>\n",
              "      <td>0.2857</td>\n",
              "    </tr>\n",
              "  </tbody>\n",
              "</table>\n",
              "</div>\n",
              "      <button class=\"colab-df-convert\" onclick=\"convertToInteractive('df-0232dd7b-54dc-4be8-b784-e4943260f244')\"\n",
              "              title=\"Convert this dataframe to an interactive table.\"\n",
              "              style=\"display:none;\">\n",
              "        \n",
              "  <svg xmlns=\"http://www.w3.org/2000/svg\" height=\"24px\"viewBox=\"0 0 24 24\"\n",
              "       width=\"24px\">\n",
              "    <path d=\"M0 0h24v24H0V0z\" fill=\"none\"/>\n",
              "    <path d=\"M18.56 5.44l.94 2.06.94-2.06 2.06-.94-2.06-.94-.94-2.06-.94 2.06-2.06.94zm-11 1L8.5 8.5l.94-2.06 2.06-.94-2.06-.94L8.5 2.5l-.94 2.06-2.06.94zm10 10l.94 2.06.94-2.06 2.06-.94-2.06-.94-.94-2.06-.94 2.06-2.06.94z\"/><path d=\"M17.41 7.96l-1.37-1.37c-.4-.4-.92-.59-1.43-.59-.52 0-1.04.2-1.43.59L10.3 9.45l-7.72 7.72c-.78.78-.78 2.05 0 2.83L4 21.41c.39.39.9.59 1.41.59.51 0 1.02-.2 1.41-.59l7.78-7.78 2.81-2.81c.8-.78.8-2.07 0-2.86zM5.41 20L4 18.59l7.72-7.72 1.47 1.35L5.41 20z\"/>\n",
              "  </svg>\n",
              "      </button>\n",
              "      \n",
              "  <style>\n",
              "    .colab-df-container {\n",
              "      display:flex;\n",
              "      flex-wrap:wrap;\n",
              "      gap: 12px;\n",
              "    }\n",
              "\n",
              "    .colab-df-convert {\n",
              "      background-color: #E8F0FE;\n",
              "      border: none;\n",
              "      border-radius: 50%;\n",
              "      cursor: pointer;\n",
              "      display: none;\n",
              "      fill: #1967D2;\n",
              "      height: 32px;\n",
              "      padding: 0 0 0 0;\n",
              "      width: 32px;\n",
              "    }\n",
              "\n",
              "    .colab-df-convert:hover {\n",
              "      background-color: #E2EBFA;\n",
              "      box-shadow: 0px 1px 2px rgba(60, 64, 67, 0.3), 0px 1px 3px 1px rgba(60, 64, 67, 0.15);\n",
              "      fill: #174EA6;\n",
              "    }\n",
              "\n",
              "    [theme=dark] .colab-df-convert {\n",
              "      background-color: #3B4455;\n",
              "      fill: #D2E3FC;\n",
              "    }\n",
              "\n",
              "    [theme=dark] .colab-df-convert:hover {\n",
              "      background-color: #434B5C;\n",
              "      box-shadow: 0px 1px 3px 1px rgba(0, 0, 0, 0.15);\n",
              "      filter: drop-shadow(0px 1px 2px rgba(0, 0, 0, 0.3));\n",
              "      fill: #FFFFFF;\n",
              "    }\n",
              "  </style>\n",
              "\n",
              "      <script>\n",
              "        const buttonEl =\n",
              "          document.querySelector('#df-0232dd7b-54dc-4be8-b784-e4943260f244 button.colab-df-convert');\n",
              "        buttonEl.style.display =\n",
              "          google.colab.kernel.accessAllowed ? 'block' : 'none';\n",
              "\n",
              "        async function convertToInteractive(key) {\n",
              "          const element = document.querySelector('#df-0232dd7b-54dc-4be8-b784-e4943260f244');\n",
              "          const dataTable =\n",
              "            await google.colab.kernel.invokeFunction('convertToInteractive',\n",
              "                                                     [key], {});\n",
              "          if (!dataTable) return;\n",
              "\n",
              "          const docLinkHtml = 'Like what you see? Visit the ' +\n",
              "            '<a target=\"_blank\" href=https://colab.research.google.com/notebooks/data_table.ipynb>data table notebook</a>'\n",
              "            + ' to learn more about interactive tables.';\n",
              "          element.innerHTML = '';\n",
              "          dataTable['output_type'] = 'display_data';\n",
              "          await google.colab.output.renderOutput(dataTable, element);\n",
              "          const docLink = document.createElement('div');\n",
              "          docLink.innerHTML = docLinkHtml;\n",
              "          element.appendChild(docLink);\n",
              "        }\n",
              "      </script>\n",
              "    </div>\n",
              "  </div>\n",
              "  "
            ]
          },
          "metadata": {},
          "execution_count": 22
        }
      ],
      "source": [
        "risk_parity_portfolio_df = add_columns(risk_parity_portfolio_df)\n",
        "risk_parity_portfolio_df"
      ]
    },
    {
      "cell_type": "markdown",
      "source": [
        "## 리스크 버젯팅"
      ],
      "metadata": {
        "id": "wMP3pC9x2NpM"
      }
    },
    {
      "cell_type": "code",
      "source": [
        "global target_budget\n",
        "target_budget = np.array([25, 25, 5, 5, 20, 20])/100\n",
        "print(\"할당된 budget의 합이 1이 아닙니다\") if sum(target_budget) != 1 else print(\"budget 설정 완료\")\n",
        "display(pd.DataFrame([target_budget], columns=['국내주식', '해외주식', '국내채권', '해외채권', '원자재', '부동산']))"
      ],
      "metadata": {
        "colab": {
          "base_uri": "https://localhost:8080/",
          "height": 99
        },
        "id": "3Y5J7gWF2Ybh",
        "outputId": "cfdb21f3-395f-4bdd-95bc-9b1623e78b10"
      },
      "execution_count": null,
      "outputs": [
        {
          "output_type": "stream",
          "name": "stdout",
          "text": [
            "budget 설정 완료\n"
          ]
        },
        {
          "output_type": "display_data",
          "data": {
            "text/plain": [
              "    국내주식   해외주식   국내채권   해외채권    원자재    부동산\n",
              "0 0.2500 0.2500 0.0500 0.0500 0.2000 0.2000"
            ],
            "text/html": [
              "\n",
              "  <div id=\"df-18700e19-9913-4d15-90fa-bf8f664a4231\">\n",
              "    <div class=\"colab-df-container\">\n",
              "      <div>\n",
              "<style scoped>\n",
              "    .dataframe tbody tr th:only-of-type {\n",
              "        vertical-align: middle;\n",
              "    }\n",
              "\n",
              "    .dataframe tbody tr th {\n",
              "        vertical-align: top;\n",
              "    }\n",
              "\n",
              "    .dataframe thead th {\n",
              "        text-align: right;\n",
              "    }\n",
              "</style>\n",
              "<table border=\"1\" class=\"dataframe\">\n",
              "  <thead>\n",
              "    <tr style=\"text-align: right;\">\n",
              "      <th></th>\n",
              "      <th>국내주식</th>\n",
              "      <th>해외주식</th>\n",
              "      <th>국내채권</th>\n",
              "      <th>해외채권</th>\n",
              "      <th>원자재</th>\n",
              "      <th>부동산</th>\n",
              "    </tr>\n",
              "  </thead>\n",
              "  <tbody>\n",
              "    <tr>\n",
              "      <th>0</th>\n",
              "      <td>0.2500</td>\n",
              "      <td>0.2500</td>\n",
              "      <td>0.0500</td>\n",
              "      <td>0.0500</td>\n",
              "      <td>0.2000</td>\n",
              "      <td>0.2000</td>\n",
              "    </tr>\n",
              "  </tbody>\n",
              "</table>\n",
              "</div>\n",
              "      <button class=\"colab-df-convert\" onclick=\"convertToInteractive('df-18700e19-9913-4d15-90fa-bf8f664a4231')\"\n",
              "              title=\"Convert this dataframe to an interactive table.\"\n",
              "              style=\"display:none;\">\n",
              "        \n",
              "  <svg xmlns=\"http://www.w3.org/2000/svg\" height=\"24px\"viewBox=\"0 0 24 24\"\n",
              "       width=\"24px\">\n",
              "    <path d=\"M0 0h24v24H0V0z\" fill=\"none\"/>\n",
              "    <path d=\"M18.56 5.44l.94 2.06.94-2.06 2.06-.94-2.06-.94-.94-2.06-.94 2.06-2.06.94zm-11 1L8.5 8.5l.94-2.06 2.06-.94-2.06-.94L8.5 2.5l-.94 2.06-2.06.94zm10 10l.94 2.06.94-2.06 2.06-.94-2.06-.94-.94-2.06-.94 2.06-2.06.94z\"/><path d=\"M17.41 7.96l-1.37-1.37c-.4-.4-.92-.59-1.43-.59-.52 0-1.04.2-1.43.59L10.3 9.45l-7.72 7.72c-.78.78-.78 2.05 0 2.83L4 21.41c.39.39.9.59 1.41.59.51 0 1.02-.2 1.41-.59l7.78-7.78 2.81-2.81c.8-.78.8-2.07 0-2.86zM5.41 20L4 18.59l7.72-7.72 1.47 1.35L5.41 20z\"/>\n",
              "  </svg>\n",
              "      </button>\n",
              "      \n",
              "  <style>\n",
              "    .colab-df-container {\n",
              "      display:flex;\n",
              "      flex-wrap:wrap;\n",
              "      gap: 12px;\n",
              "    }\n",
              "\n",
              "    .colab-df-convert {\n",
              "      background-color: #E8F0FE;\n",
              "      border: none;\n",
              "      border-radius: 50%;\n",
              "      cursor: pointer;\n",
              "      display: none;\n",
              "      fill: #1967D2;\n",
              "      height: 32px;\n",
              "      padding: 0 0 0 0;\n",
              "      width: 32px;\n",
              "    }\n",
              "\n",
              "    .colab-df-convert:hover {\n",
              "      background-color: #E2EBFA;\n",
              "      box-shadow: 0px 1px 2px rgba(60, 64, 67, 0.3), 0px 1px 3px 1px rgba(60, 64, 67, 0.15);\n",
              "      fill: #174EA6;\n",
              "    }\n",
              "\n",
              "    [theme=dark] .colab-df-convert {\n",
              "      background-color: #3B4455;\n",
              "      fill: #D2E3FC;\n",
              "    }\n",
              "\n",
              "    [theme=dark] .colab-df-convert:hover {\n",
              "      background-color: #434B5C;\n",
              "      box-shadow: 0px 1px 3px 1px rgba(0, 0, 0, 0.15);\n",
              "      filter: drop-shadow(0px 1px 2px rgba(0, 0, 0, 0.3));\n",
              "      fill: #FFFFFF;\n",
              "    }\n",
              "  </style>\n",
              "\n",
              "      <script>\n",
              "        const buttonEl =\n",
              "          document.querySelector('#df-18700e19-9913-4d15-90fa-bf8f664a4231 button.colab-df-convert');\n",
              "        buttonEl.style.display =\n",
              "          google.colab.kernel.accessAllowed ? 'block' : 'none';\n",
              "\n",
              "        async function convertToInteractive(key) {\n",
              "          const element = document.querySelector('#df-18700e19-9913-4d15-90fa-bf8f664a4231');\n",
              "          const dataTable =\n",
              "            await google.colab.kernel.invokeFunction('convertToInteractive',\n",
              "                                                     [key], {});\n",
              "          if (!dataTable) return;\n",
              "\n",
              "          const docLinkHtml = 'Like what you see? Visit the ' +\n",
              "            '<a target=\"_blank\" href=https://colab.research.google.com/notebooks/data_table.ipynb>data table notebook</a>'\n",
              "            + ' to learn more about interactive tables.';\n",
              "          element.innerHTML = '';\n",
              "          dataTable['output_type'] = 'display_data';\n",
              "          await google.colab.output.renderOutput(dataTable, element);\n",
              "          const docLink = document.createElement('div');\n",
              "          docLink.innerHTML = docLinkHtml;\n",
              "          element.appendChild(docLink);\n",
              "        }\n",
              "      </script>\n",
              "    </div>\n",
              "  </div>\n",
              "  "
            ]
          },
          "metadata": {}
        }
      ]
    },
    {
      "cell_type": "code",
      "execution_count": null,
      "metadata": {
        "id": "vQH4A3BJ2W4q"
      },
      "outputs": [],
      "source": [
        "# 각 자산의 위험기여도를 출력하는 함수\n",
        "# 각 자산의 비중과 공분산 행렬을 가지고, 각 자산에 대한 위험 기여도 산출 가능\n",
        "def calculate_risk_contribution(weight, cov):\n",
        "  variance = np.array(weight).T @ cov @ np.array(weight)\n",
        "  sigma = sqrt(variance)\n",
        "  mrc = 1/sigma * (cov @ weight)\n",
        "  risk_contribution = weight * mrc\n",
        "  risk_contirbution = risk_contribution/ risk_contribution.sum()\n",
        "  return risk_contirbution"
      ]
    },
    {
      "cell_type": "code",
      "execution_count": null,
      "metadata": {
        "id": "R0AH4zqk2W4r"
      },
      "outputs": [],
      "source": [
        "# 리스크 버젯팅의 목적함수\n",
        "# 만약 의도한 대로 위험기여도가 배분된다면 목적함수의 값은 0이 된다.\n",
        "def risk_budgeting_for_optimization(weight):\n",
        "  global covariance_matrix, target_budget\n",
        "  risk_contribution = calculate_risk_contribution(weight, covariance_matrix)\n",
        "  sum_risk_diffs_squared = 0\n",
        "  for i in range(len(risk_contribution)):\n",
        "      sum_risk_diffs_squared += np.square(risk_contribution[i] - target_budget[i])\n",
        "  return sum_risk_diffs_squared"
      ]
    },
    {
      "cell_type": "code",
      "execution_count": null,
      "metadata": {
        "id": "la2JjQmE2W4s"
      },
      "outputs": [],
      "source": [
        "# 시작점과 비중의 상하한선을 설정(비중 상하한선에 내에서 나오지 않으면 최적화는 실패)\n",
        "Init_Point = tuple(weight_constraint.loc['초기 비중',:])\n",
        "bnds = tuple([(min_weight, max_weight) for (min_weight,max_weight) in zip(weight_constraint.loc['최소비중', :], weight_constraint.loc['최대비중', :])])\n",
        "\n",
        "# 제약조건은 오직 자산의 비중 합이 1이라는 것 하나 뿐\n",
        "def weight_sum_optimization(weights):\n",
        "  return sum(weights)-1"
      ]
    },
    {
      "cell_type": "code",
      "execution_count": null,
      "metadata": {
        "id": "90GkzdDW2W4s"
      },
      "outputs": [],
      "source": [
        "# 위와 마찬가지로 비중합이 1\n",
        "RB_constraint = [{'type': 'eq', 'fun': weight_sum_optimization}]\n",
        "options = {'ftol': 1e-20, 'maxiter': 5000}"
      ]
    },
    {
      "cell_type": "code",
      "execution_count": null,
      "metadata": {
        "colab": {
          "base_uri": "https://localhost:8080/",
          "height": 81
        },
        "outputId": "758d0cdd-d384-4694-d10a-6fd8520fec3c",
        "id": "fVllW4262W4t"
      },
      "outputs": [
        {
          "output_type": "execute_result",
          "data": {
            "text/plain": [
              "    국내주식   해외주식   국내채권   해외채권    원자재    부동산\n",
              "0 0.1340 0.1451 0.2998 0.1965 0.1203 0.1042"
            ],
            "text/html": [
              "\n",
              "  <div id=\"df-561e7575-3879-4db6-ba53-7d73f3de48c4\">\n",
              "    <div class=\"colab-df-container\">\n",
              "      <div>\n",
              "<style scoped>\n",
              "    .dataframe tbody tr th:only-of-type {\n",
              "        vertical-align: middle;\n",
              "    }\n",
              "\n",
              "    .dataframe tbody tr th {\n",
              "        vertical-align: top;\n",
              "    }\n",
              "\n",
              "    .dataframe thead th {\n",
              "        text-align: right;\n",
              "    }\n",
              "</style>\n",
              "<table border=\"1\" class=\"dataframe\">\n",
              "  <thead>\n",
              "    <tr style=\"text-align: right;\">\n",
              "      <th></th>\n",
              "      <th>국내주식</th>\n",
              "      <th>해외주식</th>\n",
              "      <th>국내채권</th>\n",
              "      <th>해외채권</th>\n",
              "      <th>원자재</th>\n",
              "      <th>부동산</th>\n",
              "    </tr>\n",
              "  </thead>\n",
              "  <tbody>\n",
              "    <tr>\n",
              "      <th>0</th>\n",
              "      <td>0.1340</td>\n",
              "      <td>0.1451</td>\n",
              "      <td>0.2998</td>\n",
              "      <td>0.1965</td>\n",
              "      <td>0.1203</td>\n",
              "      <td>0.1042</td>\n",
              "    </tr>\n",
              "  </tbody>\n",
              "</table>\n",
              "</div>\n",
              "      <button class=\"colab-df-convert\" onclick=\"convertToInteractive('df-561e7575-3879-4db6-ba53-7d73f3de48c4')\"\n",
              "              title=\"Convert this dataframe to an interactive table.\"\n",
              "              style=\"display:none;\">\n",
              "        \n",
              "  <svg xmlns=\"http://www.w3.org/2000/svg\" height=\"24px\"viewBox=\"0 0 24 24\"\n",
              "       width=\"24px\">\n",
              "    <path d=\"M0 0h24v24H0V0z\" fill=\"none\"/>\n",
              "    <path d=\"M18.56 5.44l.94 2.06.94-2.06 2.06-.94-2.06-.94-.94-2.06-.94 2.06-2.06.94zm-11 1L8.5 8.5l.94-2.06 2.06-.94-2.06-.94L8.5 2.5l-.94 2.06-2.06.94zm10 10l.94 2.06.94-2.06 2.06-.94-2.06-.94-.94-2.06-.94 2.06-2.06.94z\"/><path d=\"M17.41 7.96l-1.37-1.37c-.4-.4-.92-.59-1.43-.59-.52 0-1.04.2-1.43.59L10.3 9.45l-7.72 7.72c-.78.78-.78 2.05 0 2.83L4 21.41c.39.39.9.59 1.41.59.51 0 1.02-.2 1.41-.59l7.78-7.78 2.81-2.81c.8-.78.8-2.07 0-2.86zM5.41 20L4 18.59l7.72-7.72 1.47 1.35L5.41 20z\"/>\n",
              "  </svg>\n",
              "      </button>\n",
              "      \n",
              "  <style>\n",
              "    .colab-df-container {\n",
              "      display:flex;\n",
              "      flex-wrap:wrap;\n",
              "      gap: 12px;\n",
              "    }\n",
              "\n",
              "    .colab-df-convert {\n",
              "      background-color: #E8F0FE;\n",
              "      border: none;\n",
              "      border-radius: 50%;\n",
              "      cursor: pointer;\n",
              "      display: none;\n",
              "      fill: #1967D2;\n",
              "      height: 32px;\n",
              "      padding: 0 0 0 0;\n",
              "      width: 32px;\n",
              "    }\n",
              "\n",
              "    .colab-df-convert:hover {\n",
              "      background-color: #E2EBFA;\n",
              "      box-shadow: 0px 1px 2px rgba(60, 64, 67, 0.3), 0px 1px 3px 1px rgba(60, 64, 67, 0.15);\n",
              "      fill: #174EA6;\n",
              "    }\n",
              "\n",
              "    [theme=dark] .colab-df-convert {\n",
              "      background-color: #3B4455;\n",
              "      fill: #D2E3FC;\n",
              "    }\n",
              "\n",
              "    [theme=dark] .colab-df-convert:hover {\n",
              "      background-color: #434B5C;\n",
              "      box-shadow: 0px 1px 3px 1px rgba(0, 0, 0, 0.15);\n",
              "      filter: drop-shadow(0px 1px 2px rgba(0, 0, 0, 0.3));\n",
              "      fill: #FFFFFF;\n",
              "    }\n",
              "  </style>\n",
              "\n",
              "      <script>\n",
              "        const buttonEl =\n",
              "          document.querySelector('#df-561e7575-3879-4db6-ba53-7d73f3de48c4 button.colab-df-convert');\n",
              "        buttonEl.style.display =\n",
              "          google.colab.kernel.accessAllowed ? 'block' : 'none';\n",
              "\n",
              "        async function convertToInteractive(key) {\n",
              "          const element = document.querySelector('#df-561e7575-3879-4db6-ba53-7d73f3de48c4');\n",
              "          const dataTable =\n",
              "            await google.colab.kernel.invokeFunction('convertToInteractive',\n",
              "                                                     [key], {});\n",
              "          if (!dataTable) return;\n",
              "\n",
              "          const docLinkHtml = 'Like what you see? Visit the ' +\n",
              "            '<a target=\"_blank\" href=https://colab.research.google.com/notebooks/data_table.ipynb>data table notebook</a>'\n",
              "            + ' to learn more about interactive tables.';\n",
              "          element.innerHTML = '';\n",
              "          dataTable['output_type'] = 'display_data';\n",
              "          await google.colab.output.renderOutput(dataTable, element);\n",
              "          const docLink = document.createElement('div');\n",
              "          docLink.innerHTML = docLinkHtml;\n",
              "          element.appendChild(docLink);\n",
              "        }\n",
              "      </script>\n",
              "    </div>\n",
              "  </div>\n",
              "  "
            ]
          },
          "metadata": {},
          "execution_count": 28
        }
      ],
      "source": [
        "risk_budgeting_portfolio = optimize.minimize(risk_budgeting_for_optimization, Init_Point, method='SLSQP', bounds=bnds, constraints=RB_constraint, options=options).x\n",
        "risk_budgeting_portfolio_df = pd.DataFrame(risk_budgeting_portfolio).T\n",
        "risk_budgeting_portfolio_df.columns = ['국내주식', '해외주식', '국내채권', '해외채권', '원자재', '부동산']\n",
        "risk_budgeting_portfolio_df"
      ]
    },
    {
      "cell_type": "code",
      "execution_count": null,
      "metadata": {
        "colab": {
          "base_uri": "https://localhost:8080/",
          "height": 438
        },
        "outputId": "8c98e5fd-e005-4a25-e156-bff2fb13a67e",
        "id": "jZZrSdDP2W4t"
      },
      "outputs": [
        {
          "output_type": "display_data",
          "data": {
            "text/plain": [
              "국내주식   0.2500\n",
              "해외주식   0.2500\n",
              "국내채권   0.0500\n",
              "해외채권   0.0500\n",
              "원자재    0.2000\n",
              "부동산    0.2000\n",
              "dtype: float64"
            ]
          },
          "metadata": {}
        },
        {
          "output_type": "execute_result",
          "data": {
            "text/plain": [
              "<matplotlib.axes._subplots.AxesSubplot at 0x7f1ad232afd0>"
            ]
          },
          "metadata": {},
          "execution_count": 29
        },
        {
          "output_type": "display_data",
          "data": {
            "text/plain": [
              "<Figure size 432x288 with 1 Axes>"
            ],
            "image/png": "[encoded data removed]"
          },
          "metadata": {
            "needs_background": "light"
          }
        }
      ],
      "source": [
        "# 각 자산이 위험 기여도가 목표로 했던 것과 동일\n",
        "risk_contribution_check = calculate_risk_contribution(risk_budgeting_portfolio, cov_mat)\n",
        "display(risk_contribution_check)\n",
        "risk_contribution_check.plot(kind='bar')"
      ]
    },
    {
      "cell_type": "code",
      "execution_count": null,
      "metadata": {
        "colab": {
          "base_uri": "https://localhost:8080/",
          "height": 281
        },
        "outputId": "4269d327-bbc8-4790-e24b-7b244af97080",
        "id": "FYmHAdrI2W4u"
      },
      "outputs": [
        {
          "output_type": "execute_result",
          "data": {
            "text/plain": [
              "<matplotlib.axes._subplots.AxesSubplot at 0x7f1acdc6f670>"
            ]
          },
          "metadata": {},
          "execution_count": 30
        },
        {
          "output_type": "display_data",
          "data": {
            "text/plain": [
              "<Figure size 432x288 with 1 Axes>"
            ],
            "image/png": "[encoded data removed]"
          },
          "metadata": {}
        }
      ],
      "source": [
        "risk_budgeting_portfolio_df.iloc[0,:6].plot(kind='pie',\n",
        "                                       title='Risk Budgeting',\n",
        "                                       autopct='%.2f%%')"
      ]
    },
    {
      "cell_type": "code",
      "execution_count": null,
      "metadata": {
        "colab": {
          "base_uri": "https://localhost:8080/",
          "height": 81
        },
        "outputId": "99c0b7ae-c453-48ed-89c3-30d13efdf532",
        "id": "fjF4Aqh92W4u"
      },
      "outputs": [
        {
          "output_type": "execute_result",
          "data": {
            "text/plain": [
              "    국내주식   해외주식   국내채권   해외채권    원자재    부동산    비중합   기대수익  실효기대수익   표준편차  \\\n",
              "0 0.1340 0.1451 0.2998 0.1965 0.1203 0.1042 1.0000 0.0643  0.0295 0.1007   \n",
              "\n",
              "    샤프비율  \n",
              "0 0.2927  "
            ],
            "text/html": [
              "\n",
              "  <div id=\"df-6d2c8a95-d9e4-46ff-b14e-39c741ebf4fa\">\n",
              "    <div class=\"colab-df-container\">\n",
              "      <div>\n",
              "<style scoped>\n",
              "    .dataframe tbody tr th:only-of-type {\n",
              "        vertical-align: middle;\n",
              "    }\n",
              "\n",
              "    .dataframe tbody tr th {\n",
              "        vertical-align: top;\n",
              "    }\n",
              "\n",
              "    .dataframe thead th {\n",
              "        text-align: right;\n",
              "    }\n",
              "</style>\n",
              "<table border=\"1\" class=\"dataframe\">\n",
              "  <thead>\n",
              "    <tr style=\"text-align: right;\">\n",
              "      <th></th>\n",
              "      <th>국내주식</th>\n",
              "      <th>해외주식</th>\n",
              "      <th>국내채권</th>\n",
              "      <th>해외채권</th>\n",
              "      <th>원자재</th>\n",
              "      <th>부동산</th>\n",
              "      <th>비중합</th>\n",
              "      <th>기대수익</th>\n",
              "      <th>실효기대수익</th>\n",
              "      <th>표준편차</th>\n",
              "      <th>샤프비율</th>\n",
              "    </tr>\n",
              "  </thead>\n",
              "  <tbody>\n",
              "    <tr>\n",
              "      <th>0</th>\n",
              "      <td>0.1340</td>\n",
              "      <td>0.1451</td>\n",
              "      <td>0.2998</td>\n",
              "      <td>0.1965</td>\n",
              "      <td>0.1203</td>\n",
              "      <td>0.1042</td>\n",
              "      <td>1.0000</td>\n",
              "      <td>0.0643</td>\n",
              "      <td>0.0295</td>\n",
              "      <td>0.1007</td>\n",
              "      <td>0.2927</td>\n",
              "    </tr>\n",
              "  </tbody>\n",
              "</table>\n",
              "</div>\n",
              "      <button class=\"colab-df-convert\" onclick=\"convertToInteractive('df-6d2c8a95-d9e4-46ff-b14e-39c741ebf4fa')\"\n",
              "              title=\"Convert this dataframe to an interactive table.\"\n",
              "              style=\"display:none;\">\n",
              "        \n",
              "  <svg xmlns=\"http://www.w3.org/2000/svg\" height=\"24px\"viewBox=\"0 0 24 24\"\n",
              "       width=\"24px\">\n",
              "    <path d=\"M0 0h24v24H0V0z\" fill=\"none\"/>\n",
              "    <path d=\"M18.56 5.44l.94 2.06.94-2.06 2.06-.94-2.06-.94-.94-2.06-.94 2.06-2.06.94zm-11 1L8.5 8.5l.94-2.06 2.06-.94-2.06-.94L8.5 2.5l-.94 2.06-2.06.94zm10 10l.94 2.06.94-2.06 2.06-.94-2.06-.94-.94-2.06-.94 2.06-2.06.94z\"/><path d=\"M17.41 7.96l-1.37-1.37c-.4-.4-.92-.59-1.43-.59-.52 0-1.04.2-1.43.59L10.3 9.45l-7.72 7.72c-.78.78-.78 2.05 0 2.83L4 21.41c.39.39.9.59 1.41.59.51 0 1.02-.2 1.41-.59l7.78-7.78 2.81-2.81c.8-.78.8-2.07 0-2.86zM5.41 20L4 18.59l7.72-7.72 1.47 1.35L5.41 20z\"/>\n",
              "  </svg>\n",
              "      </button>\n",
              "      \n",
              "  <style>\n",
              "    .colab-df-container {\n",
              "      display:flex;\n",
              "      flex-wrap:wrap;\n",
              "      gap: 12px;\n",
              "    }\n",
              "\n",
              "    .colab-df-convert {\n",
              "      background-color: #E8F0FE;\n",
              "      border: none;\n",
              "      border-radius: 50%;\n",
              "      cursor: pointer;\n",
              "      display: none;\n",
              "      fill: #1967D2;\n",
              "      height: 32px;\n",
              "      padding: 0 0 0 0;\n",
              "      width: 32px;\n",
              "    }\n",
              "\n",
              "    .colab-df-convert:hover {\n",
              "      background-color: #E2EBFA;\n",
              "      box-shadow: 0px 1px 2px rgba(60, 64, 67, 0.3), 0px 1px 3px 1px rgba(60, 64, 67, 0.15);\n",
              "      fill: #174EA6;\n",
              "    }\n",
              "\n",
              "    [theme=dark] .colab-df-convert {\n",
              "      background-color: #3B4455;\n",
              "      fill: #D2E3FC;\n",
              "    }\n",
              "\n",
              "    [theme=dark] .colab-df-convert:hover {\n",
              "      background-color: #434B5C;\n",
              "      box-shadow: 0px 1px 3px 1px rgba(0, 0, 0, 0.15);\n",
              "      filter: drop-shadow(0px 1px 2px rgba(0, 0, 0, 0.3));\n",
              "      fill: #FFFFFF;\n",
              "    }\n",
              "  </style>\n",
              "\n",
              "      <script>\n",
              "        const buttonEl =\n",
              "          document.querySelector('#df-6d2c8a95-d9e4-46ff-b14e-39c741ebf4fa button.colab-df-convert');\n",
              "        buttonEl.style.display =\n",
              "          google.colab.kernel.accessAllowed ? 'block' : 'none';\n",
              "\n",
              "        async function convertToInteractive(key) {\n",
              "          const element = document.querySelector('#df-6d2c8a95-d9e4-46ff-b14e-39c741ebf4fa');\n",
              "          const dataTable =\n",
              "            await google.colab.kernel.invokeFunction('convertToInteractive',\n",
              "                                                     [key], {});\n",
              "          if (!dataTable) return;\n",
              "\n",
              "          const docLinkHtml = 'Like what you see? Visit the ' +\n",
              "            '<a target=\"_blank\" href=https://colab.research.google.com/notebooks/data_table.ipynb>data table notebook</a>'\n",
              "            + ' to learn more about interactive tables.';\n",
              "          element.innerHTML = '';\n",
              "          dataTable['output_type'] = 'display_data';\n",
              "          await google.colab.output.renderOutput(dataTable, element);\n",
              "          const docLink = document.createElement('div');\n",
              "          docLink.innerHTML = docLinkHtml;\n",
              "          element.appendChild(docLink);\n",
              "        }\n",
              "      </script>\n",
              "    </div>\n",
              "  </div>\n",
              "  "
            ]
          },
          "metadata": {},
          "execution_count": 31
        }
      ],
      "source": [
        "risk_budgeting_portfolio_df = add_columns(risk_budgeting_portfolio_df)\n",
        "risk_budgeting_portfolio_df"
      ]
    },
    {
      "cell_type": "markdown",
      "metadata": {
        "id": "1lUvCf1oTNOG"
      },
      "source": [
        "## 벤치마크(동일가중 포트폴리오, 글로벌 최소분산 포트폴리오)"
      ]
    },
    {
      "cell_type": "markdown",
      "metadata": {
        "id": "y9BWR12RTVi8"
      },
      "source": [
        "### 동일가중 포트폴리오"
      ]
    },
    {
      "cell_type": "code",
      "execution_count": null,
      "metadata": {
        "colab": {
          "base_uri": "https://localhost:8080/"
        },
        "id": "EnyWhIJOTUgJ",
        "outputId": "670ef653-b52f-42b7-f320-c3c05ddd0062"
      },
      "outputs": [
        {
          "output_type": "execute_result",
          "data": {
            "text/plain": [
              "    국내주식   해외주식   국내채권   해외채권    원자재    부동산\n",
              "0 0.1667 0.1667 0.1667 0.1667 0.1667 0.1667"
            ],
            "text/html": [
              "\n",
              "  <div id=\"df-1a66c81a-189f-4258-aa2a-573bfd207fbd\">\n",
              "    <div class=\"colab-df-container\">\n",
              "      <div>\n",
              "<style scoped>\n",
              "    .dataframe tbody tr th:only-of-type {\n",
              "        vertical-align: middle;\n",
              "    }\n",
              "\n",
              "    .dataframe tbody tr th {\n",
              "        vertical-align: top;\n",
              "    }\n",
              "\n",
              "    .dataframe thead th {\n",
              "        text-align: right;\n",
              "    }\n",
              "</style>\n",
              "<table border=\"1\" class=\"dataframe\">\n",
              "  <thead>\n",
              "    <tr style=\"text-align: right;\">\n",
              "      <th></th>\n",
              "      <th>국내주식</th>\n",
              "      <th>해외주식</th>\n",
              "      <th>국내채권</th>\n",
              "      <th>해외채권</th>\n",
              "      <th>원자재</th>\n",
              "      <th>부동산</th>\n",
              "    </tr>\n",
              "  </thead>\n",
              "  <tbody>\n",
              "    <tr>\n",
              "      <th>0</th>\n",
              "      <td>0.1667</td>\n",
              "      <td>0.1667</td>\n",
              "      <td>0.1667</td>\n",
              "      <td>0.1667</td>\n",
              "      <td>0.1667</td>\n",
              "      <td>0.1667</td>\n",
              "    </tr>\n",
              "  </tbody>\n",
              "</table>\n",
              "</div>\n",
              "      <button class=\"colab-df-convert\" onclick=\"convertToInteractive('df-1a66c81a-189f-4258-aa2a-573bfd207fbd')\"\n",
              "              title=\"Convert this dataframe to an interactive table.\"\n",
              "              style=\"display:none;\">\n",
              "        \n",
              "  <svg xmlns=\"http://www.w3.org/2000/svg\" height=\"24px\"viewBox=\"0 0 24 24\"\n",
              "       width=\"24px\">\n",
              "    <path d=\"M0 0h24v24H0V0z\" fill=\"none\"/>\n",
              "    <path d=\"M18.56 5.44l.94 2.06.94-2.06 2.06-.94-2.06-.94-.94-2.06-.94 2.06-2.06.94zm-11 1L8.5 8.5l.94-2.06 2.06-.94-2.06-.94L8.5 2.5l-.94 2.06-2.06.94zm10 10l.94 2.06.94-2.06 2.06-.94-2.06-.94-.94-2.06-.94 2.06-2.06.94z\"/><path d=\"M17.41 7.96l-1.37-1.37c-.4-.4-.92-.59-1.43-.59-.52 0-1.04.2-1.43.59L10.3 9.45l-7.72 7.72c-.78.78-.78 2.05 0 2.83L4 21.41c.39.39.9.59 1.41.59.51 0 1.02-.2 1.41-.59l7.78-7.78 2.81-2.81c.8-.78.8-2.07 0-2.86zM5.41 20L4 18.59l7.72-7.72 1.47 1.35L5.41 20z\"/>\n",
              "  </svg>\n",
              "      </button>\n",
              "      \n",
              "  <style>\n",
              "    .colab-df-container {\n",
              "      display:flex;\n",
              "      flex-wrap:wrap;\n",
              "      gap: 12px;\n",
              "    }\n",
              "\n",
              "    .colab-df-convert {\n",
              "      background-color: #E8F0FE;\n",
              "      border: none;\n",
              "      border-radius: 50%;\n",
              "      cursor: pointer;\n",
              "      display: none;\n",
              "      fill: #1967D2;\n",
              "      height: 32px;\n",
              "      padding: 0 0 0 0;\n",
              "      width: 32px;\n",
              "    }\n",
              "\n",
              "    .colab-df-convert:hover {\n",
              "      background-color: #E2EBFA;\n",
              "      box-shadow: 0px 1px 2px rgba(60, 64, 67, 0.3), 0px 1px 3px 1px rgba(60, 64, 67, 0.15);\n",
              "      fill: #174EA6;\n",
              "    }\n",
              "\n",
              "    [theme=dark] .colab-df-convert {\n",
              "      background-color: #3B4455;\n",
              "      fill: #D2E3FC;\n",
              "    }\n",
              "\n",
              "    [theme=dark] .colab-df-convert:hover {\n",
              "      background-color: #434B5C;\n",
              "      box-shadow: 0px 1px 3px 1px rgba(0, 0, 0, 0.15);\n",
              "      filter: drop-shadow(0px 1px 2px rgba(0, 0, 0, 0.3));\n",
              "      fill: #FFFFFF;\n",
              "    }\n",
              "  </style>\n",
              "\n",
              "      <script>\n",
              "        const buttonEl =\n",
              "          document.querySelector('#df-1a66c81a-189f-4258-aa2a-573bfd207fbd button.colab-df-convert');\n",
              "        buttonEl.style.display =\n",
              "          google.colab.kernel.accessAllowed ? 'block' : 'none';\n",
              "\n",
              "        async function convertToInteractive(key) {\n",
              "          const element = document.querySelector('#df-1a66c81a-189f-4258-aa2a-573bfd207fbd');\n",
              "          const dataTable =\n",
              "            await google.colab.kernel.invokeFunction('convertToInteractive',\n",
              "                                                     [key], {});\n",
              "          if (!dataTable) return;\n",
              "\n",
              "          const docLinkHtml = 'Like what you see? Visit the ' +\n",
              "            '<a target=\"_blank\" href=https://colab.research.google.com/notebooks/data_table.ipynb>data table notebook</a>'\n",
              "            + ' to learn more about interactive tables.';\n",
              "          element.innerHTML = '';\n",
              "          dataTable['output_type'] = 'display_data';\n",
              "          await google.colab.output.renderOutput(dataTable, element);\n",
              "          const docLink = document.createElement('div');\n",
              "          docLink.innerHTML = docLinkHtml;\n",
              "          element.appendChild(docLink);\n",
              "        }\n",
              "      </script>\n",
              "    </div>\n",
              "  </div>\n",
              "  "
            ]
          },
          "metadata": {},
          "execution_count": 32
        }
      ],
      "source": [
        "# 동일한 비중으로 설정\n",
        "equal_weight_portfolio = pd.DataFrame([1/len(cov_mat)] * len(cov_mat)).T\n",
        "equal_weight_portfolio.columns = ['국내주식', '해외주식', '국내채권', '해외채권', '원자재', '부동산']\n",
        "equal_weight_portfolio"
      ]
    },
    {
      "cell_type": "code",
      "execution_count": null,
      "metadata": {
        "colab": {
          "base_uri": "https://localhost:8080/"
        },
        "id": "sPeyu3ZhUrRi",
        "outputId": "c6d24fc5-ae94-406b-a78f-f719c561df63"
      },
      "outputs": [
        {
          "output_type": "execute_result",
          "data": {
            "text/plain": [
              "    국내주식   해외주식   국내채권   해외채권    원자재    부동산    비중합   기대수익  실효기대수익   표준편차  \\\n",
              "0 0.1667 0.1667 0.1667 0.1667 0.1667 0.1667 1.0000 0.0714  0.0366 0.1280   \n",
              "\n",
              "    샤프비율  \n",
              "0 0.2861  "
            ],
            "text/html": [
              "\n",
              "  <div id=\"df-1a1cedeb-36be-46c1-b47f-1462f8acafa6\">\n",
              "    <div class=\"colab-df-container\">\n",
              "      <div>\n",
              "<style scoped>\n",
              "    .dataframe tbody tr th:only-of-type {\n",
              "        vertical-align: middle;\n",
              "    }\n",
              "\n",
              "    .dataframe tbody tr th {\n",
              "        vertical-align: top;\n",
              "    }\n",
              "\n",
              "    .dataframe thead th {\n",
              "        text-align: right;\n",
              "    }\n",
              "</style>\n",
              "<table border=\"1\" class=\"dataframe\">\n",
              "  <thead>\n",
              "    <tr style=\"text-align: right;\">\n",
              "      <th></th>\n",
              "      <th>국내주식</th>\n",
              "      <th>해외주식</th>\n",
              "      <th>국내채권</th>\n",
              "      <th>해외채권</th>\n",
              "      <th>원자재</th>\n",
              "      <th>부동산</th>\n",
              "      <th>비중합</th>\n",
              "      <th>기대수익</th>\n",
              "      <th>실효기대수익</th>\n",
              "      <th>표준편차</th>\n",
              "      <th>샤프비율</th>\n",
              "    </tr>\n",
              "  </thead>\n",
              "  <tbody>\n",
              "    <tr>\n",
              "      <th>0</th>\n",
              "      <td>0.1667</td>\n",
              "      <td>0.1667</td>\n",
              "      <td>0.1667</td>\n",
              "      <td>0.1667</td>\n",
              "      <td>0.1667</td>\n",
              "      <td>0.1667</td>\n",
              "      <td>1.0000</td>\n",
              "      <td>0.0714</td>\n",
              "      <td>0.0366</td>\n",
              "      <td>0.1280</td>\n",
              "      <td>0.2861</td>\n",
              "    </tr>\n",
              "  </tbody>\n",
              "</table>\n",
              "</div>\n",
              "      <button class=\"colab-df-convert\" onclick=\"convertToInteractive('df-1a1cedeb-36be-46c1-b47f-1462f8acafa6')\"\n",
              "              title=\"Convert this dataframe to an interactive table.\"\n",
              "              style=\"display:none;\">\n",
              "        \n",
              "  <svg xmlns=\"http://www.w3.org/2000/svg\" height=\"24px\"viewBox=\"0 0 24 24\"\n",
              "       width=\"24px\">\n",
              "    <path d=\"M0 0h24v24H0V0z\" fill=\"none\"/>\n",
              "    <path d=\"M18.56 5.44l.94 2.06.94-2.06 2.06-.94-2.06-.94-.94-2.06-.94 2.06-2.06.94zm-11 1L8.5 8.5l.94-2.06 2.06-.94-2.06-.94L8.5 2.5l-.94 2.06-2.06.94zm10 10l.94 2.06.94-2.06 2.06-.94-2.06-.94-.94-2.06-.94 2.06-2.06.94z\"/><path d=\"M17.41 7.96l-1.37-1.37c-.4-.4-.92-.59-1.43-.59-.52 0-1.04.2-1.43.59L10.3 9.45l-7.72 7.72c-.78.78-.78 2.05 0 2.83L4 21.41c.39.39.9.59 1.41.59.51 0 1.02-.2 1.41-.59l7.78-7.78 2.81-2.81c.8-.78.8-2.07 0-2.86zM5.41 20L4 18.59l7.72-7.72 1.47 1.35L5.41 20z\"/>\n",
              "  </svg>\n",
              "      </button>\n",
              "      \n",
              "  <style>\n",
              "    .colab-df-container {\n",
              "      display:flex;\n",
              "      flex-wrap:wrap;\n",
              "      gap: 12px;\n",
              "    }\n",
              "\n",
              "    .colab-df-convert {\n",
              "      background-color: #E8F0FE;\n",
              "      border: none;\n",
              "      border-radius: 50%;\n",
              "      cursor: pointer;\n",
              "      display: none;\n",
              "      fill: #1967D2;\n",
              "      height: 32px;\n",
              "      padding: 0 0 0 0;\n",
              "      width: 32px;\n",
              "    }\n",
              "\n",
              "    .colab-df-convert:hover {\n",
              "      background-color: #E2EBFA;\n",
              "      box-shadow: 0px 1px 2px rgba(60, 64, 67, 0.3), 0px 1px 3px 1px rgba(60, 64, 67, 0.15);\n",
              "      fill: #174EA6;\n",
              "    }\n",
              "\n",
              "    [theme=dark] .colab-df-convert {\n",
              "      background-color: #3B4455;\n",
              "      fill: #D2E3FC;\n",
              "    }\n",
              "\n",
              "    [theme=dark] .colab-df-convert:hover {\n",
              "      background-color: #434B5C;\n",
              "      box-shadow: 0px 1px 3px 1px rgba(0, 0, 0, 0.15);\n",
              "      filter: drop-shadow(0px 1px 2px rgba(0, 0, 0, 0.3));\n",
              "      fill: #FFFFFF;\n",
              "    }\n",
              "  </style>\n",
              "\n",
              "      <script>\n",
              "        const buttonEl =\n",
              "          document.querySelector('#df-1a1cedeb-36be-46c1-b47f-1462f8acafa6 button.colab-df-convert');\n",
              "        buttonEl.style.display =\n",
              "          google.colab.kernel.accessAllowed ? 'block' : 'none';\n",
              "\n",
              "        async function convertToInteractive(key) {\n",
              "          const element = document.querySelector('#df-1a1cedeb-36be-46c1-b47f-1462f8acafa6');\n",
              "          const dataTable =\n",
              "            await google.colab.kernel.invokeFunction('convertToInteractive',\n",
              "                                                     [key], {});\n",
              "          if (!dataTable) return;\n",
              "\n",
              "          const docLinkHtml = 'Like what you see? Visit the ' +\n",
              "            '<a target=\"_blank\" href=https://colab.research.google.com/notebooks/data_table.ipynb>data table notebook</a>'\n",
              "            + ' to learn more about interactive tables.';\n",
              "          element.innerHTML = '';\n",
              "          dataTable['output_type'] = 'display_data';\n",
              "          await google.colab.output.renderOutput(dataTable, element);\n",
              "          const docLink = document.createElement('div');\n",
              "          docLink.innerHTML = docLinkHtml;\n",
              "          element.appendChild(docLink);\n",
              "        }\n",
              "      </script>\n",
              "    </div>\n",
              "  </div>\n",
              "  "
            ]
          },
          "metadata": {},
          "execution_count": 33
        }
      ],
      "source": [
        "equal_weight_portfolio = add_columns(equal_weight_portfolio)\n",
        "equal_weight_portfolio"
      ]
    },
    {
      "cell_type": "code",
      "source": [
        "equal_weight_portfolio.iloc[0,:6].plot(kind='pie',\n",
        "                                title='Equal_Weight Portfolio',\n",
        "                                autopct='%.2f%%')"
      ],
      "metadata": {
        "colab": {
          "base_uri": "https://localhost:8080/"
        },
        "id": "-29pgKMUv2KK",
        "outputId": "dd71cb67-c381-46b0-8051-30a9f9283a60"
      },
      "execution_count": null,
      "outputs": [
        {
          "output_type": "execute_result",
          "data": {
            "text/plain": [
              "<matplotlib.axes._subplots.AxesSubplot at 0x7f1acdc46400>"
            ]
          },
          "metadata": {},
          "execution_count": 34
        },
        {
          "output_type": "display_data",
          "data": {
            "text/plain": [
              "<Figure size 432x288 with 1 Axes>"
            ],
            "image/png": "[encoded data removed]"
          },
          "metadata": {}
        }
      ]
    },
    {
      "cell_type": "markdown",
      "metadata": {
        "id": "7G4hsPIFUyu6"
      },
      "source": [
        "### 최소분산 포트폴리오"
      ]
    },
    {
      "cell_type": "code",
      "execution_count": null,
      "metadata": {
        "id": "D-icBd4cVpj8"
      },
      "outputs": [],
      "source": [
        "# 분산이 최소가 되도록 최적화\n",
        "def GMV_for_optimization(weight):\n",
        "  global covariance_matrix\n",
        "  variance = np.array(weight).T @ covariance_matrix @ np.array(weight)\n",
        "  return variance"
      ]
    },
    {
      "cell_type": "code",
      "execution_count": null,
      "metadata": {
        "id": "foIT2nauU1R4"
      },
      "outputs": [],
      "source": [
        "# 시작점과 비중의 상하한선을 설정\n",
        "Init_Point = tuple(weight_constraint.loc['초기 비중',:])\n",
        "bnds = tuple([(min_weight, max_weight) for (min_weight,max_weight) in zip(weight_constraint.loc['최소비중', :], weight_constraint.loc['최대비중', :])])"
      ]
    },
    {
      "cell_type": "code",
      "execution_count": null,
      "metadata": {
        "id": "OVAe2uOxVda2"
      },
      "outputs": [],
      "source": [
        "# 비중합이 1인 제약조건\n",
        "GMV_constraint = [{'type': 'eq', 'fun': weight_sum_optimization}]\n",
        "options = {'ftol': 1e-20, 'maxiter': 5000}"
      ]
    },
    {
      "cell_type": "code",
      "execution_count": null,
      "metadata": {
        "colab": {
          "base_uri": "https://localhost:8080/"
        },
        "id": "LVHvMe-9V4ro",
        "outputId": "8ecf3a18-3a56-4f30-acc2-b7da04c4ae82"
      },
      "outputs": [
        {
          "output_type": "execute_result",
          "data": {
            "text/plain": [
              "    국내주식   해외주식   국내채권   해외채권    원자재    부동산\n",
              "0 0.0500 0.0500 0.5000 0.3000 0.0500 0.0500"
            ],
            "text/html": [
              "\n",
              "  <div id=\"df-33809571-69d1-42c5-94a6-b0403de100f0\">\n",
              "    <div class=\"colab-df-container\">\n",
              "      <div>\n",
              "<style scoped>\n",
              "    .dataframe tbody tr th:only-of-type {\n",
              "        vertical-align: middle;\n",
              "    }\n",
              "\n",
              "    .dataframe tbody tr th {\n",
              "        vertical-align: top;\n",
              "    }\n",
              "\n",
              "    .dataframe thead th {\n",
              "        text-align: right;\n",
              "    }\n",
              "</style>\n",
              "<table border=\"1\" class=\"dataframe\">\n",
              "  <thead>\n",
              "    <tr style=\"text-align: right;\">\n",
              "      <th></th>\n",
              "      <th>국내주식</th>\n",
              "      <th>해외주식</th>\n",
              "      <th>국내채권</th>\n",
              "      <th>해외채권</th>\n",
              "      <th>원자재</th>\n",
              "      <th>부동산</th>\n",
              "    </tr>\n",
              "  </thead>\n",
              "  <tbody>\n",
              "    <tr>\n",
              "      <th>0</th>\n",
              "      <td>0.0500</td>\n",
              "      <td>0.0500</td>\n",
              "      <td>0.5000</td>\n",
              "      <td>0.3000</td>\n",
              "      <td>0.0500</td>\n",
              "      <td>0.0500</td>\n",
              "    </tr>\n",
              "  </tbody>\n",
              "</table>\n",
              "</div>\n",
              "      <button class=\"colab-df-convert\" onclick=\"convertToInteractive('df-33809571-69d1-42c5-94a6-b0403de100f0')\"\n",
              "              title=\"Convert this dataframe to an interactive table.\"\n",
              "              style=\"display:none;\">\n",
              "        \n",
              "  <svg xmlns=\"http://www.w3.org/2000/svg\" height=\"24px\"viewBox=\"0 0 24 24\"\n",
              "       width=\"24px\">\n",
              "    <path d=\"M0 0h24v24H0V0z\" fill=\"none\"/>\n",
              "    <path d=\"M18.56 5.44l.94 2.06.94-2.06 2.06-.94-2.06-.94-.94-2.06-.94 2.06-2.06.94zm-11 1L8.5 8.5l.94-2.06 2.06-.94-2.06-.94L8.5 2.5l-.94 2.06-2.06.94zm10 10l.94 2.06.94-2.06 2.06-.94-2.06-.94-.94-2.06-.94 2.06-2.06.94z\"/><path d=\"M17.41 7.96l-1.37-1.37c-.4-.4-.92-.59-1.43-.59-.52 0-1.04.2-1.43.59L10.3 9.45l-7.72 7.72c-.78.78-.78 2.05 0 2.83L4 21.41c.39.39.9.59 1.41.59.51 0 1.02-.2 1.41-.59l7.78-7.78 2.81-2.81c.8-.78.8-2.07 0-2.86zM5.41 20L4 18.59l7.72-7.72 1.47 1.35L5.41 20z\"/>\n",
              "  </svg>\n",
              "      </button>\n",
              "      \n",
              "  <style>\n",
              "    .colab-df-container {\n",
              "      display:flex;\n",
              "      flex-wrap:wrap;\n",
              "      gap: 12px;\n",
              "    }\n",
              "\n",
              "    .colab-df-convert {\n",
              "      background-color: #E8F0FE;\n",
              "      border: none;\n",
              "      border-radius: 50%;\n",
              "      cursor: pointer;\n",
              "      display: none;\n",
              "      fill: #1967D2;\n",
              "      height: 32px;\n",
              "      padding: 0 0 0 0;\n",
              "      width: 32px;\n",
              "    }\n",
              "\n",
              "    .colab-df-convert:hover {\n",
              "      background-color: #E2EBFA;\n",
              "      box-shadow: 0px 1px 2px rgba(60, 64, 67, 0.3), 0px 1px 3px 1px rgba(60, 64, 67, 0.15);\n",
              "      fill: #174EA6;\n",
              "    }\n",
              "\n",
              "    [theme=dark] .colab-df-convert {\n",
              "      background-color: #3B4455;\n",
              "      fill: #D2E3FC;\n",
              "    }\n",
              "\n",
              "    [theme=dark] .colab-df-convert:hover {\n",
              "      background-color: #434B5C;\n",
              "      box-shadow: 0px 1px 3px 1px rgba(0, 0, 0, 0.15);\n",
              "      filter: drop-shadow(0px 1px 2px rgba(0, 0, 0, 0.3));\n",
              "      fill: #FFFFFF;\n",
              "    }\n",
              "  </style>\n",
              "\n",
              "      <script>\n",
              "        const buttonEl =\n",
              "          document.querySelector('#df-33809571-69d1-42c5-94a6-b0403de100f0 button.colab-df-convert');\n",
              "        buttonEl.style.display =\n",
              "          google.colab.kernel.accessAllowed ? 'block' : 'none';\n",
              "\n",
              "        async function convertToInteractive(key) {\n",
              "          const element = document.querySelector('#df-33809571-69d1-42c5-94a6-b0403de100f0');\n",
              "          const dataTable =\n",
              "            await google.colab.kernel.invokeFunction('convertToInteractive',\n",
              "                                                     [key], {});\n",
              "          if (!dataTable) return;\n",
              "\n",
              "          const docLinkHtml = 'Like what you see? Visit the ' +\n",
              "            '<a target=\"_blank\" href=https://colab.research.google.com/notebooks/data_table.ipynb>data table notebook</a>'\n",
              "            + ' to learn more about interactive tables.';\n",
              "          element.innerHTML = '';\n",
              "          dataTable['output_type'] = 'display_data';\n",
              "          await google.colab.output.renderOutput(dataTable, element);\n",
              "          const docLink = document.createElement('div');\n",
              "          docLink.innerHTML = docLinkHtml;\n",
              "          element.appendChild(docLink);\n",
              "        }\n",
              "      </script>\n",
              "    </div>\n",
              "  </div>\n",
              "  "
            ]
          },
          "metadata": {},
          "execution_count": 38
        }
      ],
      "source": [
        "GMV_portfolio = optimize.minimize(GMV_for_optimization, Init_Point, method='SLSQP', bounds=bnds, constraints=GMV_constraint, options=options).x\n",
        "GMV_portfolio_df = pd.DataFrame(GMV_portfolio).T\n",
        "GMV_portfolio_df.columns = ['국내주식', '해외주식', '국내채권', '해외채권', '원자재', '부동산']\n",
        "GMV_portfolio_df"
      ]
    },
    {
      "cell_type": "code",
      "execution_count": null,
      "metadata": {
        "colab": {
          "base_uri": "https://localhost:8080/"
        },
        "id": "9z0Tyc6_WJ3Q",
        "outputId": "f4d56f9b-3a42-4c51-e771-e3e6c4a6d299"
      },
      "outputs": [
        {
          "output_type": "execute_result",
          "data": {
            "text/plain": [
              "<matplotlib.axes._subplots.AxesSubplot at 0x7f1acdba6d60>"
            ]
          },
          "metadata": {},
          "execution_count": 39
        },
        {
          "output_type": "display_data",
          "data": {
            "text/plain": [
              "<Figure size 432x288 with 1 Axes>"
            ],
            "image/png": "[encoded data removed]"
          },
          "metadata": {}
        }
      ],
      "source": [
        "GMV_portfolio_df.iloc[0,:6].plot(kind='pie',\n",
        "                                title='Global Minimum Variance Portfolio',\n",
        "                                autopct='%.2f%%')"
      ]
    },
    {
      "cell_type": "code",
      "execution_count": null,
      "metadata": {
        "colab": {
          "base_uri": "https://localhost:8080/"
        },
        "id": "eo4VzPiCWaNh",
        "outputId": "23f63905-7d74-4b4c-add7-c0e8222c6615"
      },
      "outputs": [
        {
          "output_type": "execute_result",
          "data": {
            "text/plain": [
              "    국내주식   해외주식   국내채권   해외채권    원자재    부동산    비중합   기대수익  실효기대수익   표준편차  \\\n",
              "0 0.0500 0.0500 0.5000 0.3000 0.0500 0.0500 1.0000 0.0506  0.0158 0.0566   \n",
              "\n",
              "    샤프비율  \n",
              "0 0.2790  "
            ],
            "text/html": [
              "\n",
              "  <div id=\"df-b8b6f277-9b0f-49e0-be05-b2ae34a64fd2\">\n",
              "    <div class=\"colab-df-container\">\n",
              "      <div>\n",
              "<style scoped>\n",
              "    .dataframe tbody tr th:only-of-type {\n",
              "        vertical-align: middle;\n",
              "    }\n",
              "\n",
              "    .dataframe tbody tr th {\n",
              "        vertical-align: top;\n",
              "    }\n",
              "\n",
              "    .dataframe thead th {\n",
              "        text-align: right;\n",
              "    }\n",
              "</style>\n",
              "<table border=\"1\" class=\"dataframe\">\n",
              "  <thead>\n",
              "    <tr style=\"text-align: right;\">\n",
              "      <th></th>\n",
              "      <th>국내주식</th>\n",
              "      <th>해외주식</th>\n",
              "      <th>국내채권</th>\n",
              "      <th>해외채권</th>\n",
              "      <th>원자재</th>\n",
              "      <th>부동산</th>\n",
              "      <th>비중합</th>\n",
              "      <th>기대수익</th>\n",
              "      <th>실효기대수익</th>\n",
              "      <th>표준편차</th>\n",
              "      <th>샤프비율</th>\n",
              "    </tr>\n",
              "  </thead>\n",
              "  <tbody>\n",
              "    <tr>\n",
              "      <th>0</th>\n",
              "      <td>0.0500</td>\n",
              "      <td>0.0500</td>\n",
              "      <td>0.5000</td>\n",
              "      <td>0.3000</td>\n",
              "      <td>0.0500</td>\n",
              "      <td>0.0500</td>\n",
              "      <td>1.0000</td>\n",
              "      <td>0.0506</td>\n",
              "      <td>0.0158</td>\n",
              "      <td>0.0566</td>\n",
              "      <td>0.2790</td>\n",
              "    </tr>\n",
              "  </tbody>\n",
              "</table>\n",
              "</div>\n",
              "      <button class=\"colab-df-convert\" onclick=\"convertToInteractive('df-b8b6f277-9b0f-49e0-be05-b2ae34a64fd2')\"\n",
              "              title=\"Convert this dataframe to an interactive table.\"\n",
              "              style=\"display:none;\">\n",
              "        \n",
              "  <svg xmlns=\"http://www.w3.org/2000/svg\" height=\"24px\"viewBox=\"0 0 24 24\"\n",
              "       width=\"24px\">\n",
              "    <path d=\"M0 0h24v24H0V0z\" fill=\"none\"/>\n",
              "    <path d=\"M18.56 5.44l.94 2.06.94-2.06 2.06-.94-2.06-.94-.94-2.06-.94 2.06-2.06.94zm-11 1L8.5 8.5l.94-2.06 2.06-.94-2.06-.94L8.5 2.5l-.94 2.06-2.06.94zm10 10l.94 2.06.94-2.06 2.06-.94-2.06-.94-.94-2.06-.94 2.06-2.06.94z\"/><path d=\"M17.41 7.96l-1.37-1.37c-.4-.4-.92-.59-1.43-.59-.52 0-1.04.2-1.43.59L10.3 9.45l-7.72 7.72c-.78.78-.78 2.05 0 2.83L4 21.41c.39.39.9.59 1.41.59.51 0 1.02-.2 1.41-.59l7.78-7.78 2.81-2.81c.8-.78.8-2.07 0-2.86zM5.41 20L4 18.59l7.72-7.72 1.47 1.35L5.41 20z\"/>\n",
              "  </svg>\n",
              "      </button>\n",
              "      \n",
              "  <style>\n",
              "    .colab-df-container {\n",
              "      display:flex;\n",
              "      flex-wrap:wrap;\n",
              "      gap: 12px;\n",
              "    }\n",
              "\n",
              "    .colab-df-convert {\n",
              "      background-color: #E8F0FE;\n",
              "      border: none;\n",
              "      border-radius: 50%;\n",
              "      cursor: pointer;\n",
              "      display: none;\n",
              "      fill: #1967D2;\n",
              "      height: 32px;\n",
              "      padding: 0 0 0 0;\n",
              "      width: 32px;\n",
              "    }\n",
              "\n",
              "    .colab-df-convert:hover {\n",
              "      background-color: #E2EBFA;\n",
              "      box-shadow: 0px 1px 2px rgba(60, 64, 67, 0.3), 0px 1px 3px 1px rgba(60, 64, 67, 0.15);\n",
              "      fill: #174EA6;\n",
              "    }\n",
              "\n",
              "    [theme=dark] .colab-df-convert {\n",
              "      background-color: #3B4455;\n",
              "      fill: #D2E3FC;\n",
              "    }\n",
              "\n",
              "    [theme=dark] .colab-df-convert:hover {\n",
              "      background-color: #434B5C;\n",
              "      box-shadow: 0px 1px 3px 1px rgba(0, 0, 0, 0.15);\n",
              "      filter: drop-shadow(0px 1px 2px rgba(0, 0, 0, 0.3));\n",
              "      fill: #FFFFFF;\n",
              "    }\n",
              "  </style>\n",
              "\n",
              "      <script>\n",
              "        const buttonEl =\n",
              "          document.querySelector('#df-b8b6f277-9b0f-49e0-be05-b2ae34a64fd2 button.colab-df-convert');\n",
              "        buttonEl.style.display =\n",
              "          google.colab.kernel.accessAllowed ? 'block' : 'none';\n",
              "\n",
              "        async function convertToInteractive(key) {\n",
              "          const element = document.querySelector('#df-b8b6f277-9b0f-49e0-be05-b2ae34a64fd2');\n",
              "          const dataTable =\n",
              "            await google.colab.kernel.invokeFunction('convertToInteractive',\n",
              "                                                     [key], {});\n",
              "          if (!dataTable) return;\n",
              "\n",
              "          const docLinkHtml = 'Like what you see? Visit the ' +\n",
              "            '<a target=\"_blank\" href=https://colab.research.google.com/notebooks/data_table.ipynb>data table notebook</a>'\n",
              "            + ' to learn more about interactive tables.';\n",
              "          element.innerHTML = '';\n",
              "          dataTable['output_type'] = 'display_data';\n",
              "          await google.colab.output.renderOutput(dataTable, element);\n",
              "          const docLink = document.createElement('div');\n",
              "          docLink.innerHTML = docLinkHtml;\n",
              "          element.appendChild(docLink);\n",
              "        }\n",
              "      </script>\n",
              "    </div>\n",
              "  </div>\n",
              "  "
            ]
          },
          "metadata": {},
          "execution_count": 40
        }
      ],
      "source": [
        "GMV_portfolio_df = add_columns(GMV_portfolio_df)\n",
        "GMV_portfolio_df"
      ]
    },
    {
      "cell_type": "markdown",
      "metadata": {
        "id": "y_k9tW4zXS_k"
      },
      "source": [
        "## 효율적 투자곡선과 함께 표시"
      ]
    },
    {
      "cell_type": "code",
      "execution_count": null,
      "metadata": {
        "id": "dKBxS9XiYRm7"
      },
      "outputs": [],
      "source": [
        "# 시작점과 비중의 상하한선을 설정\n",
        "Init_Point = tuple(weight_constraint.loc['초기 비중',:])\n",
        "bnds = tuple([(min_weight, max_weight) for (min_weight,max_weight) in zip(weight_constraint.loc['최소비중', :], weight_constraint.loc['최대비중', :])])\n",
        "\n",
        "# 샤프비율 계산하는 함수(최소화를 해야하므로 끝에 음수를 곱해줌)\n",
        "def sharpe_ratio_for_optimization(weight):\n",
        "  global risk_free_rate, expected_return, covariance_matrix\n",
        "  expected_portfolio_return = cacluate_expected_portfolio_return(weight, expected_return)\n",
        "  portfolio_std = calculate_portfolio_std(weight, covariance_matrix)\n",
        "  return -(expected_portfolio_return - risk_free_rate) / portfolio_std\n",
        "\n",
        "# 기대수익률을 계산하는 함수(0을 기준으로 등호가 쓰이므로 목표기대수익률을 뺀다)\n",
        "def expected_return_for_optimization(weight):\n",
        "  global expected_return, target_expected_return\n",
        "  expected_portfolio_return = sum(np.array(weight) * np.array(expected_return))\n",
        "  return expected_portfolio_return - target_expected_return\n",
        "\n",
        "# 비중합을 계산해주는 함수(형식을 맞춰주기 위해서 넣음)\n",
        "def weight_sum_optimization(weight):\n",
        "  return sum(weight)-1\n",
        "\n",
        "# 효율적 투자곡선을 그리기 위한 제약 조건\n",
        "EF_constraints = [{'type':'eq', 'fun': weight_sum_optimization},\n",
        "                {'type': 'eq', 'fun': expected_return_for_optimization}]\n",
        "options = {'ftol': 1e-20, 'maxiter': 5000}\n",
        "\n",
        "# 주어진 기대수익률 하에서 분산이 최소(샤프비율이 최대)가 되는 포트폴리오들을 찾아냄\n",
        "efficient_frontier = []\n",
        "for num in range(400, 852, 2):\n",
        "  target_expected_return = num/10000\n",
        "  result = optimize.minimize(sharpe_ratio_for_optimization, Init_Point, method='SLSQP', bounds=bnds, constraints=EF_constraints)['x']\n",
        "  efficient_frontier.append(result)"
      ]
    },
    {
      "cell_type": "code",
      "execution_count": null,
      "metadata": {
        "id": "m53lAVwHZrKP"
      },
      "outputs": [],
      "source": [
        "efficient_frontier = pd.DataFrame(efficient_frontier, columns=['국내주식', '해외주식', '국내채권', '해외채권', '원자재', '부동산'],\n",
        "                                  index=np.arange(0.0400, 0.0852, 0.0002))\n",
        "efficient_frontier = add_columns(efficient_frontier)\n",
        "efficient_frontier = efficient_frontier.set_index('표준편차')"
      ]
    },
    {
      "cell_type": "code",
      "execution_count": null,
      "metadata": {
        "colab": {
          "base_uri": "https://localhost:8080/"
        },
        "id": "jixYMaNkXsSI",
        "outputId": "ef3c88fe-7eab-4088-e650-2a8873b9e445"
      },
      "outputs": [
        {
          "output_type": "display_data",
          "data": {
            "text/plain": [
              "<Figure size 1008x648 with 2 Axes>"
            ],
            "image/png": "[encoded data removed]"
          },
          "metadata": {
            "needs_background": "light"
          }
        }
      ],
      "source": [
        "fig, ax = plt.subplots()\n",
        "random_weights_df.plot.scatter(x='표준편차', y='기대수익', c=10, ax=ax, cmap='Blues',alpha=0.4, figsize=(14, 9), colorbar=True)\n",
        "\n",
        "efficient_frontier['기대수익'].plot(linestyle='--', lw=2, ax=ax, c='k', label='효율적 투자곡선')\n",
        "\n",
        "r, sd = max_sharpe_portfolio_df['기대수익'], max_sharpe_portfolio_df['표준편차']\n",
        "ax.scatter(sd, r, marker='*', color='k', s=500, label='MVO(샤프비율 최대)')\n",
        "\n",
        "r, sd = GMV_portfolio_df['기대수익'], GMV_portfolio_df['표준편차']\n",
        "ax.scatter(sd, r, marker='v', color='k', s=200, label='글로벌 최소분산')\n",
        "\n",
        "r, sd = risk_parity_portfolio_df['기대수익'], risk_parity_portfolio_df['표준편차']\n",
        "ax.scatter(sd, r, marker='X', color='k', s=250, label='리스크패리티')\n",
        "\n",
        "r, sd = risk_budgeting_portfolio_df['기대수익'], risk_budgeting_portfolio_df['표준편차']\n",
        "ax.scatter(sd, r, marker='+', color='k', s=250, label='리스크버젯팅')\n",
        "\n",
        "r, sd = equal_weight_portfolio['기대수익'], equal_weight_portfolio['표준편차']\n",
        "ax.scatter(sd, r, marker='o', color='k', s=200, label='동일비중')\n",
        "\n",
        "\n",
        "ax.legend(labelspacing=0.8)\n",
        "ax.set_xlim(min(efficient_frontier.index)-0.02, max(efficient_frontier.index)+.02)\n",
        "ax.set_title('포트폴리오 최적화', fontsize=16)\n",
        "ax.yaxis.set_major_formatter(FuncFormatter(lambda y, _: '{:.0%}'.format(y)))\n",
        "ax.xaxis.set_major_formatter(FuncFormatter(lambda y, _: '{:.0%}'.format(y)))\n",
        "fig.tight_layout()"
      ]
    },
    {
      "cell_type": "markdown",
      "metadata": {
        "id": "TXHtjXaGk2ii"
      },
      "source": [
        "## 추가적인 제약 조건"
      ]
    },
    {
      "cell_type": "markdown",
      "metadata": {
        "id": "kOmTgbxwnp9Z"
      },
      "source": [
        "### MVO에 제약 조건 추가"
      ]
    },
    {
      "cell_type": "markdown",
      "metadata": {
        "id": "psv-n-einsmx"
      },
      "source": [
        "Shortfall risk 제약 조건 추가  \n",
        "** Shortfall Risk: 설정한 용인 가능 최소 수익률 이하로 수익률이 떨어질 확률"
      ]
    },
    {
      "cell_type": "code",
      "execution_count": null,
      "metadata": {
        "id": "hPupEVqVk1_y"
      },
      "outputs": [],
      "source": [
        "# 무위험이자율, 기대수익률, 공분산행렬, 목표적자확률, 목표기대수익률을 전역변수로 선언\n",
        "risk_free_rate = 0.0348\n",
        "minimum_return = -0.05\n",
        "expected_return = weight_constraint.loc['기대수익', :]\n",
        "covariance_matrix = cov_mat.copy()\n",
        "target_shortfall_prob  = 5/100\n",
        "\n",
        "# 시작점과 비중의 상하한선을 설정\n",
        "Init_Point = tuple(weight_constraint.loc['초기 비중',:])\n",
        "bnds = tuple([(min_weight, max_weight) for (min_weight,max_weight) in zip(weight_constraint.loc['최소비중', :], weight_constraint.loc['최대비중', :])])\n",
        "\n",
        "\n",
        "# 샤프비율 계산하는 함수(최소화를 해야하므로 끝에 음수를 곱해줌)\n",
        "def sharpe_ratio_for_optimization(weight):\n",
        "  global risk_free_rate, expected_return, covariance_matrix\n",
        "  expected_portfolio_return = cacluate_expected_portfolio_return(weight, expected_return)\n",
        "  portfolio_std = calculate_portfolio_std(weight, covariance_matrix)\n",
        "  return -(expected_portfolio_return - risk_free_rate) / portfolio_std\n",
        "\n",
        "# 적자확률 계산하는 함수\n",
        "def calculate_portfolio_shortfall_prob(minimum_return, std, expected_return):\n",
        "  rv = stats.norm()\n",
        "  shortfall_prob = rv.cdf((minimum_return-expected_return)/std)\n",
        "  return shortfall_prob\n",
        "# 적자확률 제약 조건 계산(target 값보다 작게 나와야 함)\n",
        "def short_fall_prob_for_optimization(weight):\n",
        "  global expected_return, minimum_return, covariance_matrix, taret_shortfall_prob\n",
        "  expected_portfolio_return = cacluate_expected_portfolio_return(weight, expected_return)\n",
        "  portfolio_std = calculate_portfolio_std(weight, covariance_matrix)\n",
        "  short_fall_prob = calculate_portfolio_shortfall_prob(minimum_return, portfolio_std, expected_portfolio_return)\n",
        "  return target_shortfall_prob - short_fall_prob\n",
        "\n",
        "# 비중합을 계산해주는 함수(형식을 맞춰주기 위해서 넣음)\n",
        "def weight_sum_optimization(weight):\n",
        "  return sum(weight)-1\n",
        "\n",
        "# 제약 조건 설정(short_fall_risk 추가)\n",
        "options = {'ftol': 1e-20, 'maxiter': 5000}\n",
        "extra_constraint = [{'type':'eq', 'fun': weight_sum_optimization},\n",
        "                {'type': 'ineq', 'fun': short_fall_prob_for_optimization}]"
      ]
    },
    {
      "cell_type": "code",
      "execution_count": null,
      "metadata": {
        "colab": {
          "base_uri": "https://localhost:8080/"
        },
        "id": "z7o8lHKArMPq",
        "outputId": "9a167e76-7377-4321-c078-e360a680dde9"
      },
      "outputs": [
        {
          "output_type": "execute_result",
          "data": {
            "text/plain": [
              "    국내주식   해외주식   국내채권   해외채권    원자재    부동산\n",
              "0 0.0500 0.0818 0.5000 0.2409 0.0774 0.0500"
            ],
            "text/html": [
              "\n",
              "  <div id=\"df-d5501790-b9fb-499b-9caf-96def698d3ba\">\n",
              "    <div class=\"colab-df-container\">\n",
              "      <div>\n",
              "<style scoped>\n",
              "    .dataframe tbody tr th:only-of-type {\n",
              "        vertical-align: middle;\n",
              "    }\n",
              "\n",
              "    .dataframe tbody tr th {\n",
              "        vertical-align: top;\n",
              "    }\n",
              "\n",
              "    .dataframe thead th {\n",
              "        text-align: right;\n",
              "    }\n",
              "</style>\n",
              "<table border=\"1\" class=\"dataframe\">\n",
              "  <thead>\n",
              "    <tr style=\"text-align: right;\">\n",
              "      <th></th>\n",
              "      <th>국내주식</th>\n",
              "      <th>해외주식</th>\n",
              "      <th>국내채권</th>\n",
              "      <th>해외채권</th>\n",
              "      <th>원자재</th>\n",
              "      <th>부동산</th>\n",
              "    </tr>\n",
              "  </thead>\n",
              "  <tbody>\n",
              "    <tr>\n",
              "      <th>0</th>\n",
              "      <td>0.0500</td>\n",
              "      <td>0.0818</td>\n",
              "      <td>0.5000</td>\n",
              "      <td>0.2409</td>\n",
              "      <td>0.0774</td>\n",
              "      <td>0.0500</td>\n",
              "    </tr>\n",
              "  </tbody>\n",
              "</table>\n",
              "</div>\n",
              "      <button class=\"colab-df-convert\" onclick=\"convertToInteractive('df-d5501790-b9fb-499b-9caf-96def698d3ba')\"\n",
              "              title=\"Convert this dataframe to an interactive table.\"\n",
              "              style=\"display:none;\">\n",
              "        \n",
              "  <svg xmlns=\"http://www.w3.org/2000/svg\" height=\"24px\"viewBox=\"0 0 24 24\"\n",
              "       width=\"24px\">\n",
              "    <path d=\"M0 0h24v24H0V0z\" fill=\"none\"/>\n",
              "    <path d=\"M18.56 5.44l.94 2.06.94-2.06 2.06-.94-2.06-.94-.94-2.06-.94 2.06-2.06.94zm-11 1L8.5 8.5l.94-2.06 2.06-.94-2.06-.94L8.5 2.5l-.94 2.06-2.06.94zm10 10l.94 2.06.94-2.06 2.06-.94-2.06-.94-.94-2.06-.94 2.06-2.06.94z\"/><path d=\"M17.41 7.96l-1.37-1.37c-.4-.4-.92-.59-1.43-.59-.52 0-1.04.2-1.43.59L10.3 9.45l-7.72 7.72c-.78.78-.78 2.05 0 2.83L4 21.41c.39.39.9.59 1.41.59.51 0 1.02-.2 1.41-.59l7.78-7.78 2.81-2.81c.8-.78.8-2.07 0-2.86zM5.41 20L4 18.59l7.72-7.72 1.47 1.35L5.41 20z\"/>\n",
              "  </svg>\n",
              "      </button>\n",
              "      \n",
              "  <style>\n",
              "    .colab-df-container {\n",
              "      display:flex;\n",
              "      flex-wrap:wrap;\n",
              "      gap: 12px;\n",
              "    }\n",
              "\n",
              "    .colab-df-convert {\n",
              "      background-color: #E8F0FE;\n",
              "      border: none;\n",
              "      border-radius: 50%;\n",
              "      cursor: pointer;\n",
              "      display: none;\n",
              "      fill: #1967D2;\n",
              "      height: 32px;\n",
              "      padding: 0 0 0 0;\n",
              "      width: 32px;\n",
              "    }\n",
              "\n",
              "    .colab-df-convert:hover {\n",
              "      background-color: #E2EBFA;\n",
              "      box-shadow: 0px 1px 2px rgba(60, 64, 67, 0.3), 0px 1px 3px 1px rgba(60, 64, 67, 0.15);\n",
              "      fill: #174EA6;\n",
              "    }\n",
              "\n",
              "    [theme=dark] .colab-df-convert {\n",
              "      background-color: #3B4455;\n",
              "      fill: #D2E3FC;\n",
              "    }\n",
              "\n",
              "    [theme=dark] .colab-df-convert:hover {\n",
              "      background-color: #434B5C;\n",
              "      box-shadow: 0px 1px 3px 1px rgba(0, 0, 0, 0.15);\n",
              "      filter: drop-shadow(0px 1px 2px rgba(0, 0, 0, 0.3));\n",
              "      fill: #FFFFFF;\n",
              "    }\n",
              "  </style>\n",
              "\n",
              "      <script>\n",
              "        const buttonEl =\n",
              "          document.querySelector('#df-d5501790-b9fb-499b-9caf-96def698d3ba button.colab-df-convert');\n",
              "        buttonEl.style.display =\n",
              "          google.colab.kernel.accessAllowed ? 'block' : 'none';\n",
              "\n",
              "        async function convertToInteractive(key) {\n",
              "          const element = document.querySelector('#df-d5501790-b9fb-499b-9caf-96def698d3ba');\n",
              "          const dataTable =\n",
              "            await google.colab.kernel.invokeFunction('convertToInteractive',\n",
              "                                                     [key], {});\n",
              "          if (!dataTable) return;\n",
              "\n",
              "          const docLinkHtml = 'Like what you see? Visit the ' +\n",
              "            '<a target=\"_blank\" href=https://colab.research.google.com/notebooks/data_table.ipynb>data table notebook</a>'\n",
              "            + ' to learn more about interactive tables.';\n",
              "          element.innerHTML = '';\n",
              "          dataTable['output_type'] = 'display_data';\n",
              "          await google.colab.output.renderOutput(dataTable, element);\n",
              "          const docLink = document.createElement('div');\n",
              "          docLink.innerHTML = docLinkHtml;\n",
              "          element.appendChild(docLink);\n",
              "        }\n",
              "      </script>\n",
              "    </div>\n",
              "  </div>\n",
              "  "
            ]
          },
          "metadata": {},
          "execution_count": 45
        }
      ],
      "source": [
        "max_sharpe_portfolio_2_df = optimize.minimize(sharpe_ratio_for_optimization, Init_Point, method='SLSQP', bounds=bnds, constraints=extra_constraint, options=options).x\n",
        "max_sharpe_portfolio_2_df = pd.DataFrame(max_sharpe_portfolio_2_df).T\n",
        "max_sharpe_portfolio_2_df.columns = ['국내주식', '해외주식', '국내채권', '해외채권', '원자재', '부동산']\n",
        "max_sharpe_portfolio_2_df"
      ]
    },
    {
      "cell_type": "code",
      "execution_count": null,
      "metadata": {
        "colab": {
          "base_uri": "https://localhost:8080/",
          "height": 282
        },
        "id": "LACpoTw2rMPr",
        "outputId": "381c4bf1-778a-4930-a2f6-3b5a2f5bf0da"
      },
      "outputs": [
        {
          "output_type": "execute_result",
          "data": {
            "text/plain": [
              "<matplotlib.axes._subplots.AxesSubplot at 0x7f1acdb2f5e0>"
            ]
          },
          "metadata": {},
          "execution_count": 46
        },
        {
          "output_type": "display_data",
          "data": {
            "text/plain": [
              "<Figure size 432x288 with 1 Axes>"
            ],
            "image/png": "[encoded data removed]"
          },
          "metadata": {}
        }
      ],
      "source": [
        "max_sharpe_portfolio_2_df.iloc[0,:6].plot(kind='pie',\n",
        "                                       title='MVO(max_sharpe_portfolio)',\n",
        "                                        autopct='%.2f%%')"
      ]
    }
  ],
  "metadata": {
    "colab": {
      "provenance": []
    },
    "kernelspec": {
      "display_name": "Python 3",
      "name": "python3"
    },
    "language_info": {
      "name": "python"
    }
  },
  "nbformat": 4,
  "nbformat_minor": 0
}