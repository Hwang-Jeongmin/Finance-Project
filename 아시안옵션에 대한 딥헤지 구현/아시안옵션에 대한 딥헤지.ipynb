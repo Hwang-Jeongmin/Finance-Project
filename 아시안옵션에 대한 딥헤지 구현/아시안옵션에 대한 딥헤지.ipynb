{
  "nbformat": 4,
  "nbformat_minor": 0,
  "metadata": {
    "colab": {
      "provenance": [],
      "collapsed_sections": [
        "cBQZN5Rh6-qN",
        "HFlpyO947D7m",
        "mOy_iY1V7TuL",
        "FJtZVQLX7bhF"
      ]
    },
    "kernelspec": {
      "name": "python3",
      "display_name": "Python 3"
    },
    "language_info": {
      "name": "python"
    }
  },
  "cells": [
    {
      "cell_type": "markdown",
      "source": [
        "### 델타헤징"
      ],
      "metadata": {
        "id": "QFO_4_cuzHqR"
      }
    },
    {
      "cell_type": "code",
      "execution_count": null,
      "metadata": {
        "id": "FG7TkbRn0EtO"
      },
      "outputs": [],
      "source": [
        "import numpy as np\n",
        "import matplotlib.pyplot as plt\n",
        "\n",
        "from scipy.stats import norm"
      ]
    },
    {
      "cell_type": "code",
      "source": [
        "r = 0.00\n",
        "sig = 0.2\n",
        "T = 100/365\n",
        "K = 100\n",
        "\n",
        "M = 1000\n",
        "N = 100\n",
        "\n",
        "dt = T / N\n",
        "rdt = r * dt\n",
        "sigmdt = sig * np.sqrt(dt)"
      ],
      "metadata": {
        "id": "cHvFIf7z0Qoq"
      },
      "execution_count": null,
      "outputs": []
    },
    {
      "cell_type": "code",
      "source": [
        "np.random.seed(100)\n",
        "S0 = 100\n",
        "S = np.empty([M, N+1])\n",
        "rv = np.random.normal(r*dt, sigmdt, [M,N])"
      ],
      "metadata": {
        "id": "6_RK5Hgh0Zki"
      },
      "execution_count": null,
      "outputs": []
    },
    {
      "cell_type": "code",
      "source": [
        "def c_delta(r, sig, T, d1, d2, K,S):\n",
        "  return np.exp(-(r+sig**2/6)*(T/2))*norm.cdf(d1) + 1/(sig*np.sqrt(2*np.pi*T/3)) * (np.exp(-(r*T/2 + T* sig **2/12 + d1**2/2))-K/S*np.exp(-r*T-d2**2/2))"
      ],
      "metadata": {
        "id": "5VvffY6eOFo7"
      },
      "execution_count": null,
      "outputs": []
    },
    {
      "cell_type": "code",
      "source": [
        "def bscall(S, K, T, r, sig):\n",
        "    d1 = (np.log(S/K) + (T/2)*(r+(sig**2)/6)) / (sig*np.sqrt(T/3))\n",
        "    d2 = (np.log(S/K) + (T/2)*(r-(sig**2)/2)) / (sig*np.sqrt(T/3))\n",
        "    return S*np.exp(-(r*(sig**2)/6)* (T/2)) * norm.cdf(d1) - K*np.exp(-r*T)*norm.cdf(d2)\n",
        "    \n",
        "def bsput(S, K, T, r, sig):\n",
        "    d1 = (np.log(S/K) + T/2*(r+(sig**2)/6)) / (sig*np.sqrt(T/3))\n",
        "    d2 = (np.log(S/K) + T/2*(r-(sig**2)/2)) / (sig*np.sqrt(T/3))\n",
        "    return K*np.exp(-r*T)*norm.cdf(-d2)-S*np.exp(-(r*(sig**2)/6)* (T/2)) * norm.cdf(-d1)"
      ],
      "metadata": {
        "id": "sKvbwwxQ3v-8"
      },
      "execution_count": null,
      "outputs": []
    },
    {
      "cell_type": "code",
      "source": [
        "bscall(S0, K,T,r,sig)"
      ],
      "metadata": {
        "colab": {
          "base_uri": "https://localhost:8080/"
        },
        "id": "RRNNmciE3wiU",
        "outputId": "302edea4-5a0d-4c86-cfab-70db0c58fdb9"
      },
      "execution_count": null,
      "outputs": [
        {
          "output_type": "execute_result",
          "data": {
            "text/plain": [
              "2.4105566452813036"
            ]
          },
          "metadata": {},
          "execution_count": 6
        }
      ]
    },
    {
      "cell_type": "code",
      "source": [
        "for i in range(M):\n",
        "  S[i,0] = S0\n",
        "  for j in range(N):\n",
        "    S[i,j+1] = S[i,j] * (1+rv[i,j])"
      ],
      "metadata": {
        "id": "AwnikQzr3GTJ"
      },
      "execution_count": null,
      "outputs": []
    },
    {
      "cell_type": "code",
      "source": [
        "m=40\n",
        "K=100\n",
        "hedge = 0\n",
        "cost = 0\n",
        "\n",
        "for j in range(N):\n",
        "    S_ = np.prod(S[m,:j+1]) ** (1/(j+1)) \n",
        "    d1 = (np.log(S[m,j]/K) + ((T-j*dt)/2)*(r+(sig**2)/6)) / (sig*np.sqrt((T-j*dt)/3))\n",
        "    d2 = (np.log(S[m,j]/K) + ((T-j*dt)/2)*(r-(sig**2)/2)) / (sig*np.sqrt((T-j*dt)/3))\n",
        "    delta = c_delta(r, sig, (T-j*dt), d1, d2, K,S[m,j])\n",
        "    cost = cost + (hedge - delta) * S[m,j]\n",
        "    print(S_, delta, cost)\n",
        "\n",
        "    hedge = delta"
      ],
      "metadata": {
        "colab": {
          "base_uri": "https://localhost:8080/"
        },
        "id": "wvmJvE17YKnR",
        "outputId": "ac9bf71c-d8d3-4047-a43b-ebd7421c4016"
      },
      "execution_count": null,
      "outputs": [
        {
          "output_type": "stream",
          "name": "stdout",
          "text": [
            "100.0 0.5055658525341266 -50.556585253412656\n",
            "99.01268755358454 0.3760585859395885 -37.86032444784762\n",
            "98.99102744184273 0.4353241796992891 -43.72451990971322\n",
            "98.89773473491562 0.41302185994300067 -41.52510117997376\n",
            "98.74295578593845 0.37999909942248256 -38.28470124293835\n",
            "98.80451529016104 0.44531323310871446 -44.75817372265466\n",
            "99.35043653954291 0.6793890725673692 -68.79539689999982\n",
            "99.83094094946901 0.7133529441504975 -72.30251223655364\n",
            "100.3068523363788 0.7647141482667753 -77.65418193597205\n",
            "100.78625362065375 0.8138022794261641 -82.81851327699768\n",
            "101.25638768446916 0.8509954765082751 -86.76396941043343\n",
            "101.72139152366502 0.8837267173173825 -90.26554294744541\n",
            "102.16687996067695 0.9053810385547209 -92.59700721999836\n",
            "102.71806749227838 0.957472364425532 -98.33538944516214\n",
            "103.34224831195847 0.9819618962432184 -101.09020995809043\n",
            "104.04146374582106 0.9936880804974605 -102.44007821388442\n",
            "104.53945632848028 0.9851445182692077 -101.47602776503992\n",
            "104.98132114230418 0.9853073608209194 -101.49439401441894\n",
            "105.35029320672666 0.9822561302882299 -101.15199095502686\n",
            "105.71186717832195 0.9864465772204007 -101.62476758058101\n",
            "105.96146294287102 0.9741237492578305 -100.25596010276249\n",
            "106.16732087495868 0.9696652605028792 -99.76292289599412\n",
            "106.36242796892489 0.9722311858122613 -100.0470905951309\n",
            "106.53421877769763 0.9710304442137694 -99.91433311811028\n",
            "106.65336824348313 0.9588261371094055 -98.57731127041231\n",
            "106.76976292838405 0.9622516570235746 -98.95316368677034\n",
            "106.87625749233267 0.962670461894041 -98.99909934040889\n",
            "106.9588880144999 0.9566235790468465 -98.33869372695965\n",
            "107.03928349069437 0.9592644312522408 -98.62737863852611\n",
            "107.1212206565684 0.9633835279158484 -99.07852219974\n",
            "107.22261944950951 0.9739695324539349 -100.24626040123863\n",
            "107.3508152399738 0.9841168297790187 -101.37668783414055\n",
            "107.37006789196676 0.9393708832192345 -96.54466348616775\n",
            "107.41458228730605 0.9580112338846837 -98.5744850227088\n",
            "107.43831595043923 0.9475014701828096 -97.43682004056666\n",
            "107.49241325359165 0.9677323128740158 -99.65013649756743\n",
            "107.54705512012708 0.9704020129373511 -99.942556144489\n",
            "107.61475429270207 0.9781123350211469 -100.79184665683458\n",
            "107.72201659101503 0.9905538265009312 -102.18377817503612\n",
            "107.8570947905118 0.995414248110806 -102.73426653838754\n",
            "108.00539948559694 0.9971308993095586 -102.93014988258916\n",
            "108.11753217450031 0.9949263310775425 -102.68143796866626\n",
            "108.20822366752697 0.993094111376284 -102.47607040703674\n",
            "108.28578799569095 0.9919580142729945 -102.3491976922465\n",
            "108.34112060846927 0.9881785675585564 -101.9304200554395\n",
            "108.38232593971097 0.985198820474751 -101.60189436729243\n",
            "108.44204774924374 0.9914563282078042 -102.2978864211187\n",
            "108.50031015789143 0.9921527333285243 -102.3753783753102\n",
            "108.51833886551094 0.9802874096391581 -101.07746325888554\n",
            "108.49614455147095 0.9518810935626622 -98.02622252135043\n",
            "108.48218620999793 0.9607947717080481 -98.98699717168844\n",
            "108.44957323865232 0.9408328559815824 -96.85507959399533\n",
            "108.38631975977758 0.8863098455600371 -91.12212262928898\n",
            "108.34479058822869 0.9266934165482893 -95.40949954496162\n",
            "108.30538627899125 0.9298244356733155 -95.74200970308934\n",
            "108.30108241663964 0.972366016853764 -100.33925006832854\n",
            "108.31683989786879 0.9859102557181219 -101.81832060607371\n",
            "108.33237992035782 0.9869234743759816 -101.92898622887841\n",
            "108.3503031283247 0.9889601426294178 -102.15178742793728\n",
            "108.390558873765 0.9956956435371291 -102.89802914435082\n",
            "108.40733507515202 0.9906060917734958 -102.34113714252238\n",
            "108.42982578129897 0.9932395126289467 -102.6303147168581\n",
            "108.45276531520341 0.9941007131229648 -102.72494733307214\n",
            "108.43802078118475 0.9758000190990399 -100.75738216246911\n",
            "108.41693808102166 0.9705956766619208 -100.20012128207267\n",
            "108.39421072898007 0.9697772260349958 -100.11260672451635\n",
            "108.40287666345102 0.9925083658004212 -102.58976365925977\n",
            "108.38651108815968 0.9788718615202369 -101.12662638006975\n",
            "108.38775100050665 0.9912195565460391 -102.4660067689942\n",
            "108.40115621615038 0.9958013808806677 -102.96693822488868\n",
            "108.41669246934627 0.9967692916828484 -103.07293392562606\n",
            "108.44502051766777 0.9986613509457567 -103.28195982887486\n",
            "108.47589229042919 0.9990396988818385 -103.32385123592043\n",
            "108.5163388766954 0.9994998178068495 -103.37515911585099\n",
            "108.56497508592241 0.9996742580485009 -103.39473570862924\n",
            "108.62123066184013 0.9997438014421852 -103.40258886498945\n",
            "108.67581663475988 0.9997607965802426 -103.4045077118026\n",
            "108.73334338965763 0.9997815012930273 -103.40685263621374\n",
            "108.80242793925323 0.9997979878433878 -103.40873751863123\n",
            "108.8612384114065 0.9998062601249564 -103.40967732545968\n",
            "108.92666689317905 0.9998169943758745 -103.41090414725194\n",
            "108.98112307301531 0.9998257362944105 -103.41189621254387\n",
            "109.03815657675327 0.999835413542547 -103.41299765685109\n",
            "109.07255088152901 0.9998419692023035 -103.41373166409097\n",
            "109.08256085855041 0.9998097756856777 -103.41019273747006\n",
            "109.06332216932715 0.9987989174515445 -103.30158575041399\n",
            "109.01855303816278 0.9880421379435989 -102.16958138654567\n",
            "108.99483368851251 0.9988777313086784 -103.32845766070793\n",
            "108.97584022023318 0.9995256561044563 -103.39799120749483\n",
            "108.96341708584582 0.9998215117269891 -103.42990320415946\n",
            "108.93560824782601 0.9993912532612023 -103.38409717499344\n",
            "108.90169779884678 0.9990875995644771 -103.35195250873156\n",
            "108.8671983081103 0.9993871745945894 -103.38362943893155\n",
            "108.82320717846858 0.9983011081660484 -103.2698001450073\n",
            "108.78590769350612 0.9997255492217608 -103.41984540589958\n",
            "108.73176453682525 0.99646897604399 -103.08210897027567\n",
            "108.683646300956 0.9995963435142904 -103.40786202944476\n",
            "108.65382078876877 0.9999725674369266 -103.44766626062676\n",
            "108.63737304820494 0.9999817353266176 -103.44864756874492\n",
            "108.59899899659841 0.9999908676216072 -103.4496052387033\n"
          ]
        }
      ]
    },
    {
      "cell_type": "code",
      "source": [
        "a = []\n",
        "K = 100\n",
        "for i in range(M):\n",
        "  cost = 0\n",
        "  hedge = 0\n",
        "  for j in range(N):\n",
        "    S_ = np.prod(S[i,:j+1]) ** (1/(j+1))\n",
        "    d1 = (np.log(S[i,j]/K) + ((T-j*dt)/2)*(r+(sig**2)/6)) / (sig*np.sqrt((T-j*dt)/3))\n",
        "    d2 = (np.log(S[i,j]/K) + ((T-j*dt)/2)*(r-(sig**2)/2)) / (sig*np.sqrt((T-j*dt)/3))\n",
        "    delta = c_delta(r, sig, (T-j*dt), d1, d2, K,S[i,j])\n",
        "    cost = cost + (hedge - delta) * S[i,j]\n",
        "    hedge = delta\n",
        "  cost = cost + hedge * S[i,N]\n",
        "\n",
        "  a.append(cost)\n",
        "\n",
        "plt.plot(S[:,-1], a, marker='.', linestyle='none')\n",
        "plt.show()"
      ],
      "metadata": {
        "id": "2fh2nVaAiDNB",
        "colab": {
          "base_uri": "https://localhost:8080/",
          "height": 265
        },
        "outputId": "6f364939-2c57-4b31-cc27-17f67e3aff9c"
      },
      "execution_count": null,
      "outputs": [
        {
          "output_type": "display_data",
          "data": {
            "text/plain": [
              "<Figure size 432x288 with 1 Axes>"
            ],
            "image/png": "[encoded data removed]"
          },
          "metadata": {
            "needs_background": "light"
          }
        }
      ]
    },
    {
      "cell_type": "markdown",
      "source": [
        "$(\\Delta_0-0)S_0 + (\\Delta_1-\\Delta_0)S_1 + (\\Delta_2- \\Delta_1)S_2 + \\cdots + (\\Delta_{T} - \\Delta_{T-1})S_T$"
      ],
      "metadata": {
        "id": "nd0LHTwh5f-D"
      }
    },
    {
      "cell_type": "code",
      "source": [
        "a = []\n",
        "K = 100\n",
        "for i in range(M):\n",
        "  cost = 0\n",
        "  hedge = 0\n",
        "  for j in range(N):\n",
        "    S_ = np.prod(S[i,:j+1]) ** (1/(j+1))\n",
        "    d1 = (np.log(S[i,j]/K) + ((T-j*dt)/2)*(r+(sig**2)/6)) / (sig*np.sqrt((T-j*dt)/3))\n",
        "    d2 = (np.log(S[i,j]/K) + ((T-j*dt)/2)*(r-(sig**2)/2)) / (sig*np.sqrt((T-j*dt)/3))\n",
        "    delta = c_delta(r, sig, (T-j*dt), d1, d2, K,S[i,j])\n",
        "    cost = cost + (delta-hedge) *S[i,j]\n",
        "    hedge = delta\n",
        "\n",
        "  cost = cost-hedge * S[i,N]\n",
        "  a.append(cost)\n",
        "plt.plot(S[:,-1], a, marker='.', linestyle='none')\n",
        "plt.show()"
      ],
      "metadata": {
        "colab": {
          "base_uri": "https://localhost:8080/",
          "height": 265
        },
        "id": "_QU4HchrmQYK",
        "outputId": "ad8f5897-bd84-4fe7-ed03-781e97abcb71"
      },
      "execution_count": null,
      "outputs": [
        {
          "output_type": "display_data",
          "data": {
            "text/plain": [
              "<Figure size 432x288 with 1 Axes>"
            ],
            "image/png": "[encoded data removed]"
          },
          "metadata": {
            "needs_background": "light"
          }
        }
      ]
    },
    {
      "cell_type": "code",
      "source": [
        "a = []\n",
        "K = 100\n",
        "for i in range(M):\n",
        "  cost = 0\n",
        "  hedge = 0\n",
        "  for j in range(N):\n",
        "    S_ = np.prod(S[i,:j+1]) ** (1/(j+1))\n",
        "    d1 = (np.log(S[i,j]/K) + ((T-j*dt)/2)*(r+(sig**2)/6)) / (sig*np.sqrt((T-j*dt)/3))\n",
        "    d2 = (np.log(S[i,j]/K) + ((T-j*dt)/2)*(r-(sig**2)/2)) / (sig*np.sqrt((T-j*dt)/3))\n",
        "    delta = c_delta(r, sig, (T-j*dt), d1, d2, K,S[i,j])\n",
        "    cost = cost + (delta-hedge) *S[i,j]\n",
        "    hedge = delta\n",
        "\n",
        "  #cost = cost-hedge * S[i,N]\n",
        "  geom_mean = np.prod(S[i]) ** (1/N)\n",
        "  cost = cost-hedge*S[i,N] + np.maximum(geom_mean-K,0) - 2.4105566452813036\n",
        "  a.append(cost)\n",
        "\n",
        "plt.plot(S[:,-1], a, marker='.', linestyle='none')\n",
        "plt.show()"
      ],
      "metadata": {
        "colab": {
          "base_uri": "https://localhost:8080/",
          "height": 265
        },
        "id": "yLyM3jyIKyJm",
        "outputId": "adfd9e55-786a-415a-834e-868b43b6f71c"
      },
      "execution_count": null,
      "outputs": [
        {
          "output_type": "display_data",
          "data": {
            "text/plain": [
              "<Figure size 432x288 with 1 Axes>"
            ],
            "image/png": "[encoded data removed]"
          },
          "metadata": {
            "needs_background": "light"
          }
        }
      ]
    },
    {
      "cell_type": "markdown",
      "source": [
        "$\\Delta_0 (S_0-S_1) + \\Delta_1 (S_1-S_2) + \\Delta_2 (S_2-S_3) + \\cdots + \\Delta_{T-1} (S_{T-1}-S_T) + \\Delta_T S_T$\n",
        "\n"
      ],
      "metadata": {
        "id": "8d_uxLtg3dlu"
      }
    },
    {
      "cell_type": "code",
      "source": [
        "a = []\n",
        "K = 100\n",
        "for i in range(M):\n",
        "  cost = 0\n",
        "  price = S[i,0]\n",
        "  for j in range(N):\n",
        "    S_ = np.prod(S[i,:j+1]) ** (1/(j+1))\n",
        "    d1 = (np.log(S[i,j]/K) + ((T-j*dt)/2)*(r+(sig**2)/6)) / (sig*np.sqrt((T-j*dt)/3))\n",
        "    d2 = (np.log(S[i,j]/K) + ((T-j*dt)/2)*(r-(sig**2)/2)) / (sig*np.sqrt((T-j*dt)/3))\n",
        "    delta = c_delta(r, sig, (T-j*dt), d1, d2, K,S[i,j])\n",
        "\n",
        "    cost = cost + delta * (price -S[i,j+1])\n",
        "    price = S[i,j+1]\n",
        "\n",
        "  a.append(cost)\n",
        "\n",
        "plt.plot(S[:,-1], a, marker='.', linestyle='none')\n",
        "plt.show()"
      ],
      "metadata": {
        "colab": {
          "base_uri": "https://localhost:8080/",
          "height": 265
        },
        "id": "HEkW8v7zqyuF",
        "outputId": "fd125456-0c72-44bd-8459-7597d6b404b1"
      },
      "execution_count": null,
      "outputs": [
        {
          "output_type": "display_data",
          "data": {
            "text/plain": [
              "<Figure size 432x288 with 1 Axes>"
            ],
            "image/png": "[encoded data removed]"
          },
          "metadata": {
            "needs_background": "light"
          }
        }
      ]
    },
    {
      "cell_type": "markdown",
      "source": [
        "### 딥헤징"
      ],
      "metadata": {
        "id": "RfB5atsPzRHC"
      }
    },
    {
      "cell_type": "markdown",
      "source": [
        "#### 유닛 수 바꾸기 1"
      ],
      "metadata": {
        "id": "cBQZN5Rh6-qN"
      }
    },
    {
      "cell_type": "code",
      "source": [
        "import tensorflow as tf"
      ],
      "metadata": {
        "id": "inne1vBf7kJj"
      },
      "execution_count": null,
      "outputs": []
    },
    {
      "cell_type": "code",
      "source": [
        "my_input = []\n",
        "premium = tf.keras.layers.Input(shape=(1,), name=\"premium\")\n",
        "hedge_cost = tf.keras.layers.Input(shape=(1,), name='hedge_cost')\n",
        "price = tf.keras.layers.Input(shape=(1,), name=\"price\")\n",
        "\n",
        "my_input = my_input + [premium] + [hedge_cost] + [price]\n",
        "\n",
        "for j in range(N):\n",
        "    delta = tf.keras.layers.Dense(20, activation='tanh')(price)\n",
        "    delta = tf.keras.layers.BatchNormalization()(delta)\n",
        "    delta = tf.keras.layers.Dense(20, activation='relu')(delta)\n",
        "    delta = tf.keras.layers.BatchNormalization()(delta)\n",
        "    delta = tf.keras.layers.Dense(20, activation='tanh')(delta)\n",
        "    delta = tf.keras.layers.Dense(1)(delta)\n",
        "\n",
        "    new_price = tf.keras.layers.Input(shape=(1,), name='S'+str(j+1))\n",
        "    my_input = my_input + [new_price]\n",
        "\n",
        "    price_inc = tf.keras.layers.Subtract(name='price_inc_'+str(j))([price, new_price])\n",
        "    cost = tf.keras.layers.Multiply(name=\"stock_\"+str(j))([delta, price_inc])\n",
        "    hedge_cost = tf.keras.layers.Add(name='cost_'+str(j))([hedge_cost, cost])\n",
        "    price_cumprod = tf.keras.layers.Multiply(name='price_cumprod'+str(j))([price, new_price])\n",
        "    price = new_price\n",
        "geom_mean = tf.keras.layers.Lambda(lambda x: tf.math.pow(x, 1/N, name='geom_mean'))(price_cumprod)\n",
        "payoff = tf.keras.layers.Lambda(lambda x : tf.math.maximum(x-K,0), name='payoff')(geom_mean)\n",
        "cum_cost = tf.keras.layers.Add(name=\"hedge_cost_plus_payoff\")([hedge_cost, payoff])\n",
        "cum_cost = tf.keras.layers.Subtract(name=\"cum_cost-premium\")([cum_cost, premium])\n",
        "\n",
        "model = tf.keras.Model(inputs=my_input, outputs=cum_cost)"
      ],
      "metadata": {
        "id": "UrLW8gEE9LIu"
      },
      "execution_count": null,
      "outputs": []
    },
    {
      "cell_type": "code",
      "source": [
        "premium = bscall(S0,K,T,r,sig) * np.ones([M,1])\n",
        "cost = np.zeros([M,1])\n",
        "SS = [S[:,i].reshape(M,1) for i in range(N+1)]\n",
        "x = [premium]+[cost]+[SS]\n",
        "y = np.zeros([M,1])"
      ],
      "metadata": {
        "id": "t38IIz4vANd9"
      },
      "execution_count": null,
      "outputs": []
    },
    {
      "cell_type": "code",
      "source": [
        "model.compile(loss='mse', optimizer='adam')"
      ],
      "metadata": {
        "id": "ZjUsUkM2EP92"
      },
      "execution_count": null,
      "outputs": []
    },
    {
      "cell_type": "code",
      "source": [
        "history = model.fit(x,y, epochs=100)"
      ],
      "metadata": {
        "colab": {
          "base_uri": "https://localhost:8080/"
        },
        "id": "rjAUYGDsEXMB",
        "outputId": "c674b50e-7324-491a-f14d-57f6a204af28"
      },
      "execution_count": null,
      "outputs": [
        {
          "output_type": "stream",
          "name": "stdout",
          "text": [
            "Epoch 1/100\n",
            "32/32 [==============================] - 73s 57ms/step - loss: 21.4487\n",
            "Epoch 2/100\n",
            "32/32 [==============================] - 2s 58ms/step - loss: 9.0388\n",
            "Epoch 3/100\n",
            "32/32 [==============================] - 2s 57ms/step - loss: 6.5763\n",
            "Epoch 4/100\n",
            "32/32 [==============================] - 2s 56ms/step - loss: 5.8025\n",
            "Epoch 5/100\n",
            "32/32 [==============================] - 2s 58ms/step - loss: 5.5562\n",
            "Epoch 6/100\n",
            "32/32 [==============================] - 2s 55ms/step - loss: 5.5493\n",
            "Epoch 7/100\n",
            "32/32 [==============================] - 2s 56ms/step - loss: 5.3431\n",
            "Epoch 8/100\n",
            "32/32 [==============================] - 2s 56ms/step - loss: 5.5188\n",
            "Epoch 9/100\n",
            "32/32 [==============================] - 2s 55ms/step - loss: 5.3065\n",
            "Epoch 10/100\n",
            "32/32 [==============================] - 2s 57ms/step - loss: 5.3213\n",
            "Epoch 11/100\n",
            "32/32 [==============================] - 2s 57ms/step - loss: 5.5090\n",
            "Epoch 12/100\n",
            "32/32 [==============================] - 2s 56ms/step - loss: 5.2629\n",
            "Epoch 13/100\n",
            "32/32 [==============================] - 2s 57ms/step - loss: 5.2153\n",
            "Epoch 14/100\n",
            "32/32 [==============================] - 2s 56ms/step - loss: 5.1451\n",
            "Epoch 15/100\n",
            "32/32 [==============================] - 2s 57ms/step - loss: 5.2096\n",
            "Epoch 16/100\n",
            "32/32 [==============================] - 2s 57ms/step - loss: 5.1177\n",
            "Epoch 17/100\n",
            "32/32 [==============================] - 2s 57ms/step - loss: 5.3194\n",
            "Epoch 18/100\n",
            "32/32 [==============================] - 2s 58ms/step - loss: 5.1585\n",
            "Epoch 19/100\n",
            "32/32 [==============================] - 2s 57ms/step - loss: 5.2484\n",
            "Epoch 20/100\n",
            "32/32 [==============================] - 2s 57ms/step - loss: 5.0495\n",
            "Epoch 21/100\n",
            "32/32 [==============================] - 2s 57ms/step - loss: 4.8663\n",
            "Epoch 22/100\n",
            "32/32 [==============================] - 2s 55ms/step - loss: 4.7642\n",
            "Epoch 23/100\n",
            "32/32 [==============================] - 2s 56ms/step - loss: 5.0285\n",
            "Epoch 24/100\n",
            "32/32 [==============================] - 2s 56ms/step - loss: 4.9614\n",
            "Epoch 25/100\n",
            "32/32 [==============================] - 2s 57ms/step - loss: 5.1580\n",
            "Epoch 26/100\n",
            "32/32 [==============================] - 2s 58ms/step - loss: 4.8703\n",
            "Epoch 27/100\n",
            "32/32 [==============================] - 2s 58ms/step - loss: 4.8634\n",
            "Epoch 28/100\n",
            "32/32 [==============================] - 2s 58ms/step - loss: 5.2483\n",
            "Epoch 29/100\n",
            "32/32 [==============================] - 2s 57ms/step - loss: 4.8703\n",
            "Epoch 30/100\n",
            "32/32 [==============================] - 2s 57ms/step - loss: 4.8543\n",
            "Epoch 31/100\n",
            "32/32 [==============================] - 2s 57ms/step - loss: 5.0990\n",
            "Epoch 32/100\n",
            "32/32 [==============================] - 2s 56ms/step - loss: 5.0251\n",
            "Epoch 33/100\n",
            "32/32 [==============================] - 2s 56ms/step - loss: 5.1354\n",
            "Epoch 34/100\n",
            "32/32 [==============================] - 2s 72ms/step - loss: 4.7161\n",
            "Epoch 35/100\n",
            "32/32 [==============================] - 2s 58ms/step - loss: 5.3413\n",
            "Epoch 36/100\n",
            "32/32 [==============================] - 2s 57ms/step - loss: 4.9105\n",
            "Epoch 37/100\n",
            "32/32 [==============================] - 2s 58ms/step - loss: 4.8274\n",
            "Epoch 38/100\n",
            "32/32 [==============================] - 2s 58ms/step - loss: 4.8687\n",
            "Epoch 39/100\n",
            "32/32 [==============================] - 2s 57ms/step - loss: 4.6589\n",
            "Epoch 40/100\n",
            "32/32 [==============================] - 2s 57ms/step - loss: 4.8511\n",
            "Epoch 41/100\n",
            "32/32 [==============================] - 2s 57ms/step - loss: 4.8283\n",
            "Epoch 42/100\n",
            "32/32 [==============================] - 2s 58ms/step - loss: 4.7240\n",
            "Epoch 43/100\n",
            "32/32 [==============================] - 2s 59ms/step - loss: 4.7725\n",
            "Epoch 44/100\n",
            "32/32 [==============================] - 2s 59ms/step - loss: 4.6485\n",
            "Epoch 45/100\n",
            "32/32 [==============================] - 2s 59ms/step - loss: 4.6887\n",
            "Epoch 46/100\n",
            "32/32 [==============================] - 2s 61ms/step - loss: 4.5309\n",
            "Epoch 47/100\n",
            "32/32 [==============================] - 2s 59ms/step - loss: 5.0160\n",
            "Epoch 48/100\n",
            "32/32 [==============================] - 2s 61ms/step - loss: 4.9541\n",
            "Epoch 49/100\n",
            "32/32 [==============================] - 2s 59ms/step - loss: 4.9298\n",
            "Epoch 50/100\n",
            "32/32 [==============================] - 2s 58ms/step - loss: 4.8140\n",
            "Epoch 51/100\n",
            "32/32 [==============================] - 2s 58ms/step - loss: 4.7321\n",
            "Epoch 52/100\n",
            "32/32 [==============================] - 2s 57ms/step - loss: 4.6998\n",
            "Epoch 53/100\n",
            "32/32 [==============================] - 2s 57ms/step - loss: 4.9227\n",
            "Epoch 54/100\n",
            "32/32 [==============================] - 2s 56ms/step - loss: 4.8557\n",
            "Epoch 55/100\n",
            "32/32 [==============================] - 2s 57ms/step - loss: 4.6395\n",
            "Epoch 56/100\n",
            "32/32 [==============================] - 2s 56ms/step - loss: 4.6892\n",
            "Epoch 57/100\n",
            "32/32 [==============================] - 2s 55ms/step - loss: 4.7538\n",
            "Epoch 58/100\n",
            "32/32 [==============================] - 2s 56ms/step - loss: 4.5429\n",
            "Epoch 59/100\n",
            "32/32 [==============================] - 2s 56ms/step - loss: 4.6012\n",
            "Epoch 60/100\n",
            "32/32 [==============================] - 2s 59ms/step - loss: 4.6385\n",
            "Epoch 61/100\n",
            "32/32 [==============================] - 2s 57ms/step - loss: 4.8359\n",
            "Epoch 62/100\n",
            "32/32 [==============================] - 2s 56ms/step - loss: 4.7332\n",
            "Epoch 63/100\n",
            "32/32 [==============================] - 2s 57ms/step - loss: 4.5470\n",
            "Epoch 64/100\n",
            "32/32 [==============================] - 2s 57ms/step - loss: 4.7132\n",
            "Epoch 65/100\n",
            "32/32 [==============================] - 2s 57ms/step - loss: 4.8153\n",
            "Epoch 66/100\n",
            "32/32 [==============================] - 2s 56ms/step - loss: 4.6352\n",
            "Epoch 67/100\n",
            "32/32 [==============================] - 2s 56ms/step - loss: 4.5794\n",
            "Epoch 68/100\n",
            "32/32 [==============================] - 2s 58ms/step - loss: 4.5735\n",
            "Epoch 69/100\n",
            "32/32 [==============================] - 2s 57ms/step - loss: 4.5814\n",
            "Epoch 70/100\n",
            "32/32 [==============================] - 2s 57ms/step - loss: 4.7176\n",
            "Epoch 71/100\n",
            "32/32 [==============================] - 2s 56ms/step - loss: 4.7213\n",
            "Epoch 72/100\n",
            "32/32 [==============================] - 2s 57ms/step - loss: 5.0598\n",
            "Epoch 73/100\n",
            "32/32 [==============================] - 2s 57ms/step - loss: 4.8570\n",
            "Epoch 74/100\n",
            "32/32 [==============================] - 2s 57ms/step - loss: 4.4214\n",
            "Epoch 75/100\n",
            "32/32 [==============================] - 2s 57ms/step - loss: 4.7281\n",
            "Epoch 76/100\n",
            "32/32 [==============================] - 2s 58ms/step - loss: 4.5819\n",
            "Epoch 77/100\n",
            "32/32 [==============================] - 3s 90ms/step - loss: 4.3752\n",
            "Epoch 78/100\n",
            "32/32 [==============================] - 2s 59ms/step - loss: 4.4849\n",
            "Epoch 79/100\n",
            "32/32 [==============================] - 2s 58ms/step - loss: 4.5831\n",
            "Epoch 80/100\n",
            "32/32 [==============================] - 2s 58ms/step - loss: 5.0430\n",
            "Epoch 81/100\n",
            "32/32 [==============================] - 2s 56ms/step - loss: 4.8904\n",
            "Epoch 82/100\n",
            "32/32 [==============================] - 2s 59ms/step - loss: 4.6242\n",
            "Epoch 83/100\n",
            "32/32 [==============================] - 2s 58ms/step - loss: 4.8343\n",
            "Epoch 84/100\n",
            "32/32 [==============================] - 2s 57ms/step - loss: 4.8533\n",
            "Epoch 85/100\n",
            "32/32 [==============================] - 2s 57ms/step - loss: 4.7541\n",
            "Epoch 86/100\n",
            "32/32 [==============================] - 2s 57ms/step - loss: 4.5593\n",
            "Epoch 87/100\n",
            "32/32 [==============================] - 2s 58ms/step - loss: 4.3999\n",
            "Epoch 88/100\n",
            "32/32 [==============================] - 2s 58ms/step - loss: 4.3971\n",
            "Epoch 89/100\n",
            "32/32 [==============================] - 2s 56ms/step - loss: 4.8525\n",
            "Epoch 90/100\n",
            "32/32 [==============================] - 2s 57ms/step - loss: 4.6004\n",
            "Epoch 91/100\n",
            "32/32 [==============================] - 2s 70ms/step - loss: 4.4966\n",
            "Epoch 92/100\n",
            "32/32 [==============================] - 2s 59ms/step - loss: 4.6461\n",
            "Epoch 93/100\n",
            "32/32 [==============================] - 2s 57ms/step - loss: 4.7150\n",
            "Epoch 94/100\n",
            "32/32 [==============================] - 2s 56ms/step - loss: 4.6280\n",
            "Epoch 95/100\n",
            "32/32 [==============================] - 2s 57ms/step - loss: 4.3562\n",
            "Epoch 96/100\n",
            "32/32 [==============================] - 2s 57ms/step - loss: 4.2803\n",
            "Epoch 97/100\n",
            "32/32 [==============================] - 2s 57ms/step - loss: 4.7266\n",
            "Epoch 98/100\n",
            "32/32 [==============================] - 2s 56ms/step - loss: 4.6033\n",
            "Epoch 99/100\n",
            "32/32 [==============================] - 2s 57ms/step - loss: 4.5745\n",
            "Epoch 100/100\n",
            "32/32 [==============================] - 2s 57ms/step - loss: 4.4620\n"
          ]
        }
      ]
    },
    {
      "cell_type": "code",
      "source": [
        "plt.hist(model.predict(x), bins=30)"
      ],
      "metadata": {
        "colab": {
          "base_uri": "https://localhost:8080/",
          "height": 485
        },
        "id": "dMPZwTecEjP-",
        "outputId": "f09c89bb-f599-4376-872a-70a3ed10c29a"
      },
      "execution_count": null,
      "outputs": [
        {
          "output_type": "execute_result",
          "data": {
            "text/plain": [
              "(array([  1.,   1.,   0.,   1.,   6.,   6.,  12.,  22.,  20.,  32.,  35.,\n",
              "         57.,  75.,  83.,  80.,  82., 100.,  73.,  74.,  61.,  60.,  40.,\n",
              "         31.,  17.,  13.,  10.,   4.,   1.,   2.,   1.]),\n",
              " array([-15.380258  , -14.521872  , -13.663485  , -12.805098  ,\n",
              "        -11.946712  , -11.0883255 , -10.2299385 ,  -9.3715515 ,\n",
              "         -8.513165  ,  -7.654779  ,  -6.7963924 ,  -5.938006  ,\n",
              "         -5.0796194 ,  -4.221233  ,  -3.3628464 ,  -2.5044599 ,\n",
              "         -1.6460733 ,  -0.7876868 ,   0.07069969,   0.9290862 ,\n",
              "          1.7874727 ,   2.6458592 ,   3.5042458 ,   4.3626323 ,\n",
              "          5.221019  ,   6.0794053 ,   6.937792  ,   7.7961783 ,\n",
              "          8.654565  ,   9.512951  ,  10.371338  ], dtype=float32),\n",
              " <a list of 30 Patch objects>)"
            ]
          },
          "metadata": {},
          "execution_count": 18
        },
        {
          "output_type": "display_data",
          "data": {
            "text/plain": [
              "<Figure size 432x288 with 1 Axes>"
            ],
            "image/png": "[encoded data removed]"
          },
          "metadata": {
            "needs_background": "light"
          }
        }
      ]
    },
    {
      "cell_type": "code",
      "source": [
        "plt.plot(history.history['loss'])"
      ],
      "metadata": {
        "colab": {
          "base_uri": "https://localhost:8080/",
          "height": 283
        },
        "id": "5hw5uG3FFKe5",
        "outputId": "d64dfd49-c9d6-4bf5-bf5d-a7d87ec4f586"
      },
      "execution_count": null,
      "outputs": [
        {
          "output_type": "execute_result",
          "data": {
            "text/plain": [
              "[<matplotlib.lines.Line2D at 0x7fad182bff50>]"
            ]
          },
          "metadata": {},
          "execution_count": 19
        },
        {
          "output_type": "display_data",
          "data": {
            "text/plain": [
              "<Figure size 432x288 with 1 Axes>"
            ],
            "image/png": "[encoded data removed]"
          },
          "metadata": {
            "needs_background": "light"
          }
        }
      ]
    },
    {
      "cell_type": "code",
      "source": [
        "plt.plot(S[:,-1], model.predict(x),marker='.', linestyle='none')\n",
        "plt.show()"
      ],
      "metadata": {
        "id": "w-mFomBiEmE5",
        "colab": {
          "base_uri": "https://localhost:8080/",
          "height": 265
        },
        "outputId": "054a4bdf-f26a-47ef-9095-df13f8569937"
      },
      "execution_count": null,
      "outputs": [
        {
          "output_type": "display_data",
          "data": {
            "text/plain": [
              "<Figure size 432x288 with 1 Axes>"
            ],
            "image/png": "[encoded data removed]"
          },
          "metadata": {
            "needs_background": "light"
          }
        }
      ]
    },
    {
      "cell_type": "markdown",
      "source": [
        "#### 유닛수 바꾸기 2"
      ],
      "metadata": {
        "id": "HFlpyO947D7m"
      }
    },
    {
      "cell_type": "code",
      "source": [
        "my_input = []\n",
        "premium = tf.keras.layers.Input(shape=(1,), name=\"premium\")\n",
        "hedge_cost = tf.keras.layers.Input(shape=(1,), name='hedge_cost')\n",
        "price = tf.keras.layers.Input(shape=(1,), name=\"price\")\n",
        "\n",
        "my_input = my_input + [premium] + [hedge_cost] + [price]\n",
        "\n",
        "for j in range(N):\n",
        "    delta = tf.keras.layers.Dense(32, activation='tanh')(price)\n",
        "    delta = tf.keras.layers.BatchNormalization()(delta)\n",
        "    delta = tf.keras.layers.Dense(32, activation='relu')(delta)\n",
        "    delta = tf.keras.layers.BatchNormalization()(delta)\n",
        "    delta = tf.keras.layers.Dense(32, activation='tanh')(delta)\n",
        "    delta = tf.keras.layers.Dense(1)(delta)\n",
        "\n",
        "    new_price = tf.keras.layers.Input(shape=(1,), name='S'+str(j+1))\n",
        "    my_input = my_input + [new_price]\n",
        "\n",
        "    price_inc = tf.keras.layers.Subtract(name='price_inc_'+str(j))([price, new_price])\n",
        "    cost = tf.keras.layers.Multiply(name=\"stock_\"+str(j))([delta, price_inc])\n",
        "    hedge_cost = tf.keras.layers.Add(name='cost_'+str(j))([hedge_cost, cost])\n",
        "    price_cumprod = tf.keras.layers.Multiply(name='price_cumprod'+str(j))([price, new_price])\n",
        "    price = new_price\n",
        "geom_mean = tf.keras.layers.Lambda(lambda x: tf.math.pow(x, 1/N, name='geom_mean'))(price_cumprod)\n",
        "payoff = tf.keras.layers.Lambda(lambda x : tf.math.maximum(x-K,0), name='payoff')(geom_mean)\n",
        "cum_cost = tf.keras.layers.Add(name=\"hedge_cost_plus_payoff\")([hedge_cost, payoff])\n",
        "cum_cost = tf.keras.layers.Subtract(name=\"cum_cost-premium\")([cum_cost, premium])\n",
        "\n",
        "model = tf.keras.Model(inputs=my_input, outputs=cum_cost)"
      ],
      "metadata": {
        "id": "DEyOJgwt7Hl9"
      },
      "execution_count": null,
      "outputs": []
    },
    {
      "cell_type": "code",
      "source": [
        "premium = bscall(S0,K,T,r,sig) * np.ones([M,1])\n",
        "cost = np.zeros([M,1])\n",
        "SS = [S[:,i].reshape(M,1) for i in range(N+1)]\n",
        "x = [premium]+[cost]+[SS]\n",
        "y = np.zeros([M,1])"
      ],
      "metadata": {
        "id": "jn1QerNg7Hl9"
      },
      "execution_count": null,
      "outputs": []
    },
    {
      "cell_type": "code",
      "source": [
        "model.compile(loss='mse', optimizer='adam')"
      ],
      "metadata": {
        "id": "9BUsq4rt7Hl-"
      },
      "execution_count": null,
      "outputs": []
    },
    {
      "cell_type": "code",
      "source": [
        "history = model.fit(x,y, epochs=100)"
      ],
      "metadata": {
        "colab": {
          "base_uri": "https://localhost:8080/"
        },
        "outputId": "6f51e7d4-80f3-4512-d8f2-e06dab7e3c35",
        "id": "6qNjjMP87Hl-"
      },
      "execution_count": null,
      "outputs": [
        {
          "output_type": "stream",
          "name": "stdout",
          "text": [
            "Epoch 1/100\n",
            "32/32 [==============================] - 72s 72ms/step - loss: 22.1748\n",
            "Epoch 2/100\n",
            "32/32 [==============================] - 2s 70ms/step - loss: 10.1578\n",
            "Epoch 3/100\n",
            "32/32 [==============================] - 2s 71ms/step - loss: 8.0469\n",
            "Epoch 4/100\n",
            "32/32 [==============================] - 2s 69ms/step - loss: 7.5059\n",
            "Epoch 5/100\n",
            "32/32 [==============================] - 2s 69ms/step - loss: 7.4194\n",
            "Epoch 6/100\n",
            "32/32 [==============================] - 2s 68ms/step - loss: 7.6524\n",
            "Epoch 7/100\n",
            "32/32 [==============================] - 2s 69ms/step - loss: 7.4739\n",
            "Epoch 8/100\n",
            "32/32 [==============================] - 2s 69ms/step - loss: 7.6752\n",
            "Epoch 9/100\n",
            "32/32 [==============================] - 2s 69ms/step - loss: 6.7208\n",
            "Epoch 10/100\n",
            "32/32 [==============================] - 2s 68ms/step - loss: 6.9123\n",
            "Epoch 11/100\n",
            "32/32 [==============================] - 2s 69ms/step - loss: 6.5426\n",
            "Epoch 12/100\n",
            "32/32 [==============================] - 2s 69ms/step - loss: 6.2124\n",
            "Epoch 13/100\n",
            "32/32 [==============================] - 2s 70ms/step - loss: 6.6056\n",
            "Epoch 14/100\n",
            "32/32 [==============================] - 2s 71ms/step - loss: 6.3385\n",
            "Epoch 15/100\n",
            "32/32 [==============================] - 2s 71ms/step - loss: 6.3700\n",
            "Epoch 16/100\n",
            "32/32 [==============================] - 2s 70ms/step - loss: 6.3636\n",
            "Epoch 17/100\n",
            "32/32 [==============================] - 3s 103ms/step - loss: 5.9792\n",
            "Epoch 18/100\n",
            "32/32 [==============================] - 2s 71ms/step - loss: 6.1321\n",
            "Epoch 19/100\n",
            "32/32 [==============================] - 2s 70ms/step - loss: 5.8182\n",
            "Epoch 20/100\n",
            "32/32 [==============================] - 2s 70ms/step - loss: 5.5341\n",
            "Epoch 21/100\n",
            "32/32 [==============================] - 2s 71ms/step - loss: 5.5559\n",
            "Epoch 22/100\n",
            "32/32 [==============================] - 2s 70ms/step - loss: 5.6887\n",
            "Epoch 23/100\n",
            "32/32 [==============================] - 2s 69ms/step - loss: 5.6657\n",
            "Epoch 24/100\n",
            "32/32 [==============================] - 2s 69ms/step - loss: 5.6825\n",
            "Epoch 25/100\n",
            "32/32 [==============================] - 2s 69ms/step - loss: 6.0109\n",
            "Epoch 26/100\n",
            "32/32 [==============================] - 2s 70ms/step - loss: 6.1456\n",
            "Epoch 27/100\n",
            "32/32 [==============================] - 2s 70ms/step - loss: 5.5925\n",
            "Epoch 28/100\n",
            "32/32 [==============================] - 2s 69ms/step - loss: 5.6634\n",
            "Epoch 29/100\n",
            "32/32 [==============================] - 2s 71ms/step - loss: 5.5826\n",
            "Epoch 30/100\n",
            "32/32 [==============================] - 2s 69ms/step - loss: 5.8902\n",
            "Epoch 31/100\n",
            "32/32 [==============================] - 2s 70ms/step - loss: 5.5479\n",
            "Epoch 32/100\n",
            "32/32 [==============================] - 2s 70ms/step - loss: 5.5383\n",
            "Epoch 33/100\n",
            "32/32 [==============================] - 2s 71ms/step - loss: 5.4531\n",
            "Epoch 34/100\n",
            "32/32 [==============================] - 2s 70ms/step - loss: 5.7827\n",
            "Epoch 35/100\n",
            "32/32 [==============================] - 2s 71ms/step - loss: 5.2705\n",
            "Epoch 36/100\n",
            "32/32 [==============================] - 2s 70ms/step - loss: 5.4411\n",
            "Epoch 37/100\n",
            "32/32 [==============================] - 2s 69ms/step - loss: 5.8667\n",
            "Epoch 38/100\n",
            "32/32 [==============================] - 2s 69ms/step - loss: 5.9309\n",
            "Epoch 39/100\n",
            "32/32 [==============================] - 2s 70ms/step - loss: 5.0429\n",
            "Epoch 40/100\n",
            "32/32 [==============================] - 2s 73ms/step - loss: 5.2756\n",
            "Epoch 41/100\n",
            "32/32 [==============================] - 2s 70ms/step - loss: 5.5101\n",
            "Epoch 42/100\n",
            "32/32 [==============================] - 2s 73ms/step - loss: 5.5450\n",
            "Epoch 43/100\n",
            "32/32 [==============================] - 2s 72ms/step - loss: 5.2297\n",
            "Epoch 44/100\n",
            "32/32 [==============================] - 2s 71ms/step - loss: 5.4112\n",
            "Epoch 45/100\n",
            "32/32 [==============================] - 2s 70ms/step - loss: 5.0970\n",
            "Epoch 46/100\n",
            "32/32 [==============================] - 2s 70ms/step - loss: 5.7447\n",
            "Epoch 47/100\n",
            "32/32 [==============================] - 2s 70ms/step - loss: 5.1522\n",
            "Epoch 48/100\n",
            "32/32 [==============================] - 2s 71ms/step - loss: 5.0498\n",
            "Epoch 49/100\n",
            "32/32 [==============================] - 2s 71ms/step - loss: 5.4119\n",
            "Epoch 50/100\n",
            "32/32 [==============================] - 2s 69ms/step - loss: 4.8269\n",
            "Epoch 51/100\n",
            "32/32 [==============================] - 2s 70ms/step - loss: 5.1762\n",
            "Epoch 52/100\n",
            "32/32 [==============================] - 2s 69ms/step - loss: 5.2185\n",
            "Epoch 53/100\n",
            "32/32 [==============================] - 2s 71ms/step - loss: 5.4269\n",
            "Epoch 54/100\n",
            "32/32 [==============================] - 2s 69ms/step - loss: 5.3941\n",
            "Epoch 55/100\n",
            "32/32 [==============================] - 2s 70ms/step - loss: 5.1102\n",
            "Epoch 56/100\n",
            "32/32 [==============================] - 2s 70ms/step - loss: 5.1173\n",
            "Epoch 57/100\n",
            "32/32 [==============================] - 2s 70ms/step - loss: 5.0073\n",
            "Epoch 58/100\n",
            "32/32 [==============================] - 2s 72ms/step - loss: 5.0540\n",
            "Epoch 59/100\n",
            "32/32 [==============================] - 2s 69ms/step - loss: 5.0731\n",
            "Epoch 60/100\n",
            "32/32 [==============================] - 2s 71ms/step - loss: 5.0149\n",
            "Epoch 61/100\n",
            "32/32 [==============================] - 2s 70ms/step - loss: 5.5040\n",
            "Epoch 62/100\n",
            "32/32 [==============================] - 2s 70ms/step - loss: 5.1332\n",
            "Epoch 63/100\n",
            "32/32 [==============================] - 2s 70ms/step - loss: 5.0638\n",
            "Epoch 64/100\n",
            "32/32 [==============================] - 2s 70ms/step - loss: 5.1169\n",
            "Epoch 65/100\n",
            "32/32 [==============================] - 2s 70ms/step - loss: 5.1549\n",
            "Epoch 66/100\n",
            "32/32 [==============================] - 2s 71ms/step - loss: 5.1940\n",
            "Epoch 67/100\n",
            "32/32 [==============================] - 2s 71ms/step - loss: 4.9213\n",
            "Epoch 68/100\n",
            "32/32 [==============================] - 2s 70ms/step - loss: 4.9931\n",
            "Epoch 69/100\n",
            "32/32 [==============================] - 2s 69ms/step - loss: 5.4221\n",
            "Epoch 70/100\n",
            "32/32 [==============================] - 2s 70ms/step - loss: 5.0462\n",
            "Epoch 71/100\n",
            "32/32 [==============================] - 2s 70ms/step - loss: 5.0172\n",
            "Epoch 72/100\n",
            "32/32 [==============================] - 2s 71ms/step - loss: 4.9729\n",
            "Epoch 73/100\n",
            "32/32 [==============================] - 2s 70ms/step - loss: 5.2109\n",
            "Epoch 74/100\n",
            "32/32 [==============================] - 2s 69ms/step - loss: 5.1994\n",
            "Epoch 75/100\n",
            "32/32 [==============================] - 2s 70ms/step - loss: 5.0482\n",
            "Epoch 76/100\n",
            "32/32 [==============================] - 2s 69ms/step - loss: 5.0407\n",
            "Epoch 77/100\n",
            "32/32 [==============================] - 2s 70ms/step - loss: 5.4706\n",
            "Epoch 78/100\n",
            "32/32 [==============================] - 2s 69ms/step - loss: 5.1561\n",
            "Epoch 79/100\n",
            "32/32 [==============================] - 2s 69ms/step - loss: 5.1241\n",
            "Epoch 80/100\n",
            "32/32 [==============================] - 2s 72ms/step - loss: 4.9642\n",
            "Epoch 81/100\n",
            "32/32 [==============================] - 2s 70ms/step - loss: 4.9452\n",
            "Epoch 82/100\n",
            "32/32 [==============================] - 2s 70ms/step - loss: 5.2319\n",
            "Epoch 83/100\n",
            "32/32 [==============================] - 2s 70ms/step - loss: 4.9209\n",
            "Epoch 84/100\n",
            "32/32 [==============================] - 2s 69ms/step - loss: 4.9153\n",
            "Epoch 85/100\n",
            "32/32 [==============================] - 2s 70ms/step - loss: 5.1941\n",
            "Epoch 86/100\n",
            "32/32 [==============================] - 2s 71ms/step - loss: 5.0842\n",
            "Epoch 87/100\n",
            "32/32 [==============================] - 2s 71ms/step - loss: 4.8465\n",
            "Epoch 88/100\n",
            "32/32 [==============================] - 2s 69ms/step - loss: 5.0027\n",
            "Epoch 89/100\n",
            "32/32 [==============================] - 2s 69ms/step - loss: 4.8807\n",
            "Epoch 90/100\n",
            "32/32 [==============================] - 2s 70ms/step - loss: 5.1458\n",
            "Epoch 91/100\n",
            "32/32 [==============================] - 2s 69ms/step - loss: 5.1457\n",
            "Epoch 92/100\n",
            "32/32 [==============================] - 2s 69ms/step - loss: 5.0195\n",
            "Epoch 93/100\n",
            "32/32 [==============================] - 2s 70ms/step - loss: 4.8626\n",
            "Epoch 94/100\n",
            "32/32 [==============================] - 2s 71ms/step - loss: 5.0723\n",
            "Epoch 95/100\n",
            "32/32 [==============================] - 2s 69ms/step - loss: 4.8382\n",
            "Epoch 96/100\n",
            "32/32 [==============================] - 2s 70ms/step - loss: 5.1128\n",
            "Epoch 97/100\n",
            "32/32 [==============================] - 2s 70ms/step - loss: 5.1606\n",
            "Epoch 98/100\n",
            "32/32 [==============================] - 2s 72ms/step - loss: 5.2471\n",
            "Epoch 99/100\n",
            "32/32 [==============================] - 3s 104ms/step - loss: 5.0235\n",
            "Epoch 100/100\n",
            "32/32 [==============================] - 2s 71ms/step - loss: 5.0383\n"
          ]
        }
      ]
    },
    {
      "cell_type": "code",
      "source": [
        "plt.hist(model.predict(x), bins=30)"
      ],
      "metadata": {
        "colab": {
          "base_uri": "https://localhost:8080/",
          "height": 485
        },
        "outputId": "2d6dbced-dd69-4c7e-8a91-3dda81857f78",
        "id": "EEXL2OrW7Hl-"
      },
      "execution_count": null,
      "outputs": [
        {
          "output_type": "execute_result",
          "data": {
            "text/plain": [
              "(array([ 2.,  4.,  3., 10.,  8., 23., 27., 33., 34., 51., 50., 64., 62.,\n",
              "        81., 84., 72., 85., 59., 63., 47., 44., 30., 19., 14., 10.,  9.,\n",
              "         6.,  4.,  0.,  2.]),\n",
              " array([-14.085422  , -13.247193  , -12.408964  , -11.570736  ,\n",
              "        -10.732507  ,  -9.894279  ,  -9.05605   ,  -8.217821  ,\n",
              "         -7.379593  ,  -6.541364  ,  -5.7031355 ,  -4.864907  ,\n",
              "         -4.026678  ,  -3.1884496 ,  -2.3502212 ,  -1.5119925 ,\n",
              "         -0.6737639 ,   0.16446476,   1.0026934 ,   1.840922  ,\n",
              "          2.6791506 ,   3.5173793 ,   4.355608  ,   5.193836  ,\n",
              "          6.032065  ,   6.8702936 ,   7.7085223 ,   8.546751  ,\n",
              "          9.384979  ,  10.223208  ,  11.061437  ], dtype=float32),\n",
              " <a list of 30 Patch objects>)"
            ]
          },
          "metadata": {},
          "execution_count": 25
        },
        {
          "output_type": "display_data",
          "data": {
            "text/plain": [
              "<Figure size 432x288 with 1 Axes>"
            ],
            "image/png": "[encoded data removed]"
          },
          "metadata": {
            "needs_background": "light"
          }
        }
      ]
    },
    {
      "cell_type": "code",
      "source": [
        "plt.plot(history.history['loss'])"
      ],
      "metadata": {
        "colab": {
          "base_uri": "https://localhost:8080/",
          "height": 283
        },
        "outputId": "08cd138e-1f81-40dd-cbfb-e502955539e9",
        "id": "AFENk-sg7Hl-"
      },
      "execution_count": null,
      "outputs": [
        {
          "output_type": "execute_result",
          "data": {
            "text/plain": [
              "[<matplotlib.lines.Line2D at 0x7fad0e3452d0>]"
            ]
          },
          "metadata": {},
          "execution_count": 26
        },
        {
          "output_type": "display_data",
          "data": {
            "text/plain": [
              "<Figure size 432x288 with 1 Axes>"
            ],
            "image/png": "[encoded data removed]"
          },
          "metadata": {
            "needs_background": "light"
          }
        }
      ]
    },
    {
      "cell_type": "code",
      "source": [
        "plt.plot(S[:,-1], model.predict(x),marker='.', linestyle='none')\n",
        "plt.show()"
      ],
      "metadata": {
        "colab": {
          "base_uri": "https://localhost:8080/",
          "height": 265
        },
        "outputId": "611c7a03-d51d-4e37-9b14-1fc6caeb42fe",
        "id": "7B_V00ry7Hl-"
      },
      "execution_count": null,
      "outputs": [
        {
          "output_type": "display_data",
          "data": {
            "text/plain": [
              "<Figure size 432x288 with 1 Axes>"
            ],
            "image/png": "[encoded data removed]"
          },
          "metadata": {
            "needs_background": "light"
          }
        }
      ]
    },
    {
      "cell_type": "markdown",
      "source": [
        "#### 유닛 수 바꾸기 3"
      ],
      "metadata": {
        "id": "mOy_iY1V7TuL"
      }
    },
    {
      "cell_type": "code",
      "source": [
        "my_input = []\n",
        "premium = tf.keras.layers.Input(shape=(1,), name=\"premium\")\n",
        "hedge_cost = tf.keras.layers.Input(shape=(1,), name='hedge_cost')\n",
        "price = tf.keras.layers.Input(shape=(1,), name=\"price\")\n",
        "\n",
        "my_input = my_input + [premium] + [hedge_cost] + [price]\n",
        "\n",
        "for j in range(N):\n",
        "    delta = tf.keras.layers.Dense(50, activation='tanh')(price)\n",
        "    delta = tf.keras.layers.BatchNormalization()(delta)\n",
        "    delta = tf.keras.layers.Dense(50, activation='relu')(delta)\n",
        "    delta = tf.keras.layers.BatchNormalization()(delta)\n",
        "    delta = tf.keras.layers.Dense(50, activation='tanh')(delta)\n",
        "    delta = tf.keras.layers.Dense(1)(delta)\n",
        "\n",
        "    new_price = tf.keras.layers.Input(shape=(1,), name='S'+str(j+1))\n",
        "    my_input = my_input + [new_price]\n",
        "\n",
        "    price_inc = tf.keras.layers.Subtract(name='price_inc_'+str(j))([price, new_price])\n",
        "    cost = tf.keras.layers.Multiply(name=\"stock_\"+str(j))([delta, price_inc])\n",
        "    hedge_cost = tf.keras.layers.Add(name='cost_'+str(j))([hedge_cost, cost])\n",
        "    price_cumprod = tf.keras.layers.Multiply(name='price_cumprod'+str(j))([price, new_price])\n",
        "    price = new_price\n",
        "geom_mean = tf.keras.layers.Lambda(lambda x: tf.math.pow(x, 1/N, name='geom_mean'))(price_cumprod)\n",
        "payoff = tf.keras.layers.Lambda(lambda x : tf.math.maximum(x-K,0), name='payoff')(geom_mean)\n",
        "cum_cost = tf.keras.layers.Add(name=\"hedge_cost_plus_payoff\")([hedge_cost, payoff])\n",
        "cum_cost = tf.keras.layers.Subtract(name=\"cum_cost-premium\")([cum_cost, premium])\n",
        "\n",
        "model = tf.keras.Model(inputs=my_input, outputs=cum_cost)"
      ],
      "metadata": {
        "id": "OSj79Nzh7XVE"
      },
      "execution_count": null,
      "outputs": []
    },
    {
      "cell_type": "code",
      "source": [
        "premium = bscall(S0,K,T,r,sig) * np.ones([M,1])\n",
        "cost = np.zeros([M,1])\n",
        "SS = [S[:,i].reshape(M,1) for i in range(N+1)]\n",
        "x = [premium]+[cost]+[SS]\n",
        "y = np.zeros([M,1])"
      ],
      "metadata": {
        "id": "XWzFM_ly7XVF"
      },
      "execution_count": null,
      "outputs": []
    },
    {
      "cell_type": "code",
      "source": [
        "model.compile(loss='mse', optimizer='adam')"
      ],
      "metadata": {
        "id": "QHIe8P3i7XVF"
      },
      "execution_count": null,
      "outputs": []
    },
    {
      "cell_type": "code",
      "source": [
        "history = model.fit(x,y, epochs=100)"
      ],
      "metadata": {
        "colab": {
          "base_uri": "https://localhost:8080/"
        },
        "outputId": "3a471ba5-a2d6-47b5-fd05-d5fefe0dc150",
        "id": "3kUq9TOZ7XVF"
      },
      "execution_count": null,
      "outputs": [
        {
          "output_type": "stream",
          "name": "stdout",
          "text": [
            "Epoch 1/100\n",
            "32/32 [==============================] - 74s 78ms/step - loss: 36.5985\n",
            "Epoch 2/100\n",
            "32/32 [==============================] - 2s 77ms/step - loss: 17.8431\n",
            "Epoch 3/100\n",
            "32/32 [==============================] - 2s 78ms/step - loss: 12.3551\n",
            "Epoch 4/100\n",
            "32/32 [==============================] - 2s 75ms/step - loss: 13.0723\n",
            "Epoch 5/100\n",
            "32/32 [==============================] - 2s 76ms/step - loss: 12.4604\n",
            "Epoch 6/100\n",
            "32/32 [==============================] - 2s 78ms/step - loss: 10.6914\n",
            "Epoch 7/100\n",
            "32/32 [==============================] - 3s 95ms/step - loss: 10.4287\n",
            "Epoch 8/100\n",
            "32/32 [==============================] - 2s 76ms/step - loss: 10.5364\n",
            "Epoch 9/100\n",
            "32/32 [==============================] - 2s 76ms/step - loss: 9.4457\n",
            "Epoch 10/100\n",
            "32/32 [==============================] - 2s 77ms/step - loss: 10.1222\n",
            "Epoch 11/100\n",
            "32/32 [==============================] - 2s 76ms/step - loss: 10.0717\n",
            "Epoch 12/100\n",
            "32/32 [==============================] - 2s 77ms/step - loss: 8.8135\n",
            "Epoch 13/100\n",
            "32/32 [==============================] - 2s 76ms/step - loss: 9.3963\n",
            "Epoch 14/100\n",
            "32/32 [==============================] - 2s 77ms/step - loss: 8.3057\n",
            "Epoch 15/100\n",
            "32/32 [==============================] - 2s 77ms/step - loss: 9.4560\n",
            "Epoch 16/100\n",
            "32/32 [==============================] - 2s 78ms/step - loss: 8.8306\n",
            "Epoch 17/100\n",
            "32/32 [==============================] - 3s 79ms/step - loss: 9.0064\n",
            "Epoch 18/100\n",
            "32/32 [==============================] - 2s 77ms/step - loss: 9.9262\n",
            "Epoch 19/100\n",
            "32/32 [==============================] - 2s 76ms/step - loss: 7.7277\n",
            "Epoch 20/100\n",
            "32/32 [==============================] - 2s 76ms/step - loss: 7.5902\n",
            "Epoch 21/100\n",
            "32/32 [==============================] - 4s 114ms/step - loss: 7.1706\n",
            "Epoch 22/100\n",
            "32/32 [==============================] - 2s 77ms/step - loss: 8.3124\n",
            "Epoch 23/100\n",
            "32/32 [==============================] - 2s 77ms/step - loss: 7.6460\n",
            "Epoch 24/100\n",
            "32/32 [==============================] - 2s 77ms/step - loss: 7.2225\n",
            "Epoch 25/100\n",
            "32/32 [==============================] - 2s 76ms/step - loss: 7.0720\n",
            "Epoch 26/100\n",
            "32/32 [==============================] - 2s 78ms/step - loss: 6.6409\n",
            "Epoch 27/100\n",
            "32/32 [==============================] - 3s 80ms/step - loss: 8.0145\n",
            "Epoch 28/100\n",
            "32/32 [==============================] - 2s 76ms/step - loss: 6.7078\n",
            "Epoch 29/100\n",
            "32/32 [==============================] - 2s 75ms/step - loss: 8.5496\n",
            "Epoch 30/100\n",
            "32/32 [==============================] - 2s 77ms/step - loss: 7.0094\n",
            "Epoch 31/100\n",
            "32/32 [==============================] - 2s 76ms/step - loss: 6.5764\n",
            "Epoch 32/100\n",
            "32/32 [==============================] - 2s 76ms/step - loss: 6.7698\n",
            "Epoch 33/100\n",
            "32/32 [==============================] - 2s 77ms/step - loss: 6.7110\n",
            "Epoch 34/100\n",
            "32/32 [==============================] - 3s 78ms/step - loss: 6.3107\n",
            "Epoch 35/100\n",
            "32/32 [==============================] - 2s 76ms/step - loss: 5.8398\n",
            "Epoch 36/100\n",
            "32/32 [==============================] - 2s 77ms/step - loss: 6.3138\n",
            "Epoch 37/100\n",
            "32/32 [==============================] - 2s 77ms/step - loss: 6.9076\n",
            "Epoch 38/100\n",
            "32/32 [==============================] - 2s 77ms/step - loss: 6.8413\n",
            "Epoch 39/100\n",
            "32/32 [==============================] - 2s 78ms/step - loss: 6.8428\n",
            "Epoch 40/100\n",
            "32/32 [==============================] - 2s 78ms/step - loss: 6.5481\n",
            "Epoch 41/100\n",
            "32/32 [==============================] - 2s 77ms/step - loss: 6.7358\n",
            "Epoch 42/100\n",
            "32/32 [==============================] - 2s 77ms/step - loss: 6.7475\n",
            "Epoch 43/100\n",
            "32/32 [==============================] - 2s 76ms/step - loss: 6.6917\n",
            "Epoch 44/100\n",
            "32/32 [==============================] - 2s 77ms/step - loss: 6.8824\n",
            "Epoch 45/100\n",
            "32/32 [==============================] - 2s 77ms/step - loss: 6.0546\n",
            "Epoch 46/100\n",
            "32/32 [==============================] - 2s 77ms/step - loss: 6.4855\n",
            "Epoch 47/100\n",
            "32/32 [==============================] - 2s 77ms/step - loss: 6.1167\n",
            "Epoch 48/100\n",
            "32/32 [==============================] - 2s 77ms/step - loss: 5.7161\n",
            "Epoch 49/100\n",
            "32/32 [==============================] - 2s 75ms/step - loss: 5.9326\n",
            "Epoch 50/100\n",
            "32/32 [==============================] - 2s 76ms/step - loss: 6.3660\n",
            "Epoch 51/100\n",
            "32/32 [==============================] - 3s 80ms/step - loss: 6.5560\n",
            "Epoch 52/100\n",
            "32/32 [==============================] - 2s 77ms/step - loss: 6.1169\n",
            "Epoch 53/100\n",
            "32/32 [==============================] - 2s 78ms/step - loss: 6.0745\n",
            "Epoch 54/100\n",
            "32/32 [==============================] - 2s 76ms/step - loss: 6.0944\n",
            "Epoch 55/100\n",
            "32/32 [==============================] - 2s 77ms/step - loss: 6.2433\n",
            "Epoch 56/100\n",
            "32/32 [==============================] - 2s 76ms/step - loss: 6.9675\n",
            "Epoch 57/100\n",
            "32/32 [==============================] - 2s 77ms/step - loss: 6.2530\n",
            "Epoch 58/100\n",
            "32/32 [==============================] - 2s 77ms/step - loss: 6.4326\n",
            "Epoch 59/100\n",
            "32/32 [==============================] - 2s 77ms/step - loss: 6.6196\n",
            "Epoch 60/100\n",
            "32/32 [==============================] - 2s 77ms/step - loss: 5.9411\n",
            "Epoch 61/100\n",
            "32/32 [==============================] - 2s 77ms/step - loss: 5.9904\n",
            "Epoch 62/100\n",
            "32/32 [==============================] - 2s 77ms/step - loss: 6.7094\n",
            "Epoch 63/100\n",
            "32/32 [==============================] - 2s 77ms/step - loss: 6.9141\n",
            "Epoch 64/100\n",
            "32/32 [==============================] - 2s 77ms/step - loss: 6.2821\n",
            "Epoch 65/100\n",
            "32/32 [==============================] - 2s 78ms/step - loss: 5.8196\n",
            "Epoch 66/100\n",
            "32/32 [==============================] - 2s 77ms/step - loss: 5.9717\n",
            "Epoch 67/100\n",
            "32/32 [==============================] - 2s 77ms/step - loss: 6.3082\n",
            "Epoch 68/100\n",
            "32/32 [==============================] - 2s 77ms/step - loss: 5.9696\n",
            "Epoch 69/100\n",
            "32/32 [==============================] - 3s 78ms/step - loss: 5.5613\n",
            "Epoch 70/100\n",
            "32/32 [==============================] - 2s 77ms/step - loss: 5.4577\n",
            "Epoch 71/100\n",
            "32/32 [==============================] - 2s 75ms/step - loss: 5.6465\n",
            "Epoch 72/100\n",
            "32/32 [==============================] - 2s 77ms/step - loss: 6.2322\n",
            "Epoch 73/100\n",
            "32/32 [==============================] - 2s 76ms/step - loss: 6.1543\n",
            "Epoch 74/100\n",
            "32/32 [==============================] - 2s 77ms/step - loss: 5.5704\n",
            "Epoch 75/100\n",
            "32/32 [==============================] - 2s 77ms/step - loss: 5.6089\n",
            "Epoch 76/100\n",
            "32/32 [==============================] - 2s 77ms/step - loss: 5.9955\n",
            "Epoch 77/100\n",
            "32/32 [==============================] - 2s 77ms/step - loss: 6.1621\n",
            "Epoch 78/100\n",
            "32/32 [==============================] - 2s 77ms/step - loss: 5.6782\n",
            "Epoch 79/100\n",
            "32/32 [==============================] - 2s 77ms/step - loss: 5.4415\n",
            "Epoch 80/100\n",
            "32/32 [==============================] - 2s 77ms/step - loss: 5.4893\n",
            "Epoch 81/100\n",
            "32/32 [==============================] - 2s 76ms/step - loss: 5.6466\n",
            "Epoch 82/100\n",
            "32/32 [==============================] - 2s 77ms/step - loss: 5.6461\n",
            "Epoch 83/100\n",
            "32/32 [==============================] - 2s 77ms/step - loss: 5.7358\n",
            "Epoch 84/100\n",
            "32/32 [==============================] - 2s 77ms/step - loss: 5.4907\n",
            "Epoch 85/100\n",
            "32/32 [==============================] - 2s 77ms/step - loss: 5.4274\n",
            "Epoch 86/100\n",
            "32/32 [==============================] - 2s 76ms/step - loss: 5.4980\n",
            "Epoch 87/100\n",
            "32/32 [==============================] - 2s 77ms/step - loss: 5.5478\n",
            "Epoch 88/100\n",
            "32/32 [==============================] - 2s 77ms/step - loss: 5.5074\n",
            "Epoch 89/100\n",
            "32/32 [==============================] - 3s 78ms/step - loss: 5.7808\n",
            "Epoch 90/100\n",
            "32/32 [==============================] - 2s 77ms/step - loss: 6.0526\n",
            "Epoch 91/100\n",
            "32/32 [==============================] - 2s 77ms/step - loss: 5.4912\n",
            "Epoch 92/100\n",
            "32/32 [==============================] - 2s 77ms/step - loss: 5.2039\n",
            "Epoch 93/100\n",
            "32/32 [==============================] - 2s 77ms/step - loss: 5.2653\n",
            "Epoch 94/100\n",
            "32/32 [==============================] - 2s 77ms/step - loss: 5.3539\n",
            "Epoch 95/100\n",
            "32/32 [==============================] - 2s 77ms/step - loss: 5.5246\n",
            "Epoch 96/100\n",
            "32/32 [==============================] - 3s 101ms/step - loss: 5.3964\n",
            "Epoch 97/100\n",
            "32/32 [==============================] - 3s 85ms/step - loss: 5.4043\n",
            "Epoch 98/100\n",
            "32/32 [==============================] - 2s 76ms/step - loss: 5.3593\n",
            "Epoch 99/100\n",
            "32/32 [==============================] - 4s 111ms/step - loss: 5.2806\n",
            "Epoch 100/100\n",
            "32/32 [==============================] - 5s 166ms/step - loss: 5.5082\n"
          ]
        }
      ]
    },
    {
      "cell_type": "code",
      "source": [
        "plt.hist(model.predict(x), bins=30)"
      ],
      "metadata": {
        "colab": {
          "base_uri": "https://localhost:8080/",
          "height": 485
        },
        "outputId": "b824d096-bd7a-43eb-e7d3-1b4f695e1268",
        "id": "Tui7AOcS7XVF"
      },
      "execution_count": null,
      "outputs": [
        {
          "output_type": "execute_result",
          "data": {
            "text/plain": [
              "(array([ 3.,  2.,  5., 11.,  9., 25., 22., 27., 43., 53., 65., 88., 85.,\n",
              "        97., 80., 69., 56., 54., 43., 56., 35., 17., 15., 14., 11.,  4.,\n",
              "         3.,  4.,  3.,  1.]),\n",
              " array([-14.991775  , -14.081491  , -13.171209  , -12.260926  ,\n",
              "        -11.350643  , -10.440361  ,  -9.530078  ,  -8.619796  ,\n",
              "         -7.7095127 ,  -6.79923   ,  -5.888947  ,  -4.9786644 ,\n",
              "         -4.068382  ,  -3.158099  ,  -2.2478163 ,  -1.3375335 ,\n",
              "         -0.42725074,   0.48303202,   1.3933147 ,   2.3035975 ,\n",
              "          3.2138803 ,   4.124163  ,   5.034446  ,   5.9447284 ,\n",
              "          6.855011  ,   7.765294  ,   8.675576  ,   9.585859  ,\n",
              "         10.496142  ,  11.4064245 ,  12.316708  ], dtype=float32),\n",
              " <a list of 30 Patch objects>)"
            ]
          },
          "metadata": {},
          "execution_count": 32
        },
        {
          "output_type": "display_data",
          "data": {
            "text/plain": [
              "<Figure size 432x288 with 1 Axes>"
            ],
            "image/png": "[encoded data removed]"
          },
          "metadata": {
            "needs_background": "light"
          }
        }
      ]
    },
    {
      "cell_type": "code",
      "source": [
        "plt.plot(history.history['loss'])"
      ],
      "metadata": {
        "colab": {
          "base_uri": "https://localhost:8080/",
          "height": 283
        },
        "outputId": "09ed6685-6e7c-4c9c-8e20-4266884a8ef5",
        "id": "aZk4b5sq7XVF"
      },
      "execution_count": null,
      "outputs": [
        {
          "output_type": "execute_result",
          "data": {
            "text/plain": [
              "[<matplotlib.lines.Line2D at 0x7fad1a458050>]"
            ]
          },
          "metadata": {},
          "execution_count": 33
        },
        {
          "output_type": "display_data",
          "data": {
            "text/plain": [
              "<Figure size 432x288 with 1 Axes>"
            ],
            "image/png": "[encoded data removed]"
          },
          "metadata": {
            "needs_background": "light"
          }
        }
      ]
    },
    {
      "cell_type": "code",
      "source": [
        "plt.plot(S[:,-1], model.predict(x),marker='.', linestyle='none')\n",
        "plt.show()"
      ],
      "metadata": {
        "colab": {
          "base_uri": "https://localhost:8080/",
          "height": 265
        },
        "outputId": "61d1b4e8-0b18-4438-8b2b-da558e298aa7",
        "id": "MAp0t4xg7XVG"
      },
      "execution_count": null,
      "outputs": [
        {
          "output_type": "display_data",
          "data": {
            "text/plain": [
              "<Figure size 432x288 with 1 Axes>"
            ],
            "image/png": "[encoded data removed]"
          },
          "metadata": {
            "needs_background": "light"
          }
        }
      ]
    },
    {
      "cell_type": "markdown",
      "source": [
        "#### 유닛수 바꾸기 4"
      ],
      "metadata": {
        "id": "FJtZVQLX7bhF"
      }
    },
    {
      "cell_type": "code",
      "source": [
        "my_input = []\n",
        "premium = tf.keras.layers.Input(shape=(1,), name=\"premium\")\n",
        "hedge_cost = tf.keras.layers.Input(shape=(1,), name='hedge_cost')\n",
        "price = tf.keras.layers.Input(shape=(1,), name=\"price\")\n",
        "\n",
        "my_input = my_input + [premium] + [hedge_cost] + [price]\n",
        "\n",
        "for j in range(N):\n",
        "    delta = tf.keras.layers.Dense(100, activation='tanh')(price)\n",
        "    delta = tf.keras.layers.BatchNormalization()(delta)\n",
        "    delta = tf.keras.layers.Dense(100, activation='relu')(delta)\n",
        "    delta = tf.keras.layers.BatchNormalization()(delta)\n",
        "    delta = tf.keras.layers.Dense(100, activation='tanh')(delta)\n",
        "    delta = tf.keras.layers.Dense(1)(delta)\n",
        "\n",
        "    new_price = tf.keras.layers.Input(shape=(1,), name='S'+str(j+1))\n",
        "    my_input = my_input + [new_price]\n",
        "\n",
        "    price_inc = tf.keras.layers.Subtract(name='price_inc_'+str(j))([price, new_price])\n",
        "    cost = tf.keras.layers.Multiply(name=\"stock_\"+str(j))([delta, price_inc])\n",
        "    hedge_cost = tf.keras.layers.Add(name='cost_'+str(j))([hedge_cost, cost])\n",
        "    price_cumprod = tf.keras.layers.Multiply(name='price_cumprod'+str(j))([price, new_price])\n",
        "    price = new_price\n",
        "geom_mean = tf.keras.layers.Lambda(lambda x: tf.math.pow(x, 1/N, name='geom_mean'))(price_cumprod)\n",
        "payoff = tf.keras.layers.Lambda(lambda x : tf.math.maximum(x-K,0), name='payoff')(geom_mean)\n",
        "cum_cost = tf.keras.layers.Add(name=\"hedge_cost_plus_payoff\")([hedge_cost, payoff])\n",
        "cum_cost = tf.keras.layers.Subtract(name=\"cum_cost-premium\")([cum_cost, premium])\n",
        "\n",
        "model = tf.keras.Model(inputs=my_input, outputs=cum_cost)"
      ],
      "metadata": {
        "id": "IjXKUB7X7fx-"
      },
      "execution_count": null,
      "outputs": []
    },
    {
      "cell_type": "code",
      "source": [
        "premium = bscall(S0,K,T,r,sig) * np.ones([M,1])\n",
        "cost = np.zeros([M,1])\n",
        "SS = [S[:,i].reshape(M,1) for i in range(N+1)]\n",
        "x = [premium]+[cost]+[SS]\n",
        "y = np.zeros([M,1])"
      ],
      "metadata": {
        "id": "5JGjHoET7fyF"
      },
      "execution_count": null,
      "outputs": []
    },
    {
      "cell_type": "code",
      "source": [
        "model.compile(loss='mse', optimizer='adam')"
      ],
      "metadata": {
        "id": "XuOPX0_47fyF"
      },
      "execution_count": null,
      "outputs": []
    },
    {
      "cell_type": "code",
      "source": [
        "history = model.fit(x,y, epochs=100)"
      ],
      "metadata": {
        "colab": {
          "base_uri": "https://localhost:8080/"
        },
        "outputId": "e696a4f0-5fed-442e-82cc-f2be5dd4240f",
        "id": "4wSFgDRa7fyF"
      },
      "execution_count": null,
      "outputs": [
        {
          "output_type": "stream",
          "name": "stdout",
          "text": [
            "Epoch 1/100\n",
            "32/32 [==============================] - 84s 191ms/step - loss: 93.9237\n",
            "Epoch 2/100\n",
            "32/32 [==============================] - 5s 170ms/step - loss: 58.1845\n",
            "Epoch 3/100\n",
            "32/32 [==============================] - 5s 161ms/step - loss: 44.4677\n",
            "Epoch 4/100\n",
            "32/32 [==============================] - 4s 117ms/step - loss: 33.8885\n",
            "Epoch 5/100\n",
            "32/32 [==============================] - 4s 118ms/step - loss: 31.9794\n",
            "Epoch 6/100\n",
            "32/32 [==============================] - 4s 120ms/step - loss: 31.1882\n",
            "Epoch 7/100\n",
            "32/32 [==============================] - 4s 120ms/step - loss: 24.1452\n",
            "Epoch 8/100\n",
            "32/32 [==============================] - 4s 119ms/step - loss: 23.1000\n",
            "Epoch 9/100\n",
            "32/32 [==============================] - 4s 121ms/step - loss: 24.1438\n",
            "Epoch 10/100\n",
            "32/32 [==============================] - 4s 120ms/step - loss: 22.0313\n",
            "Epoch 11/100\n",
            "32/32 [==============================] - 4s 120ms/step - loss: 18.9919\n",
            "Epoch 12/100\n",
            "32/32 [==============================] - 4s 125ms/step - loss: 15.8452\n",
            "Epoch 13/100\n",
            "32/32 [==============================] - 4s 137ms/step - loss: 14.3055\n",
            "Epoch 14/100\n",
            "32/32 [==============================] - 9s 283ms/step - loss: 14.3303\n",
            "Epoch 15/100\n",
            "32/32 [==============================] - 9s 285ms/step - loss: 12.8027\n",
            "Epoch 16/100\n",
            "32/32 [==============================] - 7s 223ms/step - loss: 13.2568\n",
            "Epoch 17/100\n",
            "32/32 [==============================] - 7s 219ms/step - loss: 14.6935\n",
            "Epoch 18/100\n",
            "32/32 [==============================] - 4s 132ms/step - loss: 15.5409\n",
            "Epoch 19/100\n",
            "32/32 [==============================] - 4s 121ms/step - loss: 13.4965\n",
            "Epoch 20/100\n",
            "32/32 [==============================] - 4s 121ms/step - loss: 11.6936\n",
            "Epoch 21/100\n",
            "32/32 [==============================] - 4s 121ms/step - loss: 14.5991\n",
            "Epoch 22/100\n",
            "32/32 [==============================] - 4s 121ms/step - loss: 13.4897\n",
            "Epoch 23/100\n",
            "32/32 [==============================] - 4s 121ms/step - loss: 14.6916\n",
            "Epoch 24/100\n",
            "32/32 [==============================] - 4s 121ms/step - loss: 11.9113\n",
            "Epoch 25/100\n",
            "32/32 [==============================] - 4s 121ms/step - loss: 10.7916\n",
            "Epoch 26/100\n",
            "32/32 [==============================] - 4s 121ms/step - loss: 11.6695\n",
            "Epoch 27/100\n",
            "32/32 [==============================] - 4s 119ms/step - loss: 10.7272\n",
            "Epoch 28/100\n",
            "32/32 [==============================] - 4s 122ms/step - loss: 10.4250\n",
            "Epoch 29/100\n",
            "32/32 [==============================] - 4s 120ms/step - loss: 9.8300\n",
            "Epoch 30/100\n",
            "32/32 [==============================] - 4s 120ms/step - loss: 9.1913\n",
            "Epoch 31/100\n",
            "32/32 [==============================] - 4s 121ms/step - loss: 10.0649\n",
            "Epoch 32/100\n",
            "32/32 [==============================] - 5s 144ms/step - loss: 9.5483\n",
            "Epoch 33/100\n",
            "32/32 [==============================] - 5s 148ms/step - loss: 10.1406\n",
            "Epoch 34/100\n",
            "32/32 [==============================] - 6s 190ms/step - loss: 10.9784\n",
            "Epoch 35/100\n",
            "32/32 [==============================] - 7s 208ms/step - loss: 9.9138\n",
            "Epoch 36/100\n",
            "32/32 [==============================] - 6s 199ms/step - loss: 9.5081\n",
            "Epoch 37/100\n",
            "32/32 [==============================] - 4s 122ms/step - loss: 8.9058\n",
            "Epoch 38/100\n",
            "32/32 [==============================] - 5s 162ms/step - loss: 9.2643\n",
            "Epoch 39/100\n",
            "32/32 [==============================] - 4s 121ms/step - loss: 10.2462\n",
            "Epoch 40/100\n",
            "32/32 [==============================] - 5s 150ms/step - loss: 10.7756\n",
            "Epoch 41/100\n",
            "32/32 [==============================] - 7s 207ms/step - loss: 8.4611\n",
            "Epoch 42/100\n",
            "32/32 [==============================] - 5s 161ms/step - loss: 8.7072\n",
            "Epoch 43/100\n",
            "32/32 [==============================] - 5s 148ms/step - loss: 9.0512\n",
            "Epoch 44/100\n",
            "32/32 [==============================] - 4s 120ms/step - loss: 9.4692\n",
            "Epoch 45/100\n",
            "32/32 [==============================] - 4s 120ms/step - loss: 9.8394\n",
            "Epoch 46/100\n",
            "32/32 [==============================] - 4s 120ms/step - loss: 9.0673\n",
            "Epoch 47/100\n",
            "32/32 [==============================] - 4s 130ms/step - loss: 10.2086\n",
            "Epoch 48/100\n",
            "32/32 [==============================] - 4s 122ms/step - loss: 9.1881\n",
            "Epoch 49/100\n",
            "32/32 [==============================] - 4s 120ms/step - loss: 9.0665\n",
            "Epoch 50/100\n",
            "32/32 [==============================] - 4s 120ms/step - loss: 9.2385\n",
            "Epoch 51/100\n",
            "32/32 [==============================] - 4s 121ms/step - loss: 8.8360\n",
            "Epoch 52/100\n",
            "32/32 [==============================] - 4s 119ms/step - loss: 9.4754\n",
            "Epoch 53/100\n",
            "32/32 [==============================] - 4s 121ms/step - loss: 9.4407\n",
            "Epoch 54/100\n",
            "32/32 [==============================] - 4s 132ms/step - loss: 8.5357\n",
            "Epoch 55/100\n",
            "32/32 [==============================] - 8s 262ms/step - loss: 7.5906\n",
            "Epoch 56/100\n",
            "32/32 [==============================] - 4s 122ms/step - loss: 8.9115\n",
            "Epoch 57/100\n",
            "32/32 [==============================] - 4s 135ms/step - loss: 9.4770\n",
            "Epoch 58/100\n",
            "32/32 [==============================] - 4s 120ms/step - loss: 8.1414\n",
            "Epoch 59/100\n",
            "32/32 [==============================] - 4s 135ms/step - loss: 9.0617\n",
            "Epoch 60/100\n",
            "32/32 [==============================] - 4s 122ms/step - loss: 8.7502\n",
            "Epoch 61/100\n",
            "32/32 [==============================] - 5s 155ms/step - loss: 7.9728\n",
            "Epoch 62/100\n",
            "32/32 [==============================] - 6s 201ms/step - loss: 8.1052\n",
            "Epoch 63/100\n",
            "32/32 [==============================] - 4s 123ms/step - loss: 10.1426\n",
            "Epoch 64/100\n",
            "32/32 [==============================] - 4s 122ms/step - loss: 10.0607\n",
            "Epoch 65/100\n",
            "32/32 [==============================] - 4s 121ms/step - loss: 9.0131\n",
            "Epoch 66/100\n",
            "32/32 [==============================] - 4s 138ms/step - loss: 9.2612\n",
            "Epoch 67/100\n",
            "32/32 [==============================] - 7s 216ms/step - loss: 10.6835\n",
            "Epoch 68/100\n",
            "32/32 [==============================] - 4s 131ms/step - loss: 10.0198\n",
            "Epoch 69/100\n",
            "32/32 [==============================] - 6s 180ms/step - loss: 9.7963\n",
            "Epoch 70/100\n",
            "32/32 [==============================] - 5s 153ms/step - loss: 9.0629\n",
            "Epoch 71/100\n",
            "32/32 [==============================] - 4s 137ms/step - loss: 8.6757\n",
            "Epoch 72/100\n",
            "32/32 [==============================] - 4s 122ms/step - loss: 9.7301\n",
            "Epoch 73/100\n",
            "32/32 [==============================] - 4s 121ms/step - loss: 9.8405\n",
            "Epoch 74/100\n",
            "32/32 [==============================] - 4s 122ms/step - loss: 8.9793\n",
            "Epoch 75/100\n",
            "32/32 [==============================] - 4s 121ms/step - loss: 9.3527\n",
            "Epoch 76/100\n",
            "32/32 [==============================] - 4s 121ms/step - loss: 8.9251\n",
            "Epoch 77/100\n",
            "32/32 [==============================] - 4s 122ms/step - loss: 7.6831\n",
            "Epoch 78/100\n",
            "32/32 [==============================] - 4s 122ms/step - loss: 8.3894\n",
            "Epoch 79/100\n",
            "32/32 [==============================] - 4s 120ms/step - loss: 8.3833\n",
            "Epoch 80/100\n",
            "32/32 [==============================] - 4s 120ms/step - loss: 8.4314\n",
            "Epoch 81/100\n",
            "32/32 [==============================] - 4s 123ms/step - loss: 7.7057\n",
            "Epoch 82/100\n",
            "32/32 [==============================] - 4s 121ms/step - loss: 7.5892\n",
            "Epoch 83/100\n",
            "32/32 [==============================] - 4s 120ms/step - loss: 7.2791\n",
            "Epoch 84/100\n",
            "32/32 [==============================] - 4s 121ms/step - loss: 6.9654\n",
            "Epoch 85/100\n",
            "32/32 [==============================] - 4s 122ms/step - loss: 7.4717\n",
            "Epoch 86/100\n",
            "32/32 [==============================] - 4s 121ms/step - loss: 9.1478\n",
            "Epoch 87/100\n",
            "32/32 [==============================] - 4s 138ms/step - loss: 7.9373\n",
            "Epoch 88/100\n",
            "32/32 [==============================] - 7s 212ms/step - loss: 8.5351\n",
            "Epoch 89/100\n",
            "32/32 [==============================] - 5s 162ms/step - loss: 8.9012\n",
            "Epoch 90/100\n",
            "32/32 [==============================] - 4s 121ms/step - loss: 8.3274\n",
            "Epoch 91/100\n",
            "32/32 [==============================] - 4s 135ms/step - loss: 7.5132\n",
            "Epoch 92/100\n",
            "32/32 [==============================] - 4s 121ms/step - loss: 8.2195\n",
            "Epoch 93/100\n",
            "32/32 [==============================] - 4s 137ms/step - loss: 8.1883\n",
            "Epoch 94/100\n",
            "32/32 [==============================] - 8s 262ms/step - loss: 7.9738\n",
            "Epoch 95/100\n",
            "32/32 [==============================] - 8s 235ms/step - loss: 8.2196\n",
            "Epoch 96/100\n",
            "32/32 [==============================] - 9s 270ms/step - loss: 8.8439\n",
            "Epoch 97/100\n",
            "32/32 [==============================] - 8s 236ms/step - loss: 8.4866\n",
            "Epoch 98/100\n",
            "32/32 [==============================] - 7s 218ms/step - loss: 7.2043\n",
            "Epoch 99/100\n",
            "32/32 [==============================] - 7s 207ms/step - loss: 7.5237\n",
            "Epoch 100/100\n",
            "32/32 [==============================] - 8s 248ms/step - loss: 8.0105\n"
          ]
        }
      ]
    },
    {
      "cell_type": "code",
      "source": [
        "plt.hist(model.predict(x), bins=30)"
      ],
      "metadata": {
        "colab": {
          "base_uri": "https://localhost:8080/",
          "height": 485
        },
        "outputId": "042bb8f1-2289-45a8-a640-c30d2b4bdf1f",
        "id": "L89B4gfi7fyF"
      },
      "execution_count": null,
      "outputs": [
        {
          "output_type": "execute_result",
          "data": {
            "text/plain": [
              "(array([ 1.,  0.,  1.,  0.,  5.,  5.,  7., 11., 23., 31., 42., 57., 61.,\n",
              "        85., 82., 94., 91., 70., 78., 75., 46., 37., 35., 32., 13., 12.,\n",
              "         3.,  1.,  0.,  2.]),\n",
              " array([-19.33797   , -18.270626  , -17.203281  , -16.135935  ,\n",
              "        -15.06859   , -14.0012455 , -12.9339    , -11.866555  ,\n",
              "        -10.79921   ,  -9.731865  ,  -8.664519  ,  -7.5971746 ,\n",
              "         -6.5298295 ,  -5.4624844 ,  -4.395139  ,  -3.327794  ,\n",
              "         -2.260449  ,  -1.1931039 ,  -0.12575874,   0.9415864 ,\n",
              "          2.0089314 ,   3.0762765 ,   4.143622  ,   5.2109666 ,\n",
              "          6.2783117 ,   7.345657  ,   8.413002  ,   9.480348  ,\n",
              "         10.547692  ,  11.615038  ,  12.682383  ], dtype=float32),\n",
              " <a list of 30 Patch objects>)"
            ]
          },
          "metadata": {},
          "execution_count": 39
        },
        {
          "output_type": "display_data",
          "data": {
            "text/plain": [
              "<Figure size 432x288 with 1 Axes>"
            ],
            "image/png": "[encoded data removed]"
          },
          "metadata": {
            "needs_background": "light"
          }
        }
      ]
    },
    {
      "cell_type": "code",
      "source": [
        "plt.plot(history.history['loss'])"
      ],
      "metadata": {
        "colab": {
          "base_uri": "https://localhost:8080/",
          "height": 283
        },
        "outputId": "332f096c-db50-4936-8a7c-1be8bf519fba",
        "id": "pBaWxumv7fyG"
      },
      "execution_count": null,
      "outputs": [
        {
          "output_type": "execute_result",
          "data": {
            "text/plain": [
              "[<matplotlib.lines.Line2D at 0x7fad1053b490>]"
            ]
          },
          "metadata": {},
          "execution_count": 40
        },
        {
          "output_type": "display_data",
          "data": {
            "text/plain": [
              "<Figure size 432x288 with 1 Axes>"
            ],
            "image/png": "[encoded data removed]"
          },
          "metadata": {
            "needs_background": "light"
          }
        }
      ]
    },
    {
      "cell_type": "code",
      "source": [
        "plt.plot(S[:,-1], model.predict(x),marker='.', linestyle='none')\n",
        "plt.show()"
      ],
      "metadata": {
        "colab": {
          "base_uri": "https://localhost:8080/",
          "height": 265
        },
        "outputId": "6e2b83a9-0c01-49d6-885f-3357ffec845b",
        "id": "c5sg2TCX7fyG"
      },
      "execution_count": null,
      "outputs": [
        {
          "output_type": "display_data",
          "data": {
            "text/plain": [
              "<Figure size 432x288 with 1 Axes>"
            ],
            "image/png": "[encoded data removed]"
          },
          "metadata": {
            "needs_background": "light"
          }
        }
      ]
    },
    {
      "cell_type": "markdown",
      "source": [
        "#### 시그모이드 function 적용"
      ],
      "metadata": {
        "id": "yteDtCyb_3T-"
      }
    },
    {
      "cell_type": "code",
      "source": [
        "my_input = []\n",
        "premium = tf.keras.layers.Input(shape=(1,), name=\"premium\")\n",
        "hedge_cost = tf.keras.layers.Input(shape=(1,), name='hedge_cost')\n",
        "price = tf.keras.layers.Input(shape=(1,), name=\"price\")\n",
        "\n",
        "my_input = my_input + [premium] + [hedge_cost] + [price]\n",
        "\n",
        "for j in range(N):\n",
        "    delta = tf.keras.layers.Dense(20, activation='tanh')(price)\n",
        "    delta = tf.keras.layers.BatchNormalization()(delta)\n",
        "    delta = tf.keras.layers.Dense(20, activation='tanh')(delta)\n",
        "    delta = tf.keras.layers.BatchNormalization()(delta)\n",
        "    delta = tf.keras.layers.Dense(20, activation='tanh')(delta)\n",
        "    delta = tf.keras.layers.Dense(1, activation='sigmoid')(delta)\n",
        "\n",
        "    new_price = tf.keras.layers.Input(shape=(1,), name='S'+str(j+1))\n",
        "    my_input = my_input + [new_price]\n",
        "\n",
        "    price_inc = tf.keras.layers.Subtract(name='price_inc_'+str(j))([price, new_price])\n",
        "    cost = tf.keras.layers.Multiply(name=\"stock_\"+str(j))([delta, price_inc])\n",
        "    hedge_cost = tf.keras.layers.Add(name='cost_'+str(j))([hedge_cost, cost])\n",
        "    price_cumprod = tf.keras.layers.Multiply(name='price_cumprod'+str(j))([price, new_price])\n",
        "    price = new_price\n",
        "geom_mean = tf.keras.layers.Lambda(lambda x: tf.math.pow(x, 1/N, name='geom_mean'))(price_cumprod)\n",
        "payoff = tf.keras.layers.Lambda(lambda x : tf.math.maximum(x-K,0), name='payoff')(geom_mean)\n",
        "cum_cost = tf.keras.layers.Add(name=\"hedge_cost_plus_payoff\")([hedge_cost, payoff])\n",
        "cum_cost = tf.keras.layers.Subtract(name=\"cum_cost-premium\")([cum_cost, premium])\n",
        "\n",
        "model = tf.keras.Model(inputs=my_input, outputs=cum_cost)"
      ],
      "metadata": {
        "id": "kUn_1Q_UAD4Q"
      },
      "execution_count": null,
      "outputs": []
    },
    {
      "cell_type": "code",
      "source": [
        "premium = bscall(S0,K,T,r,sig) * np.ones([M,1])\n",
        "cost = np.zeros([M,1])\n",
        "SS = [S[:,i].reshape(M,1) for i in range(N+1)]\n",
        "x = [premium]+[cost]+[SS]\n",
        "y = np.zeros([M,1])"
      ],
      "metadata": {
        "id": "uGYn9Eg3AD4Q"
      },
      "execution_count": null,
      "outputs": []
    },
    {
      "cell_type": "code",
      "source": [
        "model.compile(loss='mse', optimizer='adam')"
      ],
      "metadata": {
        "id": "vvunF79QAD4Q"
      },
      "execution_count": null,
      "outputs": []
    },
    {
      "cell_type": "code",
      "source": [
        "history = model.fit(x,y, epochs=100)"
      ],
      "metadata": {
        "colab": {
          "base_uri": "https://localhost:8080/"
        },
        "outputId": "b98c2376-9416-4882-ebf7-d9892002eee1",
        "id": "At9FNYNaAD4Q"
      },
      "execution_count": null,
      "outputs": [
        {
          "output_type": "stream",
          "name": "stdout",
          "text": [
            "Epoch 1/100\n",
            "32/32 [==============================] - 90s 60ms/step - loss: 34.7893\n",
            "Epoch 2/100\n",
            "32/32 [==============================] - 2s 61ms/step - loss: 27.9780\n",
            "Epoch 3/100\n",
            "32/32 [==============================] - 2s 60ms/step - loss: 23.7664\n",
            "Epoch 4/100\n",
            "32/32 [==============================] - 2s 60ms/step - loss: 20.3252\n",
            "Epoch 5/100\n",
            "32/32 [==============================] - 2s 59ms/step - loss: 17.3945\n",
            "Epoch 6/100\n",
            "32/32 [==============================] - 2s 58ms/step - loss: 15.3594\n",
            "Epoch 7/100\n",
            "32/32 [==============================] - 2s 61ms/step - loss: 13.3012\n",
            "Epoch 8/100\n",
            "32/32 [==============================] - 2s 60ms/step - loss: 11.6997\n",
            "Epoch 9/100\n",
            "32/32 [==============================] - 2s 60ms/step - loss: 10.7305\n",
            "Epoch 10/100\n",
            "32/32 [==============================] - 2s 59ms/step - loss: 9.8514\n",
            "Epoch 11/100\n",
            "32/32 [==============================] - 2s 60ms/step - loss: 9.1227\n",
            "Epoch 12/100\n",
            "32/32 [==============================] - 2s 59ms/step - loss: 8.4099\n",
            "Epoch 13/100\n",
            "32/32 [==============================] - 2s 59ms/step - loss: 7.9056\n",
            "Epoch 14/100\n",
            "32/32 [==============================] - 2s 60ms/step - loss: 7.6237\n",
            "Epoch 15/100\n",
            "32/32 [==============================] - 2s 61ms/step - loss: 7.2261\n",
            "Epoch 16/100\n",
            "32/32 [==============================] - 2s 59ms/step - loss: 6.9529\n",
            "Epoch 17/100\n",
            "32/32 [==============================] - 2s 60ms/step - loss: 6.7674\n",
            "Epoch 18/100\n",
            "32/32 [==============================] - 2s 60ms/step - loss: 6.6704\n",
            "Epoch 19/100\n",
            "32/32 [==============================] - 2s 60ms/step - loss: 6.5564\n",
            "Epoch 20/100\n",
            "32/32 [==============================] - 2s 59ms/step - loss: 6.3127\n",
            "Epoch 21/100\n",
            "32/32 [==============================] - 2s 59ms/step - loss: 6.2080\n",
            "Epoch 22/100\n",
            "32/32 [==============================] - 2s 60ms/step - loss: 6.1454\n",
            "Epoch 23/100\n",
            "32/32 [==============================] - 2s 61ms/step - loss: 6.0108\n",
            "Epoch 24/100\n",
            "32/32 [==============================] - 2s 61ms/step - loss: 5.9110\n",
            "Epoch 25/100\n",
            "32/32 [==============================] - 2s 61ms/step - loss: 5.8889\n",
            "Epoch 26/100\n",
            "32/32 [==============================] - 2s 60ms/step - loss: 5.8976\n",
            "Epoch 27/100\n",
            "32/32 [==============================] - 2s 60ms/step - loss: 5.7945\n",
            "Epoch 28/100\n",
            "32/32 [==============================] - 2s 59ms/step - loss: 5.8090\n",
            "Epoch 29/100\n",
            "32/32 [==============================] - 2s 59ms/step - loss: 5.6829\n",
            "Epoch 30/100\n",
            "32/32 [==============================] - 2s 61ms/step - loss: 5.8020\n",
            "Epoch 31/100\n",
            "32/32 [==============================] - 2s 59ms/step - loss: 5.6878\n",
            "Epoch 32/100\n",
            "32/32 [==============================] - 2s 61ms/step - loss: 5.6241\n",
            "Epoch 33/100\n",
            "32/32 [==============================] - 2s 59ms/step - loss: 5.6116\n",
            "Epoch 34/100\n",
            "32/32 [==============================] - 2s 60ms/step - loss: 5.5093\n",
            "Epoch 35/100\n",
            "32/32 [==============================] - 2s 59ms/step - loss: 5.5145\n",
            "Epoch 36/100\n",
            "32/32 [==============================] - 2s 59ms/step - loss: 5.5879\n",
            "Epoch 37/100\n",
            "32/32 [==============================] - 2s 60ms/step - loss: 5.5051\n",
            "Epoch 38/100\n",
            "32/32 [==============================] - 2s 61ms/step - loss: 5.5470\n",
            "Epoch 39/100\n",
            "32/32 [==============================] - 2s 60ms/step - loss: 5.3977\n",
            "Epoch 40/100\n",
            "32/32 [==============================] - 2s 59ms/step - loss: 5.4432\n",
            "Epoch 41/100\n",
            "32/32 [==============================] - 2s 60ms/step - loss: 5.4414\n",
            "Epoch 42/100\n",
            "32/32 [==============================] - 2s 60ms/step - loss: 5.4254\n",
            "Epoch 43/100\n",
            "32/32 [==============================] - 2s 60ms/step - loss: 5.4237\n",
            "Epoch 44/100\n",
            "32/32 [==============================] - 2s 60ms/step - loss: 5.3839\n",
            "Epoch 45/100\n",
            "32/32 [==============================] - 2s 59ms/step - loss: 5.4037\n",
            "Epoch 46/100\n",
            "32/32 [==============================] - 2s 60ms/step - loss: 5.3244\n",
            "Epoch 47/100\n",
            "32/32 [==============================] - 2s 60ms/step - loss: 5.4809\n",
            "Epoch 48/100\n",
            "32/32 [==============================] - 2s 60ms/step - loss: 5.3769\n",
            "Epoch 49/100\n",
            "32/32 [==============================] - 2s 60ms/step - loss: 5.3399\n",
            "Epoch 50/100\n",
            "32/32 [==============================] - 2s 59ms/step - loss: 5.3433\n",
            "Epoch 51/100\n",
            "32/32 [==============================] - 2s 59ms/step - loss: 5.3852\n",
            "Epoch 52/100\n",
            "32/32 [==============================] - 2s 60ms/step - loss: 5.3494\n",
            "Epoch 53/100\n",
            "32/32 [==============================] - 2s 60ms/step - loss: 5.3703\n",
            "Epoch 54/100\n",
            "32/32 [==============================] - 2s 60ms/step - loss: 5.3449\n",
            "Epoch 55/100\n",
            "32/32 [==============================] - 2s 60ms/step - loss: 5.2809\n",
            "Epoch 56/100\n",
            "32/32 [==============================] - 2s 59ms/step - loss: 5.3176\n",
            "Epoch 57/100\n",
            "32/32 [==============================] - 2s 61ms/step - loss: 5.3186\n",
            "Epoch 58/100\n",
            "32/32 [==============================] - 2s 59ms/step - loss: 5.2076\n",
            "Epoch 59/100\n",
            "32/32 [==============================] - 2s 59ms/step - loss: 5.2905\n",
            "Epoch 60/100\n",
            "32/32 [==============================] - 2s 59ms/step - loss: 5.2272\n",
            "Epoch 61/100\n",
            "32/32 [==============================] - 3s 92ms/step - loss: 5.3385\n",
            "Epoch 62/100\n",
            "32/32 [==============================] - 2s 61ms/step - loss: 5.3037\n",
            "Epoch 63/100\n",
            "32/32 [==============================] - 2s 60ms/step - loss: 5.3295\n",
            "Epoch 64/100\n",
            "32/32 [==============================] - 2s 60ms/step - loss: 5.2163\n",
            "Epoch 65/100\n",
            "32/32 [==============================] - 2s 60ms/step - loss: 5.2512\n",
            "Epoch 66/100\n",
            "32/32 [==============================] - 2s 60ms/step - loss: 5.3141\n",
            "Epoch 67/100\n",
            "32/32 [==============================] - 2s 60ms/step - loss: 5.2785\n",
            "Epoch 68/100\n",
            "32/32 [==============================] - 2s 59ms/step - loss: 5.2748\n",
            "Epoch 69/100\n",
            "32/32 [==============================] - 2s 61ms/step - loss: 5.2046\n",
            "Epoch 70/100\n",
            "32/32 [==============================] - 2s 59ms/step - loss: 5.2690\n",
            "Epoch 71/100\n",
            "32/32 [==============================] - 2s 60ms/step - loss: 5.2034\n",
            "Epoch 72/100\n",
            "32/32 [==============================] - 2s 59ms/step - loss: 5.3001\n",
            "Epoch 73/100\n",
            "32/32 [==============================] - 2s 60ms/step - loss: 5.2364\n",
            "Epoch 74/100\n",
            "32/32 [==============================] - 2s 59ms/step - loss: 5.2407\n",
            "Epoch 75/100\n",
            "32/32 [==============================] - 2s 59ms/step - loss: 5.2925\n",
            "Epoch 76/100\n",
            "32/32 [==============================] - 2s 60ms/step - loss: 5.2030\n",
            "Epoch 77/100\n",
            "32/32 [==============================] - 2s 60ms/step - loss: 5.2318\n",
            "Epoch 78/100\n",
            "32/32 [==============================] - 2s 60ms/step - loss: 5.1452\n",
            "Epoch 79/100\n",
            "32/32 [==============================] - 2s 59ms/step - loss: 5.2354\n",
            "Epoch 80/100\n",
            "32/32 [==============================] - 2s 60ms/step - loss: 5.2518\n",
            "Epoch 81/100\n",
            "32/32 [==============================] - 2s 60ms/step - loss: 5.2005\n",
            "Epoch 82/100\n",
            "32/32 [==============================] - 2s 61ms/step - loss: 5.1384\n",
            "Epoch 83/100\n",
            "32/32 [==============================] - 2s 61ms/step - loss: 5.1316\n",
            "Epoch 84/100\n",
            "32/32 [==============================] - 2s 59ms/step - loss: 5.2174\n",
            "Epoch 85/100\n",
            "32/32 [==============================] - 2s 60ms/step - loss: 5.3135\n",
            "Epoch 86/100\n",
            "32/32 [==============================] - 2s 61ms/step - loss: 5.1855\n",
            "Epoch 87/100\n",
            "32/32 [==============================] - 2s 62ms/step - loss: 5.1942\n",
            "Epoch 88/100\n",
            "32/32 [==============================] - 2s 62ms/step - loss: 5.2290\n",
            "Epoch 89/100\n",
            "32/32 [==============================] - 2s 61ms/step - loss: 5.1324\n",
            "Epoch 90/100\n",
            "32/32 [==============================] - 2s 58ms/step - loss: 5.1554\n",
            "Epoch 91/100\n",
            "32/32 [==============================] - 2s 61ms/step - loss: 5.1704\n",
            "Epoch 92/100\n",
            "32/32 [==============================] - 2s 60ms/step - loss: 5.1961\n",
            "Epoch 93/100\n",
            "32/32 [==============================] - 2s 59ms/step - loss: 5.1286\n",
            "Epoch 94/100\n",
            "32/32 [==============================] - 2s 60ms/step - loss: 5.2554\n",
            "Epoch 95/100\n",
            "32/32 [==============================] - 2s 59ms/step - loss: 5.1432\n",
            "Epoch 96/100\n",
            "32/32 [==============================] - 2s 60ms/step - loss: 5.1662\n",
            "Epoch 97/100\n",
            "32/32 [==============================] - 2s 60ms/step - loss: 5.1677\n",
            "Epoch 98/100\n",
            "32/32 [==============================] - 2s 59ms/step - loss: 5.1721\n",
            "Epoch 99/100\n",
            "32/32 [==============================] - 2s 62ms/step - loss: 5.2060\n",
            "Epoch 100/100\n",
            "32/32 [==============================] - 2s 61ms/step - loss: 5.2076\n"
          ]
        }
      ]
    },
    {
      "cell_type": "code",
      "source": [
        "plt.hist(model.predict(x), bins=30)"
      ],
      "metadata": {
        "colab": {
          "base_uri": "https://localhost:8080/",
          "height": 485
        },
        "outputId": "1e1a0645-9ca1-4e25-8822-4cacd6f6c8e9",
        "id": "WwF_M9bpAD4R"
      },
      "execution_count": null,
      "outputs": [
        {
          "output_type": "execute_result",
          "data": {
            "text/plain": [
              "(array([  2.,   1.,   1.,   4.,   2.,   9.,   9.,  19.,  22.,  33.,  45.,\n",
              "         60.,  64.,  58., 101.,  84.,  73.,  80.,  61.,  75.,  56.,  41.,\n",
              "         41.,  20.,  14.,  13.,   7.,   2.,   2.,   1.]),\n",
              " array([-11.679185  , -11.081473  , -10.483762  ,  -9.886051  ,\n",
              "         -9.28834   ,  -8.690628  ,  -8.0929165 ,  -7.495205  ,\n",
              "         -6.897494  ,  -6.2997823 ,  -5.7020707 ,  -5.1043596 ,\n",
              "         -4.506648  ,  -3.9089367 ,  -3.3112252 ,  -2.7135139 ,\n",
              "         -2.1158025 ,  -1.5180911 ,  -0.92037964,  -0.32266822,\n",
              "          0.27504316,   0.8727546 ,   1.470466  ,   2.0681775 ,\n",
              "          2.6658888 ,   3.2636    ,   3.8613117 ,   4.459023  ,\n",
              "          5.0567346 ,   5.6544456 ,   6.252157  ], dtype=float32),\n",
              " <a list of 30 Patch objects>)"
            ]
          },
          "metadata": {},
          "execution_count": 48
        },
        {
          "output_type": "display_data",
          "data": {
            "text/plain": [
              "<Figure size 432x288 with 1 Axes>"
            ],
            "image/png": "[encoded data removed]"
          },
          "metadata": {
            "needs_background": "light"
          }
        }
      ]
    },
    {
      "cell_type": "code",
      "source": [
        "plt.plot(history.history['loss'])"
      ],
      "metadata": {
        "colab": {
          "base_uri": "https://localhost:8080/",
          "height": 283
        },
        "outputId": "e6997435-099a-439d-d742-80f319f86e8e",
        "id": "0Ph3lv6KAD4R"
      },
      "execution_count": null,
      "outputs": [
        {
          "output_type": "execute_result",
          "data": {
            "text/plain": [
              "[<matplotlib.lines.Line2D at 0x7fad1f232e50>]"
            ]
          },
          "metadata": {},
          "execution_count": 49
        },
        {
          "output_type": "display_data",
          "data": {
            "text/plain": [
              "<Figure size 432x288 with 1 Axes>"
            ],
            "image/png": "[encoded data removed]"
          },
          "metadata": {
            "needs_background": "light"
          }
        }
      ]
    },
    {
      "cell_type": "code",
      "source": [
        "plt.plot(S[:,-1], model.predict(x),marker='.', linestyle='none')\n",
        "plt.show()"
      ],
      "metadata": {
        "colab": {
          "base_uri": "https://localhost:8080/",
          "height": 265
        },
        "outputId": "ba421dc1-9bc1-4ac6-94ca-40d576548d62",
        "id": "ULZj6i2-AD4R"
      },
      "execution_count": null,
      "outputs": [
        {
          "output_type": "display_data",
          "data": {
            "text/plain": [
              "<Figure size 432x288 with 1 Axes>"
            ],
            "image/png": "[encoded data removed]"
          },
          "metadata": {
            "needs_background": "light"
          }
        }
      ]
    },
    {
      "cell_type": "markdown",
      "source": [
        "### 시그모이드 함수 적용 + leaky_relu 함수 적용"
      ],
      "metadata": {
        "id": "q08MLjOiBW_D"
      }
    },
    {
      "cell_type": "code",
      "source": [
        "my_input = []\n",
        "premium = tf.keras.layers.Input(shape=(1,), name=\"premium\")\n",
        "hedge_cost = tf.keras.layers.Input(shape=(1,), name='hedge_cost')\n",
        "price = tf.keras.layers.Input(shape=(1,), name=\"price\")\n",
        "\n",
        "my_input = my_input + [premium] + [hedge_cost] + [price]\n",
        "\n",
        "for j in range(N):\n",
        "    delta = tf.keras.layers.Dense(20, activation='leaky_relu')(price)\n",
        "    delta = tf.keras.layers.BatchNormalization()(delta)\n",
        "    delta = tf.keras.layers.Dense(20, activation='leaky_relu')(delta)\n",
        "    delta = tf.keras.layers.BatchNormalization()(delta)\n",
        "    delta = tf.keras.layers.Dense(20, activation='leaky_relu')(delta)\n",
        "    delta = tf.keras.layers.Dense(1, activation='sigmoid')(delta)\n",
        "\n",
        "    new_price = tf.keras.layers.Input(shape=(1,), name='S'+str(j+1))\n",
        "    my_input = my_input + [new_price]\n",
        "\n",
        "    price_inc = tf.keras.layers.Subtract(name='price_inc_'+str(j))([price, new_price])\n",
        "    cost = tf.keras.layers.Multiply(name=\"stock_\"+str(j))([delta, price_inc])\n",
        "    hedge_cost = tf.keras.layers.Add(name='cost_'+str(j))([hedge_cost, cost])\n",
        "    price_cumprod = tf.keras.layers.Multiply(name='price_cumprod'+str(j))([price, new_price])\n",
        "    price = new_price\n",
        "geom_mean = tf.keras.layers.Lambda(lambda x: tf.math.pow(x, 1/N, name='geom_mean'))(price_cumprod)\n",
        "payoff = tf.keras.layers.Lambda(lambda x : tf.math.maximum(x-K,0), name='payoff')(geom_mean)\n",
        "cum_cost = tf.keras.layers.Add(name=\"hedge_cost_plus_payoff\")([hedge_cost, payoff])\n",
        "cum_cost = tf.keras.layers.Subtract(name=\"cum_cost-premium\")([cum_cost, premium])\n",
        "\n",
        "model = tf.keras.Model(inputs=my_input, outputs=cum_cost)"
      ],
      "metadata": {
        "id": "EH4v_7wtBcrD"
      },
      "execution_count": null,
      "outputs": []
    },
    {
      "cell_type": "code",
      "source": [
        "premium = bscall(S0,K,T,r,sig) * np.ones([M,1])\n",
        "cost = np.zeros([M,1])\n",
        "SS = [S[:,i].reshape(M,1) for i in range(N+1)]\n",
        "x = [premium]+[cost]+[SS]\n",
        "y = np.zeros([M,1])"
      ],
      "metadata": {
        "id": "cMI_NxNGBcrE"
      },
      "execution_count": null,
      "outputs": []
    },
    {
      "cell_type": "code",
      "source": [
        "model.compile(loss='mse', optimizer='adam')"
      ],
      "metadata": {
        "id": "GW9ZAWWTBcrE"
      },
      "execution_count": null,
      "outputs": []
    },
    {
      "cell_type": "code",
      "source": [
        "history = model.fit(x,y, epochs=100)"
      ],
      "metadata": {
        "colab": {
          "base_uri": "https://localhost:8080/"
        },
        "outputId": "84a3b2c5-1f38-45ef-ff94-9abab9c976fb",
        "id": "cotpd3W2BcrE"
      },
      "execution_count": null,
      "outputs": [
        {
          "output_type": "stream",
          "name": "stdout",
          "text": [
            "Epoch 1/100\n",
            "32/32 [==============================] - 98s 62ms/step - loss: 33.4075\n",
            "Epoch 2/100\n",
            "32/32 [==============================] - 3s 99ms/step - loss: 23.5061\n",
            "Epoch 3/100\n",
            "32/32 [==============================] - 3s 106ms/step - loss: 18.8400\n",
            "Epoch 4/100\n",
            "32/32 [==============================] - 3s 105ms/step - loss: 15.4402\n",
            "Epoch 5/100\n",
            "32/32 [==============================] - 4s 135ms/step - loss: 13.2856\n",
            "Epoch 6/100\n",
            "32/32 [==============================] - 4s 135ms/step - loss: 11.8029\n",
            "Epoch 7/100\n",
            "32/32 [==============================] - 3s 106ms/step - loss: 10.5097\n",
            "Epoch 8/100\n",
            "32/32 [==============================] - 3s 105ms/step - loss: 9.6842\n",
            "Epoch 9/100\n",
            "32/32 [==============================] - 3s 104ms/step - loss: 9.0384\n",
            "Epoch 10/100\n",
            "32/32 [==============================] - 3s 97ms/step - loss: 8.3398\n",
            "Epoch 11/100\n",
            "32/32 [==============================] - 3s 107ms/step - loss: 7.8413\n",
            "Epoch 12/100\n",
            "32/32 [==============================] - 3s 106ms/step - loss: 7.5280\n",
            "Epoch 13/100\n",
            "32/32 [==============================] - 3s 107ms/step - loss: 7.1415\n",
            "Epoch 14/100\n",
            "32/32 [==============================] - 2s 59ms/step - loss: 6.8855\n",
            "Epoch 15/100\n",
            "32/32 [==============================] - 2s 59ms/step - loss: 6.5727\n",
            "Epoch 16/100\n",
            "32/32 [==============================] - 2s 59ms/step - loss: 6.5317\n",
            "Epoch 17/100\n",
            "32/32 [==============================] - 2s 59ms/step - loss: 6.3921\n",
            "Epoch 18/100\n",
            "32/32 [==============================] - 2s 61ms/step - loss: 6.1900\n",
            "Epoch 19/100\n",
            "32/32 [==============================] - 2s 61ms/step - loss: 6.1601\n",
            "Epoch 20/100\n",
            "32/32 [==============================] - 2s 60ms/step - loss: 5.9622\n",
            "Epoch 21/100\n",
            "32/32 [==============================] - 2s 60ms/step - loss: 5.8934\n",
            "Epoch 22/100\n",
            "32/32 [==============================] - 2s 60ms/step - loss: 5.8181\n",
            "Epoch 23/100\n",
            "32/32 [==============================] - 2s 60ms/step - loss: 5.7228\n",
            "Epoch 24/100\n",
            "32/32 [==============================] - 2s 60ms/step - loss: 5.7042\n",
            "Epoch 25/100\n",
            "32/32 [==============================] - 2s 60ms/step - loss: 5.5664\n",
            "Epoch 26/100\n",
            "32/32 [==============================] - 2s 60ms/step - loss: 5.6960\n",
            "Epoch 27/100\n",
            "32/32 [==============================] - 2s 62ms/step - loss: 5.3966\n",
            "Epoch 28/100\n",
            "32/32 [==============================] - 2s 62ms/step - loss: 5.3341\n",
            "Epoch 29/100\n",
            "32/32 [==============================] - 4s 121ms/step - loss: 5.3345\n",
            "Epoch 30/100\n",
            "32/32 [==============================] - 3s 104ms/step - loss: 5.3616\n",
            "Epoch 31/100\n",
            "32/32 [==============================] - 2s 61ms/step - loss: 5.3972\n",
            "Epoch 32/100\n",
            "32/32 [==============================] - 2s 62ms/step - loss: 5.3153\n",
            "Epoch 33/100\n",
            "32/32 [==============================] - 2s 61ms/step - loss: 5.2590\n",
            "Epoch 34/100\n",
            "32/32 [==============================] - 2s 62ms/step - loss: 5.3064\n",
            "Epoch 35/100\n",
            "32/32 [==============================] - 2s 63ms/step - loss: 5.2536\n",
            "Epoch 36/100\n",
            "32/32 [==============================] - 2s 62ms/step - loss: 5.2538\n",
            "Epoch 37/100\n",
            "32/32 [==============================] - 2s 60ms/step - loss: 5.2945\n",
            "Epoch 38/100\n",
            "32/32 [==============================] - 2s 60ms/step - loss: 5.1407\n",
            "Epoch 39/100\n",
            "32/32 [==============================] - 2s 60ms/step - loss: 5.1830\n",
            "Epoch 40/100\n",
            "32/32 [==============================] - 2s 62ms/step - loss: 5.1347\n",
            "Epoch 41/100\n",
            "32/32 [==============================] - 2s 61ms/step - loss: 5.1583\n",
            "Epoch 42/100\n",
            "32/32 [==============================] - 2s 61ms/step - loss: 5.1061\n",
            "Epoch 43/100\n",
            "32/32 [==============================] - 2s 61ms/step - loss: 5.0925\n",
            "Epoch 44/100\n",
            "32/32 [==============================] - 2s 61ms/step - loss: 5.1080\n",
            "Epoch 45/100\n",
            "32/32 [==============================] - 2s 59ms/step - loss: 5.1393\n",
            "Epoch 46/100\n",
            "32/32 [==============================] - 2s 60ms/step - loss: 5.0411\n",
            "Epoch 47/100\n",
            "32/32 [==============================] - 2s 60ms/step - loss: 5.1610\n",
            "Epoch 48/100\n",
            "32/32 [==============================] - 2s 61ms/step - loss: 5.1060\n",
            "Epoch 49/100\n",
            "32/32 [==============================] - 2s 60ms/step - loss: 5.1247\n",
            "Epoch 50/100\n",
            "32/32 [==============================] - 2s 60ms/step - loss: 5.0457\n",
            "Epoch 51/100\n",
            "32/32 [==============================] - 2s 60ms/step - loss: 5.1136\n",
            "Epoch 52/100\n",
            "32/32 [==============================] - 2s 60ms/step - loss: 5.1239\n",
            "Epoch 53/100\n",
            "32/32 [==============================] - 2s 60ms/step - loss: 5.0649\n",
            "Epoch 54/100\n",
            "32/32 [==============================] - 2s 60ms/step - loss: 5.0449\n",
            "Epoch 55/100\n",
            "32/32 [==============================] - 2s 60ms/step - loss: 5.0334\n",
            "Epoch 56/100\n",
            "32/32 [==============================] - 2s 60ms/step - loss: 5.1351\n",
            "Epoch 57/100\n",
            "32/32 [==============================] - 3s 91ms/step - loss: 5.0034\n",
            "Epoch 58/100\n",
            "32/32 [==============================] - 2s 62ms/step - loss: 5.0464\n",
            "Epoch 59/100\n",
            "32/32 [==============================] - 2s 61ms/step - loss: 4.9087\n",
            "Epoch 60/100\n",
            "32/32 [==============================] - 2s 61ms/step - loss: 5.1510\n",
            "Epoch 61/100\n",
            "32/32 [==============================] - 2s 60ms/step - loss: 5.0362\n",
            "Epoch 62/100\n",
            "32/32 [==============================] - 2s 61ms/step - loss: 5.0233\n",
            "Epoch 63/100\n",
            "32/32 [==============================] - 2s 61ms/step - loss: 5.0133\n",
            "Epoch 64/100\n",
            "32/32 [==============================] - 2s 61ms/step - loss: 4.9020\n",
            "Epoch 65/100\n",
            "32/32 [==============================] - 2s 61ms/step - loss: 5.0591\n",
            "Epoch 66/100\n",
            "32/32 [==============================] - 2s 61ms/step - loss: 4.9893\n",
            "Epoch 67/100\n",
            "32/32 [==============================] - 2s 61ms/step - loss: 5.0426\n",
            "Epoch 68/100\n",
            "32/32 [==============================] - 2s 60ms/step - loss: 4.9488\n",
            "Epoch 69/100\n",
            "32/32 [==============================] - 2s 61ms/step - loss: 4.9142\n",
            "Epoch 70/100\n",
            "32/32 [==============================] - 2s 61ms/step - loss: 5.0208\n",
            "Epoch 71/100\n",
            "32/32 [==============================] - 2s 61ms/step - loss: 4.9775\n",
            "Epoch 72/100\n",
            "32/32 [==============================] - 2s 60ms/step - loss: 4.9399\n",
            "Epoch 73/100\n",
            "32/32 [==============================] - 2s 61ms/step - loss: 4.9679\n",
            "Epoch 74/100\n",
            "32/32 [==============================] - 2s 60ms/step - loss: 4.9974\n",
            "Epoch 75/100\n",
            "32/32 [==============================] - 2s 62ms/step - loss: 4.8733\n",
            "Epoch 76/100\n",
            "32/32 [==============================] - 2s 60ms/step - loss: 4.9528\n",
            "Epoch 77/100\n",
            "32/32 [==============================] - 2s 59ms/step - loss: 5.0069\n",
            "Epoch 78/100\n",
            "32/32 [==============================] - 2s 62ms/step - loss: 4.9027\n",
            "Epoch 79/100\n",
            "32/32 [==============================] - 2s 64ms/step - loss: 4.9766\n",
            "Epoch 80/100\n",
            "32/32 [==============================] - 2s 71ms/step - loss: 4.9887\n",
            "Epoch 81/100\n",
            "32/32 [==============================] - 2s 61ms/step - loss: 4.8875\n",
            "Epoch 82/100\n",
            "32/32 [==============================] - 2s 60ms/step - loss: 4.8968\n",
            "Epoch 83/100\n",
            "32/32 [==============================] - 2s 60ms/step - loss: 4.9268\n",
            "Epoch 84/100\n",
            "32/32 [==============================] - 2s 60ms/step - loss: 4.8740\n",
            "Epoch 85/100\n",
            "32/32 [==============================] - 2s 61ms/step - loss: 4.8740\n",
            "Epoch 86/100\n",
            "32/32 [==============================] - 2s 60ms/step - loss: 4.8358\n",
            "Epoch 87/100\n",
            "32/32 [==============================] - 2s 61ms/step - loss: 4.9507\n",
            "Epoch 88/100\n",
            "32/32 [==============================] - 2s 60ms/step - loss: 4.8905\n",
            "Epoch 89/100\n",
            "32/32 [==============================] - 2s 59ms/step - loss: 5.0170\n",
            "Epoch 90/100\n",
            "32/32 [==============================] - 2s 61ms/step - loss: 4.9680\n",
            "Epoch 91/100\n",
            "32/32 [==============================] - 2s 62ms/step - loss: 4.8963\n",
            "Epoch 92/100\n",
            "32/32 [==============================] - 2s 61ms/step - loss: 4.9169\n",
            "Epoch 93/100\n",
            "32/32 [==============================] - 2s 61ms/step - loss: 4.9925\n",
            "Epoch 94/100\n",
            "32/32 [==============================] - 2s 60ms/step - loss: 4.9745\n",
            "Epoch 95/100\n",
            "32/32 [==============================] - 2s 61ms/step - loss: 4.9279\n",
            "Epoch 96/100\n",
            "32/32 [==============================] - 2s 60ms/step - loss: 4.9203\n",
            "Epoch 97/100\n",
            "32/32 [==============================] - 2s 60ms/step - loss: 4.8704\n",
            "Epoch 98/100\n",
            "32/32 [==============================] - 2s 60ms/step - loss: 4.8814\n",
            "Epoch 99/100\n",
            "32/32 [==============================] - 2s 61ms/step - loss: 4.8990\n",
            "Epoch 100/100\n",
            "32/32 [==============================] - 2s 61ms/step - loss: 4.9494\n"
          ]
        }
      ]
    },
    {
      "cell_type": "code",
      "source": [
        "plt.hist(model.predict(x), bins=30)"
      ],
      "metadata": {
        "colab": {
          "base_uri": "https://localhost:8080/",
          "height": 485
        },
        "outputId": "0d4bfa38-c3dd-4f2b-8f82-4ff40893a7d0",
        "id": "DA8jO3bcBcrE"
      },
      "execution_count": null,
      "outputs": [
        {
          "output_type": "execute_result",
          "data": {
            "text/plain": [
              "(array([  1.,   0.,   0.,   0.,   0.,   3.,   2.,   4.,  14.,  12.,  27.,\n",
              "         37.,  48.,  72.,  97.,  89.,  97., 114., 106.,  82.,  56.,  59.,\n",
              "         30.,  23.,  10.,   8.,   5.,   2.,   1.,   1.]),\n",
              " array([-1.2399390e+01, -1.1779932e+01, -1.1160473e+01, -1.0541015e+01,\n",
              "        -9.9215565e+00, -9.3020973e+00, -8.6826391e+00, -8.0631809e+00,\n",
              "        -7.4437222e+00, -6.8242640e+00, -6.2048054e+00, -5.5853467e+00,\n",
              "        -4.9658885e+00, -4.3464298e+00, -3.7269714e+00, -3.1075130e+00,\n",
              "        -2.4880545e+00, -1.8685960e+00, -1.2491375e+00, -6.2967902e-01,\n",
              "        -1.0220528e-02,  6.0923797e-01,  1.2286965e+00,  1.8481549e+00,\n",
              "         2.4676135e+00,  3.0870719e+00,  3.7065303e+00,  4.3259888e+00,\n",
              "         4.9454474e+00,  5.5649056e+00,  6.1843643e+00], dtype=float32),\n",
              " <a list of 30 Patch objects>)"
            ]
          },
          "metadata": {},
          "execution_count": 56
        },
        {
          "output_type": "display_data",
          "data": {
            "text/plain": [
              "<Figure size 432x288 with 1 Axes>"
            ],
            "image/png": "[encoded data removed]"
          },
          "metadata": {
            "needs_background": "light"
          }
        }
      ]
    },
    {
      "cell_type": "code",
      "source": [
        "plt.plot(history.history['loss'])"
      ],
      "metadata": {
        "colab": {
          "base_uri": "https://localhost:8080/",
          "height": 283
        },
        "outputId": "9c218c56-39a4-4140-dd0d-004dd23919de",
        "id": "G9AfP5AbBcrF"
      },
      "execution_count": null,
      "outputs": [
        {
          "output_type": "execute_result",
          "data": {
            "text/plain": [
              "[<matplotlib.lines.Line2D at 0x7fad192bfa10>]"
            ]
          },
          "metadata": {},
          "execution_count": 57
        },
        {
          "output_type": "display_data",
          "data": {
            "text/plain": [
              "<Figure size 432x288 with 1 Axes>"
            ],
            "image/png": "[encoded data removed]"
          },
          "metadata": {
            "needs_background": "light"
          }
        }
      ]
    },
    {
      "cell_type": "code",
      "source": [
        "plt.plot(S[:,-1], model.predict(x),marker='.', linestyle='none')\n",
        "plt.show()"
      ],
      "metadata": {
        "colab": {
          "base_uri": "https://localhost:8080/",
          "height": 265
        },
        "outputId": "3eec1134-52f9-4fc8-c258-c7461305d893",
        "id": "ldbzmS4FBcrF"
      },
      "execution_count": null,
      "outputs": [
        {
          "output_type": "display_data",
          "data": {
            "text/plain": [
              "<Figure size 432x288 with 1 Axes>"
            ],
            "image/png": "[encoded data removed]"
          },
          "metadata": {
            "needs_background": "light"
          }
        }
      ]
    },
    {
      "cell_type": "markdown",
      "source": [
        "#### dropout1"
      ],
      "metadata": {
        "id": "U36Wr6NbA1_d"
      }
    },
    {
      "cell_type": "code",
      "source": [
        "my_input = []\n",
        "premium = tf.keras.layers.Input(shape=(1,), name=\"premium\")\n",
        "hedge_cost = tf.keras.layers.Input(shape=(1,), name='hedge_cost')\n",
        "price = tf.keras.layers.Input(shape=(1,), name=\"price\")\n",
        "\n",
        "my_input = my_input + [premium] + [hedge_cost] + [price]\n",
        "\n",
        "for j in range(N):\n",
        "    delta = tf.keras.layers.Dense(20, activation='tanh')(price)\n",
        "    delta = tf.keras.layers.BatchNormalization()(delta)\n",
        "    delta = tf.keras.layers.Dropout(0.25)(delta)\n",
        "    delta = tf.keras.layers.Dense(20, activation='relu')(delta)\n",
        "    delta = tf.keras.layers.BatchNormalization()(delta)\n",
        "    delta = tf.keras.layers.Dropout(0.25)(delta)\n",
        "    delta = tf.keras.layers.Dense(20, activation='tanh')(delta)\n",
        "    delta = tf.keras.layers.Dense(1)(delta)\n",
        "\n",
        "    new_price = tf.keras.layers.Input(shape=(1,), name='S'+str(j+1))\n",
        "    my_input = my_input + [new_price]\n",
        "\n",
        "    price_inc = tf.keras.layers.Subtract(name='price_inc_'+str(j))([price, new_price])\n",
        "    cost = tf.keras.layers.Multiply(name=\"stock_\"+str(j))([delta, price_inc])\n",
        "    hedge_cost = tf.keras.layers.Add(name='cost_'+str(j))([hedge_cost, cost])\n",
        "    price_cumprod = tf.keras.layers.Multiply(name='price_cumprod'+str(j))([price, new_price])\n",
        "    price = new_price\n",
        "geom_mean = tf.keras.layers.Lambda(lambda x: tf.math.pow(x, 1/N, name='geom_mean'))(price_cumprod)\n",
        "payoff = tf.keras.layers.Lambda(lambda x : tf.math.maximum(x-K,0), name='payoff')(geom_mean)\n",
        "cum_cost = tf.keras.layers.Add(name=\"hedge_cost_plus_payoff\")([hedge_cost, payoff])\n",
        "cum_cost = tf.keras.layers.Subtract(name=\"cum_cost-premium\")([cum_cost, premium])\n",
        "\n",
        "model = tf.keras.Model(inputs=my_input, outputs=cum_cost)"
      ],
      "metadata": {
        "id": "XrvTDGWrADbF"
      },
      "execution_count": null,
      "outputs": []
    },
    {
      "cell_type": "code",
      "source": [
        "premium = bscall(S0,K,T,r,sig) * np.ones([M,1])\n",
        "cost = np.zeros([M,1])\n",
        "SS = [S[:,i].reshape(M,1) for i in range(N+1)]\n",
        "x = [premium]+[cost]+[SS]\n",
        "y = np.zeros([M,1])"
      ],
      "metadata": {
        "id": "ZTtpmtJLCLgV"
      },
      "execution_count": null,
      "outputs": []
    },
    {
      "cell_type": "code",
      "source": [
        "model.compile(loss='mse', optimizer='adam')"
      ],
      "metadata": {
        "id": "w7LxstcLCLgW"
      },
      "execution_count": null,
      "outputs": []
    },
    {
      "cell_type": "code",
      "source": [
        "history = model.fit(x,y, epochs=100)"
      ],
      "metadata": {
        "colab": {
          "base_uri": "https://localhost:8080/"
        },
        "outputId": "7d21f6ba-5b9a-447f-cb7f-996b395e63d6",
        "id": "LY4vcTo8CLgW"
      },
      "execution_count": null,
      "outputs": [
        {
          "output_type": "stream",
          "name": "stdout",
          "text": [
            "Epoch 1/100\n",
            "32/32 [==============================] - 81s 64ms/step - loss: 30.6753\n",
            "Epoch 2/100\n",
            "32/32 [==============================] - 2s 63ms/step - loss: 19.3968\n",
            "Epoch 3/100\n",
            "32/32 [==============================] - 2s 64ms/step - loss: 17.8056\n",
            "Epoch 4/100\n",
            "32/32 [==============================] - 2s 64ms/step - loss: 14.9481\n",
            "Epoch 5/100\n",
            "32/32 [==============================] - 2s 62ms/step - loss: 12.5620\n",
            "Epoch 6/100\n",
            "32/32 [==============================] - 2s 63ms/step - loss: 12.6240\n",
            "Epoch 7/100\n",
            "32/32 [==============================] - 2s 63ms/step - loss: 11.0811\n",
            "Epoch 8/100\n",
            "32/32 [==============================] - 2s 63ms/step - loss: 10.7637\n",
            "Epoch 9/100\n",
            "32/32 [==============================] - 2s 65ms/step - loss: 10.6100\n",
            "Epoch 10/100\n",
            "32/32 [==============================] - 2s 62ms/step - loss: 9.9332\n",
            "Epoch 11/100\n",
            "32/32 [==============================] - 2s 62ms/step - loss: 9.2337\n",
            "Epoch 12/100\n",
            "32/32 [==============================] - 2s 63ms/step - loss: 8.7317\n",
            "Epoch 13/100\n",
            "32/32 [==============================] - 2s 63ms/step - loss: 8.4387\n",
            "Epoch 14/100\n",
            "32/32 [==============================] - 2s 63ms/step - loss: 7.7052\n",
            "Epoch 15/100\n",
            "32/32 [==============================] - 2s 62ms/step - loss: 8.3104\n",
            "Epoch 16/100\n",
            "32/32 [==============================] - 2s 64ms/step - loss: 7.2518\n",
            "Epoch 17/100\n",
            "32/32 [==============================] - 2s 62ms/step - loss: 7.6265\n",
            "Epoch 18/100\n",
            "32/32 [==============================] - 2s 62ms/step - loss: 7.3524\n",
            "Epoch 19/100\n",
            "32/32 [==============================] - 2s 63ms/step - loss: 7.4412\n",
            "Epoch 20/100\n",
            "32/32 [==============================] - 2s 63ms/step - loss: 6.8840\n",
            "Epoch 21/100\n",
            "32/32 [==============================] - 2s 64ms/step - loss: 6.8323\n",
            "Epoch 22/100\n",
            "32/32 [==============================] - 2s 64ms/step - loss: 6.5628\n",
            "Epoch 23/100\n",
            "32/32 [==============================] - 2s 63ms/step - loss: 6.6657\n",
            "Epoch 24/100\n",
            "32/32 [==============================] - 2s 64ms/step - loss: 6.8310\n",
            "Epoch 25/100\n",
            "32/32 [==============================] - 2s 64ms/step - loss: 6.4382\n",
            "Epoch 26/100\n",
            "32/32 [==============================] - 2s 62ms/step - loss: 6.3999\n",
            "Epoch 27/100\n",
            "32/32 [==============================] - 2s 63ms/step - loss: 6.2198\n",
            "Epoch 28/100\n",
            "32/32 [==============================] - 2s 63ms/step - loss: 6.6822\n",
            "Epoch 29/100\n",
            "32/32 [==============================] - 2s 65ms/step - loss: 6.2886\n",
            "Epoch 30/100\n",
            "32/32 [==============================] - 2s 63ms/step - loss: 6.2803\n",
            "Epoch 31/100\n",
            "32/32 [==============================] - 2s 64ms/step - loss: 6.3806\n",
            "Epoch 32/100\n",
            "32/32 [==============================] - 2s 63ms/step - loss: 6.2184\n",
            "Epoch 33/100\n",
            "32/32 [==============================] - 2s 63ms/step - loss: 6.0413\n",
            "Epoch 34/100\n",
            "32/32 [==============================] - 2s 64ms/step - loss: 5.7449\n",
            "Epoch 35/100\n",
            "32/32 [==============================] - 2s 63ms/step - loss: 6.2732\n",
            "Epoch 36/100\n",
            "32/32 [==============================] - 2s 64ms/step - loss: 5.9951\n",
            "Epoch 37/100\n",
            "32/32 [==============================] - 2s 63ms/step - loss: 5.9901\n",
            "Epoch 38/100\n",
            "32/32 [==============================] - 2s 63ms/step - loss: 5.8969\n",
            "Epoch 39/100\n",
            "32/32 [==============================] - 2s 64ms/step - loss: 6.0517\n",
            "Epoch 40/100\n",
            "32/32 [==============================] - 2s 63ms/step - loss: 5.9889\n",
            "Epoch 41/100\n",
            "32/32 [==============================] - 2s 64ms/step - loss: 5.9793\n",
            "Epoch 42/100\n",
            "32/32 [==============================] - 2s 63ms/step - loss: 5.8807\n",
            "Epoch 43/100\n",
            "32/32 [==============================] - 2s 63ms/step - loss: 5.8328\n",
            "Epoch 44/100\n",
            "32/32 [==============================] - 2s 64ms/step - loss: 5.9030\n",
            "Epoch 45/100\n",
            "32/32 [==============================] - 2s 63ms/step - loss: 5.7903\n",
            "Epoch 46/100\n",
            "32/32 [==============================] - 2s 63ms/step - loss: 5.7011\n",
            "Epoch 47/100\n",
            "32/32 [==============================] - 2s 62ms/step - loss: 5.6314\n",
            "Epoch 48/100\n",
            "32/32 [==============================] - 2s 62ms/step - loss: 5.6968\n",
            "Epoch 49/100\n",
            "32/32 [==============================] - 2s 63ms/step - loss: 5.7864\n",
            "Epoch 50/100\n",
            "32/32 [==============================] - 2s 62ms/step - loss: 5.7472\n",
            "Epoch 51/100\n",
            "32/32 [==============================] - 2s 66ms/step - loss: 6.1365\n",
            "Epoch 52/100\n",
            "32/32 [==============================] - 2s 63ms/step - loss: 6.1705\n",
            "Epoch 53/100\n",
            "32/32 [==============================] - 2s 63ms/step - loss: 5.8476\n",
            "Epoch 54/100\n",
            "32/32 [==============================] - 2s 64ms/step - loss: 5.8482\n",
            "Epoch 55/100\n",
            "32/32 [==============================] - 2s 63ms/step - loss: 5.8584\n",
            "Epoch 56/100\n",
            "32/32 [==============================] - 2s 65ms/step - loss: 5.5388\n",
            "Epoch 57/100\n",
            "32/32 [==============================] - 2s 63ms/step - loss: 5.8523\n",
            "Epoch 58/100\n",
            "32/32 [==============================] - 2s 63ms/step - loss: 5.7482\n",
            "Epoch 59/100\n",
            "32/32 [==============================] - 2s 64ms/step - loss: 5.8271\n",
            "Epoch 60/100\n",
            "32/32 [==============================] - 2s 63ms/step - loss: 5.7591\n",
            "Epoch 61/100\n",
            "32/32 [==============================] - 2s 63ms/step - loss: 5.6633\n",
            "Epoch 62/100\n",
            "32/32 [==============================] - 2s 64ms/step - loss: 5.4900\n",
            "Epoch 63/100\n",
            "32/32 [==============================] - 2s 63ms/step - loss: 5.4043\n",
            "Epoch 64/100\n",
            "32/32 [==============================] - 2s 64ms/step - loss: 5.5500\n",
            "Epoch 65/100\n",
            "32/32 [==============================] - 2s 63ms/step - loss: 5.9474\n",
            "Epoch 66/100\n",
            "32/32 [==============================] - 2s 64ms/step - loss: 5.8728\n",
            "Epoch 67/100\n",
            "32/32 [==============================] - 2s 64ms/step - loss: 5.5892\n",
            "Epoch 68/100\n",
            "32/32 [==============================] - 2s 66ms/step - loss: 5.6057\n",
            "Epoch 69/100\n",
            "32/32 [==============================] - 2s 66ms/step - loss: 5.5728\n",
            "Epoch 70/100\n",
            "32/32 [==============================] - 2s 64ms/step - loss: 5.5328\n",
            "Epoch 71/100\n",
            "32/32 [==============================] - 2s 63ms/step - loss: 5.6035\n",
            "Epoch 72/100\n",
            "32/32 [==============================] - 2s 65ms/step - loss: 5.7979\n",
            "Epoch 73/100\n",
            "32/32 [==============================] - 2s 65ms/step - loss: 5.6425\n",
            "Epoch 74/100\n",
            "32/32 [==============================] - 2s 64ms/step - loss: 5.4168\n",
            "Epoch 75/100\n",
            "32/32 [==============================] - 3s 88ms/step - loss: 5.5653\n",
            "Epoch 76/100\n",
            "32/32 [==============================] - 2s 72ms/step - loss: 5.5799\n",
            "Epoch 77/100\n",
            "32/32 [==============================] - 2s 64ms/step - loss: 5.5373\n",
            "Epoch 78/100\n",
            "32/32 [==============================] - 2s 63ms/step - loss: 5.6887\n",
            "Epoch 79/100\n",
            "32/32 [==============================] - 2s 65ms/step - loss: 5.6098\n",
            "Epoch 80/100\n",
            "32/32 [==============================] - 2s 65ms/step - loss: 5.6292\n",
            "Epoch 81/100\n",
            "32/32 [==============================] - 2s 64ms/step - loss: 5.5918\n",
            "Epoch 82/100\n",
            "32/32 [==============================] - 2s 63ms/step - loss: 5.7235\n",
            "Epoch 83/100\n",
            "32/32 [==============================] - 2s 64ms/step - loss: 5.4707\n",
            "Epoch 84/100\n",
            "32/32 [==============================] - 2s 63ms/step - loss: 5.5230\n",
            "Epoch 85/100\n",
            "32/32 [==============================] - 2s 63ms/step - loss: 5.4477\n",
            "Epoch 86/100\n",
            "32/32 [==============================] - 2s 63ms/step - loss: 5.5492\n",
            "Epoch 87/100\n",
            "32/32 [==============================] - 2s 65ms/step - loss: 5.5921\n",
            "Epoch 88/100\n",
            "32/32 [==============================] - 2s 64ms/step - loss: 5.3532\n",
            "Epoch 89/100\n",
            "32/32 [==============================] - 2s 64ms/step - loss: 5.5636\n",
            "Epoch 90/100\n",
            "32/32 [==============================] - 2s 63ms/step - loss: 5.5369\n",
            "Epoch 91/100\n",
            "32/32 [==============================] - 2s 63ms/step - loss: 5.4912\n",
            "Epoch 92/100\n",
            "32/32 [==============================] - 2s 65ms/step - loss: 5.4835\n",
            "Epoch 93/100\n",
            "32/32 [==============================] - 2s 64ms/step - loss: 5.6312\n",
            "Epoch 94/100\n",
            "32/32 [==============================] - 2s 64ms/step - loss: 5.5494\n",
            "Epoch 95/100\n",
            "32/32 [==============================] - 2s 64ms/step - loss: 5.2772\n",
            "Epoch 96/100\n",
            "32/32 [==============================] - 2s 63ms/step - loss: 5.3879\n",
            "Epoch 97/100\n",
            "32/32 [==============================] - 2s 63ms/step - loss: 5.6688\n",
            "Epoch 98/100\n",
            "32/32 [==============================] - 2s 64ms/step - loss: 5.6821\n",
            "Epoch 99/100\n",
            "32/32 [==============================] - 2s 64ms/step - loss: 5.7642\n",
            "Epoch 100/100\n",
            "32/32 [==============================] - 2s 63ms/step - loss: 5.6140\n"
          ]
        }
      ]
    },
    {
      "cell_type": "code",
      "source": [
        "plt.hist(model.predict(x), bins=30)"
      ],
      "metadata": {
        "colab": {
          "base_uri": "https://localhost:8080/",
          "height": 467
        },
        "outputId": "14d8b0be-b6ea-4a93-a7c2-d6a88dbf3d6d",
        "id": "h4HpFFssCLgX"
      },
      "execution_count": null,
      "outputs": [
        {
          "output_type": "execute_result",
          "data": {
            "text/plain": [
              "(array([ 2.,  3.,  5.,  6., 24., 28., 46., 38., 62., 75., 86., 79., 86.,\n",
              "        87., 83., 66., 68., 43., 33., 35., 16., 14.,  7.,  4.,  1.,  0.,\n",
              "         1.,  0.,  1.,  1.]),\n",
              " array([-6.838765  , -6.4675803 , -6.0963955 , -5.7252107 , -5.354026  ,\n",
              "        -4.982841  , -4.611656  , -4.2404714 , -3.8692863 , -3.4981015 ,\n",
              "        -3.1269166 , -2.7557318 , -2.3845468 , -2.013362  , -1.6421771 ,\n",
              "        -1.2709923 , -0.8998074 , -0.52862257, -0.15743771,  0.21374716,\n",
              "         0.584932  ,  0.95611686,  1.3273017 ,  1.6984866 ,  2.0696714 ,\n",
              "         2.4408562 ,  2.812041  ,  3.183226  ,  3.554411  ,  3.9255958 ,\n",
              "         4.2967806 ], dtype=float32),\n",
              " <a list of 30 Patch objects>)"
            ]
          },
          "metadata": {},
          "execution_count": 92
        },
        {
          "output_type": "display_data",
          "data": {
            "text/plain": [
              "<Figure size 432x288 with 1 Axes>"
            ],
            "image/png": "[encoded data removed]"
          },
          "metadata": {
            "needs_background": "light"
          }
        }
      ]
    },
    {
      "cell_type": "code",
      "source": [
        "plt.plot(history.history['loss'])"
      ],
      "metadata": {
        "colab": {
          "base_uri": "https://localhost:8080/",
          "height": 283
        },
        "outputId": "27dac0f4-8990-4849-8395-81b2f38c8274",
        "id": "dHmjIwVkCLgX"
      },
      "execution_count": null,
      "outputs": [
        {
          "output_type": "execute_result",
          "data": {
            "text/plain": [
              "[<matplotlib.lines.Line2D at 0x7fad1ffff810>]"
            ]
          },
          "metadata": {},
          "execution_count": 93
        },
        {
          "output_type": "display_data",
          "data": {
            "text/plain": [
              "<Figure size 432x288 with 1 Axes>"
            ],
            "image/png": "[encoded data removed]"
          },
          "metadata": {
            "needs_background": "light"
          }
        }
      ]
    },
    {
      "cell_type": "code",
      "source": [
        "plt.plot(S[:,-1], model.predict(x),marker='.', linestyle='none')\n",
        "plt.show()"
      ],
      "metadata": {
        "colab": {
          "base_uri": "https://localhost:8080/",
          "height": 265
        },
        "outputId": "099a521c-d142-47fc-e585-37b6999da362",
        "id": "KDfoTR7pCLgX"
      },
      "execution_count": null,
      "outputs": [
        {
          "output_type": "display_data",
          "data": {
            "text/plain": [
              "<Figure size 432x288 with 1 Axes>"
            ],
            "image/png": "[encoded data removed]"
          },
          "metadata": {
            "needs_background": "light"
          }
        }
      ]
    },
    {
      "cell_type": "markdown",
      "source": [
        "#### dropout2"
      ],
      "metadata": {
        "id": "VDYCAQyTCNe-"
      }
    },
    {
      "cell_type": "code",
      "source": [
        "my_input = []\n",
        "premium = tf.keras.layers.Input(shape=(1,), name=\"premium\")\n",
        "hedge_cost = tf.keras.layers.Input(shape=(1,), name='hedge_cost')\n",
        "price = tf.keras.layers.Input(shape=(1,), name=\"price\")\n",
        "\n",
        "my_input = my_input + [premium] + [hedge_cost] + [price]\n",
        "\n",
        "for j in range(N):\n",
        "    delta = tf.keras.layers.Dense(20, activation='leaky_relu')(price)\n",
        "    delta = tf.keras.layers.BatchNormalization()(delta)\n",
        "    delta = tf.keras.layers.Dropout(0.1)(delta)\n",
        "    delta = tf.keras.layers.Dense(20, activation='leaky_relu')(delta)\n",
        "    delta = tf.keras.layers.BatchNormalization()(delta)\n",
        "    delta = tf.keras.layers.Dropout(0.1)(delta)\n",
        "    delta = tf.keras.layers.Dense(20, activation='leaky_relu')(delta)\n",
        "    delta = tf.keras.layers.Dense(1, activation='sigmoid')(delta)\n",
        "\n",
        "    new_price = tf.keras.layers.Input(shape=(1,), name='S'+str(j+1))\n",
        "    my_input = my_input + [new_price]\n",
        "\n",
        "    price_inc = tf.keras.layers.Subtract(name='price_inc_'+str(j))([price, new_price])\n",
        "    cost = tf.keras.layers.Multiply(name=\"stock_\"+str(j))([delta, price_inc])\n",
        "    hedge_cost = tf.keras.layers.Add(name='cost_'+str(j))([hedge_cost, cost])\n",
        "    price_cumprod = tf.keras.layers.Multiply(name='price_cumprod'+str(j))([price, new_price])\n",
        "    price = new_price\n",
        "geom_mean = tf.keras.layers.Lambda(lambda x: tf.math.pow(x, 1/N, name='geom_mean'))(price_cumprod)\n",
        "payoff = tf.keras.layers.Lambda(lambda x : tf.math.maximum(x-K,0), name='payoff')(geom_mean)\n",
        "cum_cost = tf.keras.layers.Add(name=\"hedge_cost_plus_payoff\")([hedge_cost, payoff])\n",
        "cum_cost = tf.keras.layers.Subtract(name=\"cum_cost-premium\")([cum_cost, premium])\n",
        "\n",
        "model = tf.keras.Model(inputs=my_input, outputs=cum_cost)"
      ],
      "metadata": {
        "id": "guPNPgQSCSY5"
      },
      "execution_count": null,
      "outputs": []
    },
    {
      "cell_type": "code",
      "source": [
        "premium = bscall(S0,K,T,r,sig) * np.ones([M,1])\n",
        "cost = np.zeros([M,1])\n",
        "SS = [S[:,i].reshape(M,1) for i in range(N+1)]\n",
        "x = [premium]+[cost]+[SS]\n",
        "y = np.zeros([M,1])"
      ],
      "metadata": {
        "id": "RjDhHAS_CSZK"
      },
      "execution_count": null,
      "outputs": []
    },
    {
      "cell_type": "code",
      "source": [
        "model.compile(loss='mse', optimizer='adam')"
      ],
      "metadata": {
        "id": "olBliF74CSZK"
      },
      "execution_count": null,
      "outputs": []
    },
    {
      "cell_type": "code",
      "source": [
        "history = model.fit(x,y, epochs=100)"
      ],
      "metadata": {
        "colab": {
          "base_uri": "https://localhost:8080/"
        },
        "outputId": "fec04b27-5ea8-48bc-f7c5-d3a14fd6893d",
        "id": "KAC2n5efCSZK"
      },
      "execution_count": null,
      "outputs": [
        {
          "output_type": "stream",
          "name": "stdout",
          "text": [
            "Epoch 1/100\n",
            "32/32 [==============================] - 82s 65ms/step - loss: 35.9930\n",
            "Epoch 2/100\n",
            "32/32 [==============================] - 2s 65ms/step - loss: 29.1518\n",
            "Epoch 3/100\n",
            "32/32 [==============================] - 2s 65ms/step - loss: 24.6574\n",
            "Epoch 4/100\n",
            "32/32 [==============================] - 2s 64ms/step - loss: 21.9746\n",
            "Epoch 5/100\n",
            "32/32 [==============================] - 2s 63ms/step - loss: 18.3591\n",
            "Epoch 6/100\n",
            "32/32 [==============================] - 2s 64ms/step - loss: 17.4279\n",
            "Epoch 7/100\n",
            "32/32 [==============================] - 2s 66ms/step - loss: 14.5554\n",
            "Epoch 8/100\n",
            "32/32 [==============================] - 2s 66ms/step - loss: 13.7764\n",
            "Epoch 9/100\n",
            "32/32 [==============================] - 2s 64ms/step - loss: 12.5820\n",
            "Epoch 10/100\n",
            "32/32 [==============================] - 2s 64ms/step - loss: 10.9933\n",
            "Epoch 11/100\n",
            "32/32 [==============================] - 2s 65ms/step - loss: 10.8840\n",
            "Epoch 12/100\n",
            "32/32 [==============================] - 2s 64ms/step - loss: 10.1467\n",
            "Epoch 13/100\n",
            "32/32 [==============================] - 2s 64ms/step - loss: 8.9883\n",
            "Epoch 14/100\n",
            "32/32 [==============================] - 2s 64ms/step - loss: 8.7005\n",
            "Epoch 15/100\n",
            "32/32 [==============================] - 2s 64ms/step - loss: 8.2880\n",
            "Epoch 16/100\n",
            "32/32 [==============================] - 2s 63ms/step - loss: 7.7260\n",
            "Epoch 17/100\n",
            "32/32 [==============================] - 2s 64ms/step - loss: 7.6018\n",
            "Epoch 18/100\n",
            "32/32 [==============================] - 2s 64ms/step - loss: 7.1400\n",
            "Epoch 19/100\n",
            "32/32 [==============================] - 2s 64ms/step - loss: 7.2203\n",
            "Epoch 20/100\n",
            "32/32 [==============================] - 2s 64ms/step - loss: 7.0451\n",
            "Epoch 21/100\n",
            "32/32 [==============================] - 2s 64ms/step - loss: 7.0076\n",
            "Epoch 22/100\n",
            "32/32 [==============================] - 2s 66ms/step - loss: 6.6141\n",
            "Epoch 23/100\n",
            "32/32 [==============================] - 2s 66ms/step - loss: 6.4422\n",
            "Epoch 24/100\n",
            "32/32 [==============================] - 2s 67ms/step - loss: 6.5040\n",
            "Epoch 25/100\n",
            "32/32 [==============================] - 2s 65ms/step - loss: 6.1844\n",
            "Epoch 26/100\n",
            "32/32 [==============================] - 2s 64ms/step - loss: 6.2105\n",
            "Epoch 27/100\n",
            "32/32 [==============================] - 2s 65ms/step - loss: 5.9955\n",
            "Epoch 28/100\n",
            "32/32 [==============================] - 2s 65ms/step - loss: 5.9786\n",
            "Epoch 29/100\n",
            "32/32 [==============================] - 2s 65ms/step - loss: 6.1362\n",
            "Epoch 30/100\n",
            "32/32 [==============================] - 2s 65ms/step - loss: 6.1183\n",
            "Epoch 31/100\n",
            "32/32 [==============================] - 2s 65ms/step - loss: 5.8031\n",
            "Epoch 32/100\n",
            "32/32 [==============================] - 2s 66ms/step - loss: 5.8999\n",
            "Epoch 33/100\n",
            "32/32 [==============================] - 2s 65ms/step - loss: 5.7202\n",
            "Epoch 34/100\n",
            "32/32 [==============================] - 2s 64ms/step - loss: 5.8069\n",
            "Epoch 35/100\n",
            "32/32 [==============================] - 2s 65ms/step - loss: 5.7710\n",
            "Epoch 36/100\n",
            "32/32 [==============================] - 2s 67ms/step - loss: 5.4993\n",
            "Epoch 37/100\n",
            "32/32 [==============================] - 2s 65ms/step - loss: 5.5878\n",
            "Epoch 38/100\n",
            "32/32 [==============================] - 2s 65ms/step - loss: 5.4960\n",
            "Epoch 39/100\n",
            "32/32 [==============================] - 2s 66ms/step - loss: 5.5307\n",
            "Epoch 40/100\n",
            "32/32 [==============================] - 2s 64ms/step - loss: 5.5151\n",
            "Epoch 41/100\n",
            "32/32 [==============================] - 2s 63ms/step - loss: 5.4756\n",
            "Epoch 42/100\n",
            "32/32 [==============================] - 2s 65ms/step - loss: 5.5753\n",
            "Epoch 43/100\n",
            "32/32 [==============================] - 4s 120ms/step - loss: 5.4475\n",
            "Epoch 44/100\n",
            "32/32 [==============================] - 4s 116ms/step - loss: 5.4844\n",
            "Epoch 45/100\n",
            "32/32 [==============================] - 4s 114ms/step - loss: 5.5181\n",
            "Epoch 46/100\n",
            "32/32 [==============================] - 2s 64ms/step - loss: 5.2819\n",
            "Epoch 47/100\n",
            "32/32 [==============================] - 2s 65ms/step - loss: 5.3096\n",
            "Epoch 48/100\n",
            "32/32 [==============================] - 2s 65ms/step - loss: 5.4999\n",
            "Epoch 49/100\n",
            "32/32 [==============================] - 2s 69ms/step - loss: 5.3095\n",
            "Epoch 50/100\n",
            "32/32 [==============================] - 3s 96ms/step - loss: 5.4225\n",
            "Epoch 51/100\n",
            "32/32 [==============================] - 2s 67ms/step - loss: 5.3143\n",
            "Epoch 52/100\n",
            "32/32 [==============================] - 2s 67ms/step - loss: 5.2683\n",
            "Epoch 53/100\n",
            "32/32 [==============================] - 2s 64ms/step - loss: 5.2463\n",
            "Epoch 54/100\n",
            "32/32 [==============================] - 2s 65ms/step - loss: 5.3488\n",
            "Epoch 55/100\n",
            "32/32 [==============================] - 2s 65ms/step - loss: 5.2661\n",
            "Epoch 56/100\n",
            "32/32 [==============================] - 2s 65ms/step - loss: 5.2409\n",
            "Epoch 57/100\n",
            "32/32 [==============================] - 2s 65ms/step - loss: 5.3980\n",
            "Epoch 58/100\n",
            "32/32 [==============================] - 2s 65ms/step - loss: 5.3510\n",
            "Epoch 59/100\n",
            "32/32 [==============================] - 2s 65ms/step - loss: 5.3072\n",
            "Epoch 60/100\n",
            "32/32 [==============================] - 2s 66ms/step - loss: 5.3390\n",
            "Epoch 61/100\n",
            "32/32 [==============================] - 2s 65ms/step - loss: 5.3602\n",
            "Epoch 62/100\n",
            "32/32 [==============================] - 2s 66ms/step - loss: 5.2363\n",
            "Epoch 63/100\n",
            "32/32 [==============================] - 2s 65ms/step - loss: 5.1294\n",
            "Epoch 64/100\n",
            "32/32 [==============================] - 2s 65ms/step - loss: 5.1704\n",
            "Epoch 65/100\n",
            "32/32 [==============================] - 2s 64ms/step - loss: 5.2323\n",
            "Epoch 66/100\n",
            "32/32 [==============================] - 2s 65ms/step - loss: 5.1405\n",
            "Epoch 67/100\n",
            "32/32 [==============================] - 2s 66ms/step - loss: 5.2502\n",
            "Epoch 68/100\n",
            "32/32 [==============================] - 2s 65ms/step - loss: 5.3204\n",
            "Epoch 69/100\n",
            "32/32 [==============================] - 2s 66ms/step - loss: 5.1577\n",
            "Epoch 70/100\n",
            "32/32 [==============================] - 2s 65ms/step - loss: 5.1078\n",
            "Epoch 71/100\n",
            "32/32 [==============================] - 2s 66ms/step - loss: 5.2008\n",
            "Epoch 72/100\n",
            "32/32 [==============================] - 2s 64ms/step - loss: 5.2264\n",
            "Epoch 73/100\n",
            "32/32 [==============================] - 2s 66ms/step - loss: 5.1828\n",
            "Epoch 74/100\n",
            "32/32 [==============================] - 2s 66ms/step - loss: 5.0716\n",
            "Epoch 75/100\n",
            "32/32 [==============================] - 2s 66ms/step - loss: 5.2464\n",
            "Epoch 76/100\n",
            "32/32 [==============================] - 2s 66ms/step - loss: 5.0318\n",
            "Epoch 77/100\n",
            "32/32 [==============================] - 2s 65ms/step - loss: 5.2217\n",
            "Epoch 78/100\n",
            "32/32 [==============================] - 2s 66ms/step - loss: 5.2583\n",
            "Epoch 79/100\n",
            "32/32 [==============================] - 2s 65ms/step - loss: 5.1161\n",
            "Epoch 80/100\n",
            "32/32 [==============================] - 2s 65ms/step - loss: 5.2771\n",
            "Epoch 81/100\n",
            "32/32 [==============================] - 2s 64ms/step - loss: 4.9155\n",
            "Epoch 82/100\n",
            "32/32 [==============================] - 2s 64ms/step - loss: 5.0879\n",
            "Epoch 83/100\n",
            "32/32 [==============================] - 2s 67ms/step - loss: 5.1424\n",
            "Epoch 84/100\n",
            "32/32 [==============================] - 2s 64ms/step - loss: 5.1700\n",
            "Epoch 85/100\n",
            "32/32 [==============================] - 2s 64ms/step - loss: 5.0782\n",
            "Epoch 86/100\n",
            "32/32 [==============================] - 2s 65ms/step - loss: 5.2313\n",
            "Epoch 87/100\n",
            "32/32 [==============================] - 2s 65ms/step - loss: 5.2137\n",
            "Epoch 88/100\n",
            "32/32 [==============================] - 2s 65ms/step - loss: 5.1620\n",
            "Epoch 89/100\n",
            "32/32 [==============================] - 2s 65ms/step - loss: 5.0871\n",
            "Epoch 90/100\n",
            "32/32 [==============================] - 2s 67ms/step - loss: 5.1698\n",
            "Epoch 91/100\n",
            "32/32 [==============================] - 2s 66ms/step - loss: 5.2612\n",
            "Epoch 92/100\n",
            "32/32 [==============================] - 2s 65ms/step - loss: 4.9927\n",
            "Epoch 93/100\n",
            "32/32 [==============================] - 2s 66ms/step - loss: 5.0230\n",
            "Epoch 94/100\n",
            "32/32 [==============================] - 2s 65ms/step - loss: 5.0629\n",
            "Epoch 95/100\n",
            "32/32 [==============================] - 3s 86ms/step - loss: 5.0492\n",
            "Epoch 96/100\n",
            "32/32 [==============================] - 2s 64ms/step - loss: 5.0144\n",
            "Epoch 97/100\n",
            "32/32 [==============================] - 2s 66ms/step - loss: 5.0254\n",
            "Epoch 98/100\n",
            "32/32 [==============================] - 2s 67ms/step - loss: 5.0131\n",
            "Epoch 99/100\n",
            "32/32 [==============================] - 2s 65ms/step - loss: 4.9738\n",
            "Epoch 100/100\n",
            "32/32 [==============================] - 2s 65ms/step - loss: 5.0691\n"
          ]
        }
      ]
    },
    {
      "cell_type": "code",
      "source": [
        "plt.hist(model.predict(x), bins=30)"
      ],
      "metadata": {
        "colab": {
          "base_uri": "https://localhost:8080/",
          "height": 467
        },
        "outputId": "418bd2b3-f757-4cf7-e107-43e2e2ccac57",
        "id": "HEKmMpNZCSZL"
      },
      "execution_count": null,
      "outputs": [
        {
          "output_type": "execute_result",
          "data": {
            "text/plain": [
              "(array([  1.,   0.,   2.,   2.,   5.,   3.,  10.,  11.,  17.,  24.,  48.,\n",
              "         56.,  74.,  96., 134., 140., 107.,  90.,  84.,  36.,  22.,  18.,\n",
              "         12.,   5.,   1.,   1.,   0.,   0.,   0.,   1.]),\n",
              " array([-6.5828056 , -6.280105  , -5.977405  , -5.6747046 , -5.372004  ,\n",
              "        -5.0693035 , -4.7666035 , -4.463903  , -4.1612024 , -3.8585021 ,\n",
              "        -3.5558019 , -3.2531013 , -2.950401  , -2.6477005 , -2.3450003 ,\n",
              "        -2.0422997 , -1.7395995 , -1.4368991 , -1.1341987 , -0.8314983 ,\n",
              "        -0.5287979 , -0.22609755,  0.07660282,  0.37930322,  0.6820036 ,\n",
              "         0.98470396,  1.2874044 ,  1.5901047 ,  1.8928051 ,  2.1955056 ,\n",
              "         2.498206  ], dtype=float32),\n",
              " <a list of 30 Patch objects>)"
            ]
          },
          "metadata": {},
          "execution_count": 71
        },
        {
          "output_type": "display_data",
          "data": {
            "text/plain": [
              "<Figure size 432x288 with 1 Axes>"
            ],
            "image/png": "[encoded data removed]"
          },
          "metadata": {
            "needs_background": "light"
          }
        }
      ]
    },
    {
      "cell_type": "code",
      "source": [
        "plt.plot(history.history['loss'])"
      ],
      "metadata": {
        "colab": {
          "base_uri": "https://localhost:8080/",
          "height": 283
        },
        "outputId": "0e97e4c3-e474-4f35-c466-2d659b7ecbd4",
        "id": "3y46lu6hCSZL"
      },
      "execution_count": null,
      "outputs": [
        {
          "output_type": "execute_result",
          "data": {
            "text/plain": [
              "[<matplotlib.lines.Line2D at 0x7fad1707f410>]"
            ]
          },
          "metadata": {},
          "execution_count": 72
        },
        {
          "output_type": "display_data",
          "data": {
            "text/plain": [
              "<Figure size 432x288 with 1 Axes>"
            ],
            "image/png": "[encoded data removed]"
          },
          "metadata": {
            "needs_background": "light"
          }
        }
      ]
    },
    {
      "cell_type": "code",
      "source": [
        "plt.plot(S[:,-1], model.predict(x),marker='.', linestyle='none')\n",
        "plt.show()"
      ],
      "metadata": {
        "colab": {
          "base_uri": "https://localhost:8080/",
          "height": 265
        },
        "outputId": "1955d732-dbfd-4241-8c82-c4b6d3d46ac2",
        "id": "QVAHzK0eCSZM"
      },
      "execution_count": null,
      "outputs": [
        {
          "output_type": "display_data",
          "data": {
            "text/plain": [
              "<Figure size 432x288 with 1 Axes>"
            ],
            "image/png": "[encoded data removed]"
          },
          "metadata": {
            "needs_background": "light"
          }
        }
      ]
    },
    {
      "cell_type": "markdown",
      "source": [
        "#### Optimizer 바꿔보기"
      ],
      "metadata": {
        "id": "Z_XnWkHjCXdy"
      }
    },
    {
      "cell_type": "code",
      "source": [
        "my_input = []\n",
        "premium = tf.keras.layers.Input(shape=(1,), name=\"premium\")\n",
        "hedge_cost = tf.keras.layers.Input(shape=(1,), name='hedge_cost')\n",
        "price = tf.keras.layers.Input(shape=(1,), name=\"price\")\n",
        "\n",
        "my_input = my_input + [premium] + [hedge_cost] + [price]\n",
        "\n",
        "for j in range(N):\n",
        "    delta = tf.keras.layers.Dense(20, activation='tanh')(price)\n",
        "    delta = tf.keras.layers.BatchNormalization()(delta)\n",
        "    delta = tf.keras.layers.Dense(20, activation='relu')(delta)\n",
        "    delta = tf.keras.layers.BatchNormalization()(delta)\n",
        "    delta = tf.keras.layers.Dense(20, activation='tanh')(delta)\n",
        "    delta = tf.keras.layers.Dense(1)(delta)\n",
        "\n",
        "    new_price = tf.keras.layers.Input(shape=(1,), name='S'+str(j+1))\n",
        "    my_input = my_input + [new_price]\n",
        "\n",
        "    price_inc = tf.keras.layers.Subtract(name='price_inc_'+str(j))([price, new_price])\n",
        "    cost = tf.keras.layers.Multiply(name=\"stock_\"+str(j))([delta, price_inc])\n",
        "    hedge_cost = tf.keras.layers.Add(name='cost_'+str(j))([hedge_cost, cost])\n",
        "    price_cumprod = tf.keras.layers.Multiply(name='price_cumprod'+str(j))([price, new_price])\n",
        "    price = new_price\n",
        "geom_mean = tf.keras.layers.Lambda(lambda x: tf.math.pow(x, 1/N, name='geom_mean'))(price_cumprod)\n",
        "payoff = tf.keras.layers.Lambda(lambda x : tf.math.maximum(x-K,0), name='payoff')(geom_mean)\n",
        "cum_cost = tf.keras.layers.Add(name=\"hedge_cost_plus_payoff\")([hedge_cost, payoff])\n",
        "cum_cost = tf.keras.layers.Subtract(name=\"cum_cost-premium\")([cum_cost, premium])\n",
        "\n",
        "model = tf.keras.Model(inputs=my_input, outputs=cum_cost)"
      ],
      "metadata": {
        "id": "Q6LPQeg-ELr6"
      },
      "execution_count": null,
      "outputs": []
    },
    {
      "cell_type": "code",
      "source": [
        "premium = bscall(S0,K,T,r,sig) * np.ones([M,1])\n",
        "cost = np.zeros([M,1])\n",
        "SS = [S[:,i].reshape(M,1) for i in range(N+1)]\n",
        "x = [premium]+[cost]+[SS]\n",
        "y = np.zeros([M,1])"
      ],
      "metadata": {
        "id": "ny-Vt2gJELsB"
      },
      "execution_count": null,
      "outputs": []
    },
    {
      "cell_type": "code",
      "source": [
        "model.compile(loss='mse', optimizer='rmsprop')"
      ],
      "metadata": {
        "id": "1f2RS21LELsB"
      },
      "execution_count": null,
      "outputs": []
    },
    {
      "cell_type": "code",
      "source": [
        "history = model.fit(x,y, epochs=100)"
      ],
      "metadata": {
        "colab": {
          "base_uri": "https://localhost:8080/"
        },
        "outputId": "29f517ac-57ed-4253-f749-1fc61cebf129",
        "id": "HzBfb7jiELsC"
      },
      "execution_count": null,
      "outputs": [
        {
          "output_type": "stream",
          "name": "stdout",
          "text": [
            "Epoch 1/100\n",
            "32/32 [==============================] - 117s 69ms/step - loss: 16.7338\n",
            "Epoch 2/100\n",
            "32/32 [==============================] - 2s 69ms/step - loss: 7.7014\n",
            "Epoch 3/100\n",
            "32/32 [==============================] - 2s 70ms/step - loss: 7.2526\n",
            "Epoch 4/100\n",
            "32/32 [==============================] - 2s 67ms/step - loss: 6.8119\n",
            "Epoch 5/100\n",
            "32/32 [==============================] - 2s 67ms/step - loss: 6.6465\n",
            "Epoch 6/100\n",
            "32/32 [==============================] - 2s 68ms/step - loss: 7.0236\n",
            "Epoch 7/100\n",
            "32/32 [==============================] - 2s 66ms/step - loss: 6.6429\n",
            "Epoch 8/100\n",
            "32/32 [==============================] - 2s 66ms/step - loss: 6.6769\n",
            "Epoch 9/100\n",
            "32/32 [==============================] - 2s 66ms/step - loss: 6.2434\n",
            "Epoch 10/100\n",
            "32/32 [==============================] - 2s 66ms/step - loss: 6.3927\n",
            "Epoch 11/100\n",
            "32/32 [==============================] - 2s 67ms/step - loss: 6.1207\n",
            "Epoch 12/100\n",
            "32/32 [==============================] - 2s 66ms/step - loss: 6.0515\n",
            "Epoch 13/100\n",
            "32/32 [==============================] - 2s 65ms/step - loss: 5.9342\n",
            "Epoch 14/100\n",
            "32/32 [==============================] - 2s 66ms/step - loss: 6.3196\n",
            "Epoch 15/100\n",
            "32/32 [==============================] - 2s 66ms/step - loss: 6.0032\n",
            "Epoch 16/100\n",
            "32/32 [==============================] - 2s 66ms/step - loss: 5.8220\n",
            "Epoch 17/100\n",
            "32/32 [==============================] - 2s 67ms/step - loss: 5.8544\n",
            "Epoch 18/100\n",
            "32/32 [==============================] - 2s 67ms/step - loss: 5.9649\n",
            "Epoch 19/100\n",
            "32/32 [==============================] - 2s 65ms/step - loss: 5.8475\n",
            "Epoch 20/100\n",
            "32/32 [==============================] - 2s 67ms/step - loss: 5.7407\n",
            "Epoch 21/100\n",
            "32/32 [==============================] - 2s 67ms/step - loss: 6.0066\n",
            "Epoch 22/100\n",
            "32/32 [==============================] - 2s 65ms/step - loss: 5.7434\n",
            "Epoch 23/100\n",
            "32/32 [==============================] - 2s 65ms/step - loss: 5.6919\n",
            "Epoch 24/100\n",
            "32/32 [==============================] - 2s 66ms/step - loss: 5.7094\n",
            "Epoch 25/100\n",
            "32/32 [==============================] - 2s 67ms/step - loss: 5.6325\n",
            "Epoch 26/100\n",
            "32/32 [==============================] - 2s 67ms/step - loss: 5.9517\n",
            "Epoch 27/100\n",
            "32/32 [==============================] - 2s 65ms/step - loss: 5.7509\n",
            "Epoch 28/100\n",
            "32/32 [==============================] - 2s 66ms/step - loss: 5.5832\n",
            "Epoch 29/100\n",
            "32/32 [==============================] - 2s 67ms/step - loss: 5.7897\n",
            "Epoch 30/100\n",
            "32/32 [==============================] - 2s 66ms/step - loss: 5.5333\n",
            "Epoch 31/100\n",
            "32/32 [==============================] - 2s 67ms/step - loss: 5.5809\n",
            "Epoch 32/100\n",
            "32/32 [==============================] - 2s 66ms/step - loss: 5.5198\n",
            "Epoch 33/100\n",
            "32/32 [==============================] - 2s 67ms/step - loss: 5.6268\n",
            "Epoch 34/100\n",
            "32/32 [==============================] - 2s 67ms/step - loss: 5.7105\n",
            "Epoch 35/100\n",
            "32/32 [==============================] - 2s 66ms/step - loss: 5.5870\n",
            "Epoch 36/100\n",
            "32/32 [==============================] - 2s 67ms/step - loss: 5.5058\n",
            "Epoch 37/100\n",
            "32/32 [==============================] - 2s 66ms/step - loss: 5.4753\n",
            "Epoch 38/100\n",
            "32/32 [==============================] - 2s 66ms/step - loss: 5.5621\n",
            "Epoch 39/100\n",
            "32/32 [==============================] - 2s 67ms/step - loss: 5.5990\n",
            "Epoch 40/100\n",
            "32/32 [==============================] - 2s 68ms/step - loss: 5.4893\n",
            "Epoch 41/100\n",
            "32/32 [==============================] - 2s 67ms/step - loss: 5.4196\n",
            "Epoch 42/100\n",
            "32/32 [==============================] - 2s 69ms/step - loss: 5.6360\n",
            "Epoch 43/100\n",
            "32/32 [==============================] - 2s 67ms/step - loss: 5.5125\n",
            "Epoch 44/100\n",
            "32/32 [==============================] - 2s 66ms/step - loss: 5.2648\n",
            "Epoch 45/100\n",
            "32/32 [==============================] - 2s 67ms/step - loss: 5.3308\n",
            "Epoch 46/100\n",
            "32/32 [==============================] - 2s 67ms/step - loss: 5.4562\n",
            "Epoch 47/100\n",
            "32/32 [==============================] - 2s 66ms/step - loss: 5.5352\n",
            "Epoch 48/100\n",
            "32/32 [==============================] - 2s 67ms/step - loss: 5.2483\n",
            "Epoch 49/100\n",
            "32/32 [==============================] - 2s 66ms/step - loss: 5.5600\n",
            "Epoch 50/100\n",
            "32/32 [==============================] - 2s 68ms/step - loss: 5.4078\n",
            "Epoch 51/100\n",
            "32/32 [==============================] - 2s 67ms/step - loss: 5.3517\n",
            "Epoch 52/100\n",
            "32/32 [==============================] - 2s 67ms/step - loss: 5.0529\n",
            "Epoch 53/100\n",
            "32/32 [==============================] - 2s 68ms/step - loss: 5.1318\n",
            "Epoch 54/100\n",
            "32/32 [==============================] - 2s 67ms/step - loss: 5.3934\n",
            "Epoch 55/100\n",
            "32/32 [==============================] - 2s 67ms/step - loss: 5.4873\n",
            "Epoch 56/100\n",
            "32/32 [==============================] - 2s 67ms/step - loss: 5.1524\n",
            "Epoch 57/100\n",
            "32/32 [==============================] - 2s 68ms/step - loss: 5.5821\n",
            "Epoch 58/100\n",
            "32/32 [==============================] - 2s 67ms/step - loss: 5.1850\n",
            "Epoch 59/100\n",
            "32/32 [==============================] - 2s 67ms/step - loss: 5.4766\n",
            "Epoch 60/100\n",
            "32/32 [==============================] - 2s 67ms/step - loss: 5.4486\n",
            "Epoch 61/100\n",
            "32/32 [==============================] - 2s 67ms/step - loss: 5.2177\n",
            "Epoch 62/100\n",
            "32/32 [==============================] - 2s 66ms/step - loss: 5.2234\n",
            "Epoch 63/100\n",
            "32/32 [==============================] - 2s 67ms/step - loss: 5.2522\n",
            "Epoch 64/100\n",
            "32/32 [==============================] - 2s 67ms/step - loss: 5.1272\n",
            "Epoch 65/100\n",
            "32/32 [==============================] - 2s 68ms/step - loss: 5.3965\n",
            "Epoch 66/100\n",
            "32/32 [==============================] - 2s 66ms/step - loss: 5.2092\n",
            "Epoch 67/100\n",
            "32/32 [==============================] - 2s 67ms/step - loss: 5.2971\n",
            "Epoch 68/100\n",
            "32/32 [==============================] - 2s 66ms/step - loss: 4.9137\n",
            "Epoch 69/100\n",
            "32/32 [==============================] - 2s 69ms/step - loss: 4.9450\n",
            "Epoch 70/100\n",
            "32/32 [==============================] - 3s 98ms/step - loss: 5.0781\n",
            "Epoch 71/100\n",
            "32/32 [==============================] - 2s 66ms/step - loss: 5.1962\n",
            "Epoch 72/100\n",
            "32/32 [==============================] - 2s 67ms/step - loss: 5.2831\n",
            "Epoch 73/100\n",
            "32/32 [==============================] - 2s 66ms/step - loss: 5.0920\n",
            "Epoch 74/100\n",
            "32/32 [==============================] - 2s 67ms/step - loss: 5.2889\n",
            "Epoch 75/100\n",
            "32/32 [==============================] - 2s 67ms/step - loss: 5.2968\n",
            "Epoch 76/100\n",
            "32/32 [==============================] - 2s 66ms/step - loss: 5.3071\n",
            "Epoch 77/100\n",
            "32/32 [==============================] - 2s 66ms/step - loss: 5.1057\n",
            "Epoch 78/100\n",
            "32/32 [==============================] - 2s 67ms/step - loss: 5.0082\n",
            "Epoch 79/100\n",
            "32/32 [==============================] - 2s 66ms/step - loss: 4.9416\n",
            "Epoch 80/100\n",
            "32/32 [==============================] - 2s 68ms/step - loss: 5.4855\n",
            "Epoch 81/100\n",
            "32/32 [==============================] - 2s 70ms/step - loss: 5.0865\n",
            "Epoch 82/100\n",
            "32/32 [==============================] - 2s 66ms/step - loss: 4.9219\n",
            "Epoch 83/100\n",
            "32/32 [==============================] - 2s 67ms/step - loss: 5.2074\n",
            "Epoch 84/100\n",
            "32/32 [==============================] - 2s 66ms/step - loss: 5.1141\n",
            "Epoch 85/100\n",
            "32/32 [==============================] - 2s 66ms/step - loss: 4.8656\n",
            "Epoch 86/100\n",
            "32/32 [==============================] - 2s 66ms/step - loss: 5.0617\n",
            "Epoch 87/100\n",
            "32/32 [==============================] - 2s 66ms/step - loss: 5.0855\n",
            "Epoch 88/100\n",
            "32/32 [==============================] - 2s 68ms/step - loss: 5.2061\n",
            "Epoch 89/100\n",
            "32/32 [==============================] - 2s 67ms/step - loss: 4.9931\n",
            "Epoch 90/100\n",
            "32/32 [==============================] - 2s 66ms/step - loss: 4.9658\n",
            "Epoch 91/100\n",
            "32/32 [==============================] - 2s 66ms/step - loss: 5.0649\n",
            "Epoch 92/100\n",
            "32/32 [==============================] - 2s 66ms/step - loss: 4.9332\n",
            "Epoch 93/100\n",
            "32/32 [==============================] - 2s 67ms/step - loss: 5.2036\n",
            "Epoch 94/100\n",
            "32/32 [==============================] - 2s 66ms/step - loss: 4.8115\n",
            "Epoch 95/100\n",
            "32/32 [==============================] - 2s 72ms/step - loss: 4.8413\n",
            "Epoch 96/100\n",
            "32/32 [==============================] - 2s 66ms/step - loss: 4.9997\n",
            "Epoch 97/100\n",
            "32/32 [==============================] - 2s 68ms/step - loss: 5.0578\n",
            "Epoch 98/100\n",
            "32/32 [==============================] - 2s 67ms/step - loss: 4.8586\n",
            "Epoch 99/100\n",
            "32/32 [==============================] - 2s 66ms/step - loss: 5.2102\n",
            "Epoch 100/100\n",
            "32/32 [==============================] - 2s 66ms/step - loss: 4.9952\n"
          ]
        }
      ]
    },
    {
      "cell_type": "code",
      "source": [
        "plt.hist(model.predict(x), bins=30)"
      ],
      "metadata": {
        "colab": {
          "base_uri": "https://localhost:8080/",
          "height": 467
        },
        "outputId": "55952878-116b-4633-c3f7-4030a9e31397",
        "id": "KiskqE6DELsC"
      },
      "execution_count": null,
      "outputs": [
        {
          "output_type": "execute_result",
          "data": {
            "text/plain": [
              "(array([  1.,   0.,   0.,   0.,   1.,   3.,   5.,  14.,  17.,  30.,  48.,\n",
              "         66.,  66.,  85.,  87., 102., 120.,  83.,  70.,  70.,  46.,  31.,\n",
              "         20.,  11.,  11.,   8.,   3.,   0.,   1.,   1.]),\n",
              " array([-20.81003  , -19.617304 , -18.424578 , -17.23185  , -16.039124 ,\n",
              "        -14.846397 , -13.653671 , -12.460944 , -11.268218 , -10.075491 ,\n",
              "         -8.882765 ,  -7.690038 ,  -6.4973116,  -5.3045855,  -4.111859 ,\n",
              "         -2.9191322,  -1.7264057,  -0.5336792,   0.6590473,   1.8517739,\n",
              "          3.0445004,   4.237227 ,   5.4299536,   6.6226797,   7.8154063,\n",
              "          9.008133 ,  10.200859 ,  11.393586 ,  12.586312 ,  13.779039 ,\n",
              "         14.9717655], dtype=float32),\n",
              " <a list of 30 Patch objects>)"
            ]
          },
          "metadata": {},
          "execution_count": 78
        },
        {
          "output_type": "display_data",
          "data": {
            "text/plain": [
              "<Figure size 432x288 with 1 Axes>"
            ],
            "image/png": "[encoded data removed]"
          },
          "metadata": {
            "needs_background": "light"
          }
        }
      ]
    },
    {
      "cell_type": "code",
      "source": [
        "plt.plot(history.history['loss'])"
      ],
      "metadata": {
        "colab": {
          "base_uri": "https://localhost:8080/",
          "height": 283
        },
        "outputId": "08168a25-7be5-408d-f7f6-ae2259a0e3b0",
        "id": "bq3kxv27ELsC"
      },
      "execution_count": null,
      "outputs": [
        {
          "output_type": "execute_result",
          "data": {
            "text/plain": [
              "[<matplotlib.lines.Line2D at 0x7fad09cc7950>]"
            ]
          },
          "metadata": {},
          "execution_count": 79
        },
        {
          "output_type": "display_data",
          "data": {
            "text/plain": [
              "<Figure size 432x288 with 1 Axes>"
            ],
            "image/png": "[encoded data removed]"
          },
          "metadata": {
            "needs_background": "light"
          }
        }
      ]
    },
    {
      "cell_type": "code",
      "source": [
        "plt.plot(S[:,-1], model.predict(x),marker='.', linestyle='none')\n",
        "plt.show()"
      ],
      "metadata": {
        "colab": {
          "base_uri": "https://localhost:8080/",
          "height": 265
        },
        "outputId": "50c66fb0-fd15-41cb-b5ac-33e40a9326bb",
        "id": "PhBi9L22ELsC"
      },
      "execution_count": null,
      "outputs": [
        {
          "output_type": "display_data",
          "data": {
            "text/plain": [
              "<Figure size 432x288 with 1 Axes>"
            ],
            "image/png": "[encoded data removed]"
          },
          "metadata": {
            "needs_background": "light"
          }
        }
      ]
    },
    {
      "cell_type": "markdown",
      "source": [
        "#### SGD"
      ],
      "metadata": {
        "id": "d7yHqqoSEbrk"
      }
    },
    {
      "cell_type": "code",
      "source": [
        "my_input = []\n",
        "premium = tf.keras.layers.Input(shape=(1,), name=\"premium\")\n",
        "hedge_cost = tf.keras.layers.Input(shape=(1,), name='hedge_cost')\n",
        "price = tf.keras.layers.Input(shape=(1,), name=\"price\")\n",
        "\n",
        "my_input = my_input + [premium] + [hedge_cost] + [price]\n",
        "\n",
        "for j in range(N):\n",
        "    delta = tf.keras.layers.Dense(20, activation='tanh')(price)\n",
        "    delta = tf.keras.layers.BatchNormalization()(delta)\n",
        "    delta = tf.keras.layers.Dense(20, activation='relu')(delta)\n",
        "    delta = tf.keras.layers.BatchNormalization()(delta)\n",
        "    delta = tf.keras.layers.Dense(20, activation='tanh')(delta)\n",
        "    delta = tf.keras.layers.Dense(1)(delta)\n",
        "\n",
        "    new_price = tf.keras.layers.Input(shape=(1,), name='S'+str(j+1))\n",
        "    my_input = my_input + [new_price]\n",
        "\n",
        "    price_inc = tf.keras.layers.Subtract(name='price_inc_'+str(j))([price, new_price])\n",
        "    cost = tf.keras.layers.Multiply(name=\"stock_\"+str(j))([delta, price_inc])\n",
        "    hedge_cost = tf.keras.layers.Add(name='cost_'+str(j))([hedge_cost, cost])\n",
        "    price_cumprod = tf.keras.layers.Multiply(name='price_cumprod'+str(j))([price, new_price])\n",
        "    price = new_price\n",
        "geom_mean = tf.keras.layers.Lambda(lambda x: tf.math.pow(x, 1/N, name='geom_mean'))(price_cumprod)\n",
        "payoff = tf.keras.layers.Lambda(lambda x : tf.math.maximum(x-K,0), name='payoff')(geom_mean)\n",
        "cum_cost = tf.keras.layers.Add(name=\"hedge_cost_plus_payoff\")([hedge_cost, payoff])\n",
        "cum_cost = tf.keras.layers.Subtract(name=\"cum_cost-premium\")([cum_cost, premium])\n",
        "\n",
        "model = tf.keras.Model(inputs=my_input, outputs=cum_cost)"
      ],
      "metadata": {
        "id": "fB6W7S3KEfVq"
      },
      "execution_count": null,
      "outputs": []
    },
    {
      "cell_type": "code",
      "source": [
        "premium = bscall(S0,K,T,r,sig) * np.ones([M,1])\n",
        "cost = np.zeros([M,1])\n",
        "SS = [S[:,i].reshape(M,1) for i in range(N+1)]\n",
        "x = [premium]+[cost]+[SS]\n",
        "y = np.zeros([M,1])"
      ],
      "metadata": {
        "id": "PRjZHNM-EfVr"
      },
      "execution_count": null,
      "outputs": []
    },
    {
      "cell_type": "code",
      "source": [
        "model.compile(loss='mse', optimizer='SGD')"
      ],
      "metadata": {
        "id": "AysOSR94EfVr"
      },
      "execution_count": null,
      "outputs": []
    },
    {
      "cell_type": "code",
      "source": [
        "history = model.fit(x,y, epochs=100)"
      ],
      "metadata": {
        "colab": {
          "base_uri": "https://localhost:8080/"
        },
        "outputId": "2d8e12cb-2a04-4c39-cbbb-0cfeed22a476",
        "id": "dFuN4zh8EfVr"
      },
      "execution_count": null,
      "outputs": [
        {
          "output_type": "stream",
          "name": "stdout",
          "text": [
            "Epoch 1/100\n",
            "32/32 [==============================] - 67s 45ms/step - loss: 8.2521\n",
            "Epoch 2/100\n",
            "32/32 [==============================] - 1s 46ms/step - loss: 6.8570\n",
            "Epoch 3/100\n",
            "32/32 [==============================] - 1s 44ms/step - loss: 6.8480\n",
            "Epoch 4/100\n",
            "32/32 [==============================] - 1s 44ms/step - loss: 6.8660\n",
            "Epoch 5/100\n",
            "32/32 [==============================] - 1s 43ms/step - loss: 6.8753\n",
            "Epoch 6/100\n",
            "32/32 [==============================] - 1s 44ms/step - loss: 6.7066\n",
            "Epoch 7/100\n",
            "32/32 [==============================] - 1s 44ms/step - loss: 6.9716\n",
            "Epoch 8/100\n",
            "32/32 [==============================] - 1s 43ms/step - loss: 6.7689\n",
            "Epoch 9/100\n",
            "32/32 [==============================] - 1s 44ms/step - loss: 6.9057\n",
            "Epoch 10/100\n",
            "32/32 [==============================] - 1s 42ms/step - loss: 6.7356\n",
            "Epoch 11/100\n",
            "32/32 [==============================] - 1s 44ms/step - loss: 6.8977\n",
            "Epoch 12/100\n",
            "32/32 [==============================] - 1s 43ms/step - loss: 6.8510\n",
            "Epoch 13/100\n",
            "32/32 [==============================] - 1s 42ms/step - loss: 6.7803\n",
            "Epoch 14/100\n",
            "32/32 [==============================] - 1s 44ms/step - loss: 6.6617\n",
            "Epoch 15/100\n",
            "32/32 [==============================] - 1s 44ms/step - loss: 6.7350\n",
            "Epoch 16/100\n",
            "32/32 [==============================] - 1s 43ms/step - loss: 6.7084\n",
            "Epoch 17/100\n",
            "32/32 [==============================] - 1s 44ms/step - loss: 6.6168\n",
            "Epoch 18/100\n",
            "32/32 [==============================] - 1s 44ms/step - loss: 6.6349\n",
            "Epoch 19/100\n",
            "32/32 [==============================] - 1s 43ms/step - loss: 6.7652\n",
            "Epoch 20/100\n",
            "32/32 [==============================] - 1s 43ms/step - loss: 6.6927\n",
            "Epoch 21/100\n",
            "32/32 [==============================] - 1s 43ms/step - loss: 6.6167\n",
            "Epoch 22/100\n",
            "32/32 [==============================] - 1s 43ms/step - loss: 6.6835\n",
            "Epoch 23/100\n",
            "32/32 [==============================] - 2s 71ms/step - loss: 6.5544\n",
            "Epoch 24/100\n",
            "32/32 [==============================] - 2s 52ms/step - loss: 6.5897\n",
            "Epoch 25/100\n",
            "32/32 [==============================] - 1s 43ms/step - loss: 6.5828\n",
            "Epoch 26/100\n",
            "32/32 [==============================] - 1s 43ms/step - loss: 6.5001\n",
            "Epoch 27/100\n",
            "32/32 [==============================] - 1s 44ms/step - loss: 6.5566\n",
            "Epoch 28/100\n",
            "32/32 [==============================] - 1s 44ms/step - loss: 6.5256\n",
            "Epoch 29/100\n",
            "32/32 [==============================] - 1s 44ms/step - loss: 6.6853\n",
            "Epoch 30/100\n",
            "32/32 [==============================] - 1s 45ms/step - loss: 6.5376\n",
            "Epoch 31/100\n",
            "32/32 [==============================] - 1s 46ms/step - loss: 6.5423\n",
            "Epoch 32/100\n",
            "32/32 [==============================] - 1s 45ms/step - loss: 6.4830\n",
            "Epoch 33/100\n",
            "32/32 [==============================] - 1s 43ms/step - loss: 6.5008\n",
            "Epoch 34/100\n",
            "32/32 [==============================] - 1s 43ms/step - loss: 6.4800\n",
            "Epoch 35/100\n",
            "32/32 [==============================] - 1s 43ms/step - loss: 6.5164\n",
            "Epoch 36/100\n",
            "32/32 [==============================] - 1s 43ms/step - loss: 6.4713\n",
            "Epoch 37/100\n",
            "32/32 [==============================] - 1s 45ms/step - loss: 6.3865\n",
            "Epoch 38/100\n",
            "32/32 [==============================] - 1s 43ms/step - loss: 6.4464\n",
            "Epoch 39/100\n",
            "32/32 [==============================] - 1s 43ms/step - loss: 6.5332\n",
            "Epoch 40/100\n",
            "32/32 [==============================] - 1s 42ms/step - loss: 6.5364\n",
            "Epoch 41/100\n",
            "32/32 [==============================] - 1s 43ms/step - loss: 6.4480\n",
            "Epoch 42/100\n",
            "32/32 [==============================] - 1s 43ms/step - loss: 6.5231\n",
            "Epoch 43/100\n",
            "32/32 [==============================] - 1s 43ms/step - loss: 6.4727\n",
            "Epoch 44/100\n",
            "32/32 [==============================] - 1s 45ms/step - loss: 6.3693\n",
            "Epoch 45/100\n",
            "32/32 [==============================] - 1s 43ms/step - loss: 6.5454\n",
            "Epoch 46/100\n",
            "32/32 [==============================] - 1s 43ms/step - loss: 6.3581\n",
            "Epoch 47/100\n",
            "32/32 [==============================] - 1s 43ms/step - loss: 6.3166\n",
            "Epoch 48/100\n",
            "32/32 [==============================] - 1s 44ms/step - loss: 6.4216\n",
            "Epoch 49/100\n",
            "32/32 [==============================] - 1s 43ms/step - loss: 6.3868\n",
            "Epoch 50/100\n",
            "32/32 [==============================] - 1s 43ms/step - loss: 6.3726\n",
            "Epoch 51/100\n",
            "32/32 [==============================] - 1s 43ms/step - loss: 6.4099\n",
            "Epoch 52/100\n",
            "32/32 [==============================] - 1s 44ms/step - loss: 6.4563\n",
            "Epoch 53/100\n",
            "32/32 [==============================] - 1s 44ms/step - loss: 6.3668\n",
            "Epoch 54/100\n",
            "32/32 [==============================] - 1s 43ms/step - loss: 6.3249\n",
            "Epoch 55/100\n",
            "32/32 [==============================] - 1s 43ms/step - loss: 6.4330\n",
            "Epoch 56/100\n",
            "32/32 [==============================] - 1s 43ms/step - loss: 6.3442\n",
            "Epoch 57/100\n",
            "32/32 [==============================] - 1s 42ms/step - loss: 6.3499\n",
            "Epoch 58/100\n",
            "32/32 [==============================] - 1s 43ms/step - loss: 6.3760\n",
            "Epoch 59/100\n",
            "32/32 [==============================] - 1s 45ms/step - loss: 6.4221\n",
            "Epoch 60/100\n",
            "32/32 [==============================] - 1s 45ms/step - loss: 6.3088\n",
            "Epoch 61/100\n",
            "32/32 [==============================] - 1s 43ms/step - loss: 6.2481\n",
            "Epoch 62/100\n",
            "32/32 [==============================] - 1s 42ms/step - loss: 6.3382\n",
            "Epoch 63/100\n",
            "32/32 [==============================] - 1s 43ms/step - loss: 6.3721\n",
            "Epoch 64/100\n",
            "32/32 [==============================] - 1s 43ms/step - loss: 6.2608\n",
            "Epoch 65/100\n",
            "32/32 [==============================] - 1s 43ms/step - loss: 6.3871\n",
            "Epoch 66/100\n",
            "32/32 [==============================] - 1s 44ms/step - loss: 6.3185\n",
            "Epoch 67/100\n",
            "32/32 [==============================] - 1s 43ms/step - loss: 6.3346\n",
            "Epoch 68/100\n",
            "32/32 [==============================] - 1s 43ms/step - loss: 6.3068\n",
            "Epoch 69/100\n",
            "32/32 [==============================] - 1s 43ms/step - loss: 6.2947\n",
            "Epoch 70/100\n",
            "32/32 [==============================] - 1s 44ms/step - loss: 6.1927\n",
            "Epoch 71/100\n",
            "32/32 [==============================] - 1s 44ms/step - loss: 6.2784\n",
            "Epoch 72/100\n",
            "32/32 [==============================] - 1s 43ms/step - loss: 6.2869\n",
            "Epoch 73/100\n",
            "32/32 [==============================] - 1s 44ms/step - loss: 6.1799\n",
            "Epoch 74/100\n",
            "32/32 [==============================] - 1s 45ms/step - loss: 6.3011\n",
            "Epoch 75/100\n",
            "32/32 [==============================] - 1s 44ms/step - loss: 6.3081\n",
            "Epoch 76/100\n",
            "32/32 [==============================] - 1s 43ms/step - loss: 6.1822\n",
            "Epoch 77/100\n",
            "32/32 [==============================] - 1s 44ms/step - loss: 6.2202\n",
            "Epoch 78/100\n",
            "32/32 [==============================] - 1s 44ms/step - loss: 6.3224\n",
            "Epoch 79/100\n",
            "32/32 [==============================] - 1s 44ms/step - loss: 6.2373\n",
            "Epoch 80/100\n",
            "32/32 [==============================] - 1s 44ms/step - loss: 6.2419\n",
            "Epoch 81/100\n",
            "32/32 [==============================] - 1s 45ms/step - loss: 6.2468\n",
            "Epoch 82/100\n",
            "32/32 [==============================] - 1s 45ms/step - loss: 6.2227\n",
            "Epoch 83/100\n",
            "32/32 [==============================] - 1s 44ms/step - loss: 6.2501\n",
            "Epoch 84/100\n",
            "32/32 [==============================] - 1s 45ms/step - loss: 6.2020\n",
            "Epoch 85/100\n",
            "32/32 [==============================] - 1s 43ms/step - loss: 6.2644\n",
            "Epoch 86/100\n",
            "32/32 [==============================] - 1s 44ms/step - loss: 6.1952\n",
            "Epoch 87/100\n",
            "32/32 [==============================] - 1s 43ms/step - loss: 6.1845\n",
            "Epoch 88/100\n",
            "32/32 [==============================] - 1s 45ms/step - loss: 6.2461\n",
            "Epoch 89/100\n",
            "32/32 [==============================] - 1s 44ms/step - loss: 6.1638\n",
            "Epoch 90/100\n",
            "32/32 [==============================] - 1s 44ms/step - loss: 6.2145\n",
            "Epoch 91/100\n",
            "32/32 [==============================] - 1s 45ms/step - loss: 6.1129\n",
            "Epoch 92/100\n",
            "32/32 [==============================] - 1s 45ms/step - loss: 6.2026\n",
            "Epoch 93/100\n",
            "32/32 [==============================] - 1s 44ms/step - loss: 6.1382\n",
            "Epoch 94/100\n",
            "32/32 [==============================] - 1s 43ms/step - loss: 6.1604\n",
            "Epoch 95/100\n",
            "32/32 [==============================] - 1s 44ms/step - loss: 6.2621\n",
            "Epoch 96/100\n",
            "32/32 [==============================] - 1s 44ms/step - loss: 6.1709\n",
            "Epoch 97/100\n",
            "32/32 [==============================] - 1s 44ms/step - loss: 6.1602\n",
            "Epoch 98/100\n",
            "32/32 [==============================] - 1s 44ms/step - loss: 6.1367\n",
            "Epoch 99/100\n",
            "32/32 [==============================] - 1s 43ms/step - loss: 6.2248\n",
            "Epoch 100/100\n",
            "32/32 [==============================] - 1s 44ms/step - loss: 6.2155\n"
          ]
        }
      ]
    },
    {
      "cell_type": "code",
      "source": [
        "plt.hist(model.predict(x), bins=30)"
      ],
      "metadata": {
        "colab": {
          "base_uri": "https://localhost:8080/",
          "height": 467
        },
        "outputId": "da5bd69d-637b-4668-c10a-18dd9b399da8",
        "id": "0Ed4i1TyEfVr"
      },
      "execution_count": null,
      "outputs": [
        {
          "output_type": "execute_result",
          "data": {
            "text/plain": [
              "(array([ 3.,  3.,  3.,  8., 14., 18., 29., 26., 43., 72., 61., 88., 86.,\n",
              "        77., 80., 66., 77., 66., 38., 42., 33., 20., 19., 12.,  5.,  7.,\n",
              "         1.,  1.,  0.,  2.]),\n",
              " array([-4.994105  , -4.790495  , -4.586885  , -4.383275  , -4.179665  ,\n",
              "        -3.9760551 , -3.7724452 , -3.5688353 , -3.3652253 , -3.1616154 ,\n",
              "        -2.9580054 , -2.7543955 , -2.5507855 , -2.3471756 , -2.1435657 ,\n",
              "        -1.9399556 , -1.7363456 , -1.5327357 , -1.3291258 , -1.1255158 ,\n",
              "        -0.9219058 , -0.7182959 , -0.5146859 , -0.311076  , -0.10746603,\n",
              "         0.09614392,  0.29975387,  0.50336385,  0.7069738 ,  0.91058373,\n",
              "         1.1141937 ], dtype=float32),\n",
              " <a list of 30 Patch objects>)"
            ]
          },
          "metadata": {},
          "execution_count": 85
        },
        {
          "output_type": "display_data",
          "data": {
            "text/plain": [
              "<Figure size 432x288 with 1 Axes>"
            ],
            "image/png": "[encoded data removed]"
          },
          "metadata": {
            "needs_background": "light"
          }
        }
      ]
    },
    {
      "cell_type": "code",
      "source": [
        "plt.plot(history.history['loss'])"
      ],
      "metadata": {
        "colab": {
          "base_uri": "https://localhost:8080/",
          "height": 283
        },
        "outputId": "f4b72072-6f33-4711-af62-48893fea0465",
        "id": "kyiI21naEfVr"
      },
      "execution_count": null,
      "outputs": [
        {
          "output_type": "execute_result",
          "data": {
            "text/plain": [
              "[<matplotlib.lines.Line2D at 0x7fad1adbb7d0>]"
            ]
          },
          "metadata": {},
          "execution_count": 86
        },
        {
          "output_type": "display_data",
          "data": {
            "text/plain": [
              "<Figure size 432x288 with 1 Axes>"
            ],
            "image/png": "[encoded data removed]"
          },
          "metadata": {
            "needs_background": "light"
          }
        }
      ]
    },
    {
      "cell_type": "code",
      "source": [
        "plt.plot(S[:,-1], model.predict(x),marker='.', linestyle='none')\n",
        "plt.show()"
      ],
      "metadata": {
        "colab": {
          "base_uri": "https://localhost:8080/",
          "height": 265
        },
        "outputId": "6f25be61-c206-46cf-f39f-cb0276656e84",
        "id": "l0TOk612EfVs"
      },
      "execution_count": null,
      "outputs": [
        {
          "output_type": "display_data",
          "data": {
            "text/plain": [
              "<Figure size 432x288 with 1 Axes>"
            ],
            "image/png": "[encoded data removed]"
          },
          "metadata": {
            "needs_background": "light"
          }
        }
      ]
    }
  ]
}